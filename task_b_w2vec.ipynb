{
 "cells": [
  {
   "cell_type": "code",
   "execution_count": 8,
   "metadata": {
    "collapsed": false,
    "jupyter": {
     "outputs_hidden": false
    },
    "pycharm": {
     "name": "#%%\n"
    }
   },
   "outputs": [],
   "source": [
    "import pandas as pd\n",
    "import numpy as np\n",
    "import matplotlib.pyplot as plt"
   ]
  },
  {
   "cell_type": "code",
   "execution_count": 9,
   "metadata": {
    "collapsed": false,
    "jupyter": {
     "outputs_hidden": false
    },
    "pycharm": {
     "name": "#%%\n"
    }
   },
   "outputs": [],
   "source": [
    "import time"
   ]
  },
  {
   "cell_type": "code",
   "execution_count": 10,
   "metadata": {
    "collapsed": false,
    "jupyter": {
     "outputs_hidden": false
    },
    "pycharm": {
     "name": "#%%\n"
    }
   },
   "outputs": [],
   "source": [
    "import spacy"
   ]
  },
  {
   "cell_type": "code",
   "execution_count": 11,
   "metadata": {
    "collapsed": false,
    "jupyter": {
     "outputs_hidden": false
    },
    "pycharm": {
     "name": "#%%\n"
    }
   },
   "outputs": [
    {
     "data": {
      "text/plain": "False"
     },
     "execution_count": 11,
     "metadata": {},
     "output_type": "execute_result"
    }
   ],
   "source": [
    "spacy.prefer_gpu()"
   ]
  },
  {
   "cell_type": "code",
   "execution_count": 12,
   "metadata": {},
   "outputs": [],
   "source": [
    "import torch\n",
    "import torch.nn as nn\n",
    "import torch.nn.functional as F"
   ]
  },
  {
   "cell_type": "markdown",
   "metadata": {
    "pycharm": {
     "name": "#%% md\n"
    }
   },
   "source": [
    "### Sprawdzanie czy w systemie jest karta graficzna Nvidia - CUDA"
   ]
  },
  {
   "cell_type": "code",
   "execution_count": 13,
   "metadata": {
    "collapsed": false,
    "jupyter": {
     "outputs_hidden": false
    },
    "pycharm": {
     "name": "#%%\n"
    }
   },
   "outputs": [
    {
     "data": {
      "text/plain": "True"
     },
     "execution_count": 13,
     "metadata": {},
     "output_type": "execute_result"
    }
   ],
   "source": [
    "cuda_av = torch.cuda.is_available()\n",
    "cuda_av"
   ]
  },
  {
   "cell_type": "code",
   "execution_count": 14,
   "metadata": {
    "collapsed": false,
    "jupyter": {
     "outputs_hidden": false
    },
    "pycharm": {
     "name": "#%%\n"
    }
   },
   "outputs": [
    {
     "name": "stdout",
     "output_type": "stream",
     "text": [
      "ID urządzenia CUDA: 0\n",
      "Nazwa urządzenia CUDA: NVIDIA GeForce GTX 1070\n"
     ]
    }
   ],
   "source": [
    "if cuda_av:\n",
    "    cuda_id = torch.cuda.current_device()\n",
    "    print(f'ID urządzenia CUDA: {cuda_id}')\n",
    "    print(f\"Nazwa urządzenia CUDA: {torch.cuda.get_device_name(cuda_id)}\")"
   ]
  },
  {
   "cell_type": "code",
   "execution_count": 15,
   "metadata": {
    "collapsed": false,
    "jupyter": {
     "outputs_hidden": false
    },
    "pycharm": {
     "name": "#%%\n"
    }
   },
   "outputs": [
    {
     "data": {
      "text/plain": "'cuda'"
     },
     "execution_count": 15,
     "metadata": {},
     "output_type": "execute_result"
    }
   ],
   "source": [
    "# Tworzenie kodu uniwersalnego: dla CUDA i CPU\n",
    "device = 'cuda' if torch.cuda.is_available() else 'cpu'\n",
    "device"
   ]
  },
  {
   "cell_type": "markdown",
   "metadata": {
    "pycharm": {
     "name": "#%% md\n"
    }
   },
   "source": [
    "## Ładowanie danych treningowych"
   ]
  },
  {
   "cell_type": "code",
   "execution_count": 16,
   "metadata": {
    "collapsed": false,
    "jupyter": {
     "outputs_hidden": false
    },
    "pycharm": {
     "name": "#%%\n"
    }
   },
   "outputs": [],
   "source": [
    "tweets = pd.read_csv('data/olid-training-v1.0.tsv', sep='\\t')"
   ]
  },
  {
   "cell_type": "code",
   "execution_count": 17,
   "metadata": {
    "collapsed": false,
    "jupyter": {
     "outputs_hidden": false
    },
    "pycharm": {
     "name": "#%%\n"
    }
   },
   "outputs": [
    {
     "data": {
      "text/plain": "      id                                              tweet subtask_a  \\\n0  86426  @USER She should ask a few native Americans wh...       OFF   \n1  90194  @USER @USER Go home you’re drunk!!! @USER #MAG...       OFF   \n2  16820  Amazon is investigating Chinese employees who ...       NOT   \n3  62688  @USER Someone should'veTaken\" this piece of sh...       OFF   \n4  43605  @USER @USER Obama wanted liberals &amp; illega...       NOT   \n\n  subtask_b subtask_c  \n0       UNT       NaN  \n1       TIN       IND  \n2       NaN       NaN  \n3       UNT       NaN  \n4       NaN       NaN  ",
      "text/html": "<div>\n<style scoped>\n    .dataframe tbody tr th:only-of-type {\n        vertical-align: middle;\n    }\n\n    .dataframe tbody tr th {\n        vertical-align: top;\n    }\n\n    .dataframe thead th {\n        text-align: right;\n    }\n</style>\n<table border=\"1\" class=\"dataframe\">\n  <thead>\n    <tr style=\"text-align: right;\">\n      <th></th>\n      <th>id</th>\n      <th>tweet</th>\n      <th>subtask_a</th>\n      <th>subtask_b</th>\n      <th>subtask_c</th>\n    </tr>\n  </thead>\n  <tbody>\n    <tr>\n      <th>0</th>\n      <td>86426</td>\n      <td>@USER She should ask a few native Americans wh...</td>\n      <td>OFF</td>\n      <td>UNT</td>\n      <td>NaN</td>\n    </tr>\n    <tr>\n      <th>1</th>\n      <td>90194</td>\n      <td>@USER @USER Go home you’re drunk!!! @USER #MAG...</td>\n      <td>OFF</td>\n      <td>TIN</td>\n      <td>IND</td>\n    </tr>\n    <tr>\n      <th>2</th>\n      <td>16820</td>\n      <td>Amazon is investigating Chinese employees who ...</td>\n      <td>NOT</td>\n      <td>NaN</td>\n      <td>NaN</td>\n    </tr>\n    <tr>\n      <th>3</th>\n      <td>62688</td>\n      <td>@USER Someone should'veTaken\" this piece of sh...</td>\n      <td>OFF</td>\n      <td>UNT</td>\n      <td>NaN</td>\n    </tr>\n    <tr>\n      <th>4</th>\n      <td>43605</td>\n      <td>@USER @USER Obama wanted liberals &amp;amp; illega...</td>\n      <td>NOT</td>\n      <td>NaN</td>\n      <td>NaN</td>\n    </tr>\n  </tbody>\n</table>\n</div>"
     },
     "execution_count": 17,
     "metadata": {},
     "output_type": "execute_result"
    }
   ],
   "source": [
    "tweets.head()"
   ]
  },
  {
   "cell_type": "code",
   "execution_count": 18,
   "metadata": {
    "collapsed": false,
    "jupyter": {
     "outputs_hidden": false
    },
    "pycharm": {
     "name": "#%%\n"
    }
   },
   "outputs": [],
   "source": [
    "# tweets = tweets[:100]"
   ]
  },
  {
   "cell_type": "code",
   "execution_count": 19,
   "metadata": {
    "collapsed": false,
    "jupyter": {
     "outputs_hidden": false
    },
    "pycharm": {
     "name": "#%%\n"
    }
   },
   "outputs": [],
   "source": [
    "# tweets = tweets[:5]"
   ]
  },
  {
   "cell_type": "markdown",
   "metadata": {},
   "source": [
    "### usuwanie tweetow gdzie kulumna subtask_b jest nan"
   ]
  },
  {
   "cell_type": "code",
   "execution_count": 20,
   "outputs": [
    {
     "data": {
      "text/plain": "13240"
     },
     "execution_count": 20,
     "metadata": {},
     "output_type": "execute_result"
    }
   ],
   "source": [
    "len(tweets)"
   ],
   "metadata": {
    "collapsed": false,
    "pycharm": {
     "name": "#%%\n"
    }
   }
  },
  {
   "cell_type": "code",
   "execution_count": 21,
   "metadata": {},
   "outputs": [],
   "source": [
    "tweets = tweets.dropna(subset=['subtask_b'])"
   ]
  },
  {
   "cell_type": "code",
   "execution_count": 22,
   "metadata": {},
   "outputs": [
    {
     "data": {
      "text/plain": "4400"
     },
     "execution_count": 22,
     "metadata": {},
     "output_type": "execute_result"
    }
   ],
   "source": [
    "len(tweets)"
   ]
  },
  {
   "cell_type": "markdown",
   "metadata": {
    "pycharm": {
     "name": "#%% md\n"
    }
   },
   "source": [
    "### Tokenizacja, lematyzacja, usówanie pewnych słów\n",
    "liczenie najdłuższego przetworzonego tweeta"
   ]
  },
  {
   "cell_type": "code",
   "execution_count": 23,
   "metadata": {
    "collapsed": false,
    "jupyter": {
     "outputs_hidden": false
    },
    "pycharm": {
     "name": "#%%\n"
    }
   },
   "outputs": [],
   "source": [
    "nlp = spacy.load('en_core_web_sm')"
   ]
  },
  {
   "cell_type": "code",
   "execution_count": 24,
   "metadata": {
    "collapsed": false,
    "jupyter": {
     "outputs_hidden": false
    },
    "pycharm": {
     "name": "#%%\n"
    }
   },
   "outputs": [],
   "source": [
    "# dodawanie kolumny z tokenami\n",
    "tweets['tokens'] = tweets['tweet'].apply(nlp)"
   ]
  },
  {
   "cell_type": "code",
   "execution_count": 25,
   "metadata": {
    "collapsed": false,
    "jupyter": {
     "outputs_hidden": false
    },
    "pycharm": {
     "name": "#%%\n"
    }
   },
   "outputs": [
    {
     "data": {
      "text/plain": "      id                                              tweet subtask_a  \\\n0  86426  @USER She should ask a few native Americans wh...       OFF   \n1  90194  @USER @USER Go home you’re drunk!!! @USER #MAG...       OFF   \n3  62688  @USER Someone should'veTaken\" this piece of sh...       OFF   \n5  97670                  @USER Liberals are all Kookoo !!!       OFF   \n6  77444                   @USER @USER Oh noes! Tough shit.       OFF   \n\n  subtask_b subtask_c                                             tokens  \n0       UNT       NaN  (@USER, She, should, ask, a, few, native, Amer...  \n1       TIN       IND  (@USER, @USER, Go, home, you, ’re, drunk, !, !...  \n3       UNT       NaN  (@USER, Someone, should'veTaken, \", this, piec...  \n5       TIN       OTH       (@USER, Liberals, are, all, Kookoo, !, !, !)  \n6       UNT       NaN        (@USER, @USER, Oh, noes, !, Tough, shit, .)  ",
      "text/html": "<div>\n<style scoped>\n    .dataframe tbody tr th:only-of-type {\n        vertical-align: middle;\n    }\n\n    .dataframe tbody tr th {\n        vertical-align: top;\n    }\n\n    .dataframe thead th {\n        text-align: right;\n    }\n</style>\n<table border=\"1\" class=\"dataframe\">\n  <thead>\n    <tr style=\"text-align: right;\">\n      <th></th>\n      <th>id</th>\n      <th>tweet</th>\n      <th>subtask_a</th>\n      <th>subtask_b</th>\n      <th>subtask_c</th>\n      <th>tokens</th>\n    </tr>\n  </thead>\n  <tbody>\n    <tr>\n      <th>0</th>\n      <td>86426</td>\n      <td>@USER She should ask a few native Americans wh...</td>\n      <td>OFF</td>\n      <td>UNT</td>\n      <td>NaN</td>\n      <td>(@USER, She, should, ask, a, few, native, Amer...</td>\n    </tr>\n    <tr>\n      <th>1</th>\n      <td>90194</td>\n      <td>@USER @USER Go home you’re drunk!!! @USER #MAG...</td>\n      <td>OFF</td>\n      <td>TIN</td>\n      <td>IND</td>\n      <td>(@USER, @USER, Go, home, you, ’re, drunk, !, !...</td>\n    </tr>\n    <tr>\n      <th>3</th>\n      <td>62688</td>\n      <td>@USER Someone should'veTaken\" this piece of sh...</td>\n      <td>OFF</td>\n      <td>UNT</td>\n      <td>NaN</td>\n      <td>(@USER, Someone, should'veTaken, \", this, piec...</td>\n    </tr>\n    <tr>\n      <th>5</th>\n      <td>97670</td>\n      <td>@USER Liberals are all Kookoo !!!</td>\n      <td>OFF</td>\n      <td>TIN</td>\n      <td>OTH</td>\n      <td>(@USER, Liberals, are, all, Kookoo, !, !, !)</td>\n    </tr>\n    <tr>\n      <th>6</th>\n      <td>77444</td>\n      <td>@USER @USER Oh noes! Tough shit.</td>\n      <td>OFF</td>\n      <td>UNT</td>\n      <td>NaN</td>\n      <td>(@USER, @USER, Oh, noes, !, Tough, shit, .)</td>\n    </tr>\n  </tbody>\n</table>\n</div>"
     },
     "execution_count": 25,
     "metadata": {},
     "output_type": "execute_result"
    }
   ],
   "source": [
    "tweets.head()"
   ]
  },
  {
   "cell_type": "code",
   "execution_count": 26,
   "metadata": {
    "collapsed": false,
    "jupyter": {
     "outputs_hidden": false
    },
    "pycharm": {
     "name": "#%%\n"
    }
   },
   "outputs": [],
   "source": [
    "# dodawanie kolumny z lematami za pomoca funkcji lambda - przy tym usuwanie:\n",
    "# odwolan do wczesniejszych tweetow (zawiera @)\n",
    "# - slowa url (czyli adresy stron inernetowych które w danych wejściowych mają URL zamiast adreasu.\n",
    "# # - hasztagów; przyimków i innych częstych słów (stop words) oraz znaków interpunkcyjnych.\n",
    "# spacji ' ', '  ', '   '\n",
    "\n",
    "# emotikony zostawiam - uważam, że też niosą znaczenie\n",
    "\n",
    "tweets['lemmas'] = tweets['tokens'].apply\\\n",
    "    (lambda list_tokens : [token.lemma_.strip() for token in list_tokens if ('@' not in token.lemma_ \\\n",
    "                                                                     and '#' not in token.lemma_ and 'url' not in token.lemma_ \\\n",
    "                                                                     and not token.is_stop and not token.is_punct and token.lemma_ != ' ' \\\n",
    "                                                                     and token.lemma_ != '  ' and token.lemma_ != '   '\n",
    "                                                                     and token.lemma_ != '    ' and token.lemma_.strip() != '')])"
   ]
  },
  {
   "cell_type": "code",
   "execution_count": 26,
   "metadata": {
    "collapsed": false,
    "jupyter": {
     "outputs_hidden": false
    },
    "pycharm": {
     "name": "#%%\n"
    }
   },
   "outputs": [],
   "source": []
  },
  {
   "cell_type": "code",
   "execution_count": 27,
   "metadata": {
    "collapsed": false,
    "jupyter": {
     "outputs_hidden": false
    },
    "pycharm": {
     "name": "#%%\n"
    }
   },
   "outputs": [
    {
     "data": {
      "text/plain": "          id                                              tweet subtask_a  \\\n0      86426  @USER She should ask a few native Americans wh...       OFF   \n1      90194  @USER @USER Go home you’re drunk!!! @USER #MAG...       OFF   \n3      62688  @USER Someone should'veTaken\" this piece of sh...       OFF   \n5      97670                  @USER Liberals are all Kookoo !!!       OFF   \n6      77444                   @USER @USER Oh noes! Tough shit.       OFF   \n...      ...                                                ...       ...   \n13223  63482  @USER is advocating for conduct within bounds ...       OFF   \n13227  87416  @USER @USER @USER @USER Liars like the Antifa ...       OFF   \n13235  95338  @USER Sometimes I get strong vibes from people...       OFF   \n13237  82921  @USER And why report this garbage.  We don't g...       OFF   \n13238  27429                                        @USER Pussy       OFF   \n\n      subtask_b subtask_c                                             tokens  \\\n0           UNT       NaN  (@USER, She, should, ask, a, few, native, Amer...   \n1           TIN       IND  (@USER, @USER, Go, home, you, ’re, drunk, !, !...   \n3           UNT       NaN  (@USER, Someone, should'veTaken, \", this, piec...   \n5           TIN       OTH       (@USER, Liberals, are, all, Kookoo, !, !, !)   \n6           UNT       NaN        (@USER, @USER, Oh, noes, !, Tough, shit, .)   \n...         ...       ...                                                ...   \n13223       TIN       GRP  (@USER, is, advocating, for, conduct, within, ...   \n13227       TIN       GRP  (@USER, @USER, @USER, @USER, Liars, like, the,...   \n13235       TIN       IND  (@USER, Sometimes, I, get, strong, vibes, from...   \n13237       TIN       OTH  (@USER, And, why, report, this, garbage, .,  ,...   \n13238       UNT       NaN                                     (@USER, Pussy)   \n\n                                                  lemmas  \n0                               [ask, native, Americans]  \n1             [home, drunk, MAGA, Trump2020, 👊, 🇺, 🇸, 👊]  \n3              [should'vetaken, piece, shit, volcano, 😂]  \n5                                      [liberal, Kookoo]  \n6                                  [oh, no, tough, shit]  \n...                                                  ...  \n13223  [advocate, conduct, bound, Human, Rights, terr...  \n13227     [liar, like, Antifa, twin, vigorously, defend]  \n13235  [strong, vibe, people, man, vibe, ten, million...  \n13237                            [report, garbage, crap]  \n13238                                            [Pussy]  \n\n[4400 rows x 7 columns]",
      "text/html": "<div>\n<style scoped>\n    .dataframe tbody tr th:only-of-type {\n        vertical-align: middle;\n    }\n\n    .dataframe tbody tr th {\n        vertical-align: top;\n    }\n\n    .dataframe thead th {\n        text-align: right;\n    }\n</style>\n<table border=\"1\" class=\"dataframe\">\n  <thead>\n    <tr style=\"text-align: right;\">\n      <th></th>\n      <th>id</th>\n      <th>tweet</th>\n      <th>subtask_a</th>\n      <th>subtask_b</th>\n      <th>subtask_c</th>\n      <th>tokens</th>\n      <th>lemmas</th>\n    </tr>\n  </thead>\n  <tbody>\n    <tr>\n      <th>0</th>\n      <td>86426</td>\n      <td>@USER She should ask a few native Americans wh...</td>\n      <td>OFF</td>\n      <td>UNT</td>\n      <td>NaN</td>\n      <td>(@USER, She, should, ask, a, few, native, Amer...</td>\n      <td>[ask, native, Americans]</td>\n    </tr>\n    <tr>\n      <th>1</th>\n      <td>90194</td>\n      <td>@USER @USER Go home you’re drunk!!! @USER #MAG...</td>\n      <td>OFF</td>\n      <td>TIN</td>\n      <td>IND</td>\n      <td>(@USER, @USER, Go, home, you, ’re, drunk, !, !...</td>\n      <td>[home, drunk, MAGA, Trump2020, 👊, 🇺, 🇸, 👊]</td>\n    </tr>\n    <tr>\n      <th>3</th>\n      <td>62688</td>\n      <td>@USER Someone should'veTaken\" this piece of sh...</td>\n      <td>OFF</td>\n      <td>UNT</td>\n      <td>NaN</td>\n      <td>(@USER, Someone, should'veTaken, \", this, piec...</td>\n      <td>[should'vetaken, piece, shit, volcano, 😂]</td>\n    </tr>\n    <tr>\n      <th>5</th>\n      <td>97670</td>\n      <td>@USER Liberals are all Kookoo !!!</td>\n      <td>OFF</td>\n      <td>TIN</td>\n      <td>OTH</td>\n      <td>(@USER, Liberals, are, all, Kookoo, !, !, !)</td>\n      <td>[liberal, Kookoo]</td>\n    </tr>\n    <tr>\n      <th>6</th>\n      <td>77444</td>\n      <td>@USER @USER Oh noes! Tough shit.</td>\n      <td>OFF</td>\n      <td>UNT</td>\n      <td>NaN</td>\n      <td>(@USER, @USER, Oh, noes, !, Tough, shit, .)</td>\n      <td>[oh, no, tough, shit]</td>\n    </tr>\n    <tr>\n      <th>...</th>\n      <td>...</td>\n      <td>...</td>\n      <td>...</td>\n      <td>...</td>\n      <td>...</td>\n      <td>...</td>\n      <td>...</td>\n    </tr>\n    <tr>\n      <th>13223</th>\n      <td>63482</td>\n      <td>@USER is advocating for conduct within bounds ...</td>\n      <td>OFF</td>\n      <td>TIN</td>\n      <td>GRP</td>\n      <td>(@USER, is, advocating, for, conduct, within, ...</td>\n      <td>[advocate, conduct, bound, Human, Rights, terr...</td>\n    </tr>\n    <tr>\n      <th>13227</th>\n      <td>87416</td>\n      <td>@USER @USER @USER @USER Liars like the Antifa ...</td>\n      <td>OFF</td>\n      <td>TIN</td>\n      <td>GRP</td>\n      <td>(@USER, @USER, @USER, @USER, Liars, like, the,...</td>\n      <td>[liar, like, Antifa, twin, vigorously, defend]</td>\n    </tr>\n    <tr>\n      <th>13235</th>\n      <td>95338</td>\n      <td>@USER Sometimes I get strong vibes from people...</td>\n      <td>OFF</td>\n      <td>TIN</td>\n      <td>IND</td>\n      <td>(@USER, Sometimes, I, get, strong, vibes, from...</td>\n      <td>[strong, vibe, people, man, vibe, ten, million...</td>\n    </tr>\n    <tr>\n      <th>13237</th>\n      <td>82921</td>\n      <td>@USER And why report this garbage.  We don't g...</td>\n      <td>OFF</td>\n      <td>TIN</td>\n      <td>OTH</td>\n      <td>(@USER, And, why, report, this, garbage, .,  ,...</td>\n      <td>[report, garbage, crap]</td>\n    </tr>\n    <tr>\n      <th>13238</th>\n      <td>27429</td>\n      <td>@USER Pussy</td>\n      <td>OFF</td>\n      <td>UNT</td>\n      <td>NaN</td>\n      <td>(@USER, Pussy)</td>\n      <td>[Pussy]</td>\n    </tr>\n  </tbody>\n</table>\n<p>4400 rows × 7 columns</p>\n</div>"
     },
     "execution_count": 27,
     "metadata": {},
     "output_type": "execute_result"
    }
   ],
   "source": [
    "tweets"
   ]
  },
  {
   "cell_type": "code",
   "execution_count": 28,
   "metadata": {
    "collapsed": false,
    "jupyter": {
     "outputs_hidden": false
    },
    "pycharm": {
     "name": "#%%\n"
    }
   },
   "outputs": [],
   "source": [
    "# for index, row in tweets.iterrows():\n",
    "#     for word in row['lemmas']:\n",
    "#         if word == '':\n",
    "#             print(index)"
   ]
  },
  {
   "cell_type": "code",
   "execution_count": 29,
   "metadata": {
    "collapsed": false,
    "jupyter": {
     "outputs_hidden": false
    },
    "pycharm": {
     "name": "#%%\n"
    }
   },
   "outputs": [],
   "source": [
    "# tweets.iloc[499, 6]"
   ]
  },
  {
   "cell_type": "code",
   "execution_count": 30,
   "metadata": {
    "collapsed": false,
    "jupyter": {
     "outputs_hidden": false
    },
    "pycharm": {
     "name": "#%%\n"
    }
   },
   "outputs": [],
   "source": [
    "# if tweets.iloc[500, 6][0] == '':\n",
    "#     print(True)"
   ]
  },
  {
   "cell_type": "code",
   "execution_count": 31,
   "metadata": {
    "collapsed": false,
    "jupyter": {
     "outputs_hidden": false
    },
    "pycharm": {
     "name": "#%%\n"
    }
   },
   "outputs": [],
   "source": [
    "# tweets.iloc[500, 6]"
   ]
  },
  {
   "cell_type": "code",
   "execution_count": 32,
   "metadata": {
    "collapsed": false,
    "jupyter": {
     "outputs_hidden": false
    },
    "pycharm": {
     "name": "#%%\n"
    }
   },
   "outputs": [],
   "source": [
    "# tweets.loc[:3,'lemmas']"
   ]
  },
  {
   "cell_type": "code",
   "execution_count": 33,
   "metadata": {
    "collapsed": false,
    "jupyter": {
     "outputs_hidden": false
    },
    "pycharm": {
     "name": "#%%\n"
    }
   },
   "outputs": [
    {
     "data": {
      "text/plain": "       id                                              tweet subtask_a  \\\n7   52415  @USER was literally just talking about this lo...       OFF   \n9   13384  @USER Canada doesn’t need another CUCK! We alr...       OFF   \n12  28414  @USER you are a lying corrupt traitor!!! Nobod...       OFF   \n19  28195  @USER @USER @USER gun control! That is all the...       OFF   \n20  56117  @USER @USER @USER @USER LOL!!!   Throwing the ...       OFF   \n22  12681  @USER @USER Kind of like when conservatives wa...       OFF   \n23  82904  @USER @USER Da fuck is going on people?   Ther...       OFF   \n25  77665  @USER Tbh these days i just don't like people ...       OFF   \n29  25440  @USER @USER @USER She?  To whom are you referr...       OFF   \n32  12609  The only thing the Democrats have is lying and...       OFF   \n36  12108  @USER @USER @USER @USER @USER @USER @USER @USE...       OFF   \n37  14726  @USER @USER @USER That's expected if you placa...       OFF   \n54  84102  4 out of 10 British people are basically full-...       OFF   \n57  98992                                     @USER Fuck off       OFF   \n59  33853  @USER @USER The prison system is so fucked.  W...       OFF   \n\n   subtask_b subtask_c                                             tokens  \\\n7        TIN       GRP  (@USER, was, literally, just, talking, about, ...   \n9        TIN       IND  (@USER, Canada, does, n’t, need, another, CUCK...   \n12       TIN       IND  (@USER, you, are, a, lying, corrupt, traitor, ...   \n19       TIN       OTH  (@USER, @USER, @USER, gun, control, !, That, i...   \n20       TIN       IND  (@USER, @USER, @USER, @USER, LOL, !, !, !,   ,...   \n22       TIN       GRP  (@USER, @USER, Kind, of, like, when, conservat...   \n23       TIN       GRP  (@USER, @USER, Da, fuck, is, going, on, people...   \n25       TIN       IND  (@USER, Tbh, these, days, i, just, do, n't, li...   \n29       UNT       NaN  (@USER, @USER, @USER, She, ?,  , To, whom, are...   \n32       TIN       GRP  (The, only, thing, the, Democrats, have, is, l...   \n36       TIN       IND  (@USER, @USER, @USER, @USER, @USER, @USER, @US...   \n37       TIN       GRP  (@USER, @USER, @USER, That, 's, expected, if, ...   \n54       TIN       GRP  (4, out, of, 10, British, people, are, basical...   \n57       TIN       IND                                 (@USER, Fuck, off)   \n59       TIN       OTH  (@USER, @USER, The, prison, system, is, so, fu...   \n\n                                               lemmas  \n7   [literally, talk, lol, mass, shooting, like, s...  \n9   [Canada, need, CUCK, LooneyLeft, Liberals, f**...  \n12  [lie, corrupt, traitor, want, hear, anymore, l...  \n19                           [gun, control, kid, ask]  \n20  [LOL, throw, BULLSHIT, Flag, nonsense, putupor...  \n22  [kind, like, conservative, wanna, associate, l...  \n23  [Da, fuck, go, people, man, room, woman, room,...  \n25  [tbh, day, like, people, general, connect, peo...  \n29  [refer, Hillary, know, tiresome, Bernie, suppo...  \n32  [thing, Democrats, lie, stall, stop, Trump, Pr...  \n36  [smart, think, Gen, Flynn, sentencing, keep, r...  \n37  [expect, placate, violent, leftist, terrorist,...  \n54  [4, 10, british, people, basically, racist, 4,...  \n57                                             [fuck]  \n59  [prison, system, fucked, get, away, potentiall...  ",
      "text/html": "<div>\n<style scoped>\n    .dataframe tbody tr th:only-of-type {\n        vertical-align: middle;\n    }\n\n    .dataframe tbody tr th {\n        vertical-align: top;\n    }\n\n    .dataframe thead th {\n        text-align: right;\n    }\n</style>\n<table border=\"1\" class=\"dataframe\">\n  <thead>\n    <tr style=\"text-align: right;\">\n      <th></th>\n      <th>id</th>\n      <th>tweet</th>\n      <th>subtask_a</th>\n      <th>subtask_b</th>\n      <th>subtask_c</th>\n      <th>tokens</th>\n      <th>lemmas</th>\n    </tr>\n  </thead>\n  <tbody>\n    <tr>\n      <th>7</th>\n      <td>52415</td>\n      <td>@USER was literally just talking about this lo...</td>\n      <td>OFF</td>\n      <td>TIN</td>\n      <td>GRP</td>\n      <td>(@USER, was, literally, just, talking, about, ...</td>\n      <td>[literally, talk, lol, mass, shooting, like, s...</td>\n    </tr>\n    <tr>\n      <th>9</th>\n      <td>13384</td>\n      <td>@USER Canada doesn’t need another CUCK! We alr...</td>\n      <td>OFF</td>\n      <td>TIN</td>\n      <td>IND</td>\n      <td>(@USER, Canada, does, n’t, need, another, CUCK...</td>\n      <td>[Canada, need, CUCK, LooneyLeft, Liberals, f**...</td>\n    </tr>\n    <tr>\n      <th>12</th>\n      <td>28414</td>\n      <td>@USER you are a lying corrupt traitor!!! Nobod...</td>\n      <td>OFF</td>\n      <td>TIN</td>\n      <td>IND</td>\n      <td>(@USER, you, are, a, lying, corrupt, traitor, ...</td>\n      <td>[lie, corrupt, traitor, want, hear, anymore, l...</td>\n    </tr>\n    <tr>\n      <th>19</th>\n      <td>28195</td>\n      <td>@USER @USER @USER gun control! That is all the...</td>\n      <td>OFF</td>\n      <td>TIN</td>\n      <td>OTH</td>\n      <td>(@USER, @USER, @USER, gun, control, !, That, i...</td>\n      <td>[gun, control, kid, ask]</td>\n    </tr>\n    <tr>\n      <th>20</th>\n      <td>56117</td>\n      <td>@USER @USER @USER @USER LOL!!!   Throwing the ...</td>\n      <td>OFF</td>\n      <td>TIN</td>\n      <td>IND</td>\n      <td>(@USER, @USER, @USER, @USER, LOL, !, !, !,   ,...</td>\n      <td>[LOL, throw, BULLSHIT, Flag, nonsense, putupor...</td>\n    </tr>\n    <tr>\n      <th>22</th>\n      <td>12681</td>\n      <td>@USER @USER Kind of like when conservatives wa...</td>\n      <td>OFF</td>\n      <td>TIN</td>\n      <td>GRP</td>\n      <td>(@USER, @USER, Kind, of, like, when, conservat...</td>\n      <td>[kind, like, conservative, wanna, associate, l...</td>\n    </tr>\n    <tr>\n      <th>23</th>\n      <td>82904</td>\n      <td>@USER @USER Da fuck is going on people?   Ther...</td>\n      <td>OFF</td>\n      <td>TIN</td>\n      <td>GRP</td>\n      <td>(@USER, @USER, Da, fuck, is, going, on, people...</td>\n      <td>[Da, fuck, go, people, man, room, woman, room,...</td>\n    </tr>\n    <tr>\n      <th>25</th>\n      <td>77665</td>\n      <td>@USER Tbh these days i just don't like people ...</td>\n      <td>OFF</td>\n      <td>TIN</td>\n      <td>IND</td>\n      <td>(@USER, Tbh, these, days, i, just, do, n't, li...</td>\n      <td>[tbh, day, like, people, general, connect, peo...</td>\n    </tr>\n    <tr>\n      <th>29</th>\n      <td>25440</td>\n      <td>@USER @USER @USER She?  To whom are you referr...</td>\n      <td>OFF</td>\n      <td>UNT</td>\n      <td>NaN</td>\n      <td>(@USER, @USER, @USER, She, ?,  , To, whom, are...</td>\n      <td>[refer, Hillary, know, tiresome, Bernie, suppo...</td>\n    </tr>\n    <tr>\n      <th>32</th>\n      <td>12609</td>\n      <td>The only thing the Democrats have is lying and...</td>\n      <td>OFF</td>\n      <td>TIN</td>\n      <td>GRP</td>\n      <td>(The, only, thing, the, Democrats, have, is, l...</td>\n      <td>[thing, Democrats, lie, stall, stop, Trump, Pr...</td>\n    </tr>\n    <tr>\n      <th>36</th>\n      <td>12108</td>\n      <td>@USER @USER @USER @USER @USER @USER @USER @USE...</td>\n      <td>OFF</td>\n      <td>TIN</td>\n      <td>IND</td>\n      <td>(@USER, @USER, @USER, @USER, @USER, @USER, @US...</td>\n      <td>[smart, think, Gen, Flynn, sentencing, keep, r...</td>\n    </tr>\n    <tr>\n      <th>37</th>\n      <td>14726</td>\n      <td>@USER @USER @USER That's expected if you placa...</td>\n      <td>OFF</td>\n      <td>TIN</td>\n      <td>GRP</td>\n      <td>(@USER, @USER, @USER, That, 's, expected, if, ...</td>\n      <td>[expect, placate, violent, leftist, terrorist,...</td>\n    </tr>\n    <tr>\n      <th>54</th>\n      <td>84102</td>\n      <td>4 out of 10 British people are basically full-...</td>\n      <td>OFF</td>\n      <td>TIN</td>\n      <td>GRP</td>\n      <td>(4, out, of, 10, British, people, are, basical...</td>\n      <td>[4, 10, british, people, basically, racist, 4,...</td>\n    </tr>\n    <tr>\n      <th>57</th>\n      <td>98992</td>\n      <td>@USER Fuck off</td>\n      <td>OFF</td>\n      <td>TIN</td>\n      <td>IND</td>\n      <td>(@USER, Fuck, off)</td>\n      <td>[fuck]</td>\n    </tr>\n    <tr>\n      <th>59</th>\n      <td>33853</td>\n      <td>@USER @USER The prison system is so fucked.  W...</td>\n      <td>OFF</td>\n      <td>TIN</td>\n      <td>OTH</td>\n      <td>(@USER, @USER, The, prison, system, is, so, fu...</td>\n      <td>[prison, system, fucked, get, away, potentiall...</td>\n    </tr>\n  </tbody>\n</table>\n</div>"
     },
     "execution_count": 33,
     "metadata": {},
     "output_type": "execute_result"
    }
   ],
   "source": [
    "tweets.iloc[5:20]"
   ]
  },
  {
   "cell_type": "code",
   "execution_count": 34,
   "metadata": {
    "collapsed": false,
    "jupyter": {
     "outputs_hidden": false
    },
    "pycharm": {
     "name": "#%%\n"
    }
   },
   "outputs": [],
   "source": [
    "tweets['length_lemmas'] = tweets['lemmas'].apply(lambda row: len(row))"
   ]
  },
  {
   "cell_type": "code",
   "execution_count": 35,
   "metadata": {
    "collapsed": false,
    "jupyter": {
     "outputs_hidden": false
    },
    "pycharm": {
     "name": "#%%\n"
    }
   },
   "outputs": [
    {
     "data": {
      "text/plain": "0     3\n1     8\n3     5\n5     2\n6     4\n7    16\n9    10\nName: length_lemmas, dtype: int64"
     },
     "execution_count": 35,
     "metadata": {},
     "output_type": "execute_result"
    }
   ],
   "source": [
    "tweets.loc[:10, 'length_lemmas']"
   ]
  },
  {
   "cell_type": "code",
   "execution_count": 36,
   "metadata": {
    "collapsed": false,
    "jupyter": {
     "outputs_hidden": false
    },
    "pycharm": {
     "name": "#%%\n"
    }
   },
   "outputs": [],
   "source": [
    "max_length_tweet = max(tweets['length_lemmas'])"
   ]
  },
  {
   "cell_type": "markdown",
   "metadata": {
    "pycharm": {
     "name": "#%% md\n"
    }
   },
   "source": [
    "## Ładowanie danych testowych(b)"
   ]
  },
  {
   "cell_type": "code",
   "execution_count": 37,
   "metadata": {
    "collapsed": false,
    "jupyter": {
     "outputs_hidden": false
    },
    "pycharm": {
     "name": "#%%\n"
    }
   },
   "outputs": [],
   "source": [
    "test_level_b = pd.read_csv('data/testset-levelb.tsv', sep='\\t')"
   ]
  },
  {
   "cell_type": "code",
   "execution_count": 38,
   "metadata": {
    "collapsed": false,
    "jupyter": {
     "outputs_hidden": false
    },
    "pycharm": {
     "name": "#%%\n"
    }
   },
   "outputs": [],
   "source": [
    "labels_level_b = pd.read_csv('data/labels-levelb.csv', header=None)"
   ]
  },
  {
   "cell_type": "code",
   "execution_count": 39,
   "metadata": {
    "collapsed": false,
    "jupyter": {
     "outputs_hidden": false
    },
    "pycharm": {
     "name": "#%%\n"
    }
   },
   "outputs": [],
   "source": [
    "labels_level_b = labels_level_b.rename(columns={0:'id', 1:'subtask_b'})"
   ]
  },
  {
   "cell_type": "code",
   "execution_count": 40,
   "metadata": {
    "collapsed": false,
    "jupyter": {
     "outputs_hidden": false
    },
    "pycharm": {
     "name": "#%%\n"
    }
   },
   "outputs": [],
   "source": [
    "test_b = pd.merge(test_level_b, labels_level_b, on = \"id\", how = \"inner\")"
   ]
  },
  {
   "cell_type": "code",
   "execution_count": 41,
   "metadata": {
    "collapsed": false,
    "jupyter": {
     "outputs_hidden": false
    },
    "pycharm": {
     "name": "#%%\n"
    }
   },
   "outputs": [
    {
     "data": {
      "text/plain": "      id                                              tweet subtask_b\n0  15923  #WhoIsQ #WheresTheServer #DumpNike #DECLASFISA...       TIN\n1  60133  #NoPasaran: Unity demo to oppose the far-right...       TIN\n2  83681           . . . What the fuck did he do this time?       TIN\n3  65507  @USER Do you get the feeling he is kissing @US...       TIN\n4  12588                        @USER Nigga ware da hits at       UNT",
      "text/html": "<div>\n<style scoped>\n    .dataframe tbody tr th:only-of-type {\n        vertical-align: middle;\n    }\n\n    .dataframe tbody tr th {\n        vertical-align: top;\n    }\n\n    .dataframe thead th {\n        text-align: right;\n    }\n</style>\n<table border=\"1\" class=\"dataframe\">\n  <thead>\n    <tr style=\"text-align: right;\">\n      <th></th>\n      <th>id</th>\n      <th>tweet</th>\n      <th>subtask_b</th>\n    </tr>\n  </thead>\n  <tbody>\n    <tr>\n      <th>0</th>\n      <td>15923</td>\n      <td>#WhoIsQ #WheresTheServer #DumpNike #DECLASFISA...</td>\n      <td>TIN</td>\n    </tr>\n    <tr>\n      <th>1</th>\n      <td>60133</td>\n      <td>#NoPasaran: Unity demo to oppose the far-right...</td>\n      <td>TIN</td>\n    </tr>\n    <tr>\n      <th>2</th>\n      <td>83681</td>\n      <td>. . . What the fuck did he do this time?</td>\n      <td>TIN</td>\n    </tr>\n    <tr>\n      <th>3</th>\n      <td>65507</td>\n      <td>@USER Do you get the feeling he is kissing @US...</td>\n      <td>TIN</td>\n    </tr>\n    <tr>\n      <th>4</th>\n      <td>12588</td>\n      <td>@USER Nigga ware da hits at</td>\n      <td>UNT</td>\n    </tr>\n  </tbody>\n</table>\n</div>"
     },
     "execution_count": 41,
     "metadata": {},
     "output_type": "execute_result"
    }
   ],
   "source": [
    "test_b.head()"
   ]
  },
  {
   "cell_type": "code",
   "execution_count": 42,
   "metadata": {
    "collapsed": false,
    "jupyter": {
     "outputs_hidden": false
    },
    "pycharm": {
     "name": "#%%\n"
    }
   },
   "outputs": [
    {
     "data": {
      "text/plain": "240"
     },
     "execution_count": 42,
     "metadata": {},
     "output_type": "execute_result"
    }
   ],
   "source": [
    "len(test_b)"
   ]
  },
  {
   "cell_type": "code",
   "execution_count": 43,
   "metadata": {},
   "outputs": [],
   "source": [
    "test_b = test_b.dropna(subset=['subtask_b'])"
   ]
  },
  {
   "cell_type": "code",
   "execution_count": 44,
   "metadata": {},
   "outputs": [
    {
     "data": {
      "text/plain": "240"
     },
     "execution_count": 44,
     "metadata": {},
     "output_type": "execute_result"
    }
   ],
   "source": [
    "len(test_b)"
   ]
  },
  {
   "cell_type": "markdown",
   "metadata": {},
   "source": [
    "### Opracowanie danych testowych (część a)\n",
    "Takie same modyfikacje jak dla danych treningowych"
   ]
  },
  {
   "cell_type": "code",
   "execution_count": 45,
   "metadata": {
    "collapsed": false,
    "jupyter": {
     "outputs_hidden": false
    },
    "pycharm": {
     "name": "#%%\n"
    }
   },
   "outputs": [],
   "source": [
    "test_b['tokens'] = test_b['tweet'].apply(nlp)\n",
    "test_b['lemmas'] = test_b['tokens'].apply \\\n",
    "    (lambda list_tokens : [token.lemma_.strip() for token in list_tokens if ('@' not in token.lemma_\n",
    "                                                                             and '#' not in token.lemma_ and 'url' not in token.lemma_\n",
    "                                                                             and not token.is_stop and not token.is_punct and token.lemma_ != ' '\n",
    "                                                                             and token.lemma_ != '  ' and token.lemma_ != '   '\n",
    "                                                                             and token.lemma_ != '    ' and token.lemma_.strip() != '')])\n",
    "\n"
   ]
  },
  {
   "cell_type": "code",
   "execution_count": 45,
   "metadata": {
    "collapsed": false,
    "jupyter": {
     "outputs_hidden": false
    },
    "pycharm": {
     "name": "#%%\n"
    }
   },
   "outputs": [],
   "source": []
  },
  {
   "cell_type": "code",
   "execution_count": 46,
   "metadata": {
    "collapsed": false,
    "jupyter": {
     "outputs_hidden": false
    },
    "pycharm": {
     "name": "#%%\n"
    }
   },
   "outputs": [],
   "source": [
    "test_b['length_lemmas'] = test_b['lemmas'].apply(lambda row: len(row))"
   ]
  },
  {
   "cell_type": "code",
   "execution_count": 47,
   "metadata": {
    "collapsed": false,
    "jupyter": {
     "outputs_hidden": false
    },
    "pycharm": {
     "name": "#%%\n"
    }
   },
   "outputs": [
    {
     "data": {
      "text/plain": "40"
     },
     "execution_count": 47,
     "metadata": {},
     "output_type": "execute_result"
    }
   ],
   "source": [
    "max(test_b['length_lemmas'])"
   ]
  },
  {
   "cell_type": "code",
   "execution_count": 48,
   "metadata": {
    "collapsed": false,
    "jupyter": {
     "outputs_hidden": false
    },
    "pycharm": {
     "name": "#%%\n"
    }
   },
   "outputs": [
    {
     "data": {
      "text/plain": "      id                                              tweet subtask_b  \\\n0  15923  #WhoIsQ #WheresTheServer #DumpNike #DECLASFISA...       TIN   \n1  60133  #NoPasaran: Unity demo to oppose the far-right...       TIN   \n2  83681           . . . What the fuck did he do this time?       TIN   \n3  65507  @USER Do you get the feeling he is kissing @US...       TIN   \n4  12588                        @USER Nigga ware da hits at       UNT   \n\n                                              tokens  \\\n0  (#, WhoIsQ, #, WheresTheServer, #, DumpNike, #...   \n1  (#, NoPasaran, :, Unity, demo, to, oppose, the...   \n2  (., ., ., What, the, fuck, did, he, do, this, ...   \n3  (@USER, Do, you, get, the, feeling, he, is, ki...   \n4                 (@USER, Nigga, ware, da, hits, at)   \n\n                                              lemmas  length_lemmas  \n0  [WhoIsQ, wherestheserver, DumpNike, DECLASFISA...             24  \n1  [NoPasaran, unity, demo, oppose, far, right, L...              9  \n2                                       [fuck, time]              2  \n3                  [feeling, kiss, humiliate, later]              4  \n4                             [Nigga, ware, da, hit]              4  ",
      "text/html": "<div>\n<style scoped>\n    .dataframe tbody tr th:only-of-type {\n        vertical-align: middle;\n    }\n\n    .dataframe tbody tr th {\n        vertical-align: top;\n    }\n\n    .dataframe thead th {\n        text-align: right;\n    }\n</style>\n<table border=\"1\" class=\"dataframe\">\n  <thead>\n    <tr style=\"text-align: right;\">\n      <th></th>\n      <th>id</th>\n      <th>tweet</th>\n      <th>subtask_b</th>\n      <th>tokens</th>\n      <th>lemmas</th>\n      <th>length_lemmas</th>\n    </tr>\n  </thead>\n  <tbody>\n    <tr>\n      <th>0</th>\n      <td>15923</td>\n      <td>#WhoIsQ #WheresTheServer #DumpNike #DECLASFISA...</td>\n      <td>TIN</td>\n      <td>(#, WhoIsQ, #, WheresTheServer, #, DumpNike, #...</td>\n      <td>[WhoIsQ, wherestheserver, DumpNike, DECLASFISA...</td>\n      <td>24</td>\n    </tr>\n    <tr>\n      <th>1</th>\n      <td>60133</td>\n      <td>#NoPasaran: Unity demo to oppose the far-right...</td>\n      <td>TIN</td>\n      <td>(#, NoPasaran, :, Unity, demo, to, oppose, the...</td>\n      <td>[NoPasaran, unity, demo, oppose, far, right, L...</td>\n      <td>9</td>\n    </tr>\n    <tr>\n      <th>2</th>\n      <td>83681</td>\n      <td>. . . What the fuck did he do this time?</td>\n      <td>TIN</td>\n      <td>(., ., ., What, the, fuck, did, he, do, this, ...</td>\n      <td>[fuck, time]</td>\n      <td>2</td>\n    </tr>\n    <tr>\n      <th>3</th>\n      <td>65507</td>\n      <td>@USER Do you get the feeling he is kissing @US...</td>\n      <td>TIN</td>\n      <td>(@USER, Do, you, get, the, feeling, he, is, ki...</td>\n      <td>[feeling, kiss, humiliate, later]</td>\n      <td>4</td>\n    </tr>\n    <tr>\n      <th>4</th>\n      <td>12588</td>\n      <td>@USER Nigga ware da hits at</td>\n      <td>UNT</td>\n      <td>(@USER, Nigga, ware, da, hits, at)</td>\n      <td>[Nigga, ware, da, hit]</td>\n      <td>4</td>\n    </tr>\n  </tbody>\n</table>\n</div>"
     },
     "execution_count": 48,
     "metadata": {},
     "output_type": "execute_result"
    }
   ],
   "source": [
    "test_b.head()"
   ]
  },
  {
   "cell_type": "code",
   "execution_count": 49,
   "metadata": {
    "collapsed": false,
    "jupyter": {
     "outputs_hidden": false
    },
    "pycharm": {
     "name": "#%%\n"
    }
   },
   "outputs": [
    {
     "data": {
      "text/plain": "240"
     },
     "execution_count": 49,
     "metadata": {},
     "output_type": "execute_result"
    }
   ],
   "source": [
    "len(test_b)"
   ]
  },
  {
   "cell_type": "code",
   "execution_count": 50,
   "metadata": {
    "collapsed": false,
    "jupyter": {
     "outputs_hidden": false
    },
    "pycharm": {
     "name": "#%%\n"
    }
   },
   "outputs": [],
   "source": [
    "max_length_tweet_test = max(test_b['length_lemmas'])"
   ]
  },
  {
   "cell_type": "code",
   "execution_count": 51,
   "metadata": {
    "collapsed": false,
    "jupyter": {
     "outputs_hidden": false
    },
    "pycharm": {
     "name": "#%%\n"
    }
   },
   "outputs": [
    {
     "data": {
      "text/plain": "40"
     },
     "execution_count": 51,
     "metadata": {},
     "output_type": "execute_result"
    }
   ],
   "source": [
    "max_length_tweet_test"
   ]
  },
  {
   "cell_type": "code",
   "execution_count": 51,
   "metadata": {
    "collapsed": false,
    "jupyter": {
     "outputs_hidden": false
    },
    "pycharm": {
     "name": "#%%\n"
    }
   },
   "outputs": [],
   "source": []
  },
  {
   "cell_type": "markdown",
   "metadata": {
    "pycharm": {
     "name": "#%% md\n"
    }
   },
   "source": [
    "#### Maksymalna długość wektora z lematami z tweetów"
   ]
  },
  {
   "cell_type": "code",
   "execution_count": 52,
   "metadata": {
    "collapsed": false,
    "jupyter": {
     "outputs_hidden": false
    },
    "pycharm": {
     "name": "#%%\n"
    }
   },
   "outputs": [],
   "source": [
    "max_width = max(max_length_tweet, max_length_tweet_test)"
   ]
  },
  {
   "cell_type": "markdown",
   "metadata": {
    "pycharm": {
     "name": "#%% md\n"
    }
   },
   "source": [
    "## Funkcje do przekszałcania danych"
   ]
  },
  {
   "cell_type": "code",
   "execution_count": 53,
   "metadata": {
    "collapsed": false,
    "jupyter": {
     "outputs_hidden": false
    },
    "pycharm": {
     "name": "#%%\n"
    }
   },
   "outputs": [],
   "source": [
    "def convert_words_to_numbers(lemmas_series, dict_ = dict()):\n",
    "    # dict_ = dict()\n",
    "    for row in lemmas_series:\n",
    "        for lemma in row:\n",
    "            if lemma not in dict_:\n",
    "                dict_[lemma] = len(dict_) + 1\n",
    "\n",
    "    return dict_"
   ]
  },
  {
   "cell_type": "code",
   "execution_count": 54,
   "metadata": {
    "collapsed": false,
    "jupyter": {
     "outputs_hidden": false
    },
    "pycharm": {
     "name": "#%%\n"
    }
   },
   "outputs": [],
   "source": [
    "def lemmas_to_numbers(row, max_list_lemmas, dict_):\n",
    "    list_numbers = []\n",
    "    for i in range(max_list_lemmas - len(row)):\n",
    "        list_numbers.append(0)\n",
    "\n",
    "    for lemma in row:\n",
    "        list_numbers.append(dict_[lemma])\n",
    "\n",
    "    array_numbers = np.array(list_numbers, dtype=np.int32)\n",
    "    return array_numbers"
   ]
  },
  {
   "cell_type": "markdown",
   "metadata": {
    "pycharm": {
     "name": "#%% md\n"
    }
   },
   "source": [
    "## Powrót do opracowywania danych treningowych"
   ]
  },
  {
   "cell_type": "code",
   "execution_count": 54,
   "metadata": {
    "collapsed": false,
    "jupyter": {
     "outputs_hidden": false
    },
    "pycharm": {
     "name": "#%%\n"
    }
   },
   "outputs": [],
   "source": []
  },
  {
   "cell_type": "code",
   "execution_count": 55,
   "metadata": {
    "collapsed": false,
    "jupyter": {
     "outputs_hidden": false
    },
    "pycharm": {
     "name": "#%%\n"
    }
   },
   "outputs": [],
   "source": [
    "dict_lemmas = convert_words_to_numbers(tweets['lemmas'])"
   ]
  },
  {
   "cell_type": "code",
   "execution_count": 56,
   "metadata": {
    "collapsed": false,
    "jupyter": {
     "outputs_hidden": false
    },
    "pycharm": {
     "name": "#%%\n"
    }
   },
   "outputs": [
    {
     "data": {
      "text/plain": "['$',\n \"'em\",\n '+',\n '-Antifa',\n '-Awkward',\n '-Bill',\n '-GOP',\n '-Human',\n '-I',\n '-Illegal']"
     },
     "execution_count": 56,
     "metadata": {},
     "output_type": "execute_result"
    }
   ],
   "source": [
    "sorted(dict_lemmas)[:10]"
   ]
  },
  {
   "cell_type": "code",
   "execution_count": 57,
   "metadata": {
    "collapsed": false,
    "jupyter": {
     "outputs_hidden": false
    },
    "pycharm": {
     "name": "#%%\n"
    }
   },
   "outputs": [],
   "source": [
    "# zamiana lematu na liczbe ze slownika ktory odpowiada danemu slowu\n",
    "tweets['numbers'] = tweets['lemmas'].apply(lambda row : lemmas_to_numbers(row, max_width, dict_lemmas))"
   ]
  },
  {
   "cell_type": "code",
   "execution_count": 58,
   "metadata": {
    "collapsed": false,
    "jupyter": {
     "outputs_hidden": false
    },
    "pycharm": {
     "name": "#%%\n"
    }
   },
   "outputs": [
    {
     "data": {
      "text/plain": "0    [0, 0, 0, 0, 0, 0, 0, 0, 0, 0, 0, 0, 0, 0, 0, ...\n1    [0, 0, 0, 0, 0, 0, 0, 0, 0, 0, 0, 0, 0, 0, 0, ...\n3    [0, 0, 0, 0, 0, 0, 0, 0, 0, 0, 0, 0, 0, 0, 0, ...\n5    [0, 0, 0, 0, 0, 0, 0, 0, 0, 0, 0, 0, 0, 0, 0, ...\n6    [0, 0, 0, 0, 0, 0, 0, 0, 0, 0, 0, 0, 0, 0, 0, ...\nName: numbers, dtype: object"
     },
     "execution_count": 58,
     "metadata": {},
     "output_type": "execute_result"
    }
   ],
   "source": [
    "tweets['numbers'].head()"
   ]
  },
  {
   "cell_type": "code",
   "execution_count": 59,
   "metadata": {
    "collapsed": false,
    "jupyter": {
     "outputs_hidden": false
    },
    "pycharm": {
     "name": "#%%\n"
    }
   },
   "outputs": [],
   "source": [
    "# przypisywanie X_train kolumny numbers skonwertowanej na tablice numpy\n",
    "X_train = tweets['numbers'].values"
   ]
  },
  {
   "cell_type": "code",
   "execution_count": 60,
   "metadata": {
    "collapsed": false,
    "jupyter": {
     "outputs_hidden": false
    },
    "pycharm": {
     "name": "#%%\n"
    }
   },
   "outputs": [],
   "source": [
    "# łączenie wierszy tablic w jedną tablicę 2D\n",
    "X_train = np.stack(X_train)"
   ]
  },
  {
   "cell_type": "code",
   "execution_count": 61,
   "metadata": {
    "collapsed": false,
    "jupyter": {
     "outputs_hidden": false
    },
    "pycharm": {
     "name": "#%%\n"
    }
   },
   "outputs": [],
   "source": [
    "# konwertowanie tablicy 2d do tensora\n",
    "X_train = torch.FloatTensor(X_train)"
   ]
  },
  {
   "cell_type": "code",
   "execution_count": 62,
   "metadata": {
    "collapsed": false,
    "jupyter": {
     "outputs_hidden": false
    },
    "pycharm": {
     "name": "#%%\n"
    }
   },
   "outputs": [],
   "source": [
    "# ustawianie kolumn z etykietami na poszczególne zadania jako type które przechowują kategorie"
   ]
  },
  {
   "cell_type": "code",
   "execution_count": 63,
   "metadata": {
    "collapsed": false,
    "jupyter": {
     "outputs_hidden": false
    },
    "pycharm": {
     "name": "#%%\n"
    }
   },
   "outputs": [],
   "source": [
    "cat_cols = ['subtask_a', 'subtask_b', 'subtask_c']"
   ]
  },
  {
   "cell_type": "code",
   "execution_count": 64,
   "metadata": {
    "collapsed": false,
    "jupyter": {
     "outputs_hidden": false
    },
    "pycharm": {
     "name": "#%%\n"
    }
   },
   "outputs": [],
   "source": [
    "for col in cat_cols:\n",
    "    tweets[col] = tweets[col].astype('category')"
   ]
  },
  {
   "cell_type": "code",
   "execution_count": 65,
   "metadata": {
    "collapsed": false,
    "jupyter": {
     "outputs_hidden": false
    },
    "pycharm": {
     "name": "#%%\n"
    }
   },
   "outputs": [],
   "source": [
    "tweets['labels_b'] = tweets['subtask_b'].cat.codes"
   ]
  },
  {
   "cell_type": "code",
   "execution_count": 66,
   "metadata": {
    "collapsed": false,
    "jupyter": {
     "outputs_hidden": false
    },
    "pycharm": {
     "name": "#%%\n"
    }
   },
   "outputs": [
    {
     "data": {
      "text/plain": "0    1\n1    0\n3    1\n5    0\nName: labels_b, dtype: int8"
     },
     "execution_count": 66,
     "metadata": {},
     "output_type": "execute_result"
    }
   ],
   "source": [
    "# OFFENSIVE jest jako 1, a NOT OFFENSIVE jest jako 0\n",
    "tweets.loc[:5, 'labels_b']"
   ]
  },
  {
   "cell_type": "code",
   "execution_count": 67,
   "metadata": {
    "collapsed": false,
    "jupyter": {
     "outputs_hidden": false
    },
    "pycharm": {
     "name": "#%%\n"
    }
   },
   "outputs": [
    {
     "data": {
      "text/plain": "          id                                              tweet subtask_a  \\\n0      86426  @USER She should ask a few native Americans wh...       OFF   \n1      90194  @USER @USER Go home you’re drunk!!! @USER #MAG...       OFF   \n3      62688  @USER Someone should'veTaken\" this piece of sh...       OFF   \n5      97670                  @USER Liberals are all Kookoo !!!       OFF   \n6      77444                   @USER @USER Oh noes! Tough shit.       OFF   \n...      ...                                                ...       ...   \n13223  63482  @USER is advocating for conduct within bounds ...       OFF   \n13227  87416  @USER @USER @USER @USER Liars like the Antifa ...       OFF   \n13235  95338  @USER Sometimes I get strong vibes from people...       OFF   \n13237  82921  @USER And why report this garbage.  We don't g...       OFF   \n13238  27429                                        @USER Pussy       OFF   \n\n      subtask_b subtask_c                                             tokens  \\\n0           UNT       NaN  (@USER, She, should, ask, a, few, native, Amer...   \n1           TIN       IND  (@USER, @USER, Go, home, you, ’re, drunk, !, !...   \n3           UNT       NaN  (@USER, Someone, should'veTaken, \", this, piec...   \n5           TIN       OTH       (@USER, Liberals, are, all, Kookoo, !, !, !)   \n6           UNT       NaN        (@USER, @USER, Oh, noes, !, Tough, shit, .)   \n...         ...       ...                                                ...   \n13223       TIN       GRP  (@USER, is, advocating, for, conduct, within, ...   \n13227       TIN       GRP  (@USER, @USER, @USER, @USER, Liars, like, the,...   \n13235       TIN       IND  (@USER, Sometimes, I, get, strong, vibes, from...   \n13237       TIN       OTH  (@USER, And, why, report, this, garbage, .,  ,...   \n13238       UNT       NaN                                     (@USER, Pussy)   \n\n                                                  lemmas  length_lemmas  \\\n0                               [ask, native, Americans]              3   \n1             [home, drunk, MAGA, Trump2020, 👊, 🇺, 🇸, 👊]              8   \n3              [should'vetaken, piece, shit, volcano, 😂]              5   \n5                                      [liberal, Kookoo]              2   \n6                                  [oh, no, tough, shit]              4   \n...                                                  ...            ...   \n13223  [advocate, conduct, bound, Human, Rights, terr...             23   \n13227     [liar, like, Antifa, twin, vigorously, defend]              6   \n13235  [strong, vibe, people, man, vibe, ten, million...             10   \n13237                            [report, garbage, crap]              3   \n13238                                            [Pussy]              1   \n\n                                                 numbers  labels_b  \n0      [0, 0, 0, 0, 0, 0, 0, 0, 0, 0, 0, 0, 0, 0, 0, ...         1  \n1      [0, 0, 0, 0, 0, 0, 0, 0, 0, 0, 0, 0, 0, 0, 0, ...         0  \n3      [0, 0, 0, 0, 0, 0, 0, 0, 0, 0, 0, 0, 0, 0, 0, ...         1  \n5      [0, 0, 0, 0, 0, 0, 0, 0, 0, 0, 0, 0, 0, 0, 0, ...         0  \n6      [0, 0, 0, 0, 0, 0, 0, 0, 0, 0, 0, 0, 0, 0, 0, ...         1  \n...                                                  ...       ...  \n13223  [0, 0, 0, 0, 0, 0, 0, 0, 0, 0, 0, 0, 0, 0, 0, ...         0  \n13227  [0, 0, 0, 0, 0, 0, 0, 0, 0, 0, 0, 0, 0, 0, 0, ...         0  \n13235  [0, 0, 0, 0, 0, 0, 0, 0, 0, 0, 0, 0, 0, 0, 0, ...         0  \n13237  [0, 0, 0, 0, 0, 0, 0, 0, 0, 0, 0, 0, 0, 0, 0, ...         0  \n13238  [0, 0, 0, 0, 0, 0, 0, 0, 0, 0, 0, 0, 0, 0, 0, ...         1  \n\n[4400 rows x 10 columns]",
      "text/html": "<div>\n<style scoped>\n    .dataframe tbody tr th:only-of-type {\n        vertical-align: middle;\n    }\n\n    .dataframe tbody tr th {\n        vertical-align: top;\n    }\n\n    .dataframe thead th {\n        text-align: right;\n    }\n</style>\n<table border=\"1\" class=\"dataframe\">\n  <thead>\n    <tr style=\"text-align: right;\">\n      <th></th>\n      <th>id</th>\n      <th>tweet</th>\n      <th>subtask_a</th>\n      <th>subtask_b</th>\n      <th>subtask_c</th>\n      <th>tokens</th>\n      <th>lemmas</th>\n      <th>length_lemmas</th>\n      <th>numbers</th>\n      <th>labels_b</th>\n    </tr>\n  </thead>\n  <tbody>\n    <tr>\n      <th>0</th>\n      <td>86426</td>\n      <td>@USER She should ask a few native Americans wh...</td>\n      <td>OFF</td>\n      <td>UNT</td>\n      <td>NaN</td>\n      <td>(@USER, She, should, ask, a, few, native, Amer...</td>\n      <td>[ask, native, Americans]</td>\n      <td>3</td>\n      <td>[0, 0, 0, 0, 0, 0, 0, 0, 0, 0, 0, 0, 0, 0, 0, ...</td>\n      <td>1</td>\n    </tr>\n    <tr>\n      <th>1</th>\n      <td>90194</td>\n      <td>@USER @USER Go home you’re drunk!!! @USER #MAG...</td>\n      <td>OFF</td>\n      <td>TIN</td>\n      <td>IND</td>\n      <td>(@USER, @USER, Go, home, you, ’re, drunk, !, !...</td>\n      <td>[home, drunk, MAGA, Trump2020, 👊, 🇺, 🇸, 👊]</td>\n      <td>8</td>\n      <td>[0, 0, 0, 0, 0, 0, 0, 0, 0, 0, 0, 0, 0, 0, 0, ...</td>\n      <td>0</td>\n    </tr>\n    <tr>\n      <th>3</th>\n      <td>62688</td>\n      <td>@USER Someone should'veTaken\" this piece of sh...</td>\n      <td>OFF</td>\n      <td>UNT</td>\n      <td>NaN</td>\n      <td>(@USER, Someone, should'veTaken, \", this, piec...</td>\n      <td>[should'vetaken, piece, shit, volcano, 😂]</td>\n      <td>5</td>\n      <td>[0, 0, 0, 0, 0, 0, 0, 0, 0, 0, 0, 0, 0, 0, 0, ...</td>\n      <td>1</td>\n    </tr>\n    <tr>\n      <th>5</th>\n      <td>97670</td>\n      <td>@USER Liberals are all Kookoo !!!</td>\n      <td>OFF</td>\n      <td>TIN</td>\n      <td>OTH</td>\n      <td>(@USER, Liberals, are, all, Kookoo, !, !, !)</td>\n      <td>[liberal, Kookoo]</td>\n      <td>2</td>\n      <td>[0, 0, 0, 0, 0, 0, 0, 0, 0, 0, 0, 0, 0, 0, 0, ...</td>\n      <td>0</td>\n    </tr>\n    <tr>\n      <th>6</th>\n      <td>77444</td>\n      <td>@USER @USER Oh noes! Tough shit.</td>\n      <td>OFF</td>\n      <td>UNT</td>\n      <td>NaN</td>\n      <td>(@USER, @USER, Oh, noes, !, Tough, shit, .)</td>\n      <td>[oh, no, tough, shit]</td>\n      <td>4</td>\n      <td>[0, 0, 0, 0, 0, 0, 0, 0, 0, 0, 0, 0, 0, 0, 0, ...</td>\n      <td>1</td>\n    </tr>\n    <tr>\n      <th>...</th>\n      <td>...</td>\n      <td>...</td>\n      <td>...</td>\n      <td>...</td>\n      <td>...</td>\n      <td>...</td>\n      <td>...</td>\n      <td>...</td>\n      <td>...</td>\n      <td>...</td>\n    </tr>\n    <tr>\n      <th>13223</th>\n      <td>63482</td>\n      <td>@USER is advocating for conduct within bounds ...</td>\n      <td>OFF</td>\n      <td>TIN</td>\n      <td>GRP</td>\n      <td>(@USER, is, advocating, for, conduct, within, ...</td>\n      <td>[advocate, conduct, bound, Human, Rights, terr...</td>\n      <td>23</td>\n      <td>[0, 0, 0, 0, 0, 0, 0, 0, 0, 0, 0, 0, 0, 0, 0, ...</td>\n      <td>0</td>\n    </tr>\n    <tr>\n      <th>13227</th>\n      <td>87416</td>\n      <td>@USER @USER @USER @USER Liars like the Antifa ...</td>\n      <td>OFF</td>\n      <td>TIN</td>\n      <td>GRP</td>\n      <td>(@USER, @USER, @USER, @USER, Liars, like, the,...</td>\n      <td>[liar, like, Antifa, twin, vigorously, defend]</td>\n      <td>6</td>\n      <td>[0, 0, 0, 0, 0, 0, 0, 0, 0, 0, 0, 0, 0, 0, 0, ...</td>\n      <td>0</td>\n    </tr>\n    <tr>\n      <th>13235</th>\n      <td>95338</td>\n      <td>@USER Sometimes I get strong vibes from people...</td>\n      <td>OFF</td>\n      <td>TIN</td>\n      <td>IND</td>\n      <td>(@USER, Sometimes, I, get, strong, vibes, from...</td>\n      <td>[strong, vibe, people, man, vibe, ten, million...</td>\n      <td>10</td>\n      <td>[0, 0, 0, 0, 0, 0, 0, 0, 0, 0, 0, 0, 0, 0, 0, ...</td>\n      <td>0</td>\n    </tr>\n    <tr>\n      <th>13237</th>\n      <td>82921</td>\n      <td>@USER And why report this garbage.  We don't g...</td>\n      <td>OFF</td>\n      <td>TIN</td>\n      <td>OTH</td>\n      <td>(@USER, And, why, report, this, garbage, .,  ,...</td>\n      <td>[report, garbage, crap]</td>\n      <td>3</td>\n      <td>[0, 0, 0, 0, 0, 0, 0, 0, 0, 0, 0, 0, 0, 0, 0, ...</td>\n      <td>0</td>\n    </tr>\n    <tr>\n      <th>13238</th>\n      <td>27429</td>\n      <td>@USER Pussy</td>\n      <td>OFF</td>\n      <td>UNT</td>\n      <td>NaN</td>\n      <td>(@USER, Pussy)</td>\n      <td>[Pussy]</td>\n      <td>1</td>\n      <td>[0, 0, 0, 0, 0, 0, 0, 0, 0, 0, 0, 0, 0, 0, 0, ...</td>\n      <td>1</td>\n    </tr>\n  </tbody>\n</table>\n<p>4400 rows × 10 columns</p>\n</div>"
     },
     "execution_count": 67,
     "metadata": {},
     "output_type": "execute_result"
    }
   ],
   "source": [
    "tweets"
   ]
  },
  {
   "cell_type": "code",
   "execution_count": 68,
   "metadata": {
    "collapsed": false,
    "jupyter": {
     "outputs_hidden": false
    },
    "pycharm": {
     "name": "#%%\n"
    }
   },
   "outputs": [
    {
     "data": {
      "text/plain": "id                                                           86426\ntweet            @USER She should ask a few native Americans wh...\nsubtask_a                                                      OFF\nsubtask_b                                                      UNT\nsubtask_c                                                      NaN\ntokens           (@USER, She, should, ask, a, few, native, Amer...\nlemmas                                    [ask, native, Americans]\nlength_lemmas                                                    3\nnumbers          [0, 0, 0, 0, 0, 0, 0, 0, 0, 0, 0, 0, 0, 0, 0, ...\nlabels_b                                                         1\nName: 0, dtype: object"
     },
     "execution_count": 68,
     "metadata": {},
     "output_type": "execute_result"
    }
   ],
   "source": [
    "tweets.iloc[0]"
   ]
  },
  {
   "cell_type": "code",
   "execution_count": 69,
   "metadata": {
    "collapsed": false,
    "jupyter": {
     "outputs_hidden": false
    },
    "pycharm": {
     "name": "#%%\n"
    }
   },
   "outputs": [],
   "source": [
    "y_train = tweets['labels_b'].values"
   ]
  },
  {
   "cell_type": "code",
   "execution_count": 70,
   "metadata": {
    "collapsed": false,
    "jupyter": {
     "outputs_hidden": false
    },
    "pycharm": {
     "name": "#%%\n"
    }
   },
   "outputs": [],
   "source": [
    "y_train = torch.tensor(y_train).reshape(-1,1)"
   ]
  },
  {
   "cell_type": "code",
   "execution_count": 71,
   "metadata": {
    "collapsed": false,
    "jupyter": {
     "outputs_hidden": false
    },
    "pycharm": {
     "name": "#%%\n"
    }
   },
   "outputs": [
    {
     "data": {
      "text/plain": "tensor([[1],\n        [0],\n        [1],\n        [0],\n        [1]], dtype=torch.int8)"
     },
     "execution_count": 71,
     "metadata": {},
     "output_type": "execute_result"
    }
   ],
   "source": [
    "y_train[:5]"
   ]
  },
  {
   "cell_type": "code",
   "execution_count": 72,
   "metadata": {
    "collapsed": false,
    "jupyter": {
     "outputs_hidden": false
    },
    "pycharm": {
     "name": "#%%\n"
    }
   },
   "outputs": [],
   "source": [
    "data = torch.cat((X_train, y_train), axis=1)"
   ]
  },
  {
   "cell_type": "code",
   "execution_count": 73,
   "metadata": {
    "collapsed": false,
    "jupyter": {
     "outputs_hidden": false
    },
    "pycharm": {
     "name": "#%%\n"
    }
   },
   "outputs": [],
   "source": [
    "data = data.to(device)"
   ]
  },
  {
   "cell_type": "code",
   "execution_count": 73,
   "metadata": {
    "collapsed": false,
    "jupyter": {
     "outputs_hidden": false
    },
    "pycharm": {
     "name": "#%%\n"
    }
   },
   "outputs": [],
   "source": [
    "\n"
   ]
  },
  {
   "cell_type": "markdown",
   "metadata": {
    "pycharm": {
     "name": "#%% md\n"
    }
   },
   "source": [
    "## Opracowywanie danych testowych"
   ]
  },
  {
   "cell_type": "code",
   "execution_count": 74,
   "metadata": {
    "collapsed": false,
    "jupyter": {
     "outputs_hidden": false
    },
    "pycharm": {
     "name": "#%%\n"
    }
   },
   "outputs": [],
   "source": [
    "dict_lemmas = convert_words_to_numbers(test_b['lemmas'], dict_lemmas)"
   ]
  },
  {
   "cell_type": "code",
   "execution_count": 75,
   "metadata": {
    "collapsed": false,
    "jupyter": {
     "outputs_hidden": false
    },
    "pycharm": {
     "name": "#%%\n"
    }
   },
   "outputs": [
    {
     "data": {
      "text/plain": "['$',\n \"'cause\",\n \"'em\",\n '+',\n '-Antifa',\n '-Awkward',\n '-Bill',\n '-GOP',\n '-Human',\n '-I']"
     },
     "execution_count": 75,
     "metadata": {},
     "output_type": "execute_result"
    }
   ],
   "source": [
    "sorted(dict_lemmas)[:10]"
   ]
  },
  {
   "cell_type": "code",
   "execution_count": 76,
   "metadata": {
    "collapsed": false,
    "jupyter": {
     "outputs_hidden": false
    },
    "pycharm": {
     "name": "#%%\n"
    }
   },
   "outputs": [],
   "source": [
    "# zamiana lematu na liczbe ze slownika ktory odpowiada danemu slowu\n",
    "test_b['numbers'] = test_b['lemmas'].apply(lambda row : lemmas_to_numbers(row, max_width, dict_lemmas))"
   ]
  },
  {
   "cell_type": "code",
   "execution_count": 77,
   "metadata": {
    "collapsed": false,
    "jupyter": {
     "outputs_hidden": false
    },
    "pycharm": {
     "name": "#%%\n"
    }
   },
   "outputs": [
    {
     "data": {
      "text/plain": "0    [WhoIsQ, wherestheserver, DumpNike, DECLASFISA...\n1    [NoPasaran, unity, demo, oppose, far, right, L...\n2                                         [fuck, time]\n3                    [feeling, kiss, humiliate, later]\n4                               [Nigga, ware, da, hit]\nName: lemmas, dtype: object"
     },
     "execution_count": 77,
     "metadata": {},
     "output_type": "execute_result"
    }
   ],
   "source": [
    "test_b['lemmas'].head()"
   ]
  },
  {
   "cell_type": "code",
   "execution_count": 78,
   "metadata": {
    "collapsed": false,
    "jupyter": {
     "outputs_hidden": false
    },
    "pycharm": {
     "name": "#%%\n"
    }
   },
   "outputs": [
    {
     "data": {
      "text/plain": "0    [0, 0, 0, 0, 0, 0, 0, 0, 0, 0, 0, 0, 0, 0, 0, ...\n1    [0, 0, 0, 0, 0, 0, 0, 0, 0, 0, 0, 0, 0, 0, 0, ...\n2    [0, 0, 0, 0, 0, 0, 0, 0, 0, 0, 0, 0, 0, 0, 0, ...\n3    [0, 0, 0, 0, 0, 0, 0, 0, 0, 0, 0, 0, 0, 0, 0, ...\n4    [0, 0, 0, 0, 0, 0, 0, 0, 0, 0, 0, 0, 0, 0, 0, ...\n5    [0, 0, 0, 0, 0, 0, 0, 0, 0, 0, 0, 0, 0, 0, 0, ...\nName: numbers, dtype: object"
     },
     "execution_count": 78,
     "metadata": {},
     "output_type": "execute_result"
    }
   ],
   "source": [
    "test_b.loc[:5, 'numbers']"
   ]
  },
  {
   "cell_type": "code",
   "execution_count": 78,
   "metadata": {
    "collapsed": false,
    "jupyter": {
     "outputs_hidden": false
    },
    "pycharm": {
     "name": "#%%\n"
    }
   },
   "outputs": [],
   "source": []
  },
  {
   "cell_type": "markdown",
   "metadata": {
    "pycharm": {
     "name": "#%% md\n"
    }
   },
   "source": [
    "### Robienie tego samego procesu co wcześniej dla danych testowych\n"
   ]
  },
  {
   "cell_type": "code",
   "execution_count": 79,
   "metadata": {
    "collapsed": false,
    "jupyter": {
     "outputs_hidden": false
    },
    "pycharm": {
     "name": "#%%\n"
    }
   },
   "outputs": [],
   "source": [
    "X_test = test_b['numbers'].values"
   ]
  },
  {
   "cell_type": "code",
   "execution_count": 80,
   "metadata": {
    "collapsed": false,
    "jupyter": {
     "outputs_hidden": false
    },
    "pycharm": {
     "name": "#%%\n"
    }
   },
   "outputs": [],
   "source": [
    "X_test = np.stack(X_test)"
   ]
  },
  {
   "cell_type": "code",
   "execution_count": 81,
   "metadata": {
    "collapsed": false,
    "jupyter": {
     "outputs_hidden": false
    },
    "pycharm": {
     "name": "#%%\n"
    }
   },
   "outputs": [],
   "source": [
    "X_test = torch.FloatTensor(X_test)"
   ]
  },
  {
   "cell_type": "code",
   "execution_count": 82,
   "metadata": {
    "collapsed": false,
    "jupyter": {
     "outputs_hidden": false
    },
    "pycharm": {
     "name": "#%%\n"
    }
   },
   "outputs": [],
   "source": [
    "# cat_cols = ['subtask_a', 'subtask_b', 'subtask_c']\n",
    "# for col in cat_cols:\n",
    "#     X_test[col] = X_test[col].astype('category')"
   ]
  },
  {
   "cell_type": "code",
   "execution_count": 83,
   "metadata": {
    "collapsed": false,
    "jupyter": {
     "outputs_hidden": false
    },
    "pycharm": {
     "name": "#%%\n"
    }
   },
   "outputs": [],
   "source": [
    "test_b['subtask_b'] = test_b['subtask_b'].astype('category')"
   ]
  },
  {
   "cell_type": "code",
   "execution_count": 84,
   "metadata": {
    "collapsed": false,
    "jupyter": {
     "outputs_hidden": false
    },
    "pycharm": {
     "name": "#%%\n"
    }
   },
   "outputs": [],
   "source": [
    "test_b['labels_b'] = test_b['subtask_b'].cat.codes"
   ]
  },
  {
   "cell_type": "code",
   "execution_count": 85,
   "metadata": {
    "collapsed": false,
    "jupyter": {
     "outputs_hidden": false
    },
    "pycharm": {
     "name": "#%%\n"
    }
   },
   "outputs": [
    {
     "data": {
      "text/plain": "0      0\n1      0\n2      0\n3      0\n4      1\n      ..\n96     0\n97     0\n98     0\n99     0\n100    0\nName: labels_b, Length: 101, dtype: int8"
     },
     "execution_count": 85,
     "metadata": {},
     "output_type": "execute_result"
    }
   ],
   "source": [
    "# OFFENSIVE jest jako 1, a NOT OFFENSIVE jest jako 0\n",
    "test_b.loc[:100, 'labels_b']"
   ]
  },
  {
   "cell_type": "markdown",
   "metadata": {},
   "source": []
  },
  {
   "cell_type": "code",
   "execution_count": 86,
   "metadata": {
    "collapsed": false,
    "jupyter": {
     "outputs_hidden": false
    },
    "pycharm": {
     "name": "#%%\n"
    }
   },
   "outputs": [],
   "source": [
    "y_test = test_b['labels_b'].values"
   ]
  },
  {
   "cell_type": "code",
   "execution_count": 87,
   "metadata": {
    "collapsed": false,
    "jupyter": {
     "outputs_hidden": false
    },
    "pycharm": {
     "name": "#%%\n"
    }
   },
   "outputs": [],
   "source": [
    "y_test = torch.tensor(y_test).reshape(-1,1)"
   ]
  },
  {
   "cell_type": "code",
   "execution_count": 88,
   "metadata": {
    "collapsed": false,
    "jupyter": {
     "outputs_hidden": false
    },
    "pycharm": {
     "name": "#%%\n"
    }
   },
   "outputs": [
    {
     "data": {
      "text/plain": "tensor([[0],\n        [0],\n        [0],\n        [0],\n        [1]], dtype=torch.int8)"
     },
     "execution_count": 88,
     "metadata": {},
     "output_type": "execute_result"
    }
   ],
   "source": [
    "y_test[:5]"
   ]
  },
  {
   "cell_type": "code",
   "execution_count": 89,
   "metadata": {
    "collapsed": false,
    "jupyter": {
     "outputs_hidden": false
    },
    "pycharm": {
     "name": "#%%\n"
    }
   },
   "outputs": [],
   "source": [
    "data_test_b = torch.cat((X_test, y_test), axis=1)"
   ]
  },
  {
   "cell_type": "code",
   "execution_count": 90,
   "metadata": {
    "collapsed": false,
    "jupyter": {
     "outputs_hidden": false
    },
    "pycharm": {
     "name": "#%%\n"
    }
   },
   "outputs": [],
   "source": [
    "data_test_b = data_test_b.to(device)"
   ]
  },
  {
   "cell_type": "markdown",
   "source": [
    "#### sprawdzanie czy etykiety są tak samo przydzielone liczbom w danych testowych i treningowych"
   ],
   "metadata": {
    "collapsed": false,
    "pycharm": {
     "name": "#%% md\n"
    }
   }
  },
  {
   "cell_type": "code",
   "execution_count": 91,
   "outputs": [
    {
     "data": {
      "text/plain": "  subtask_b  labels_b\n0       UNT         1\n1       TIN         0",
      "text/html": "<div>\n<style scoped>\n    .dataframe tbody tr th:only-of-type {\n        vertical-align: middle;\n    }\n\n    .dataframe tbody tr th {\n        vertical-align: top;\n    }\n\n    .dataframe thead th {\n        text-align: right;\n    }\n</style>\n<table border=\"1\" class=\"dataframe\">\n  <thead>\n    <tr style=\"text-align: right;\">\n      <th></th>\n      <th>subtask_b</th>\n      <th>labels_b</th>\n    </tr>\n  </thead>\n  <tbody>\n    <tr>\n      <th>0</th>\n      <td>UNT</td>\n      <td>1</td>\n    </tr>\n    <tr>\n      <th>1</th>\n      <td>TIN</td>\n      <td>0</td>\n    </tr>\n  </tbody>\n</table>\n</div>"
     },
     "execution_count": 91,
     "metadata": {},
     "output_type": "execute_result"
    }
   ],
   "source": [
    "tweets.loc[[0,1], ['subtask_b', 'labels_b']]"
   ],
   "metadata": {
    "collapsed": false,
    "pycharm": {
     "name": "#%%\n"
    }
   }
  },
  {
   "cell_type": "code",
   "execution_count": 191,
   "metadata": {},
   "outputs": [
    {
     "data": {
      "text/plain": "  subtask_b  labels_b\n0       TIN         0\n4       UNT         1",
      "text/html": "<div>\n<style scoped>\n    .dataframe tbody tr th:only-of-type {\n        vertical-align: middle;\n    }\n\n    .dataframe tbody tr th {\n        vertical-align: top;\n    }\n\n    .dataframe thead th {\n        text-align: right;\n    }\n</style>\n<table border=\"1\" class=\"dataframe\">\n  <thead>\n    <tr style=\"text-align: right;\">\n      <th></th>\n      <th>subtask_b</th>\n      <th>labels_b</th>\n    </tr>\n  </thead>\n  <tbody>\n    <tr>\n      <th>0</th>\n      <td>TIN</td>\n      <td>0</td>\n    </tr>\n    <tr>\n      <th>4</th>\n      <td>UNT</td>\n      <td>1</td>\n    </tr>\n  </tbody>\n</table>\n</div>"
     },
     "execution_count": 191,
     "metadata": {},
     "output_type": "execute_result"
    }
   ],
   "source": [
    "test_b.loc[[0,4], ['subtask_b', 'labels_b']]"
   ]
  },
  {
   "cell_type": "markdown",
   "metadata": {
    "pycharm": {
     "name": "#%% md\n"
    }
   },
   "source": [
    "## Generowanie embedingów na podstawie embedingów ze spacy"
   ]
  },
  {
   "cell_type": "code",
   "execution_count": 93,
   "metadata": {
    "collapsed": false,
    "jupyter": {
     "outputs_hidden": false
    },
    "pycharm": {
     "name": "#%%\n"
    }
   },
   "outputs": [],
   "source": [
    "embeddings = []"
   ]
  },
  {
   "cell_type": "code",
   "execution_count": 94,
   "metadata": {
    "collapsed": false,
    "jupyter": {
     "outputs_hidden": false
    },
    "pycharm": {
     "name": "#%%\n"
    }
   },
   "outputs": [],
   "source": [
    "embeddings.append(np.zeros(96))"
   ]
  },
  {
   "cell_type": "code",
   "execution_count": 95,
   "metadata": {
    "collapsed": false,
    "jupyter": {
     "outputs_hidden": false
    },
    "pycharm": {
     "name": "#%%\n"
    }
   },
   "outputs": [],
   "source": [
    "for key, value in dict_lemmas.items():\n",
    "    embeddings.append(nlp(key)[0].vector)\n",
    "    # print(key)"
   ]
  },
  {
   "cell_type": "code",
   "execution_count": 96,
   "metadata": {
    "collapsed": false,
    "jupyter": {
     "outputs_hidden": false
    },
    "pycharm": {
     "name": "#%%\n"
    }
   },
   "outputs": [],
   "source": [
    "# embeddings"
   ]
  },
  {
   "cell_type": "code",
   "execution_count": 97,
   "metadata": {
    "collapsed": false,
    "jupyter": {
     "outputs_hidden": false
    },
    "pycharm": {
     "name": "#%%\n"
    }
   },
   "outputs": [
    {
     "data": {
      "text/plain": "10528"
     },
     "execution_count": 97,
     "metadata": {},
     "output_type": "execute_result"
    }
   ],
   "source": [
    "len(dict_lemmas)"
   ]
  },
  {
   "cell_type": "code",
   "execution_count": 98,
   "metadata": {
    "collapsed": false,
    "jupyter": {
     "outputs_hidden": false
    },
    "pycharm": {
     "name": "#%%\n"
    }
   },
   "outputs": [],
   "source": [
    "dict_lemmas_inverted = {v: k for k, v in dict_lemmas.items()}"
   ]
  },
  {
   "cell_type": "code",
   "execution_count": 99,
   "metadata": {
    "collapsed": false,
    "jupyter": {
     "outputs_hidden": false
    },
    "pycharm": {
     "name": "#%%\n"
    }
   },
   "outputs": [],
   "source": [
    "# dict_lemmas_inverted"
   ]
  },
  {
   "cell_type": "code",
   "execution_count": 100,
   "metadata": {
    "collapsed": false,
    "jupyter": {
     "outputs_hidden": false
    },
    "pycharm": {
     "name": "#%%\n"
    }
   },
   "outputs": [
    {
     "name": "stdout",
     "output_type": "stream",
     "text": [
      "finished\n"
     ]
    }
   ],
   "source": [
    "# sprawdzanie embeddingów - czy się dobrze zapisały\n",
    "for key, value in dict_lemmas.items():\n",
    "    comparison = embeddings[value] == nlp(key)[0].vector\n",
    "    if comparison.all() == False:\n",
    "        print('false')\n",
    "\n",
    "print('finished')\n"
   ]
  },
  {
   "cell_type": "code",
   "execution_count": 101,
   "metadata": {
    "collapsed": false,
    "jupyter": {
     "outputs_hidden": false
    },
    "pycharm": {
     "name": "#%%\n"
    }
   },
   "outputs": [
    {
     "data": {
      "text/plain": "array([-0.676073  ,  0.09062457, -0.19625556,  0.9512366 ,  0.7504209 ,\n        1.1548312 ,  1.0129769 , -0.8388504 , -1.1186899 ,  0.71350086],\n      dtype=float32)"
     },
     "execution_count": 101,
     "metadata": {},
     "output_type": "execute_result"
    }
   ],
   "source": [
    "embeddings[1][:10]"
   ]
  },
  {
   "cell_type": "code",
   "execution_count": 102,
   "metadata": {
    "collapsed": false,
    "jupyter": {
     "outputs_hidden": false
    },
    "pycharm": {
     "name": "#%%\n"
    }
   },
   "outputs": [],
   "source": [
    "emb_torch = torch.tensor(embeddings, dtype=torch.float32, device=device)"
   ]
  },
  {
   "cell_type": "code",
   "execution_count": 103,
   "metadata": {
    "collapsed": false,
    "jupyter": {
     "outputs_hidden": false
    },
    "pycharm": {
     "name": "#%%\n"
    }
   },
   "outputs": [
    {
     "data": {
      "text/plain": "torch.Size([10529, 96])"
     },
     "execution_count": 103,
     "metadata": {},
     "output_type": "execute_result"
    }
   ],
   "source": [
    "emb_torch.shape"
   ]
  },
  {
   "cell_type": "markdown",
   "metadata": {},
   "source": [
    "## Definiowanie modelu"
   ]
  },
  {
   "cell_type": "code",
   "execution_count": 104,
   "metadata": {
    "collapsed": false,
    "jupyter": {
     "outputs_hidden": false
    },
    "pycharm": {
     "name": "#%%\n"
    }
   },
   "outputs": [],
   "source": [
    "class Model(nn.Module):\n",
    "    def __init__(self, emb_vectors, in_features=18, h1=80, h2=50, h3=None, embedding_dim=None, out_features=1):\n",
    "        super().__init__()\n",
    "\n",
    "        # warstwa embeddingów wczytująca embeddingi przekazane przy tworzeniu modelu\n",
    "        self.embedding = nn.Embedding.from_pretrained(emb_vectors)\n",
    "\n",
    "        # self.embedding = nn.Embedding(vocab_size, embedding_dim)\n",
    "\n",
    "        # dropout layer - losowe pomijanie uczenia się pewnych neuronów\n",
    "        self.dropout = nn.Dropout(0.3)\n",
    "\n",
    "        self.fc1 = nn.Linear(embedding_dim * in_features, h1)\n",
    "        self.fc2 = nn.Linear(h1, h2)\n",
    "        if h3 is None:\n",
    "            self.out = nn.Linear(h2, out_features)\n",
    "        # self.sig = nn.Sigmoid()\n",
    "        else:\n",
    "            self.fc3 = nn.Linear(h2, h3)\n",
    "            self.out = nn.Linear(h3, out_features)\n",
    "\n",
    "\n",
    "    def forward(self, x):\n",
    "        # print(x.shape)\n",
    "        x = x.long()\n",
    "        # print(x.shape)\n",
    "        embeds = self.embedding(x)\n",
    "        \n",
    "        # print(embeds.shape)\n",
    "        embeds = embeds.view(embeds.shape[0], -1)\n",
    "        # print(embeds.shape)\n",
    "        x = torch.sigmoid(self.fc1(embeds))\n",
    "        \n",
    "        x = self.dropout(x)\n",
    "        \n",
    "        # x = self.dropout(x)\n",
    "\n",
    "        x = torch.sigmoid(self.fc2(x))\n",
    "        x = self.dropout(x)\n",
    "\n",
    "        if h3 is not None:\n",
    "            x = torch.sigmoid(self.fc3(x))\n",
    "            x = self.dropout(x)\n",
    "        x = torch.sigmoid(self.out(x))\n",
    "\n",
    "        return x"
   ]
  },
  {
   "cell_type": "markdown",
   "metadata": {},
   "source": [
    "## Ustawnia modelu i sieci"
   ]
  },
  {
   "cell_type": "code",
   "execution_count": 105,
   "metadata": {
    "collapsed": false,
    "jupyter": {
     "outputs_hidden": false
    },
    "pycharm": {
     "name": "#%%\n"
    }
   },
   "outputs": [
    {
     "name": "stdout",
     "output_type": "stream",
     "text": [
      "max width: 73\n"
     ]
    }
   ],
   "source": [
    "print('max width: 73')"
   ]
  },
  {
   "cell_type": "code",
   "execution_count": 226,
   "metadata": {
    "collapsed": false,
    "jupyter": {
     "outputs_hidden": false
    },
    "pycharm": {
     "name": "#%%\n"
    }
   },
   "outputs": [],
   "source": [
    "epochs = 100\n",
    "learning_rate = 0.005\n",
    "batch_size = 500\n",
    "vocab_size = len(dict_lemmas) + 1\n",
    "embedding_dim = emb_torch.shape[1]\n",
    "h1 = 2\n",
    "h2 = 3\n",
    "h3 = None"
   ]
  },
  {
   "cell_type": "code",
   "execution_count": 227,
   "metadata": {
    "collapsed": false,
    "jupyter": {
     "outputs_hidden": false
    },
    "pycharm": {
     "name": "#%%\n"
    }
   },
   "outputs": [],
   "source": [
    "train_dataset_loader = torch.utils.data.DataLoader(data, batch_size=batch_size, shuffle=True)\n",
    "test_dataset_loader_b = torch.utils.data.DataLoader(data_test_b, batch_size=batch_size, shuffle=True)"
   ]
  },
  {
   "cell_type": "markdown",
   "metadata": {
    "pycharm": {
     "name": "#%% md\n"
    }
   },
   "source": [
    "## Tworzenie instancji modelu\n",
    "Ustawianie funkcji straty i optymalizatora"
   ]
  },
  {
   "cell_type": "code",
   "execution_count": 228,
   "metadata": {
    "collapsed": false,
    "jupyter": {
     "outputs_hidden": false
    },
    "pycharm": {
     "name": "#%%\n"
    }
   },
   "outputs": [],
   "source": [
    "# tworzenie numpy array z listy liczb (odpowiadających lematom)"
   ]
  },
  {
   "cell_type": "code",
   "execution_count": 229,
   "metadata": {
    "collapsed": false,
    "jupyter": {
     "outputs_hidden": false
    },
    "pycharm": {
     "name": "#%%\n"
    }
   },
   "outputs": [
    {
     "data": {
      "text/plain": "40"
     },
     "execution_count": 229,
     "metadata": {},
     "output_type": "execute_result"
    }
   ],
   "source": [
    "max_width"
   ]
  },
  {
   "cell_type": "code",
   "execution_count": 230,
   "metadata": {
    "collapsed": false,
    "jupyter": {
     "outputs_hidden": false
    },
    "pycharm": {
     "name": "#%%\n"
    }
   },
   "outputs": [],
   "source": [
    "torch.manual_seed(32)\n",
    "model = Model(emb_torch, max_width, h1, h2, h3, embedding_dim)"
   ]
  },
  {
   "cell_type": "code",
   "execution_count": 231,
   "metadata": {
    "collapsed": false,
    "jupyter": {
     "outputs_hidden": false
    },
    "pycharm": {
     "name": "#%%\n"
    }
   },
   "outputs": [],
   "source": [
    "model = model.to(device)"
   ]
  },
  {
   "cell_type": "code",
   "execution_count": 232,
   "metadata": {
    "collapsed": false,
    "jupyter": {
     "outputs_hidden": false
    },
    "pycharm": {
     "name": "#%%\n"
    }
   },
   "outputs": [],
   "source": [
    "criterion = nn.BCELoss()\n",
    "optimizer = torch.optim.Adam(model.parameters(), lr=learning_rate)"
   ]
  },
  {
   "cell_type": "code",
   "execution_count": 233,
   "metadata": {
    "collapsed": false,
    "jupyter": {
     "outputs_hidden": false
    },
    "pycharm": {
     "name": "#%%\n"
    }
   },
   "outputs": [
    {
     "data": {
      "text/plain": "Model(\n  (embedding): Embedding(10529, 96)\n  (dropout): Dropout(p=0.3, inplace=False)\n  (fc1): Linear(in_features=3840, out_features=2, bias=True)\n  (fc2): Linear(in_features=2, out_features=3, bias=True)\n  (out): Linear(in_features=3, out_features=1, bias=True)\n)"
     },
     "execution_count": 233,
     "metadata": {},
     "output_type": "execute_result"
    }
   ],
   "source": [
    "model"
   ]
  },
  {
   "cell_type": "markdown",
   "metadata": {
    "pycharm": {
     "name": "#%% md\n"
    }
   },
   "source": [
    "### Ustawianie nauki sieci i samo uczenie się"
   ]
  },
  {
   "cell_type": "code",
   "execution_count": 234,
   "metadata": {
    "collapsed": false,
    "jupyter": {
     "outputs_hidden": false
    },
    "pycharm": {
     "name": "#%%\n"
    }
   },
   "outputs": [],
   "source": [
    "losses = []\n",
    "losses_test = []\n",
    "accuracy = []\n",
    "accuracy_test = []\n",
    "train_count = len(tweets)\n",
    "test_count_a = len(test_b)"
   ]
  },
  {
   "cell_type": "code",
   "execution_count": 235,
   "outputs": [],
   "source": [
    "save_every_epoch = int(epochs/10)\n",
    "losses_imp = []\n",
    "losses_test_imp = []\n",
    "accuracy_imp = []\n",
    "accuracy_test_imp = []"
   ],
   "metadata": {
    "collapsed": false,
    "pycharm": {
     "name": "#%%\n"
    }
   }
  },
  {
   "cell_type": "code",
   "execution_count": 236,
   "metadata": {
    "collapsed": false,
    "jupyter": {
     "outputs_hidden": false
    },
    "pycharm": {
     "name": "#%%\n"
    }
   },
   "outputs": [
    {
     "name": "stdout",
     "output_type": "stream",
     "text": [
      "Loss on the first batch: 1.1654714345932007\n",
      "Loss on the first batch on test data: 1.0880898237228394\n",
      "torch.Size([])\n",
      " epoch: 0 | loss: 0.0022950558228926224 | predicted: 524 |accuracy: 11.909090995788574 | test loss: 0.004533707598845164 | predicted: 27 | test accuracy: 11.250000953674316\n",
      " epoch: 1 | loss: 0.0021441665562716397 | predicted: 524 |accuracy: 11.909090995788574 | test loss: 0.004212685426076253 | predicted: 27 | test accuracy: 11.250000953674316\n",
      " epoch: 2 | loss: 0.002012991254979914 | predicted: 524 |accuracy: 11.909090995788574 | test loss: 0.004009995112816493 | predicted: 27 | test accuracy: 11.250000953674316\n",
      " epoch: 3 | loss: 0.0018923618576743386 | predicted: 524 |accuracy: 11.909090995788574 | test loss: 0.00374000941713651 | predicted: 27 | test accuracy: 11.250000953674316\n",
      " epoch: 4 | loss: 0.001786248358813199 | predicted: 524 |accuracy: 11.909090995788574 | test loss: 0.0035497883955637613 | predicted: 27 | test accuracy: 11.250000953674316\n",
      " epoch: 5 | loss: 0.001686642820184881 | predicted: 524 |accuracy: 11.909090995788574 | test loss: 0.0033245104054609935 | predicted: 27 | test accuracy: 11.250000953674316\n",
      " epoch: 6 | loss: 0.0015954952890222722 | predicted: 524 |accuracy: 11.909090995788574 | test loss: 0.0031462162733078003 | predicted: 52 | test accuracy: 21.666667938232422\n",
      " epoch: 7 | loss: 0.0015103670683774082 | predicted: 1011 |accuracy: 22.977272033691406 | test loss: 0.0030035292108853656 | predicted: 50 | test accuracy: 20.83333396911621\n",
      " epoch: 8 | loss: 0.0014337778091430664 | predicted: 2124 |accuracy: 48.272727966308594 | test loss: 0.0027993351221084596 | predicted: 154 | test accuracy: 64.16667175292969\n",
      " epoch: 9 | loss: 0.0013581588051535867 | predicted: 3018 |accuracy: 68.59091186523438 | test loss: 0.0026688677569230396 | predicted: 196 | test accuracy: 81.66667175292969\n",
      " epoch: 10 | loss: 0.0012913105704567649 | predicted: 3580 |accuracy: 81.36363983154297 | test loss: 0.002545710156361262 | predicted: 197 | test accuracy: 82.08333587646484\n",
      " epoch: 11 | loss: 0.0012320471893657338 | predicted: 3643 |accuracy: 82.79545593261719 | test loss: 0.002422986924648285 | predicted: 201 | test accuracy: 83.75000762939453\n",
      " epoch: 12 | loss: 0.0011770448901436547 | predicted: 3778 |accuracy: 85.86363983154297 | test loss: 0.0023306104044119517 | predicted: 213 | test accuracy: 88.75000762939453\n",
      " epoch: 13 | loss: 0.0011314153671264648 | predicted: 3876 |accuracy: 88.09091186523438 | test loss: 0.0021924952665964763 | predicted: 213 | test accuracy: 88.75000762939453\n",
      " epoch: 14 | loss: 0.0010826041481711648 | predicted: 3876 |accuracy: 88.09091186523438 | test loss: 0.002177656690279643 | predicted: 213 | test accuracy: 88.75000762939453\n",
      " epoch: 15 | loss: 0.0010406750982457941 | predicted: 3876 |accuracy: 88.09091186523438 | test loss: 0.002055918425321579 | predicted: 213 | test accuracy: 88.75000762939453\n",
      " epoch: 16 | loss: 0.0010097220810976896 | predicted: 3876 |accuracy: 88.09091186523438 | test loss: 0.0020088423043489456 | predicted: 213 | test accuracy: 88.75000762939453\n",
      " epoch: 17 | loss: 0.0009727933190085671 | predicted: 3876 |accuracy: 88.09091186523438 | test loss: 0.001953553408384323 | predicted: 213 | test accuracy: 88.75000762939453\n",
      " epoch: 18 | loss: 0.0009481546011838046 | predicted: 3876 |accuracy: 88.09091186523438 | test loss: 0.001897295316060384 | predicted: 213 | test accuracy: 88.75000762939453\n",
      " epoch: 19 | loss: 0.0009221321886236018 | predicted: 3876 |accuracy: 88.09091186523438 | test loss: 0.0018298727770646413 | predicted: 213 | test accuracy: 88.75000762939453\n",
      " epoch: 20 | loss: 0.0009020083058964122 | predicted: 3876 |accuracy: 88.09091186523438 | test loss: 0.0018083829432725906 | predicted: 213 | test accuracy: 88.75000762939453\n",
      " epoch: 21 | loss: 0.0008805236491290006 | predicted: 3876 |accuracy: 88.09091186523438 | test loss: 0.0017732756833235422 | predicted: 213 | test accuracy: 88.75000762939453\n",
      " epoch: 22 | loss: 0.0008706952225078236 | predicted: 3876 |accuracy: 88.09091186523438 | test loss: 0.0017277785887320836 | predicted: 213 | test accuracy: 88.75000762939453\n",
      " epoch: 23 | loss: 0.0008615915883671153 | predicted: 3876 |accuracy: 88.09091186523438 | test loss: 0.001701873540878296 | predicted: 213 | test accuracy: 88.75000762939453\n",
      " epoch: 24 | loss: 0.0008519436012614857 | predicted: 3876 |accuracy: 88.09091186523438 | test loss: 0.001724933832883835 | predicted: 213 | test accuracy: 88.75000762939453\n",
      " epoch: 25 | loss: 0.0008398162234913219 | predicted: 3876 |accuracy: 88.09091186523438 | test loss: 0.0017076919476191202 | predicted: 213 | test accuracy: 88.75000762939453\n",
      " epoch: 26 | loss: 0.0008366079763932661 | predicted: 3876 |accuracy: 88.09091186523438 | test loss: 0.001720424989859263 | predicted: 213 | test accuracy: 88.75000762939453\n",
      " epoch: 27 | loss: 0.0008213813196529041 | predicted: 3876 |accuracy: 88.09091186523438 | test loss: 0.0016199558973312377 | predicted: 213 | test accuracy: 88.75000762939453\n",
      " epoch: 28 | loss: 0.0008204470439390702 | predicted: 3876 |accuracy: 88.09091186523438 | test loss: 0.0016563874979813895 | predicted: 213 | test accuracy: 88.75000762939453\n",
      " epoch: 29 | loss: 0.0008173311840404164 | predicted: 3876 |accuracy: 88.09091186523438 | test loss: 0.001666725551088651 | predicted: 213 | test accuracy: 88.75000762939453\n",
      " epoch: 30 | loss: 0.0008074878020720048 | predicted: 3876 |accuracy: 88.09091186523438 | test loss: 0.0015647348016500473 | predicted: 213 | test accuracy: 88.75000762939453\n",
      " epoch: 31 | loss: 0.0008102379603819414 | predicted: 3876 |accuracy: 88.09091186523438 | test loss: 0.0016277611255645752 | predicted: 213 | test accuracy: 88.75000762939453\n",
      " epoch: 32 | loss: 0.0008112501014362683 | predicted: 3876 |accuracy: 88.09091186523438 | test loss: 0.0016222101946671804 | predicted: 213 | test accuracy: 88.75000762939453\n",
      " epoch: 33 | loss: 0.0007962418686259877 | predicted: 3876 |accuracy: 88.09091186523438 | test loss: 0.0015732002755006155 | predicted: 213 | test accuracy: 88.75000762939453\n",
      " epoch: 34 | loss: 0.0007922186634757302 | predicted: 3876 |accuracy: 88.09091186523438 | test loss: 0.0015797149389982224 | predicted: 213 | test accuracy: 88.75000762939453\n",
      " epoch: 35 | loss: 0.000798399340022694 | predicted: 3876 |accuracy: 88.09091186523438 | test loss: 0.0015515712400277456 | predicted: 213 | test accuracy: 88.75000762939453\n",
      " epoch: 36 | loss: 0.0007964609969745983 | predicted: 3876 |accuracy: 88.09091186523438 | test loss: 0.0015287650128205617 | predicted: 213 | test accuracy: 88.75000762939453\n",
      " epoch: 37 | loss: 0.0007894219593568281 | predicted: 3876 |accuracy: 88.09091186523438 | test loss: 0.0015636075288057328 | predicted: 213 | test accuracy: 88.75000762939453\n",
      " epoch: 38 | loss: 0.000790139761838046 | predicted: 3876 |accuracy: 88.09091186523438 | test loss: 0.0015309087932109833 | predicted: 213 | test accuracy: 88.75000762939453\n",
      " epoch: 39 | loss: 0.0007750804315913807 | predicted: 3876 |accuracy: 88.09091186523438 | test loss: 0.0016329704473416011 | predicted: 213 | test accuracy: 88.75000762939453\n",
      " epoch: 40 | loss: 0.0007918831976977262 | predicted: 3876 |accuracy: 88.09091186523438 | test loss: 0.0015377034743626913 | predicted: 213 | test accuracy: 88.75000762939453\n",
      " epoch: 41 | loss: 0.0007712067257274281 | predicted: 3876 |accuracy: 88.09091186523438 | test loss: 0.0015623047947883606 | predicted: 213 | test accuracy: 88.75000762939453\n",
      " epoch: 42 | loss: 0.0007749708132310347 | predicted: 3876 |accuracy: 88.09091186523438 | test loss: 0.0015913637975851695 | predicted: 213 | test accuracy: 88.75000762939453\n",
      " epoch: 43 | loss: 0.0007746304165233266 | predicted: 3876 |accuracy: 88.09091186523438 | test loss: 0.0015229826172192891 | predicted: 213 | test accuracy: 88.75000762939453\n",
      " epoch: 44 | loss: 0.0007681344314055009 | predicted: 3876 |accuracy: 88.09091186523438 | test loss: 0.001566346858938535 | predicted: 213 | test accuracy: 88.75000762939453\n",
      " epoch: 45 | loss: 0.0007584714889526368 | predicted: 3876 |accuracy: 88.09091186523438 | test loss: 0.0014902004351218542 | predicted: 213 | test accuracy: 88.75000762939453\n",
      " epoch: 46 | loss: 0.0007558739727193659 | predicted: 3876 |accuracy: 88.09091186523438 | test loss: 0.0015159728626410165 | predicted: 213 | test accuracy: 88.75000762939453\n",
      " epoch: 47 | loss: 0.0007564139366149903 | predicted: 3876 |accuracy: 88.09091186523438 | test loss: 0.0015324233720699946 | predicted: 213 | test accuracy: 88.75000762939453\n",
      " epoch: 48 | loss: 0.0007377636974508112 | predicted: 3876 |accuracy: 88.09091186523438 | test loss: 0.0015411620338757833 | predicted: 213 | test accuracy: 88.75000762939453\n",
      " epoch: 49 | loss: 0.0007466684688221325 | predicted: 3876 |accuracy: 88.09091186523438 | test loss: 0.001474140708645185 | predicted: 213 | test accuracy: 88.75000762939453\n",
      " epoch: 50 | loss: 0.0007453916289589621 | predicted: 3876 |accuracy: 88.09091186523438 | test loss: 0.0015063649664322535 | predicted: 213 | test accuracy: 88.75000762939453\n",
      " epoch: 51 | loss: 0.0007410227168690074 | predicted: 3876 |accuracy: 88.09091186523438 | test loss: 0.0015342416862646738 | predicted: 213 | test accuracy: 88.75000762939453\n",
      " epoch: 52 | loss: 0.0007355163314125754 | predicted: 3876 |accuracy: 88.09091186523438 | test loss: 0.001456453651189804 | predicted: 213 | test accuracy: 88.75000762939453\n",
      " epoch: 53 | loss: 0.0007383197004144842 | predicted: 3876 |accuracy: 88.09091186523438 | test loss: 0.0014535332719484964 | predicted: 213 | test accuracy: 88.75000762939453\n",
      " epoch: 54 | loss: 0.0007365589792078191 | predicted: 3876 |accuracy: 88.09091186523438 | test loss: 0.0015781654665867487 | predicted: 213 | test accuracy: 88.75000762939453\n",
      " epoch: 55 | loss: 0.0007317765734412453 | predicted: 3876 |accuracy: 88.09091186523438 | test loss: 0.0015446664144595464 | predicted: 213 | test accuracy: 88.75000762939453\n",
      " epoch: 56 | loss: 0.0007299528880552812 | predicted: 3876 |accuracy: 88.09091186523438 | test loss: 0.0015617173165082931 | predicted: 213 | test accuracy: 88.75000762939453\n",
      " epoch: 57 | loss: 0.0007273223183371804 | predicted: 3876 |accuracy: 88.09091186523438 | test loss: 0.0014665013800064723 | predicted: 213 | test accuracy: 88.75000762939453\n",
      " epoch: 58 | loss: 0.0007206804102117366 | predicted: 3876 |accuracy: 88.09091186523438 | test loss: 0.0015578204145034154 | predicted: 213 | test accuracy: 88.75000762939453\n",
      " epoch: 59 | loss: 0.0007293335416100242 | predicted: 3876 |accuracy: 88.09091186523438 | test loss: 0.001418966179092725 | predicted: 213 | test accuracy: 88.75000762939453\n",
      " epoch: 60 | loss: 0.0007178096337751909 | predicted: 3876 |accuracy: 88.09091186523438 | test loss: 0.001529701923330625 | predicted: 213 | test accuracy: 88.75000762939453\n",
      " epoch: 61 | loss: 0.0007210593873804266 | predicted: 3876 |accuracy: 88.09091186523438 | test loss: 0.001497187465429306 | predicted: 213 | test accuracy: 88.75000762939453\n",
      " epoch: 62 | loss: 0.0007244528423656117 | predicted: 3876 |accuracy: 88.09091186523438 | test loss: 0.0015196514626344044 | predicted: 213 | test accuracy: 88.75000762939453\n",
      " epoch: 63 | loss: 0.0007202597639777444 | predicted: 3876 |accuracy: 88.09091186523438 | test loss: 0.0015317740539709727 | predicted: 213 | test accuracy: 88.75000762939453\n",
      " epoch: 64 | loss: 0.0007209699804132635 | predicted: 3876 |accuracy: 88.09091186523438 | test loss: 0.0015150738259156545 | predicted: 213 | test accuracy: 88.75000762939453\n",
      " epoch: 65 | loss: 0.0007184445316141302 | predicted: 3876 |accuracy: 88.09091186523438 | test loss: 0.001528812696536382 | predicted: 213 | test accuracy: 88.75000762939453\n",
      " epoch: 66 | loss: 0.0007105250792069868 | predicted: 3876 |accuracy: 88.09091186523438 | test loss: 0.0015666066358486811 | predicted: 213 | test accuracy: 88.75000762939453\n",
      " epoch: 67 | loss: 0.0007083912329240279 | predicted: 3876 |accuracy: 88.09091186523438 | test loss: 0.0014558013528585434 | predicted: 213 | test accuracy: 88.75000762939453\n",
      " epoch: 68 | loss: 0.0007070666009729559 | predicted: 3876 |accuracy: 88.09091186523438 | test loss: 0.0015498384833335876 | predicted: 213 | test accuracy: 88.75000762939453\n",
      " epoch: 69 | loss: 0.000705424276265231 | predicted: 3876 |accuracy: 88.09091186523438 | test loss: 0.001504230499267578 | predicted: 213 | test accuracy: 88.75000762939453\n",
      " epoch: 70 | loss: 0.0007249062169681896 | predicted: 3876 |accuracy: 88.09091186523438 | test loss: 0.0015058420598506928 | predicted: 213 | test accuracy: 88.75000762939453\n",
      " epoch: 71 | loss: 0.0007123314250599254 | predicted: 3876 |accuracy: 88.09091186523438 | test loss: 0.0015402520696322123 | predicted: 213 | test accuracy: 88.75000762939453\n",
      " epoch: 72 | loss: 0.0007123115929690275 | predicted: 3876 |accuracy: 88.09091186523438 | test loss: 0.001478533074259758 | predicted: 213 | test accuracy: 88.75000762939453\n",
      " epoch: 73 | loss: 0.000698603174903176 | predicted: 3876 |accuracy: 88.09091186523438 | test loss: 0.0015574907263120016 | predicted: 213 | test accuracy: 88.75000762939453\n",
      " epoch: 74 | loss: 0.0007098300348628651 | predicted: 3876 |accuracy: 88.09091186523438 | test loss: 0.0014274369925260544 | predicted: 213 | test accuracy: 88.75000762939453\n",
      " epoch: 75 | loss: 0.0007146316224878485 | predicted: 3876 |accuracy: 88.09091186523438 | test loss: 0.0015803446372350057 | predicted: 213 | test accuracy: 88.75000762939453\n",
      " epoch: 76 | loss: 0.0006980543244968761 | predicted: 3876 |accuracy: 88.09091186523438 | test loss: 0.0014937584598859151 | predicted: 213 | test accuracy: 88.75000762939453\n",
      " epoch: 77 | loss: 0.0007142570885744962 | predicted: 3876 |accuracy: 88.09091186523438 | test loss: 0.0014995058377583821 | predicted: 213 | test accuracy: 88.75000762939453\n",
      " epoch: 78 | loss: 0.0007025406577370383 | predicted: 3876 |accuracy: 88.09091186523438 | test loss: 0.001531850794951121 | predicted: 213 | test accuracy: 88.75000762939453\n",
      " epoch: 79 | loss: 0.0007127131115306507 | predicted: 3876 |accuracy: 88.09091186523438 | test loss: 0.0015903246899445851 | predicted: 213 | test accuracy: 88.75000762939453\n",
      " epoch: 80 | loss: 0.0007022737914865667 | predicted: 3876 |accuracy: 88.09091186523438 | test loss: 0.0015289048353830973 | predicted: 213 | test accuracy: 88.75000762939453\n",
      " epoch: 81 | loss: 0.0006942583214152943 | predicted: 3876 |accuracy: 88.09091186523438 | test loss: 0.0014400022725264232 | predicted: 213 | test accuracy: 88.75000762939453\n",
      " epoch: 82 | loss: 0.0007034305008974943 | predicted: 3876 |accuracy: 88.09091186523438 | test loss: 0.001462907095750173 | predicted: 213 | test accuracy: 88.75000762939453\n",
      " epoch: 83 | loss: 0.0006895767016844316 | predicted: 3876 |accuracy: 88.09091186523438 | test loss: 0.0014301229268312455 | predicted: 213 | test accuracy: 88.75000762939453\n",
      " epoch: 84 | loss: 0.0007159965146671642 | predicted: 3876 |accuracy: 88.09091186523438 | test loss: 0.001523135354121526 | predicted: 213 | test accuracy: 88.75000762939453\n",
      " epoch: 85 | loss: 0.0007064509391784668 | predicted: 3876 |accuracy: 88.09091186523438 | test loss: 0.001597402368982633 | predicted: 213 | test accuracy: 88.75000762939453\n",
      " epoch: 86 | loss: 0.0007067802819338712 | predicted: 3876 |accuracy: 88.09091186523438 | test loss: 0.0015817597508430482 | predicted: 213 | test accuracy: 88.75000762939453\n",
      " epoch: 87 | loss: 0.0007003673098304055 | predicted: 3876 |accuracy: 88.09091186523438 | test loss: 0.0014778400460879009 | predicted: 213 | test accuracy: 88.75000762939453\n",
      " epoch: 88 | loss: 0.000703737735748291 | predicted: 3876 |accuracy: 88.09091186523438 | test loss: 0.0015243048469225566 | predicted: 213 | test accuracy: 88.75000762939453\n",
      " epoch: 89 | loss: 0.000689292387528853 | predicted: 3876 |accuracy: 88.09091186523438 | test loss: 0.0015127540876468022 | predicted: 213 | test accuracy: 88.75000762939453\n",
      " epoch: 90 | loss: 0.0006954409859397195 | predicted: 3876 |accuracy: 88.09091186523438 | test loss: 0.0015302265683809916 | predicted: 213 | test accuracy: 88.75000762939453\n",
      " epoch: 91 | loss: 0.0006983165849338878 | predicted: 3876 |accuracy: 88.09091186523438 | test loss: 0.0014731680353482564 | predicted: 213 | test accuracy: 88.75000762939453\n",
      " epoch: 92 | loss: 0.000700826265595176 | predicted: 3876 |accuracy: 88.09091186523438 | test loss: 0.001563618580500285 | predicted: 213 | test accuracy: 88.75000762939453\n",
      " epoch: 93 | loss: 0.0007048841498114846 | predicted: 3876 |accuracy: 88.09091186523438 | test loss: 0.001463213935494423 | predicted: 213 | test accuracy: 88.75000762939453\n",
      " epoch: 94 | loss: 0.0006992220336740667 | predicted: 3876 |accuracy: 88.09091186523438 | test loss: 0.0014955004056294758 | predicted: 213 | test accuracy: 88.75000762939453\n",
      " epoch: 95 | loss: 0.0007033180106769908 | predicted: 3876 |accuracy: 88.09091186523438 | test loss: 0.0015740994364023208 | predicted: 213 | test accuracy: 88.75000762939453\n",
      " epoch: 96 | loss: 0.000707831545309587 | predicted: 3876 |accuracy: 88.09091186523438 | test loss: 0.001468908910950025 | predicted: 213 | test accuracy: 88.75000762939453\n",
      " epoch: 97 | loss: 0.0006954023512926969 | predicted: 3876 |accuracy: 88.09091186523438 | test loss: 0.0015670090913772583 | predicted: 213 | test accuracy: 88.75000762939453\n",
      " epoch: 98 | loss: 0.0007007578828118064 | predicted: 3876 |accuracy: 88.09091186523438 | test loss: 0.001559401179353396 | predicted: 213 | test accuracy: 88.75000762939453\n",
      " epoch: 99 | loss: 0.0007041837952353738 | predicted: 3876 |accuracy: 88.09091186523438 | test loss: 0.0014535035938024522 | predicted: 213 | test accuracy: 88.75000762939453\n"
     ]
    }
   ],
   "source": [
    "start_time = time.time()\n",
    "for e in range(epochs):\n",
    "    loss_epoch = torch.empty(0)\n",
    "    correct_epoch = 0\n",
    "\n",
    "    loss_epoch_test = np.empty(0)\n",
    "    correct_epoch_test = 0\n",
    "\n",
    "    for batch_num, batch in enumerate(train_dataset_loader):\n",
    "        X_train = batch[:,:-1]\n",
    "        y_train = batch[:,-1].reshape(-1,1)\n",
    "        y_pred = model.forward(X_train)\n",
    "\n",
    "        loss = criterion(y_pred, y_train)\n",
    "        if (e == 0 and batch_num == 0):\n",
    "            print(f'Loss on the first batch: {loss}')\n",
    "\n",
    "        # print(loss.item())\n",
    "        loss_epoch = np.append(loss_epoch, loss.detach().cpu().numpy())\n",
    "        # losses.append(loss.item())\n",
    "\n",
    "\n",
    "        optimizer.zero_grad()\n",
    "        loss.backward()\n",
    "        optimizer.step()\n",
    "\n",
    "\n",
    "        predicted = torch.round(y_pred)\n",
    "        # print(y_train)\n",
    "        predicted = (predicted == y_train).sum().cpu()\n",
    "        pred_cpu = predicted.cpu()\n",
    "        # print(f'pred_cpu: {pred_cpu}')\n",
    "        correct_epoch += predicted\n",
    "\n",
    "# przechodzenie przez dane testowe\n",
    "    with torch.no_grad():\n",
    "        for batch_num_test, batch_test in enumerate(test_dataset_loader_b):\n",
    "            X_test = batch_test[:,:-1]\n",
    "            y_test = batch_test[:,-1].reshape(-1,1)\n",
    "            y_pred_test = model.forward(X_test)\n",
    "\n",
    "            loss_test = criterion(y_pred_test, y_test)\n",
    "            if (e == 0 and batch_num_test == 0):\n",
    "                print(f'Loss on the first batch on test data: {loss_test}')\n",
    "                print(loss_test.shape)\n",
    "\n",
    "            # print(loss.item())\n",
    "            loss_epoch_test = np.append(loss_epoch_test, loss_test.item())\n",
    "            # print(loss_test)\n",
    "            # losses.append(loss.item())\n",
    "\n",
    "            predicted = torch.round(y_pred_test)\n",
    "            # print(predicted)\n",
    "            # print(y_test)\n",
    "            predicted = (predicted == y_test).sum()\n",
    "            pred_cpu = predicted.cpu()\n",
    "            # print(f'pred_cpu: {pred_cpu}')\n",
    "            correct_epoch_test += predicted\n",
    "\n",
    "        loss_epoch_test = loss_epoch_test.sum() / test_count_a\n",
    "        losses_test.append(loss_epoch_test)\n",
    "        accuracy_epoch_test = correct_epoch_test * 100/test_count_a\n",
    "        accuracy_epoch_test_cpu = accuracy_epoch_test.cpu()\n",
    "        accuracy_test.append(accuracy_epoch_test_cpu)\n",
    "\n",
    "        if e % save_every_epoch == 0:\n",
    "            losses_test_imp.append((e, loss_epoch_test))\n",
    "            accuracy_test_imp.append((e, accuracy_epoch_test_cpu))\n",
    "\n",
    "    loss_epoch = loss_epoch.sum() / train_count\n",
    "    losses.append(loss_epoch)\n",
    "    accuracy_epoch = correct_epoch * 100/train_count\n",
    "    accuracy_epoch_cpu = accuracy_epoch.cpu()\n",
    "    accuracy.append(accuracy_epoch)\n",
    "\n",
    "    if e % save_every_epoch == 0:\n",
    "        losses_imp.append((e, loss_epoch))\n",
    "        accuracy_imp.append((e, accuracy_epoch_cpu))\n",
    "\n",
    "\n",
    "    # print(f'Test accuracy: {correct_epoch.item()}/{train_count} = {correct.item() * 100 / (test_count):7.3f}%')\n",
    "    print(f' epoch: {e} | loss: {loss_epoch} | predicted: {correct_epoch} |' \\\n",
    "            + f'accuracy: {accuracy_epoch} | test loss: {loss_epoch_test} | ' \\\n",
    "            + f'predicted: {correct_epoch_test} | test accuracy: {accuracy_epoch_test}')\n",
    "\n",
    "duration = time.time() - start_time"
   ]
  },
  {
   "cell_type": "markdown",
   "metadata": {
    "pycharm": {
     "name": "#%% md\n"
    }
   },
   "source": [
    "## Rysowanie funkcji straty i accuracy na przestrzeni epok"
   ]
  },
  {
   "cell_type": "code",
   "execution_count": 237,
   "metadata": {
    "collapsed": false,
    "jupyter": {
     "outputs_hidden": false
    },
    "pycharm": {
     "name": "#%%\n"
    }
   },
   "outputs": [
    {
     "data": {
      "text/plain": "<Figure size 1152x504 with 2 Axes>",
      "image/png": "[encoded data removed]"
     },
     "metadata": {
      "needs_background": "light"
     },
     "output_type": "display_data"
    }
   ],
   "source": [
    "## Plot loss functions over epochs\n",
    "\n",
    "fig, (ax1, ax2) = plt.subplots(1, 2, figsize=(16,7))\n",
    "\n",
    "\n",
    "ax1.plot(range(epochs), losses, c='r')\n",
    "ax1.plot(range(epochs), losses_test)\n",
    "ax1.set_title('Losses and epochs')\n",
    "\n",
    "ax2.plot(range(epochs), accuracy, c='r')\n",
    "ax2.plot(range(epochs), accuracy_test)\n",
    "ax2.set_title(\"Accuracy and epochs\")\n",
    "\n",
    "plt.show()"
   ]
  },
  {
   "cell_type": "code",
   "execution_count": 238,
   "metadata": {
    "collapsed": false,
    "jupyter": {
     "outputs_hidden": false
    },
    "pycharm": {
     "name": "#%%\n"
    }
   },
   "outputs": [],
   "source": [
    "# dictionary storing the data\n",
    "summary = {\n",
    "    \"Best\": [min(losses), max(accuracy), min(losses_test), max(accuracy_test)],\n",
    "}"
   ]
  },
  {
   "cell_type": "code",
   "execution_count": 239,
   "outputs": [],
   "source": [
    "for i in range(len(losses_imp)):\n",
    "    tr = 'Training ', losses_imp[i][0]\n",
    "    tt = 'Testing ', losses_test_imp[i][0]\n",
    "    summary[losses_imp[i][0]] = [losses_imp[i][1], accuracy_imp[i][1], losses_test_imp[i][1], accuracy_test_imp[i][1]]"
   ],
   "metadata": {
    "collapsed": false,
    "pycharm": {
     "name": "#%%\n"
    }
   }
  },
  {
   "cell_type": "code",
   "execution_count": 240,
   "outputs": [],
   "source": [
    "# dataframe from dict\n",
    "summary_df = pd.DataFrame.from_dict(summary, orient='index', columns=['Loss', 'Accuracy', 'Loss test', 'Accuracy test'])"
   ],
   "metadata": {
    "collapsed": false,
    "pycharm": {
     "name": "#%%\n"
    }
   }
  },
  {
   "cell_type": "code",
   "execution_count": 241,
   "metadata": {
    "collapsed": false,
    "jupyter": {
     "outputs_hidden": false
    },
    "pycharm": {
     "name": "#%%\n"
    }
   },
   "outputs": [
    {
     "name": "stdout",
     "output_type": "stream",
     "text": [
      "Spacy embeddings\n",
      "Model(\n",
      "  (embedding): Embedding(10529, 96)\n",
      "  (dropout): Dropout(p=0.3, inplace=False)\n",
      "  (fc1): Linear(in_features=3840, out_features=2, bias=True)\n",
      "  (fc2): Linear(in_features=2, out_features=3, bias=True)\n",
      "  (out): Linear(in_features=3, out_features=1, bias=True)\n",
      ")\n",
      "learning_rate:  0.005\n",
      "batch_size:  500\n",
      "time:  3.2288827896118164\n"
     ]
    }
   ],
   "source": [
    "print('Spacy embeddings')\n",
    "print(model)\n",
    "print('learning_rate: ', learning_rate)\n",
    "print('batch_size: ', batch_size)\n",
    "print('time: ', duration)"
   ]
  },
  {
   "cell_type": "code",
   "execution_count": 242,
   "metadata": {
    "collapsed": false,
    "jupyter": {
     "outputs_hidden": false
    },
    "pycharm": {
     "name": "#%%\n"
    }
   },
   "outputs": [
    {
     "data": {
      "text/plain": "          Loss         Accuracy  Loss test    Accuracy test\nBest  0.000689  tensor(88.0909)   0.001419  tensor(88.7500)\n0     0.002295  tensor(11.9091)   0.004534  tensor(11.2500)\n10    0.001291  tensor(81.3636)   0.002546  tensor(82.0833)\n20    0.000902  tensor(88.0909)   0.001808  tensor(88.7500)\n30    0.000807  tensor(88.0909)   0.001565  tensor(88.7500)\n40    0.000792  tensor(88.0909)   0.001538  tensor(88.7500)\n50    0.000745  tensor(88.0909)   0.001506  tensor(88.7500)\n60    0.000718  tensor(88.0909)   0.001530  tensor(88.7500)\n70    0.000725  tensor(88.0909)   0.001506  tensor(88.7500)\n80    0.000702  tensor(88.0909)   0.001529  tensor(88.7500)\n90    0.000695  tensor(88.0909)   0.001530  tensor(88.7500)",
      "text/html": "<div>\n<style scoped>\n    .dataframe tbody tr th:only-of-type {\n        vertical-align: middle;\n    }\n\n    .dataframe tbody tr th {\n        vertical-align: top;\n    }\n\n    .dataframe thead th {\n        text-align: right;\n    }\n</style>\n<table border=\"1\" class=\"dataframe\">\n  <thead>\n    <tr style=\"text-align: right;\">\n      <th></th>\n      <th>Loss</th>\n      <th>Accuracy</th>\n      <th>Loss test</th>\n      <th>Accuracy test</th>\n    </tr>\n  </thead>\n  <tbody>\n    <tr>\n      <th>Best</th>\n      <td>0.000689</td>\n      <td>tensor(88.0909)</td>\n      <td>0.001419</td>\n      <td>tensor(88.7500)</td>\n    </tr>\n    <tr>\n      <th>0</th>\n      <td>0.002295</td>\n      <td>tensor(11.9091)</td>\n      <td>0.004534</td>\n      <td>tensor(11.2500)</td>\n    </tr>\n    <tr>\n      <th>10</th>\n      <td>0.001291</td>\n      <td>tensor(81.3636)</td>\n      <td>0.002546</td>\n      <td>tensor(82.0833)</td>\n    </tr>\n    <tr>\n      <th>20</th>\n      <td>0.000902</td>\n      <td>tensor(88.0909)</td>\n      <td>0.001808</td>\n      <td>tensor(88.7500)</td>\n    </tr>\n    <tr>\n      <th>30</th>\n      <td>0.000807</td>\n      <td>tensor(88.0909)</td>\n      <td>0.001565</td>\n      <td>tensor(88.7500)</td>\n    </tr>\n    <tr>\n      <th>40</th>\n      <td>0.000792</td>\n      <td>tensor(88.0909)</td>\n      <td>0.001538</td>\n      <td>tensor(88.7500)</td>\n    </tr>\n    <tr>\n      <th>50</th>\n      <td>0.000745</td>\n      <td>tensor(88.0909)</td>\n      <td>0.001506</td>\n      <td>tensor(88.7500)</td>\n    </tr>\n    <tr>\n      <th>60</th>\n      <td>0.000718</td>\n      <td>tensor(88.0909)</td>\n      <td>0.001530</td>\n      <td>tensor(88.7500)</td>\n    </tr>\n    <tr>\n      <th>70</th>\n      <td>0.000725</td>\n      <td>tensor(88.0909)</td>\n      <td>0.001506</td>\n      <td>tensor(88.7500)</td>\n    </tr>\n    <tr>\n      <th>80</th>\n      <td>0.000702</td>\n      <td>tensor(88.0909)</td>\n      <td>0.001529</td>\n      <td>tensor(88.7500)</td>\n    </tr>\n    <tr>\n      <th>90</th>\n      <td>0.000695</td>\n      <td>tensor(88.0909)</td>\n      <td>0.001530</td>\n      <td>tensor(88.7500)</td>\n    </tr>\n  </tbody>\n</table>\n</div>"
     },
     "execution_count": 242,
     "metadata": {},
     "output_type": "execute_result"
    }
   ],
   "source": [
    "summary_df"
   ]
  },
  {
   "cell_type": "code",
   "execution_count": 242,
   "metadata": {},
   "outputs": [],
   "source": []
  },
  {
   "cell_type": "code",
   "execution_count": null,
   "outputs": [],
   "source": [],
   "metadata": {
    "collapsed": false,
    "pycharm": {
     "name": "#%%\n"
    }
   }
  }
 ],
 "metadata": {
  "kernelspec": {
   "display_name": "torch-cuda",
   "language": "python",
   "name": "torch-cuda"
  },
  "language_info": {
   "codemirror_mode": {
    "name": "ipython",
    "version": 3
   },
   "file_extension": ".py",
   "mimetype": "text/x-python",
   "name": "python",
   "nbconvert_exporter": "python",
   "pygments_lexer": "ipython3",
   "version": "3.9.6"
  }
 },
 "nbformat": 4,
 "nbformat_minor": 4
}