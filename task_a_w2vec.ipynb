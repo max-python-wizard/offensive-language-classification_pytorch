{
 "cells": [
  {
   "cell_type": "code",
   "execution_count": 1,
   "metadata": {
    "collapsed": false,
    "jupyter": {
     "outputs_hidden": false
    },
    "pycharm": {
     "name": "#%%\n"
    }
   },
   "outputs": [],
   "source": [
    "import pandas as pd\n",
    "import numpy as np\n",
    "import matplotlib.pyplot as plt"
   ]
  },
  {
   "cell_type": "code",
   "execution_count": 2,
   "metadata": {
    "collapsed": false,
    "jupyter": {
     "outputs_hidden": false
    },
    "pycharm": {
     "name": "#%%\n"
    }
   },
   "outputs": [],
   "source": [
    "import time"
   ]
  },
  {
   "cell_type": "code",
   "execution_count": 3,
   "metadata": {
    "collapsed": false,
    "jupyter": {
     "outputs_hidden": false
    },
    "pycharm": {
     "name": "#%%\n"
    }
   },
   "outputs": [],
   "source": [
    "import spacy"
   ]
  },
  {
   "cell_type": "code",
   "execution_count": 4,
   "metadata": {
    "collapsed": false,
    "jupyter": {
     "outputs_hidden": false
    },
    "pycharm": {
     "name": "#%%\n"
    }
   },
   "outputs": [
    {
     "data": {
      "text/plain": "False"
     },
     "execution_count": 4,
     "metadata": {},
     "output_type": "execute_result"
    }
   ],
   "source": [
    "spacy.prefer_gpu()"
   ]
  },
  {
   "cell_type": "code",
   "execution_count": 5,
   "metadata": {},
   "outputs": [],
   "source": [
    "import torch\n",
    "import torch.nn as nn\n",
    "import torch.nn.functional as F"
   ]
  },
  {
   "cell_type": "markdown",
   "metadata": {
    "pycharm": {
     "name": "#%% md\n"
    }
   },
   "source": [
    "### Sprawdzanie czy w systemie jest karta graficzna Nvidia - CUDA"
   ]
  },
  {
   "cell_type": "code",
   "execution_count": 6,
   "metadata": {
    "collapsed": false,
    "jupyter": {
     "outputs_hidden": false
    },
    "pycharm": {
     "name": "#%%\n"
    }
   },
   "outputs": [
    {
     "data": {
      "text/plain": "True"
     },
     "execution_count": 6,
     "metadata": {},
     "output_type": "execute_result"
    }
   ],
   "source": [
    "cuda_av = torch.cuda.is_available()\n",
    "cuda_av"
   ]
  },
  {
   "cell_type": "code",
   "execution_count": 7,
   "metadata": {
    "collapsed": false,
    "jupyter": {
     "outputs_hidden": false
    },
    "pycharm": {
     "name": "#%%\n"
    }
   },
   "outputs": [
    {
     "name": "stdout",
     "output_type": "stream",
     "text": [
      "ID urządzenia CUDA: 0\n",
      "Nazwa urządzenia CUDA: NVIDIA GeForce GTX 1070\n"
     ]
    }
   ],
   "source": [
    "if cuda_av:\n",
    "    cuda_id = torch.cuda.current_device()\n",
    "    print(f'ID urządzenia CUDA: {cuda_id}')\n",
    "    print(f\"Nazwa urządzenia CUDA: {torch.cuda.get_device_name(cuda_id)}\")"
   ]
  },
  {
   "cell_type": "code",
   "execution_count": 8,
   "metadata": {
    "collapsed": false,
    "jupyter": {
     "outputs_hidden": false
    },
    "pycharm": {
     "name": "#%%\n"
    }
   },
   "outputs": [
    {
     "data": {
      "text/plain": "'cuda'"
     },
     "execution_count": 8,
     "metadata": {},
     "output_type": "execute_result"
    }
   ],
   "source": [
    "# Tworzenie kodu uniwersalnego: dla CUDA i CPU\n",
    "device = 'cuda' if torch.cuda.is_available() else 'cpu'\n",
    "device"
   ]
  },
  {
   "cell_type": "markdown",
   "metadata": {
    "pycharm": {
     "name": "#%% md\n"
    }
   },
   "source": [
    "## Ładowanie danych treningowych"
   ]
  },
  {
   "cell_type": "code",
   "execution_count": 9,
   "metadata": {
    "collapsed": false,
    "jupyter": {
     "outputs_hidden": false
    },
    "pycharm": {
     "name": "#%%\n"
    }
   },
   "outputs": [],
   "source": [
    "tweets = pd.read_csv('data/olid-training-v1.0.tsv', sep='\\t')"
   ]
  },
  {
   "cell_type": "code",
   "execution_count": 10,
   "metadata": {
    "collapsed": false,
    "jupyter": {
     "outputs_hidden": false
    },
    "pycharm": {
     "name": "#%%\n"
    }
   },
   "outputs": [
    {
     "data": {
      "text/plain": "      id                                              tweet subtask_a  \\\n0  86426  @USER She should ask a few native Americans wh...       OFF   \n1  90194  @USER @USER Go home you’re drunk!!! @USER #MAG...       OFF   \n2  16820  Amazon is investigating Chinese employees who ...       NOT   \n3  62688  @USER Someone should'veTaken\" this piece of sh...       OFF   \n4  43605  @USER @USER Obama wanted liberals &amp; illega...       NOT   \n\n  subtask_b subtask_c  \n0       UNT       NaN  \n1       TIN       IND  \n2       NaN       NaN  \n3       UNT       NaN  \n4       NaN       NaN  ",
      "text/html": "<div>\n<style scoped>\n    .dataframe tbody tr th:only-of-type {\n        vertical-align: middle;\n    }\n\n    .dataframe tbody tr th {\n        vertical-align: top;\n    }\n\n    .dataframe thead th {\n        text-align: right;\n    }\n</style>\n<table border=\"1\" class=\"dataframe\">\n  <thead>\n    <tr style=\"text-align: right;\">\n      <th></th>\n      <th>id</th>\n      <th>tweet</th>\n      <th>subtask_a</th>\n      <th>subtask_b</th>\n      <th>subtask_c</th>\n    </tr>\n  </thead>\n  <tbody>\n    <tr>\n      <th>0</th>\n      <td>86426</td>\n      <td>@USER She should ask a few native Americans wh...</td>\n      <td>OFF</td>\n      <td>UNT</td>\n      <td>NaN</td>\n    </tr>\n    <tr>\n      <th>1</th>\n      <td>90194</td>\n      <td>@USER @USER Go home you’re drunk!!! @USER #MAG...</td>\n      <td>OFF</td>\n      <td>TIN</td>\n      <td>IND</td>\n    </tr>\n    <tr>\n      <th>2</th>\n      <td>16820</td>\n      <td>Amazon is investigating Chinese employees who ...</td>\n      <td>NOT</td>\n      <td>NaN</td>\n      <td>NaN</td>\n    </tr>\n    <tr>\n      <th>3</th>\n      <td>62688</td>\n      <td>@USER Someone should'veTaken\" this piece of sh...</td>\n      <td>OFF</td>\n      <td>UNT</td>\n      <td>NaN</td>\n    </tr>\n    <tr>\n      <th>4</th>\n      <td>43605</td>\n      <td>@USER @USER Obama wanted liberals &amp;amp; illega...</td>\n      <td>NOT</td>\n      <td>NaN</td>\n      <td>NaN</td>\n    </tr>\n  </tbody>\n</table>\n</div>"
     },
     "execution_count": 10,
     "metadata": {},
     "output_type": "execute_result"
    }
   ],
   "source": [
    "tweets.head()"
   ]
  },
  {
   "cell_type": "code",
   "execution_count": 11,
   "metadata": {
    "collapsed": false,
    "jupyter": {
     "outputs_hidden": false
    },
    "pycharm": {
     "name": "#%%\n"
    }
   },
   "outputs": [],
   "source": [
    "# tweets = tweets[:100]"
   ]
  },
  {
   "cell_type": "code",
   "execution_count": 12,
   "metadata": {
    "collapsed": false,
    "jupyter": {
     "outputs_hidden": false
    },
    "pycharm": {
     "name": "#%%\n"
    }
   },
   "outputs": [],
   "source": [
    "# tweets = tweets[:5]"
   ]
  },
  {
   "cell_type": "markdown",
   "metadata": {
    "pycharm": {
     "name": "#%% md\n"
    }
   },
   "source": [
    "### Tokenizacja, lematyzacja, usówanie pewnych słów\n",
    "liczenie najdłuższego przetworzonego tweeta"
   ]
  },
  {
   "cell_type": "code",
   "execution_count": 13,
   "metadata": {
    "collapsed": false,
    "jupyter": {
     "outputs_hidden": false
    },
    "pycharm": {
     "name": "#%%\n"
    }
   },
   "outputs": [],
   "source": [
    "nlp = spacy.load('en_core_web_sm')"
   ]
  },
  {
   "cell_type": "code",
   "execution_count": 14,
   "metadata": {
    "collapsed": false,
    "jupyter": {
     "outputs_hidden": false
    },
    "pycharm": {
     "name": "#%%\n"
    }
   },
   "outputs": [],
   "source": [
    "# dodawanie kolumny z tokenami\n",
    "tweets['tokens'] = tweets['tweet'].apply(nlp)"
   ]
  },
  {
   "cell_type": "code",
   "execution_count": 15,
   "metadata": {
    "collapsed": false,
    "jupyter": {
     "outputs_hidden": false
    },
    "pycharm": {
     "name": "#%%\n"
    }
   },
   "outputs": [
    {
     "data": {
      "text/plain": "      id                                              tweet subtask_a  \\\n0  86426  @USER She should ask a few native Americans wh...       OFF   \n1  90194  @USER @USER Go home you’re drunk!!! @USER #MAG...       OFF   \n2  16820  Amazon is investigating Chinese employees who ...       NOT   \n3  62688  @USER Someone should'veTaken\" this piece of sh...       OFF   \n4  43605  @USER @USER Obama wanted liberals &amp; illega...       NOT   \n\n  subtask_b subtask_c                                             tokens  \n0       UNT       NaN  (@USER, She, should, ask, a, few, native, Amer...  \n1       TIN       IND  (@USER, @USER, Go, home, you, ’re, drunk, !, !...  \n2       NaN       NaN  (Amazon, is, investigating, Chinese, employees...  \n3       UNT       NaN  (@USER, Someone, should'veTaken, \", this, piec...  \n4       NaN       NaN  (@USER, @USER, Obama, wanted, liberals, &, amp...  ",
      "text/html": "<div>\n<style scoped>\n    .dataframe tbody tr th:only-of-type {\n        vertical-align: middle;\n    }\n\n    .dataframe tbody tr th {\n        vertical-align: top;\n    }\n\n    .dataframe thead th {\n        text-align: right;\n    }\n</style>\n<table border=\"1\" class=\"dataframe\">\n  <thead>\n    <tr style=\"text-align: right;\">\n      <th></th>\n      <th>id</th>\n      <th>tweet</th>\n      <th>subtask_a</th>\n      <th>subtask_b</th>\n      <th>subtask_c</th>\n      <th>tokens</th>\n    </tr>\n  </thead>\n  <tbody>\n    <tr>\n      <th>0</th>\n      <td>86426</td>\n      <td>@USER She should ask a few native Americans wh...</td>\n      <td>OFF</td>\n      <td>UNT</td>\n      <td>NaN</td>\n      <td>(@USER, She, should, ask, a, few, native, Amer...</td>\n    </tr>\n    <tr>\n      <th>1</th>\n      <td>90194</td>\n      <td>@USER @USER Go home you’re drunk!!! @USER #MAG...</td>\n      <td>OFF</td>\n      <td>TIN</td>\n      <td>IND</td>\n      <td>(@USER, @USER, Go, home, you, ’re, drunk, !, !...</td>\n    </tr>\n    <tr>\n      <th>2</th>\n      <td>16820</td>\n      <td>Amazon is investigating Chinese employees who ...</td>\n      <td>NOT</td>\n      <td>NaN</td>\n      <td>NaN</td>\n      <td>(Amazon, is, investigating, Chinese, employees...</td>\n    </tr>\n    <tr>\n      <th>3</th>\n      <td>62688</td>\n      <td>@USER Someone should'veTaken\" this piece of sh...</td>\n      <td>OFF</td>\n      <td>UNT</td>\n      <td>NaN</td>\n      <td>(@USER, Someone, should'veTaken, \", this, piec...</td>\n    </tr>\n    <tr>\n      <th>4</th>\n      <td>43605</td>\n      <td>@USER @USER Obama wanted liberals &amp;amp; illega...</td>\n      <td>NOT</td>\n      <td>NaN</td>\n      <td>NaN</td>\n      <td>(@USER, @USER, Obama, wanted, liberals, &amp;, amp...</td>\n    </tr>\n  </tbody>\n</table>\n</div>"
     },
     "execution_count": 15,
     "metadata": {},
     "output_type": "execute_result"
    }
   ],
   "source": [
    "tweets.head()"
   ]
  },
  {
   "cell_type": "code",
   "execution_count": 16,
   "metadata": {
    "collapsed": false,
    "jupyter": {
     "outputs_hidden": false
    },
    "pycharm": {
     "name": "#%%\n"
    }
   },
   "outputs": [],
   "source": [
    "# dodawanie kolumny z lematami za pomoca funkcji lambda - przy tym usuwanie:\n",
    "# odwolan do wczesniejszych tweetow (zawiera @)\n",
    "# - slowa url (czyli adresy stron inernetowych które w danych wejściowych mają URL zamiast adreasu.\n",
    "# # - hasztagów; przyimków i innych częstych słów (stop words) oraz znaków interpunkcyjnych.\n",
    "# spacji ' ', '  ', '   '\n",
    "\n",
    "# emotikony zostawiam - uważam, że też niosą znaczenie\n",
    "\n",
    "tweets['lemmas'] = tweets['tokens'].apply\\\n",
    "    (lambda list_tokens : [token.lemma_.strip() for token in list_tokens if ('@' not in token.lemma_ \\\n",
    "                                                                     and '#' not in token.lemma_ and 'url' not in token.lemma_ \\\n",
    "                                                                     and not token.is_stop and not token.is_punct and token.lemma_ != ' ' \\\n",
    "                                                                     and token.lemma_ != '  ' and token.lemma_ != '   '\n",
    "                                                                     and token.lemma_ != '    ' and token.lemma_.strip() != '')])"
   ]
  },
  {
   "cell_type": "code",
   "execution_count": 16,
   "metadata": {
    "collapsed": false,
    "jupyter": {
     "outputs_hidden": false
    },
    "pycharm": {
     "name": "#%%\n"
    }
   },
   "outputs": [],
   "source": []
  },
  {
   "cell_type": "code",
   "execution_count": 17,
   "metadata": {
    "collapsed": false,
    "jupyter": {
     "outputs_hidden": false
    },
    "pycharm": {
     "name": "#%%\n"
    }
   },
   "outputs": [
    {
     "data": {
      "text/plain": "      id                                              tweet subtask_a  \\\n0  86426  @USER She should ask a few native Americans wh...       OFF   \n1  90194  @USER @USER Go home you’re drunk!!! @USER #MAG...       OFF   \n2  16820  Amazon is investigating Chinese employees who ...       NOT   \n3  62688  @USER Someone should'veTaken\" this piece of sh...       OFF   \n4  43605  @USER @USER Obama wanted liberals &amp; illega...       NOT   \n\n  subtask_b subtask_c                                             tokens  \\\n0       UNT       NaN  (@USER, She, should, ask, a, few, native, Amer...   \n1       TIN       IND  (@USER, @USER, Go, home, you, ’re, drunk, !, !...   \n2       NaN       NaN  (Amazon, is, investigating, Chinese, employees...   \n3       UNT       NaN  (@USER, Someone, should'veTaken, \", this, piec...   \n4       NaN       NaN  (@USER, @USER, Obama, wanted, liberals, &, amp...   \n\n                                              lemmas  \n0                           [ask, native, Americans]  \n1         [home, drunk, MAGA, Trump2020, 👊, 🇺, 🇸, 👊]  \n2  [Amazon, investigate, chinese, employee, sell,...  \n3          [should'vetaken, piece, shit, volcano, 😂]  \n4   [Obama, want, liberal, amp, illegal, red, state]  ",
      "text/html": "<div>\n<style scoped>\n    .dataframe tbody tr th:only-of-type {\n        vertical-align: middle;\n    }\n\n    .dataframe tbody tr th {\n        vertical-align: top;\n    }\n\n    .dataframe thead th {\n        text-align: right;\n    }\n</style>\n<table border=\"1\" class=\"dataframe\">\n  <thead>\n    <tr style=\"text-align: right;\">\n      <th></th>\n      <th>id</th>\n      <th>tweet</th>\n      <th>subtask_a</th>\n      <th>subtask_b</th>\n      <th>subtask_c</th>\n      <th>tokens</th>\n      <th>lemmas</th>\n    </tr>\n  </thead>\n  <tbody>\n    <tr>\n      <th>0</th>\n      <td>86426</td>\n      <td>@USER She should ask a few native Americans wh...</td>\n      <td>OFF</td>\n      <td>UNT</td>\n      <td>NaN</td>\n      <td>(@USER, She, should, ask, a, few, native, Amer...</td>\n      <td>[ask, native, Americans]</td>\n    </tr>\n    <tr>\n      <th>1</th>\n      <td>90194</td>\n      <td>@USER @USER Go home you’re drunk!!! @USER #MAG...</td>\n      <td>OFF</td>\n      <td>TIN</td>\n      <td>IND</td>\n      <td>(@USER, @USER, Go, home, you, ’re, drunk, !, !...</td>\n      <td>[home, drunk, MAGA, Trump2020, 👊, 🇺, 🇸, 👊]</td>\n    </tr>\n    <tr>\n      <th>2</th>\n      <td>16820</td>\n      <td>Amazon is investigating Chinese employees who ...</td>\n      <td>NOT</td>\n      <td>NaN</td>\n      <td>NaN</td>\n      <td>(Amazon, is, investigating, Chinese, employees...</td>\n      <td>[Amazon, investigate, chinese, employee, sell,...</td>\n    </tr>\n    <tr>\n      <th>3</th>\n      <td>62688</td>\n      <td>@USER Someone should'veTaken\" this piece of sh...</td>\n      <td>OFF</td>\n      <td>UNT</td>\n      <td>NaN</td>\n      <td>(@USER, Someone, should'veTaken, \", this, piec...</td>\n      <td>[should'vetaken, piece, shit, volcano, 😂]</td>\n    </tr>\n    <tr>\n      <th>4</th>\n      <td>43605</td>\n      <td>@USER @USER Obama wanted liberals &amp;amp; illega...</td>\n      <td>NOT</td>\n      <td>NaN</td>\n      <td>NaN</td>\n      <td>(@USER, @USER, Obama, wanted, liberals, &amp;, amp...</td>\n      <td>[Obama, want, liberal, amp, illegal, red, state]</td>\n    </tr>\n  </tbody>\n</table>\n</div>"
     },
     "execution_count": 17,
     "metadata": {},
     "output_type": "execute_result"
    }
   ],
   "source": [
    "tweets.head()"
   ]
  },
  {
   "cell_type": "code",
   "execution_count": 18,
   "metadata": {
    "collapsed": false,
    "jupyter": {
     "outputs_hidden": false
    },
    "pycharm": {
     "name": "#%%\n"
    }
   },
   "outputs": [],
   "source": [
    "# for index, row in tweets.iterrows():\n",
    "#     for word in row['lemmas']:\n",
    "#         if word == '':\n",
    "#             print(index)"
   ]
  },
  {
   "cell_type": "code",
   "execution_count": 19,
   "metadata": {
    "collapsed": false,
    "jupyter": {
     "outputs_hidden": false
    },
    "pycharm": {
     "name": "#%%\n"
    }
   },
   "outputs": [],
   "source": [
    "# tweets.iloc[499, 6]"
   ]
  },
  {
   "cell_type": "code",
   "execution_count": 20,
   "metadata": {
    "collapsed": false,
    "jupyter": {
     "outputs_hidden": false
    },
    "pycharm": {
     "name": "#%%\n"
    }
   },
   "outputs": [],
   "source": [
    "# if tweets.iloc[500, 6][0] == '':\n",
    "#     print(True)"
   ]
  },
  {
   "cell_type": "code",
   "execution_count": 21,
   "metadata": {
    "collapsed": false,
    "jupyter": {
     "outputs_hidden": false
    },
    "pycharm": {
     "name": "#%%\n"
    }
   },
   "outputs": [],
   "source": [
    "# tweets.iloc[500, 6]"
   ]
  },
  {
   "cell_type": "code",
   "execution_count": 22,
   "metadata": {
    "collapsed": false,
    "jupyter": {
     "outputs_hidden": false
    },
    "pycharm": {
     "name": "#%%\n"
    }
   },
   "outputs": [],
   "source": [
    "# tweets.loc[:3,'lemmas']"
   ]
  },
  {
   "cell_type": "code",
   "execution_count": 23,
   "metadata": {
    "collapsed": false,
    "jupyter": {
     "outputs_hidden": false
    },
    "pycharm": {
     "name": "#%%\n"
    }
   },
   "outputs": [
    {
     "data": {
      "text/plain": "@USER What’s the difference between #Kavanaugh and @USER   One of these men admitted to groping a 15 year old girl years ago.  The other is going to be #confirmed to the SCJ   #DemsareFrauds #DemsAreDone   #WalkAwayDemocrats2018 #redwave #VoteRedSaveAmerica #trumptrain #MAGA URL"
     },
     "execution_count": 23,
     "metadata": {},
     "output_type": "execute_result"
    }
   ],
   "source": [
    "tweets.loc[11, 'tokens']"
   ]
  },
  {
   "cell_type": "code",
   "execution_count": 24,
   "metadata": {
    "collapsed": false,
    "jupyter": {
     "outputs_hidden": false
    },
    "pycharm": {
     "name": "#%%\n"
    }
   },
   "outputs": [],
   "source": [
    "tweets['length_lemmas'] = tweets['lemmas'].apply(lambda row: len(row))"
   ]
  },
  {
   "cell_type": "code",
   "execution_count": 25,
   "metadata": {
    "collapsed": false,
    "jupyter": {
     "outputs_hidden": false
    },
    "pycharm": {
     "name": "#%%\n"
    }
   },
   "outputs": [
    {
     "data": {
      "text/plain": "0      3\n1      8\n2     18\n3      5\n4      7\n5      2\n6      4\n7     16\n8      2\n9     10\n10     4\nName: length_lemmas, dtype: int64"
     },
     "execution_count": 25,
     "metadata": {},
     "output_type": "execute_result"
    }
   ],
   "source": [
    "tweets.loc[:10, 'length_lemmas']"
   ]
  },
  {
   "cell_type": "code",
   "execution_count": 26,
   "metadata": {
    "collapsed": false,
    "jupyter": {
     "outputs_hidden": false
    },
    "pycharm": {
     "name": "#%%\n"
    }
   },
   "outputs": [],
   "source": [
    "max_length_tweet = max(tweets['length_lemmas'])"
   ]
  },
  {
   "cell_type": "markdown",
   "metadata": {
    "pycharm": {
     "name": "#%% md\n"
    }
   },
   "source": [
    "## Ładowanie danych testowych(a)"
   ]
  },
  {
   "cell_type": "code",
   "execution_count": 27,
   "metadata": {
    "collapsed": false,
    "jupyter": {
     "outputs_hidden": false
    },
    "pycharm": {
     "name": "#%%\n"
    }
   },
   "outputs": [],
   "source": [
    "test_level_a = pd.read_csv('data/testset-levela.tsv', sep='\\t')"
   ]
  },
  {
   "cell_type": "code",
   "execution_count": 28,
   "metadata": {
    "collapsed": false,
    "jupyter": {
     "outputs_hidden": false
    },
    "pycharm": {
     "name": "#%%\n"
    }
   },
   "outputs": [],
   "source": [
    "labels_level_a = pd.read_csv('data/labels-levela.csv', header=None)"
   ]
  },
  {
   "cell_type": "code",
   "execution_count": 29,
   "metadata": {
    "collapsed": false,
    "jupyter": {
     "outputs_hidden": false
    },
    "pycharm": {
     "name": "#%%\n"
    }
   },
   "outputs": [],
   "source": [
    "labels_level_a = labels_level_a.rename(columns={0:'id', 1:'subtask_a'})"
   ]
  },
  {
   "cell_type": "code",
   "execution_count": 30,
   "metadata": {
    "collapsed": false,
    "jupyter": {
     "outputs_hidden": false
    },
    "pycharm": {
     "name": "#%%\n"
    }
   },
   "outputs": [],
   "source": [
    "test_a = pd.merge(test_level_a, labels_level_a, on = \"id\", how = \"inner\")"
   ]
  },
  {
   "cell_type": "code",
   "execution_count": 31,
   "metadata": {
    "collapsed": false,
    "jupyter": {
     "outputs_hidden": false
    },
    "pycharm": {
     "name": "#%%\n"
    }
   },
   "outputs": [
    {
     "data": {
      "text/plain": "      id                                              tweet subtask_a\n0  15923  #WhoIsQ #WheresTheServer #DumpNike #DECLASFISA...       OFF\n1  27014  #ConstitutionDay is revered by Conservatives, ...       NOT\n2  30530  #FOXNews #NRA #MAGA #POTUS #TRUMP #2ndAmendmen...       NOT\n3  13876  #Watching #Boomer getting the news that she is...       NOT\n4  60133  #NoPasaran: Unity demo to oppose the far-right...       OFF",
      "text/html": "<div>\n<style scoped>\n    .dataframe tbody tr th:only-of-type {\n        vertical-align: middle;\n    }\n\n    .dataframe tbody tr th {\n        vertical-align: top;\n    }\n\n    .dataframe thead th {\n        text-align: right;\n    }\n</style>\n<table border=\"1\" class=\"dataframe\">\n  <thead>\n    <tr style=\"text-align: right;\">\n      <th></th>\n      <th>id</th>\n      <th>tweet</th>\n      <th>subtask_a</th>\n    </tr>\n  </thead>\n  <tbody>\n    <tr>\n      <th>0</th>\n      <td>15923</td>\n      <td>#WhoIsQ #WheresTheServer #DumpNike #DECLASFISA...</td>\n      <td>OFF</td>\n    </tr>\n    <tr>\n      <th>1</th>\n      <td>27014</td>\n      <td>#ConstitutionDay is revered by Conservatives, ...</td>\n      <td>NOT</td>\n    </tr>\n    <tr>\n      <th>2</th>\n      <td>30530</td>\n      <td>#FOXNews #NRA #MAGA #POTUS #TRUMP #2ndAmendmen...</td>\n      <td>NOT</td>\n    </tr>\n    <tr>\n      <th>3</th>\n      <td>13876</td>\n      <td>#Watching #Boomer getting the news that she is...</td>\n      <td>NOT</td>\n    </tr>\n    <tr>\n      <th>4</th>\n      <td>60133</td>\n      <td>#NoPasaran: Unity demo to oppose the far-right...</td>\n      <td>OFF</td>\n    </tr>\n  </tbody>\n</table>\n</div>"
     },
     "execution_count": 31,
     "metadata": {},
     "output_type": "execute_result"
    }
   ],
   "source": [
    "test_a.head()"
   ]
  },
  {
   "cell_type": "code",
   "execution_count": 32,
   "metadata": {
    "collapsed": false,
    "jupyter": {
     "outputs_hidden": false
    },
    "pycharm": {
     "name": "#%%\n"
    }
   },
   "outputs": [
    {
     "data": {
      "text/plain": "860"
     },
     "execution_count": 32,
     "metadata": {},
     "output_type": "execute_result"
    }
   ],
   "source": [
    "len(test_a)"
   ]
  },
  {
   "cell_type": "markdown",
   "metadata": {},
   "source": [
    "### Opracowanie danych testowych (część a)\n",
    "Takie same modyfikacje jak dla danych treningowych"
   ]
  },
  {
   "cell_type": "code",
   "execution_count": 33,
   "metadata": {
    "collapsed": false,
    "jupyter": {
     "outputs_hidden": false
    },
    "pycharm": {
     "name": "#%%\n"
    }
   },
   "outputs": [],
   "source": [
    "test_a['tokens'] = test_a['tweet'].apply(nlp)\n",
    "test_a['lemmas'] = test_a['tokens'].apply \\\n",
    "    (lambda list_tokens : [token.lemma_.strip() for token in list_tokens if ('@' not in token.lemma_\n",
    "                                                                             and '#' not in token.lemma_ and 'url' not in token.lemma_\n",
    "                                                                             and not token.is_stop and not token.is_punct and token.lemma_ != ' '\n",
    "                                                                             and token.lemma_ != '  ' and token.lemma_ != '   '\n",
    "                                                                             and token.lemma_ != '    ' and token.lemma_.strip() != '')])\n",
    "\n"
   ]
  },
  {
   "cell_type": "code",
   "execution_count": 33,
   "metadata": {
    "collapsed": false,
    "jupyter": {
     "outputs_hidden": false
    },
    "pycharm": {
     "name": "#%%\n"
    }
   },
   "outputs": [],
   "source": []
  },
  {
   "cell_type": "code",
   "execution_count": 34,
   "metadata": {
    "collapsed": false,
    "jupyter": {
     "outputs_hidden": false
    },
    "pycharm": {
     "name": "#%%\n"
    }
   },
   "outputs": [],
   "source": [
    "test_a['length_lemmas'] = test_a['lemmas'].apply(lambda row: len(row))"
   ]
  },
  {
   "cell_type": "code",
   "execution_count": 35,
   "metadata": {
    "collapsed": false,
    "jupyter": {
     "outputs_hidden": false
    },
    "pycharm": {
     "name": "#%%\n"
    }
   },
   "outputs": [
    {
     "data": {
      "text/plain": "40"
     },
     "execution_count": 35,
     "metadata": {},
     "output_type": "execute_result"
    }
   ],
   "source": [
    "max(test_a['length_lemmas'])"
   ]
  },
  {
   "cell_type": "code",
   "execution_count": 36,
   "metadata": {
    "collapsed": false,
    "jupyter": {
     "outputs_hidden": false
    },
    "pycharm": {
     "name": "#%%\n"
    }
   },
   "outputs": [
    {
     "data": {
      "text/plain": "      id                                              tweet subtask_a  \\\n0  15923  #WhoIsQ #WheresTheServer #DumpNike #DECLASFISA...       OFF   \n1  27014  #ConstitutionDay is revered by Conservatives, ...       NOT   \n2  30530  #FOXNews #NRA #MAGA #POTUS #TRUMP #2ndAmendmen...       NOT   \n3  13876  #Watching #Boomer getting the news that she is...       NOT   \n4  60133  #NoPasaran: Unity demo to oppose the far-right...       OFF   \n\n                                              tokens  \\\n0  (#, WhoIsQ, #, WheresTheServer, #, DumpNike, #...   \n1  (#, ConstitutionDay, is, revered, by, Conserva...   \n2  (#, FOXNews, #, NRA, #, MAGA, #, POTUS, #, TRU...   \n3  (#, Watching, #, Boomer, getting, the, news, t...   \n4  (#, NoPasaran, :, Unity, demo, to, oppose, the...   \n\n                                              lemmas  length_lemmas  \n0  [WhoIsQ, wherestheserver, DumpNike, DECLASFISA...             24  \n1  [ConstitutionDay, revere, conservative, hate, ...              9  \n2  [foxnew, NRA, MAGA, POTUS, TRUMP, 2ndamendment...             15  \n3  [watch, Boomer, get, news, parole, make, smile...             10  \n4  [NoPasaran, unity, demo, oppose, far, right, L...              9  ",
      "text/html": "<div>\n<style scoped>\n    .dataframe tbody tr th:only-of-type {\n        vertical-align: middle;\n    }\n\n    .dataframe tbody tr th {\n        vertical-align: top;\n    }\n\n    .dataframe thead th {\n        text-align: right;\n    }\n</style>\n<table border=\"1\" class=\"dataframe\">\n  <thead>\n    <tr style=\"text-align: right;\">\n      <th></th>\n      <th>id</th>\n      <th>tweet</th>\n      <th>subtask_a</th>\n      <th>tokens</th>\n      <th>lemmas</th>\n      <th>length_lemmas</th>\n    </tr>\n  </thead>\n  <tbody>\n    <tr>\n      <th>0</th>\n      <td>15923</td>\n      <td>#WhoIsQ #WheresTheServer #DumpNike #DECLASFISA...</td>\n      <td>OFF</td>\n      <td>(#, WhoIsQ, #, WheresTheServer, #, DumpNike, #...</td>\n      <td>[WhoIsQ, wherestheserver, DumpNike, DECLASFISA...</td>\n      <td>24</td>\n    </tr>\n    <tr>\n      <th>1</th>\n      <td>27014</td>\n      <td>#ConstitutionDay is revered by Conservatives, ...</td>\n      <td>NOT</td>\n      <td>(#, ConstitutionDay, is, revered, by, Conserva...</td>\n      <td>[ConstitutionDay, revere, conservative, hate, ...</td>\n      <td>9</td>\n    </tr>\n    <tr>\n      <th>2</th>\n      <td>30530</td>\n      <td>#FOXNews #NRA #MAGA #POTUS #TRUMP #2ndAmendmen...</td>\n      <td>NOT</td>\n      <td>(#, FOXNews, #, NRA, #, MAGA, #, POTUS, #, TRU...</td>\n      <td>[foxnew, NRA, MAGA, POTUS, TRUMP, 2ndamendment...</td>\n      <td>15</td>\n    </tr>\n    <tr>\n      <th>3</th>\n      <td>13876</td>\n      <td>#Watching #Boomer getting the news that she is...</td>\n      <td>NOT</td>\n      <td>(#, Watching, #, Boomer, getting, the, news, t...</td>\n      <td>[watch, Boomer, get, news, parole, make, smile...</td>\n      <td>10</td>\n    </tr>\n    <tr>\n      <th>4</th>\n      <td>60133</td>\n      <td>#NoPasaran: Unity demo to oppose the far-right...</td>\n      <td>OFF</td>\n      <td>(#, NoPasaran, :, Unity, demo, to, oppose, the...</td>\n      <td>[NoPasaran, unity, demo, oppose, far, right, L...</td>\n      <td>9</td>\n    </tr>\n  </tbody>\n</table>\n</div>"
     },
     "execution_count": 36,
     "metadata": {},
     "output_type": "execute_result"
    }
   ],
   "source": [
    "test_a.head()"
   ]
  },
  {
   "cell_type": "code",
   "execution_count": 37,
   "metadata": {
    "collapsed": false,
    "jupyter": {
     "outputs_hidden": false
    },
    "pycharm": {
     "name": "#%%\n"
    }
   },
   "outputs": [
    {
     "data": {
      "text/plain": "860"
     },
     "execution_count": 37,
     "metadata": {},
     "output_type": "execute_result"
    }
   ],
   "source": [
    "len(test_a)"
   ]
  },
  {
   "cell_type": "code",
   "execution_count": 38,
   "metadata": {
    "collapsed": false,
    "jupyter": {
     "outputs_hidden": false
    },
    "pycharm": {
     "name": "#%%\n"
    }
   },
   "outputs": [],
   "source": [
    "max_length_tweet_test = max(test_a['length_lemmas'])"
   ]
  },
  {
   "cell_type": "code",
   "execution_count": 39,
   "metadata": {
    "collapsed": false,
    "jupyter": {
     "outputs_hidden": false
    },
    "pycharm": {
     "name": "#%%\n"
    }
   },
   "outputs": [
    {
     "data": {
      "text/plain": "40"
     },
     "execution_count": 39,
     "metadata": {},
     "output_type": "execute_result"
    }
   ],
   "source": [
    "max_length_tweet_test"
   ]
  },
  {
   "cell_type": "code",
   "execution_count": 39,
   "metadata": {
    "collapsed": false,
    "jupyter": {
     "outputs_hidden": false
    },
    "pycharm": {
     "name": "#%%\n"
    }
   },
   "outputs": [],
   "source": []
  },
  {
   "cell_type": "markdown",
   "metadata": {
    "pycharm": {
     "name": "#%% md\n"
    }
   },
   "source": [
    "#### Maksymalna długość wektora z lematami z tweetów"
   ]
  },
  {
   "cell_type": "code",
   "execution_count": 40,
   "metadata": {
    "collapsed": false,
    "jupyter": {
     "outputs_hidden": false
    },
    "pycharm": {
     "name": "#%%\n"
    }
   },
   "outputs": [],
   "source": [
    "max_width = max(max_length_tweet, max_length_tweet_test)"
   ]
  },
  {
   "cell_type": "markdown",
   "metadata": {
    "pycharm": {
     "name": "#%% md\n"
    }
   },
   "source": [
    "## Funkcje do przekszałcania danych"
   ]
  },
  {
   "cell_type": "code",
   "execution_count": 41,
   "metadata": {
    "collapsed": false,
    "jupyter": {
     "outputs_hidden": false
    },
    "pycharm": {
     "name": "#%%\n"
    }
   },
   "outputs": [],
   "source": [
    "def convert_words_to_numbers(lemmas_series, dict_ = dict()):\n",
    "    # dict_ = dict()\n",
    "    for row in lemmas_series:\n",
    "        for lemma in row:\n",
    "            if lemma not in dict_:\n",
    "                dict_[lemma] = len(dict_) + 1\n",
    "\n",
    "    return dict_"
   ]
  },
  {
   "cell_type": "code",
   "execution_count": 42,
   "metadata": {
    "collapsed": false,
    "jupyter": {
     "outputs_hidden": false
    },
    "pycharm": {
     "name": "#%%\n"
    }
   },
   "outputs": [],
   "source": [
    "def lemmas_to_numbers(row, max_list_lemmas, dict_):\n",
    "    list_numbers = []\n",
    "    for i in range(max_list_lemmas - len(row)):\n",
    "        list_numbers.append(0)\n",
    "\n",
    "    for lemma in row:\n",
    "        list_numbers.append(dict_[lemma])\n",
    "\n",
    "    array_numbers = np.array(list_numbers, dtype=np.int32)\n",
    "    return array_numbers"
   ]
  },
  {
   "cell_type": "markdown",
   "metadata": {
    "pycharm": {
     "name": "#%% md\n"
    }
   },
   "source": [
    "## Powrót do opracowywania danych treningowych"
   ]
  },
  {
   "cell_type": "code",
   "execution_count": 42,
   "metadata": {
    "collapsed": false,
    "jupyter": {
     "outputs_hidden": false
    },
    "pycharm": {
     "name": "#%%\n"
    }
   },
   "outputs": [],
   "source": []
  },
  {
   "cell_type": "code",
   "execution_count": 43,
   "metadata": {
    "collapsed": false,
    "jupyter": {
     "outputs_hidden": false
    },
    "pycharm": {
     "name": "#%%\n"
    }
   },
   "outputs": [],
   "source": [
    "dict_lemmas = convert_words_to_numbers(tweets['lemmas'])"
   ]
  },
  {
   "cell_type": "code",
   "execution_count": 44,
   "metadata": {
    "collapsed": false,
    "jupyter": {
     "outputs_hidden": false
    },
    "pycharm": {
     "name": "#%%\n"
    }
   },
   "outputs": [
    {
     "data": {
      "text/plain": "['$',\n '&amp',\n \"'cause\",\n \"'em\",\n '(sorry',\n '*disclaimer',\n '+',\n '+15',\n '+2',\n '--&gt']"
     },
     "execution_count": 44,
     "metadata": {},
     "output_type": "execute_result"
    }
   ],
   "source": [
    "sorted(dict_lemmas)[:10]"
   ]
  },
  {
   "cell_type": "code",
   "execution_count": 45,
   "metadata": {
    "collapsed": false,
    "jupyter": {
     "outputs_hidden": false
    },
    "pycharm": {
     "name": "#%%\n"
    }
   },
   "outputs": [],
   "source": [
    "# zamiana lematu na liczbe ze slownika ktory odpowiada danemu slowu\n",
    "tweets['numbers'] = tweets['lemmas'].apply(lambda row : lemmas_to_numbers(row, max_width, dict_lemmas))"
   ]
  },
  {
   "cell_type": "code",
   "execution_count": 46,
   "metadata": {
    "collapsed": false,
    "jupyter": {
     "outputs_hidden": false
    },
    "pycharm": {
     "name": "#%%\n"
    }
   },
   "outputs": [
    {
     "data": {
      "text/plain": "0    [0, 0, 0, 0, 0, 0, 0, 0, 0, 0, 0, 0, 0, 0, 0, ...\n1    [0, 0, 0, 0, 0, 0, 0, 0, 0, 0, 0, 0, 0, 0, 0, ...\n2    [0, 0, 0, 0, 0, 0, 0, 0, 0, 0, 0, 0, 0, 0, 0, ...\n3    [0, 0, 0, 0, 0, 0, 0, 0, 0, 0, 0, 0, 0, 0, 0, ...\n4    [0, 0, 0, 0, 0, 0, 0, 0, 0, 0, 0, 0, 0, 0, 0, ...\nName: numbers, dtype: object"
     },
     "execution_count": 46,
     "metadata": {},
     "output_type": "execute_result"
    }
   ],
   "source": [
    "tweets['numbers'].head()"
   ]
  },
  {
   "cell_type": "code",
   "execution_count": 47,
   "metadata": {
    "collapsed": false,
    "jupyter": {
     "outputs_hidden": false
    },
    "pycharm": {
     "name": "#%%\n"
    }
   },
   "outputs": [],
   "source": [
    "# przypisywanie X_train kolumny numbers skonwertowanej na tablice numpy\n",
    "X_train = tweets['numbers'].values"
   ]
  },
  {
   "cell_type": "code",
   "execution_count": 48,
   "metadata": {
    "collapsed": false,
    "jupyter": {
     "outputs_hidden": false
    },
    "pycharm": {
     "name": "#%%\n"
    }
   },
   "outputs": [],
   "source": [
    "# łączenie wierszy tablic w jedną tablicę 2D\n",
    "X_train = np.stack(X_train)"
   ]
  },
  {
   "cell_type": "code",
   "execution_count": 49,
   "metadata": {
    "collapsed": false,
    "jupyter": {
     "outputs_hidden": false
    },
    "pycharm": {
     "name": "#%%\n"
    }
   },
   "outputs": [],
   "source": [
    "# konwertowanie tablicy 2d do tensora\n",
    "X_train = torch.FloatTensor(X_train)"
   ]
  },
  {
   "cell_type": "code",
   "execution_count": 50,
   "metadata": {
    "collapsed": false,
    "jupyter": {
     "outputs_hidden": false
    },
    "pycharm": {
     "name": "#%%\n"
    }
   },
   "outputs": [],
   "source": [
    "# ustawianie kolumn z etykietami na poszczególne zadania jako type które przechowują kategorie"
   ]
  },
  {
   "cell_type": "code",
   "execution_count": 51,
   "metadata": {
    "collapsed": false,
    "jupyter": {
     "outputs_hidden": false
    },
    "pycharm": {
     "name": "#%%\n"
    }
   },
   "outputs": [],
   "source": [
    "cat_cols = ['subtask_a', 'subtask_b', 'subtask_c']"
   ]
  },
  {
   "cell_type": "code",
   "execution_count": 52,
   "metadata": {
    "collapsed": false,
    "jupyter": {
     "outputs_hidden": false
    },
    "pycharm": {
     "name": "#%%\n"
    }
   },
   "outputs": [],
   "source": [
    "for col in cat_cols:\n",
    "    tweets[col] = tweets[col].astype('category')"
   ]
  },
  {
   "cell_type": "code",
   "execution_count": 53,
   "metadata": {
    "collapsed": false,
    "jupyter": {
     "outputs_hidden": false
    },
    "pycharm": {
     "name": "#%%\n"
    }
   },
   "outputs": [],
   "source": [
    "tweets['labels_a'] = tweets['subtask_a'].cat.codes"
   ]
  },
  {
   "cell_type": "code",
   "execution_count": 54,
   "metadata": {
    "collapsed": false,
    "jupyter": {
     "outputs_hidden": false
    },
    "pycharm": {
     "name": "#%%\n"
    }
   },
   "outputs": [
    {
     "data": {
      "text/plain": "0    1\n1    1\n2    0\n3    1\n4    0\n5    1\nName: labels_a, dtype: int8"
     },
     "execution_count": 54,
     "metadata": {},
     "output_type": "execute_result"
    }
   ],
   "source": [
    "# OFFENSIVE jest jako 1, a NOT OFFENSIVE jest jako 0\n",
    "tweets.loc[:5, 'labels_a']"
   ]
  },
  {
   "cell_type": "code",
   "execution_count": 55,
   "metadata": {
    "collapsed": false,
    "jupyter": {
     "outputs_hidden": false
    },
    "pycharm": {
     "name": "#%%\n"
    }
   },
   "outputs": [
    {
     "data": {
      "text/plain": "          id                                              tweet subtask_a  \\\n0      86426  @USER She should ask a few native Americans wh...       OFF   \n1      90194  @USER @USER Go home you’re drunk!!! @USER #MAG...       OFF   \n2      16820  Amazon is investigating Chinese employees who ...       NOT   \n3      62688  @USER Someone should'veTaken\" this piece of sh...       OFF   \n4      43605  @USER @USER Obama wanted liberals &amp; illega...       NOT   \n...      ...                                                ...       ...   \n13235  95338  @USER Sometimes I get strong vibes from people...       OFF   \n13236  67210  Benidorm ✅  Creamfields ✅  Maga ✅   Not too sh...       NOT   \n13237  82921  @USER And why report this garbage.  We don't g...       OFF   \n13238  27429                                        @USER Pussy       OFF   \n13239  46552  #Spanishrevenge vs. #justice #HumanRights and ...       NOT   \n\n      subtask_b subtask_c                                             tokens  \\\n0           UNT       NaN  (@USER, She, should, ask, a, few, native, Amer...   \n1           TIN       IND  (@USER, @USER, Go, home, you, ’re, drunk, !, !...   \n2           NaN       NaN  (Amazon, is, investigating, Chinese, employees...   \n3           UNT       NaN  (@USER, Someone, should'veTaken, \", this, piec...   \n4           NaN       NaN  (@USER, @USER, Obama, wanted, liberals, &, amp...   \n...         ...       ...                                                ...   \n13235       TIN       IND  (@USER, Sometimes, I, get, strong, vibes, from...   \n13236       NaN       NaN  (Benidorm, ✅,  , Creamfields, ✅,  , Maga, ✅,  ...   \n13237       TIN       OTH  (@USER, And, why, report, this, garbage, .,  ,...   \n13238       UNT       NaN                                     (@USER, Pussy)   \n13239       NaN       NaN  (#, Spanishrevenge, vs., #, justice, #, HumanR...   \n\n                                                  lemmas  length_lemmas  \\\n0                               [ask, native, Americans]              3   \n1             [home, drunk, MAGA, Trump2020, 👊, 🇺, 🇸, 👊]              8   \n2      [Amazon, investigate, chinese, employee, sell,...             18   \n3              [should'vetaken, piece, shit, volcano, 😂]              5   \n4       [Obama, want, liberal, amp, illegal, red, state]              7   \n...                                                  ...            ...   \n13235  [strong, vibe, people, man, vibe, ten, million...             10   \n13236  [benidorm, ✅, creamfield, ✅, Maga, ✅, shabby, ...              8   \n13237                            [report, garbage, crap]              3   \n13238                                            [Pussy]              1   \n13239  [Spanishrevenge, vs., justice, HumanRights, fr...             10   \n\n                                                 numbers  labels_a  \n0      [0, 0, 0, 0, 0, 0, 0, 0, 0, 0, 0, 0, 0, 0, 0, ...         1  \n1      [0, 0, 0, 0, 0, 0, 0, 0, 0, 0, 0, 0, 0, 0, 0, ...         1  \n2      [0, 0, 0, 0, 0, 0, 0, 0, 0, 0, 0, 0, 0, 0, 0, ...         0  \n3      [0, 0, 0, 0, 0, 0, 0, 0, 0, 0, 0, 0, 0, 0, 0, ...         1  \n4      [0, 0, 0, 0, 0, 0, 0, 0, 0, 0, 0, 0, 0, 0, 0, ...         0  \n...                                                  ...       ...  \n13235  [0, 0, 0, 0, 0, 0, 0, 0, 0, 0, 0, 0, 0, 0, 0, ...         1  \n13236  [0, 0, 0, 0, 0, 0, 0, 0, 0, 0, 0, 0, 0, 0, 0, ...         0  \n13237  [0, 0, 0, 0, 0, 0, 0, 0, 0, 0, 0, 0, 0, 0, 0, ...         1  \n13238  [0, 0, 0, 0, 0, 0, 0, 0, 0, 0, 0, 0, 0, 0, 0, ...         1  \n13239  [0, 0, 0, 0, 0, 0, 0, 0, 0, 0, 0, 0, 0, 0, 0, ...         0  \n\n[13240 rows x 10 columns]",
      "text/html": "<div>\n<style scoped>\n    .dataframe tbody tr th:only-of-type {\n        vertical-align: middle;\n    }\n\n    .dataframe tbody tr th {\n        vertical-align: top;\n    }\n\n    .dataframe thead th {\n        text-align: right;\n    }\n</style>\n<table border=\"1\" class=\"dataframe\">\n  <thead>\n    <tr style=\"text-align: right;\">\n      <th></th>\n      <th>id</th>\n      <th>tweet</th>\n      <th>subtask_a</th>\n      <th>subtask_b</th>\n      <th>subtask_c</th>\n      <th>tokens</th>\n      <th>lemmas</th>\n      <th>length_lemmas</th>\n      <th>numbers</th>\n      <th>labels_a</th>\n    </tr>\n  </thead>\n  <tbody>\n    <tr>\n      <th>0</th>\n      <td>86426</td>\n      <td>@USER She should ask a few native Americans wh...</td>\n      <td>OFF</td>\n      <td>UNT</td>\n      <td>NaN</td>\n      <td>(@USER, She, should, ask, a, few, native, Amer...</td>\n      <td>[ask, native, Americans]</td>\n      <td>3</td>\n      <td>[0, 0, 0, 0, 0, 0, 0, 0, 0, 0, 0, 0, 0, 0, 0, ...</td>\n      <td>1</td>\n    </tr>\n    <tr>\n      <th>1</th>\n      <td>90194</td>\n      <td>@USER @USER Go home you’re drunk!!! @USER #MAG...</td>\n      <td>OFF</td>\n      <td>TIN</td>\n      <td>IND</td>\n      <td>(@USER, @USER, Go, home, you, ’re, drunk, !, !...</td>\n      <td>[home, drunk, MAGA, Trump2020, 👊, 🇺, 🇸, 👊]</td>\n      <td>8</td>\n      <td>[0, 0, 0, 0, 0, 0, 0, 0, 0, 0, 0, 0, 0, 0, 0, ...</td>\n      <td>1</td>\n    </tr>\n    <tr>\n      <th>2</th>\n      <td>16820</td>\n      <td>Amazon is investigating Chinese employees who ...</td>\n      <td>NOT</td>\n      <td>NaN</td>\n      <td>NaN</td>\n      <td>(Amazon, is, investigating, Chinese, employees...</td>\n      <td>[Amazon, investigate, chinese, employee, sell,...</td>\n      <td>18</td>\n      <td>[0, 0, 0, 0, 0, 0, 0, 0, 0, 0, 0, 0, 0, 0, 0, ...</td>\n      <td>0</td>\n    </tr>\n    <tr>\n      <th>3</th>\n      <td>62688</td>\n      <td>@USER Someone should'veTaken\" this piece of sh...</td>\n      <td>OFF</td>\n      <td>UNT</td>\n      <td>NaN</td>\n      <td>(@USER, Someone, should'veTaken, \", this, piec...</td>\n      <td>[should'vetaken, piece, shit, volcano, 😂]</td>\n      <td>5</td>\n      <td>[0, 0, 0, 0, 0, 0, 0, 0, 0, 0, 0, 0, 0, 0, 0, ...</td>\n      <td>1</td>\n    </tr>\n    <tr>\n      <th>4</th>\n      <td>43605</td>\n      <td>@USER @USER Obama wanted liberals &amp;amp; illega...</td>\n      <td>NOT</td>\n      <td>NaN</td>\n      <td>NaN</td>\n      <td>(@USER, @USER, Obama, wanted, liberals, &amp;, amp...</td>\n      <td>[Obama, want, liberal, amp, illegal, red, state]</td>\n      <td>7</td>\n      <td>[0, 0, 0, 0, 0, 0, 0, 0, 0, 0, 0, 0, 0, 0, 0, ...</td>\n      <td>0</td>\n    </tr>\n    <tr>\n      <th>...</th>\n      <td>...</td>\n      <td>...</td>\n      <td>...</td>\n      <td>...</td>\n      <td>...</td>\n      <td>...</td>\n      <td>...</td>\n      <td>...</td>\n      <td>...</td>\n      <td>...</td>\n    </tr>\n    <tr>\n      <th>13235</th>\n      <td>95338</td>\n      <td>@USER Sometimes I get strong vibes from people...</td>\n      <td>OFF</td>\n      <td>TIN</td>\n      <td>IND</td>\n      <td>(@USER, Sometimes, I, get, strong, vibes, from...</td>\n      <td>[strong, vibe, people, man, vibe, ten, million...</td>\n      <td>10</td>\n      <td>[0, 0, 0, 0, 0, 0, 0, 0, 0, 0, 0, 0, 0, 0, 0, ...</td>\n      <td>1</td>\n    </tr>\n    <tr>\n      <th>13236</th>\n      <td>67210</td>\n      <td>Benidorm ✅  Creamfields ✅  Maga ✅   Not too sh...</td>\n      <td>NOT</td>\n      <td>NaN</td>\n      <td>NaN</td>\n      <td>(Benidorm, ✅,  , Creamfields, ✅,  , Maga, ✅,  ...</td>\n      <td>[benidorm, ✅, creamfield, ✅, Maga, ✅, shabby, ...</td>\n      <td>8</td>\n      <td>[0, 0, 0, 0, 0, 0, 0, 0, 0, 0, 0, 0, 0, 0, 0, ...</td>\n      <td>0</td>\n    </tr>\n    <tr>\n      <th>13237</th>\n      <td>82921</td>\n      <td>@USER And why report this garbage.  We don't g...</td>\n      <td>OFF</td>\n      <td>TIN</td>\n      <td>OTH</td>\n      <td>(@USER, And, why, report, this, garbage, .,  ,...</td>\n      <td>[report, garbage, crap]</td>\n      <td>3</td>\n      <td>[0, 0, 0, 0, 0, 0, 0, 0, 0, 0, 0, 0, 0, 0, 0, ...</td>\n      <td>1</td>\n    </tr>\n    <tr>\n      <th>13238</th>\n      <td>27429</td>\n      <td>@USER Pussy</td>\n      <td>OFF</td>\n      <td>UNT</td>\n      <td>NaN</td>\n      <td>(@USER, Pussy)</td>\n      <td>[Pussy]</td>\n      <td>1</td>\n      <td>[0, 0, 0, 0, 0, 0, 0, 0, 0, 0, 0, 0, 0, 0, 0, ...</td>\n      <td>1</td>\n    </tr>\n    <tr>\n      <th>13239</th>\n      <td>46552</td>\n      <td>#Spanishrevenge vs. #justice #HumanRights and ...</td>\n      <td>NOT</td>\n      <td>NaN</td>\n      <td>NaN</td>\n      <td>(#, Spanishrevenge, vs., #, justice, #, HumanR...</td>\n      <td>[Spanishrevenge, vs., justice, HumanRights, fr...</td>\n      <td>10</td>\n      <td>[0, 0, 0, 0, 0, 0, 0, 0, 0, 0, 0, 0, 0, 0, 0, ...</td>\n      <td>0</td>\n    </tr>\n  </tbody>\n</table>\n<p>13240 rows × 10 columns</p>\n</div>"
     },
     "execution_count": 55,
     "metadata": {},
     "output_type": "execute_result"
    }
   ],
   "source": [
    "tweets"
   ]
  },
  {
   "cell_type": "code",
   "execution_count": 56,
   "metadata": {
    "collapsed": false,
    "jupyter": {
     "outputs_hidden": false
    },
    "pycharm": {
     "name": "#%%\n"
    }
   },
   "outputs": [
    {
     "data": {
      "text/plain": "id                                                           86426\ntweet            @USER She should ask a few native Americans wh...\nsubtask_a                                                      OFF\nsubtask_b                                                      UNT\nsubtask_c                                                      NaN\ntokens           (@USER, She, should, ask, a, few, native, Amer...\nlemmas                                    [ask, native, Americans]\nlength_lemmas                                                    3\nnumbers          [0, 0, 0, 0, 0, 0, 0, 0, 0, 0, 0, 0, 0, 0, 0, ...\nlabels_a                                                         1\nName: 0, dtype: object"
     },
     "execution_count": 56,
     "metadata": {},
     "output_type": "execute_result"
    }
   ],
   "source": [
    "tweets.iloc[0]"
   ]
  },
  {
   "cell_type": "code",
   "execution_count": 57,
   "metadata": {
    "collapsed": false,
    "jupyter": {
     "outputs_hidden": false
    },
    "pycharm": {
     "name": "#%%\n"
    }
   },
   "outputs": [],
   "source": [
    "y_train = tweets['labels_a'].values"
   ]
  },
  {
   "cell_type": "code",
   "execution_count": 58,
   "metadata": {
    "collapsed": false,
    "jupyter": {
     "outputs_hidden": false
    },
    "pycharm": {
     "name": "#%%\n"
    }
   },
   "outputs": [],
   "source": [
    "y_train = torch.tensor(y_train).reshape(-1,1)"
   ]
  },
  {
   "cell_type": "code",
   "execution_count": 59,
   "metadata": {
    "collapsed": false,
    "jupyter": {
     "outputs_hidden": false
    },
    "pycharm": {
     "name": "#%%\n"
    }
   },
   "outputs": [
    {
     "data": {
      "text/plain": "tensor([[1],\n        [1],\n        [0],\n        [1],\n        [0]], dtype=torch.int8)"
     },
     "execution_count": 59,
     "metadata": {},
     "output_type": "execute_result"
    }
   ],
   "source": [
    "y_train[:5]"
   ]
  },
  {
   "cell_type": "code",
   "execution_count": 60,
   "metadata": {
    "collapsed": false,
    "jupyter": {
     "outputs_hidden": false
    },
    "pycharm": {
     "name": "#%%\n"
    }
   },
   "outputs": [],
   "source": [
    "data = torch.cat((X_train, y_train), axis=1)"
   ]
  },
  {
   "cell_type": "code",
   "execution_count": 61,
   "metadata": {
    "collapsed": false,
    "jupyter": {
     "outputs_hidden": false
    },
    "pycharm": {
     "name": "#%%\n"
    }
   },
   "outputs": [],
   "source": [
    "data = data.to(device)"
   ]
  },
  {
   "cell_type": "code",
   "execution_count": 61,
   "metadata": {
    "collapsed": false,
    "jupyter": {
     "outputs_hidden": false
    },
    "pycharm": {
     "name": "#%%\n"
    }
   },
   "outputs": [],
   "source": [
    "\n"
   ]
  },
  {
   "cell_type": "markdown",
   "metadata": {
    "pycharm": {
     "name": "#%% md\n"
    }
   },
   "source": [
    "## Opracowywanie danych testowych"
   ]
  },
  {
   "cell_type": "code",
   "execution_count": 62,
   "metadata": {
    "collapsed": false,
    "jupyter": {
     "outputs_hidden": false
    },
    "pycharm": {
     "name": "#%%\n"
    }
   },
   "outputs": [],
   "source": [
    "dict_lemmas = convert_words_to_numbers(test_a['lemmas'], dict_lemmas)"
   ]
  },
  {
   "cell_type": "code",
   "execution_count": 63,
   "metadata": {
    "collapsed": false,
    "jupyter": {
     "outputs_hidden": false
    },
    "pycharm": {
     "name": "#%%\n"
    }
   },
   "outputs": [
    {
     "data": {
      "text/plain": "['$',\n '&amp',\n \"'cause\",\n \"'em\",\n '(sorry',\n '*disclaimer',\n '+',\n '+15',\n '+2',\n '--&gt']"
     },
     "execution_count": 63,
     "metadata": {},
     "output_type": "execute_result"
    }
   ],
   "source": [
    "sorted(dict_lemmas)[:10]"
   ]
  },
  {
   "cell_type": "code",
   "execution_count": 64,
   "metadata": {
    "collapsed": false,
    "jupyter": {
     "outputs_hidden": false
    },
    "pycharm": {
     "name": "#%%\n"
    }
   },
   "outputs": [],
   "source": [
    "# zamiana lematu na liczbe ze slownika ktory odpowiada danemu slowu\n",
    "test_a['numbers'] = test_a['lemmas'].apply(lambda row : lemmas_to_numbers(row, max_width, dict_lemmas))"
   ]
  },
  {
   "cell_type": "code",
   "execution_count": 65,
   "metadata": {
    "collapsed": false,
    "jupyter": {
     "outputs_hidden": false
    },
    "pycharm": {
     "name": "#%%\n"
    }
   },
   "outputs": [
    {
     "data": {
      "text/plain": "0    [WhoIsQ, wherestheserver, DumpNike, DECLASFISA...\n1    [ConstitutionDay, revere, conservative, hate, ...\n2    [foxnew, NRA, MAGA, POTUS, TRUMP, 2ndamendment...\n3    [watch, Boomer, get, news, parole, make, smile...\n4    [NoPasaran, unity, demo, oppose, far, right, L...\nName: lemmas, dtype: object"
     },
     "execution_count": 65,
     "metadata": {},
     "output_type": "execute_result"
    }
   ],
   "source": [
    "test_a['lemmas'].head()"
   ]
  },
  {
   "cell_type": "code",
   "execution_count": 66,
   "metadata": {
    "collapsed": false,
    "jupyter": {
     "outputs_hidden": false
    },
    "pycharm": {
     "name": "#%%\n"
    }
   },
   "outputs": [
    {
     "data": {
      "text/plain": "0    [0, 0, 0, 0, 0, 0, 0, 0, 0, 0, 0, 0, 0, 0, 0, ...\n1    [0, 0, 0, 0, 0, 0, 0, 0, 0, 0, 0, 0, 0, 0, 0, ...\n2    [0, 0, 0, 0, 0, 0, 0, 0, 0, 0, 0, 0, 0, 0, 0, ...\n3    [0, 0, 0, 0, 0, 0, 0, 0, 0, 0, 0, 0, 0, 0, 0, ...\n4    [0, 0, 0, 0, 0, 0, 0, 0, 0, 0, 0, 0, 0, 0, 0, ...\n5    [0, 0, 0, 0, 0, 0, 0, 0, 0, 0, 0, 0, 0, 0, 0, ...\nName: numbers, dtype: object"
     },
     "execution_count": 66,
     "metadata": {},
     "output_type": "execute_result"
    }
   ],
   "source": [
    "test_a.loc[:5, 'numbers']"
   ]
  },
  {
   "cell_type": "code",
   "execution_count": 66,
   "metadata": {
    "collapsed": false,
    "jupyter": {
     "outputs_hidden": false
    },
    "pycharm": {
     "name": "#%%\n"
    }
   },
   "outputs": [],
   "source": []
  },
  {
   "cell_type": "markdown",
   "metadata": {
    "pycharm": {
     "name": "#%% md\n"
    }
   },
   "source": [
    "### Robienie tego samego procesu co wcześniej dla danych testowych\n"
   ]
  },
  {
   "cell_type": "code",
   "execution_count": 67,
   "metadata": {
    "collapsed": false,
    "jupyter": {
     "outputs_hidden": false
    },
    "pycharm": {
     "name": "#%%\n"
    }
   },
   "outputs": [],
   "source": [
    "X_test = test_a['numbers'].values\n"
   ]
  },
  {
   "cell_type": "code",
   "execution_count": 68,
   "metadata": {
    "collapsed": false,
    "jupyter": {
     "outputs_hidden": false
    },
    "pycharm": {
     "name": "#%%\n"
    }
   },
   "outputs": [],
   "source": [
    "X_test = np.stack(X_test)"
   ]
  },
  {
   "cell_type": "code",
   "execution_count": 69,
   "metadata": {
    "collapsed": false,
    "jupyter": {
     "outputs_hidden": false
    },
    "pycharm": {
     "name": "#%%\n"
    }
   },
   "outputs": [],
   "source": [
    "X_test = torch.FloatTensor(X_test)"
   ]
  },
  {
   "cell_type": "code",
   "execution_count": 70,
   "metadata": {
    "collapsed": false,
    "jupyter": {
     "outputs_hidden": false
    },
    "pycharm": {
     "name": "#%%\n"
    }
   },
   "outputs": [],
   "source": [
    "# cat_cols = ['subtask_a', 'subtask_b', 'subtask_c']\n",
    "# for col in cat_cols:\n",
    "#     X_test[col] = X_test[col].astype('category')"
   ]
  },
  {
   "cell_type": "code",
   "execution_count": 71,
   "metadata": {
    "collapsed": false,
    "jupyter": {
     "outputs_hidden": false
    },
    "pycharm": {
     "name": "#%%\n"
    }
   },
   "outputs": [],
   "source": [
    "test_a['subtask_a'] = test_a['subtask_a'].astype('category')"
   ]
  },
  {
   "cell_type": "code",
   "execution_count": 72,
   "metadata": {
    "collapsed": false,
    "jupyter": {
     "outputs_hidden": false
    },
    "pycharm": {
     "name": "#%%\n"
    }
   },
   "outputs": [],
   "source": [
    "test_a['labels_a'] = test_a['subtask_a'].cat.codes"
   ]
  },
  {
   "cell_type": "code",
   "execution_count": 73,
   "metadata": {
    "collapsed": false,
    "jupyter": {
     "outputs_hidden": false
    },
    "pycharm": {
     "name": "#%%\n"
    }
   },
   "outputs": [
    {
     "data": {
      "text/plain": "0    1\n1    0\n2    0\n3    0\n4    1\n5    1\nName: labels_a, dtype: int8"
     },
     "execution_count": 73,
     "metadata": {},
     "output_type": "execute_result"
    }
   ],
   "source": [
    "# OFFENSIVE jest jako 1, a NOT OFFENSIVE jest jako 0\n",
    "test_a.loc[:5, 'labels_a']"
   ]
  },
  {
   "cell_type": "markdown",
   "metadata": {},
   "source": []
  },
  {
   "cell_type": "code",
   "execution_count": 74,
   "metadata": {
    "collapsed": false,
    "jupyter": {
     "outputs_hidden": false
    },
    "pycharm": {
     "name": "#%%\n"
    }
   },
   "outputs": [],
   "source": [
    "y_test = test_a['labels_a'].values"
   ]
  },
  {
   "cell_type": "code",
   "execution_count": 75,
   "metadata": {
    "collapsed": false,
    "jupyter": {
     "outputs_hidden": false
    },
    "pycharm": {
     "name": "#%%\n"
    }
   },
   "outputs": [],
   "source": [
    "y_test = torch.tensor(y_test).reshape(-1,1)"
   ]
  },
  {
   "cell_type": "code",
   "execution_count": 76,
   "metadata": {
    "collapsed": false,
    "jupyter": {
     "outputs_hidden": false
    },
    "pycharm": {
     "name": "#%%\n"
    }
   },
   "outputs": [
    {
     "data": {
      "text/plain": "tensor([[1],\n        [0],\n        [0],\n        [0],\n        [1]], dtype=torch.int8)"
     },
     "execution_count": 76,
     "metadata": {},
     "output_type": "execute_result"
    }
   ],
   "source": [
    "y_test[:5]"
   ]
  },
  {
   "cell_type": "code",
   "execution_count": 77,
   "metadata": {
    "collapsed": false,
    "jupyter": {
     "outputs_hidden": false
    },
    "pycharm": {
     "name": "#%%\n"
    }
   },
   "outputs": [],
   "source": [
    "data_test_a = torch.cat((X_test, y_test), axis=1)"
   ]
  },
  {
   "cell_type": "code",
   "execution_count": 78,
   "metadata": {
    "collapsed": false,
    "jupyter": {
     "outputs_hidden": false
    },
    "pycharm": {
     "name": "#%%\n"
    }
   },
   "outputs": [],
   "source": [
    "data_test_a = data_test_a.to(device)"
   ]
  },
  {
   "cell_type": "markdown",
   "source": [
    "#### sprawdzanie czy etykiety są tak samo przydzielone liczbom w danych testowych i treningowych"
   ],
   "metadata": {
    "collapsed": false,
    "pycharm": {
     "name": "#%% md\n"
    }
   }
  },
  {
   "cell_type": "code",
   "execution_count": 79,
   "outputs": [
    {
     "data": {
      "text/plain": "  subtask_a  labels_a\n0       OFF         1\n2       NOT         0",
      "text/html": "<div>\n<style scoped>\n    .dataframe tbody tr th:only-of-type {\n        vertical-align: middle;\n    }\n\n    .dataframe tbody tr th {\n        vertical-align: top;\n    }\n\n    .dataframe thead th {\n        text-align: right;\n    }\n</style>\n<table border=\"1\" class=\"dataframe\">\n  <thead>\n    <tr style=\"text-align: right;\">\n      <th></th>\n      <th>subtask_a</th>\n      <th>labels_a</th>\n    </tr>\n  </thead>\n  <tbody>\n    <tr>\n      <th>0</th>\n      <td>OFF</td>\n      <td>1</td>\n    </tr>\n    <tr>\n      <th>2</th>\n      <td>NOT</td>\n      <td>0</td>\n    </tr>\n  </tbody>\n</table>\n</div>"
     },
     "execution_count": 79,
     "metadata": {},
     "output_type": "execute_result"
    }
   ],
   "source": [
    "tweets.loc[[0, 2], ['subtask_a', 'labels_a']]"
   ],
   "metadata": {
    "collapsed": false,
    "pycharm": {
     "name": "#%%\n"
    }
   }
  },
  {
   "cell_type": "code",
   "execution_count": 80,
   "outputs": [
    {
     "data": {
      "text/plain": "  subtask_a  labels_a\n0       OFF         1\n1       NOT         0",
      "text/html": "<div>\n<style scoped>\n    .dataframe tbody tr th:only-of-type {\n        vertical-align: middle;\n    }\n\n    .dataframe tbody tr th {\n        vertical-align: top;\n    }\n\n    .dataframe thead th {\n        text-align: right;\n    }\n</style>\n<table border=\"1\" class=\"dataframe\">\n  <thead>\n    <tr style=\"text-align: right;\">\n      <th></th>\n      <th>subtask_a</th>\n      <th>labels_a</th>\n    </tr>\n  </thead>\n  <tbody>\n    <tr>\n      <th>0</th>\n      <td>OFF</td>\n      <td>1</td>\n    </tr>\n    <tr>\n      <th>1</th>\n      <td>NOT</td>\n      <td>0</td>\n    </tr>\n  </tbody>\n</table>\n</div>"
     },
     "execution_count": 80,
     "metadata": {},
     "output_type": "execute_result"
    }
   ],
   "source": [
    "test_a.loc[[0, 1], ['subtask_a', 'labels_a']]"
   ],
   "metadata": {
    "collapsed": false,
    "pycharm": {
     "name": "#%%\n"
    }
   }
  },
  {
   "cell_type": "markdown",
   "metadata": {
    "pycharm": {
     "name": "#%% md\n"
    }
   },
   "source": [
    "## Generowanie embedingów na podstawie embedingów ze spacy"
   ]
  },
  {
   "cell_type": "code",
   "execution_count": 81,
   "metadata": {
    "collapsed": false,
    "jupyter": {
     "outputs_hidden": false
    },
    "pycharm": {
     "name": "#%%\n"
    }
   },
   "outputs": [],
   "source": [
    "embeddings = []"
   ]
  },
  {
   "cell_type": "code",
   "execution_count": 82,
   "metadata": {
    "collapsed": false,
    "jupyter": {
     "outputs_hidden": false
    },
    "pycharm": {
     "name": "#%%\n"
    }
   },
   "outputs": [],
   "source": [
    "embeddings.append(np.zeros(96))"
   ]
  },
  {
   "cell_type": "code",
   "execution_count": 83,
   "metadata": {
    "collapsed": false,
    "jupyter": {
     "outputs_hidden": false
    },
    "pycharm": {
     "name": "#%%\n"
    }
   },
   "outputs": [],
   "source": [
    "for key, value in dict_lemmas.items():\n",
    "    embeddings.append(nlp(key)[0].vector)\n",
    "    # print(key)"
   ]
  },
  {
   "cell_type": "code",
   "execution_count": 84,
   "metadata": {
    "collapsed": false,
    "jupyter": {
     "outputs_hidden": false
    },
    "pycharm": {
     "name": "#%%\n"
    }
   },
   "outputs": [],
   "source": [
    "# embeddings"
   ]
  },
  {
   "cell_type": "code",
   "execution_count": 85,
   "metadata": {
    "collapsed": false,
    "jupyter": {
     "outputs_hidden": false
    },
    "pycharm": {
     "name": "#%%\n"
    }
   },
   "outputs": [
    {
     "data": {
      "text/plain": "21584"
     },
     "execution_count": 85,
     "metadata": {},
     "output_type": "execute_result"
    }
   ],
   "source": [
    "len(dict_lemmas)"
   ]
  },
  {
   "cell_type": "code",
   "execution_count": 86,
   "metadata": {
    "collapsed": false,
    "jupyter": {
     "outputs_hidden": false
    },
    "pycharm": {
     "name": "#%%\n"
    }
   },
   "outputs": [],
   "source": [
    "dict_lemmas_inverted = {v: k for k, v in dict_lemmas.items()}"
   ]
  },
  {
   "cell_type": "code",
   "execution_count": 87,
   "metadata": {
    "collapsed": false,
    "jupyter": {
     "outputs_hidden": false
    },
    "pycharm": {
     "name": "#%%\n"
    }
   },
   "outputs": [],
   "source": [
    "# dict_lemmas_inverted"
   ]
  },
  {
   "cell_type": "code",
   "execution_count": 88,
   "metadata": {
    "collapsed": false,
    "jupyter": {
     "outputs_hidden": false
    },
    "pycharm": {
     "name": "#%%\n"
    }
   },
   "outputs": [
    {
     "name": "stdout",
     "output_type": "stream",
     "text": [
      "finished\n"
     ]
    }
   ],
   "source": [
    "# sprawdzanie embeddingów - czy dobrze się zapisały\n",
    "for key, value in dict_lemmas.items():\n",
    "    comparison = embeddings[value] == nlp(key)[0].vector\n",
    "    if comparison.all() == False:\n",
    "        print('false')\n",
    "\n",
    "print('finished')\n"
   ]
  },
  {
   "cell_type": "code",
   "execution_count": 89,
   "metadata": {
    "collapsed": false,
    "jupyter": {
     "outputs_hidden": false
    },
    "pycharm": {
     "name": "#%%\n"
    }
   },
   "outputs": [
    {
     "data": {
      "text/plain": "array([-0.676073  ,  0.09062457, -0.19625556,  0.9512366 ,  0.7504209 ,\n        1.1548312 ,  1.0129769 , -0.8388504 , -1.1186899 ,  0.71350086],\n      dtype=float32)"
     },
     "execution_count": 89,
     "metadata": {},
     "output_type": "execute_result"
    }
   ],
   "source": [
    "embeddings[1][:10]"
   ]
  },
  {
   "cell_type": "code",
   "execution_count": 90,
   "metadata": {
    "collapsed": false,
    "jupyter": {
     "outputs_hidden": false
    },
    "pycharm": {
     "name": "#%%\n"
    }
   },
   "outputs": [],
   "source": [
    "emb_torch = torch.tensor(embeddings, dtype=torch.float32, device=device)"
   ]
  },
  {
   "cell_type": "code",
   "execution_count": 91,
   "metadata": {
    "collapsed": false,
    "jupyter": {
     "outputs_hidden": false
    },
    "pycharm": {
     "name": "#%%\n"
    }
   },
   "outputs": [
    {
     "data": {
      "text/plain": "torch.Size([21585, 96])"
     },
     "execution_count": 91,
     "metadata": {},
     "output_type": "execute_result"
    }
   ],
   "source": [
    "emb_torch.shape"
   ]
  },
  {
   "cell_type": "markdown",
   "metadata": {},
   "source": [
    "## Definiowanie modelu"
   ]
  },
  {
   "cell_type": "code",
   "execution_count": 92,
   "metadata": {
    "collapsed": false,
    "jupyter": {
     "outputs_hidden": false
    },
    "pycharm": {
     "name": "#%%\n"
    }
   },
   "outputs": [],
   "source": [
    "class Model(nn.Module):\n",
    "    def __init__(self, emb_vectors, in_features=18, h1=80, h2=50, h3=None, embedding_dim=None, out_features=1):\n",
    "        super().__init__()\n",
    "\n",
    "        # warstwa embeddingów\n",
    "        self.embedding = nn.Embedding.from_pretrained(emb_vectors)\n",
    "\n",
    "        # self.embedding = nn.Embedding(vocab_size, embedding_dim)\n",
    "\n",
    "        # dropout layer - losowe pomijanie uczenia się pewnych neuronów\n",
    "        self.dropout = nn.Dropout(0.3)\n",
    "\n",
    "        self.fc1 = nn.Linear(embedding_dim * in_features, h1)\n",
    "        self.fc2 = nn.Linear(h1, h2)\n",
    "        if h3 is None:\n",
    "            self.out = nn.Linear(h2, out_features)\n",
    "        # self.sig = nn.Sigmoid()\n",
    "        else:\n",
    "            self.fc3 = nn.Linear(h2, h3)\n",
    "            self.out = nn.Linear(h3, out_features)\n",
    "\n",
    "\n",
    "    def forward(self, x):\n",
    "        # print(x.shape)\n",
    "        x = x.long()\n",
    "        # print(x.shape)\n",
    "        embeds = self.embedding(x)\n",
    "        \n",
    "        # print(embeds.shape)\n",
    "        embeds = embeds.view(embeds.shape[0], -1)\n",
    "        # print(embeds.shape)\n",
    "        x = torch.sigmoid(self.fc1(embeds))\n",
    "        \n",
    "        x = self.dropout(x)\n",
    "        \n",
    "        # x = self.dropout(x)\n",
    "\n",
    "        x = torch.sigmoid(self.fc2(x))\n",
    "        x = self.dropout(x)\n",
    "\n",
    "        if h3 is not None:\n",
    "            x = torch.sigmoid(self.fc3(x))\n",
    "            x = self.dropout(x)\n",
    "        x = torch.sigmoid(self.out(x))\n",
    "\n",
    "        return x"
   ]
  },
  {
   "cell_type": "markdown",
   "metadata": {},
   "source": [
    "## Ustawnia modelu i sieci"
   ]
  },
  {
   "cell_type": "code",
   "execution_count": 93,
   "metadata": {
    "collapsed": false,
    "jupyter": {
     "outputs_hidden": false
    },
    "pycharm": {
     "name": "#%%\n"
    }
   },
   "outputs": [
    {
     "name": "stdout",
     "output_type": "stream",
     "text": [
      "max width: 73\n"
     ]
    }
   ],
   "source": [
    "print('max width: 73')"
   ]
  },
  {
   "cell_type": "code",
   "execution_count": 371,
   "metadata": {
    "collapsed": false,
    "jupyter": {
     "outputs_hidden": false
    },
    "pycharm": {
     "name": "#%%\n"
    }
   },
   "outputs": [],
   "source": [
    "epochs = 150\n",
    "learning_rate = 0.002\n",
    "batch_size = 500\n",
    "vocab_size = len(dict_lemmas) + 1\n",
    "embedding_dim = emb_torch.shape[1]\n",
    "h1 = 2\n",
    "h2 = 3\n",
    "h3 = None\n"
   ]
  },
  {
   "cell_type": "code",
   "execution_count": 372,
   "metadata": {
    "collapsed": false,
    "jupyter": {
     "outputs_hidden": false
    },
    "pycharm": {
     "name": "#%%\n"
    }
   },
   "outputs": [],
   "source": [
    "train_dataset_loader = torch.utils.data.DataLoader(data, batch_size=batch_size, shuffle=True)\n",
    "test_dataset_loader_a = torch.utils.data.DataLoader(data_test_a, batch_size=batch_size, shuffle=True)"
   ]
  },
  {
   "cell_type": "markdown",
   "metadata": {
    "pycharm": {
     "name": "#%% md\n"
    }
   },
   "source": [
    "## Tworzenie instancji modelu\n",
    "Ustawianie funkcji straty i optymalizatora"
   ]
  },
  {
   "cell_type": "code",
   "execution_count": 373,
   "metadata": {
    "collapsed": false,
    "jupyter": {
     "outputs_hidden": false
    },
    "pycharm": {
     "name": "#%%\n"
    }
   },
   "outputs": [],
   "source": [
    "# tworzenie numpy array z listy liczb (odpowiadających lematom)"
   ]
  },
  {
   "cell_type": "code",
   "execution_count": 374,
   "metadata": {
    "collapsed": false,
    "jupyter": {
     "outputs_hidden": false
    },
    "pycharm": {
     "name": "#%%\n"
    }
   },
   "outputs": [
    {
     "data": {
      "text/plain": "73"
     },
     "execution_count": 374,
     "metadata": {},
     "output_type": "execute_result"
    }
   ],
   "source": [
    "max_width"
   ]
  },
  {
   "cell_type": "code",
   "execution_count": 375,
   "metadata": {
    "collapsed": false,
    "jupyter": {
     "outputs_hidden": false
    },
    "pycharm": {
     "name": "#%%\n"
    }
   },
   "outputs": [],
   "source": [
    "torch.manual_seed(32)\n",
    "model = Model(emb_torch, max_width, h1, h2, h3, embedding_dim)"
   ]
  },
  {
   "cell_type": "code",
   "execution_count": 376,
   "metadata": {
    "collapsed": false,
    "jupyter": {
     "outputs_hidden": false
    },
    "pycharm": {
     "name": "#%%\n"
    }
   },
   "outputs": [],
   "source": [
    "model = model.to(device)"
   ]
  },
  {
   "cell_type": "code",
   "execution_count": 377,
   "metadata": {
    "collapsed": false,
    "jupyter": {
     "outputs_hidden": false
    },
    "pycharm": {
     "name": "#%%\n"
    }
   },
   "outputs": [],
   "source": [
    "criterion = nn.BCELoss()\n",
    "optimizer = torch.optim.Adam(model.parameters(), lr=learning_rate)"
   ]
  },
  {
   "cell_type": "code",
   "execution_count": 378,
   "metadata": {
    "collapsed": false,
    "jupyter": {
     "outputs_hidden": false
    },
    "pycharm": {
     "name": "#%%\n"
    }
   },
   "outputs": [
    {
     "data": {
      "text/plain": "Model(\n  (embedding): Embedding(21585, 96)\n  (dropout): Dropout(p=0.3, inplace=False)\n  (fc1): Linear(in_features=7008, out_features=2, bias=True)\n  (fc2): Linear(in_features=2, out_features=3, bias=True)\n  (out): Linear(in_features=3, out_features=1, bias=True)\n)"
     },
     "execution_count": 378,
     "metadata": {},
     "output_type": "execute_result"
    }
   ],
   "source": [
    "model"
   ]
  },
  {
   "cell_type": "markdown",
   "metadata": {
    "pycharm": {
     "name": "#%% md\n"
    }
   },
   "source": [
    "### Ustawianie nauki sieci i samo uczenie się"
   ]
  },
  {
   "cell_type": "code",
   "execution_count": 379,
   "metadata": {
    "collapsed": false,
    "jupyter": {
     "outputs_hidden": false
    },
    "pycharm": {
     "name": "#%%\n"
    }
   },
   "outputs": [],
   "source": [
    "losses = []\n",
    "losses_test = []\n",
    "accuracy = []\n",
    "accuracy_test = []\n",
    "train_count = len(tweets)\n",
    "test_count_a = len(test_a)"
   ]
  },
  {
   "cell_type": "code",
   "execution_count": 380,
   "outputs": [],
   "source": [
    "save_every_epoch = int(epochs/10)\n",
    "losses_imp = []\n",
    "losses_test_imp = []\n",
    "accuracy_imp = []\n",
    "accuracy_test_imp = []"
   ],
   "metadata": {
    "collapsed": false,
    "pycharm": {
     "name": "#%%\n"
    }
   }
  },
  {
   "cell_type": "code",
   "execution_count": 381,
   "metadata": {
    "collapsed": false,
    "jupyter": {
     "outputs_hidden": false
    },
    "pycharm": {
     "name": "#%%\n"
    }
   },
   "outputs": [
    {
     "name": "stdout",
     "output_type": "stream",
     "text": [
      "Loss on the first batch: 0.7876503467559814\n",
      "Loss on the first batch on test data: 0.7695052027702332\n",
      "torch.Size([])\n",
      " epoch: 0 | loss: 0.0015681879037816719 | predicted: 4400 | accuracy: 33.232627868652344 | test loss: 0.0017899427996125332 | predicted: 240 | test accuracy: 27.9069766998291\n",
      " epoch: 1 | loss: 0.0015037448744759459 | predicted: 4406 | accuracy: 33.27794647216797 | test loss: 0.0016977903454802757 | predicted: 251 | test accuracy: 29.186046600341797\n",
      " epoch: 2 | loss: 0.0014546024115063992 | predicted: 5106 | accuracy: 38.5649528503418 | test loss: 0.0016420527946117312 | predicted: 337 | test accuracy: 39.1860466003418\n",
      " epoch: 3 | loss: 0.0014135121578896515 | predicted: 6491 | accuracy: 49.02568054199219 | test loss: 0.001586444987807163 | predicted: 553 | test accuracy: 64.30232238769531\n",
      " epoch: 4 | loss: 0.001383135037839953 | predicted: 8421 | accuracy: 63.602718353271484 | test loss: 0.0015493690967559814 | predicted: 610 | test accuracy: 70.93022918701172\n",
      " epoch: 5 | loss: 0.0013581003667364668 | predicted: 8756 | accuracy: 66.13292694091797 | test loss: 0.0015115037907001583 | predicted: 620 | test accuracy: 72.09302520751953\n",
      " epoch: 6 | loss: 0.0013400181542710596 | predicted: 8840 | accuracy: 66.76737213134766 | test loss: 0.0014760172644326854 | predicted: 620 | test accuracy: 72.09302520751953\n",
      " epoch: 7 | loss: 0.001324796244457049 | predicted: 8840 | accuracy: 66.76737213134766 | test loss: 0.0014499988666800566 | predicted: 620 | test accuracy: 72.09302520751953\n",
      " epoch: 8 | loss: 0.0013184920538588233 | predicted: 8840 | accuracy: 66.76737213134766 | test loss: 0.0014371402734933898 | predicted: 620 | test accuracy: 72.09302520751953\n",
      " epoch: 9 | loss: 0.001313400412614252 | predicted: 8840 | accuracy: 66.76737213134766 | test loss: 0.0014204670523488244 | predicted: 620 | test accuracy: 72.09302520751953\n",
      " epoch: 10 | loss: 0.0013090786256818973 | predicted: 8840 | accuracy: 66.76737213134766 | test loss: 0.0014263227235439212 | predicted: 620 | test accuracy: 72.09302520751953\n",
      " epoch: 11 | loss: 0.0013078826431781503 | predicted: 8840 | accuracy: 66.76737213134766 | test loss: 0.001422303360561992 | predicted: 620 | test accuracy: 72.09302520751953\n",
      " epoch: 12 | loss: 0.0013073877985743958 | predicted: 8840 | accuracy: 66.76737213134766 | test loss: 0.0014076596082643021 | predicted: 620 | test accuracy: 72.09302520751953\n",
      " epoch: 13 | loss: 0.0013022000696003618 | predicted: 8840 | accuracy: 66.76737213134766 | test loss: 0.0014120014600975568 | predicted: 620 | test accuracy: 72.09302520751953\n",
      " epoch: 14 | loss: 0.0013033051505189647 | predicted: 8840 | accuracy: 66.76737213134766 | test loss: 0.0014056622288947881 | predicted: 620 | test accuracy: 72.09302520751953\n",
      " epoch: 15 | loss: 0.0012991081191693907 | predicted: 8840 | accuracy: 66.76737213134766 | test loss: 0.0014092207648033319 | predicted: 620 | test accuracy: 72.09302520751953\n",
      " epoch: 16 | loss: 0.0013016326189761436 | predicted: 8840 | accuracy: 66.76737213134766 | test loss: 0.0014134237239527149 | predicted: 620 | test accuracy: 72.09302520751953\n",
      " epoch: 17 | loss: 0.0013003075591026835 | predicted: 8840 | accuracy: 66.76737213134766 | test loss: 0.0014143482197162716 | predicted: 620 | test accuracy: 72.09302520751953\n",
      " epoch: 18 | loss: 0.001294792238679177 | predicted: 8840 | accuracy: 66.76737213134766 | test loss: 0.0014143769824227622 | predicted: 620 | test accuracy: 72.09302520751953\n",
      " epoch: 19 | loss: 0.0012948672937122356 | predicted: 8840 | accuracy: 66.76737213134766 | test loss: 0.0014043513425560884 | predicted: 620 | test accuracy: 72.09302520751953\n",
      " epoch: 20 | loss: 0.0012942551846230497 | predicted: 8840 | accuracy: 66.76737213134766 | test loss: 0.0013978322578030963 | predicted: 620 | test accuracy: 72.09302520751953\n",
      " epoch: 21 | loss: 0.0012892383102924081 | predicted: 8840 | accuracy: 66.76737213134766 | test loss: 0.001400440862012464 | predicted: 620 | test accuracy: 72.09302520751953\n",
      " epoch: 22 | loss: 0.001290251625268481 | predicted: 8840 | accuracy: 66.76737213134766 | test loss: 0.0013952154752820036 | predicted: 620 | test accuracy: 72.09302520751953\n",
      " epoch: 23 | loss: 0.0012884337376251683 | predicted: 8840 | accuracy: 66.76737213134766 | test loss: 0.0013878950545954149 | predicted: 620 | test accuracy: 72.09302520751953\n",
      " epoch: 24 | loss: 0.001288198632416048 | predicted: 8840 | accuracy: 66.76737213134766 | test loss: 0.0014149703951769096 | predicted: 620 | test accuracy: 72.09302520751953\n",
      " epoch: 25 | loss: 0.0012842411721220909 | predicted: 8840 | accuracy: 66.76737213134766 | test loss: 0.0013996421597724737 | predicted: 620 | test accuracy: 72.09302520751953\n",
      " epoch: 26 | loss: 0.0012806873667276157 | predicted: 8840 | accuracy: 66.76737213134766 | test loss: 0.0013945998840553817 | predicted: 620 | test accuracy: 72.09302520751953\n",
      " epoch: 27 | loss: 0.0012818865185417797 | predicted: 8840 | accuracy: 66.76737213134766 | test loss: 0.0014002786819324938 | predicted: 620 | test accuracy: 72.09302520751953\n",
      " epoch: 28 | loss: 0.001281313593654114 | predicted: 8840 | accuracy: 66.76737213134766 | test loss: 0.001373774159786313 | predicted: 620 | test accuracy: 72.09302520751953\n",
      " epoch: 29 | loss: 0.0012798761673204128 | predicted: 8840 | accuracy: 66.76737213134766 | test loss: 0.0013926935750384662 | predicted: 620 | test accuracy: 72.09302520751953\n",
      " epoch: 30 | loss: 0.0012744357578704005 | predicted: 8840 | accuracy: 66.76737213134766 | test loss: 0.0013912618160247803 | predicted: 620 | test accuracy: 72.09302520751953\n",
      " epoch: 31 | loss: 0.0012725467048022682 | predicted: 8840 | accuracy: 66.76737213134766 | test loss: 0.0013902028632718463 | predicted: 620 | test accuracy: 72.09302520751953\n",
      " epoch: 32 | loss: 0.0012704417064470827 | predicted: 8840 | accuracy: 66.76737213134766 | test loss: 0.0014043110054592753 | predicted: 620 | test accuracy: 72.09302520751953\n",
      " epoch: 33 | loss: 0.001268185157430136 | predicted: 8840 | accuracy: 66.76737213134766 | test loss: 0.0013835028853527336 | predicted: 620 | test accuracy: 72.09302520751953\n",
      " epoch: 34 | loss: 0.0012708074736811244 | predicted: 8840 | accuracy: 66.76737213134766 | test loss: 0.001379762000815813 | predicted: 620 | test accuracy: 72.09302520751953\n",
      " epoch: 35 | loss: 0.001267783231245427 | predicted: 8840 | accuracy: 66.76737213134766 | test loss: 0.001385685732198316 | predicted: 620 | test accuracy: 72.09302520751953\n",
      " epoch: 36 | loss: 0.0012643547576719901 | predicted: 8840 | accuracy: 66.76737213134766 | test loss: 0.001398461433344109 | predicted: 620 | test accuracy: 72.09302520751953\n",
      " epoch: 37 | loss: 0.0012635980127801347 | predicted: 8840 | accuracy: 66.76737213134766 | test loss: 0.0013835727475410284 | predicted: 620 | test accuracy: 72.09302520751953\n",
      " epoch: 38 | loss: 0.001258415325890855 | predicted: 8840 | accuracy: 66.76737213134766 | test loss: 0.001401897571807684 | predicted: 620 | test accuracy: 72.09302520751953\n",
      " epoch: 39 | loss: 0.0012517700022441022 | predicted: 8840 | accuracy: 66.76737213134766 | test loss: 0.0014009043227794558 | predicted: 620 | test accuracy: 72.09302520751953\n",
      " epoch: 40 | loss: 0.001253141881475996 | predicted: 8840 | accuracy: 66.76737213134766 | test loss: 0.0014129432827927346 | predicted: 620 | test accuracy: 72.09302520751953\n",
      " epoch: 41 | loss: 0.0012511613505844623 | predicted: 8840 | accuracy: 66.76737213134766 | test loss: 0.0014165289180223333 | predicted: 620 | test accuracy: 72.09302520751953\n",
      " epoch: 42 | loss: 0.001247576716443203 | predicted: 8840 | accuracy: 66.76737213134766 | test loss: 0.001421754512675973 | predicted: 620 | test accuracy: 72.09302520751953\n",
      " epoch: 43 | loss: 0.0012482318993421479 | predicted: 8840 | accuracy: 66.76737213134766 | test loss: 0.0014072044644244882 | predicted: 620 | test accuracy: 72.09302520751953\n",
      " epoch: 44 | loss: 0.0012433105365027113 | predicted: 8840 | accuracy: 66.76737213134766 | test loss: 0.0013957446397737014 | predicted: 620 | test accuracy: 72.09302520751953\n",
      " epoch: 45 | loss: 0.0012403845426899429 | predicted: 8840 | accuracy: 66.76737213134766 | test loss: 0.0014129058566204338 | predicted: 620 | test accuracy: 72.09302520751953\n",
      " epoch: 46 | loss: 0.0012355529289591349 | predicted: 8840 | accuracy: 66.76737213134766 | test loss: 0.0014124038607575174 | predicted: 620 | test accuracy: 72.09302520751953\n",
      " epoch: 47 | loss: 0.001232216797566486 | predicted: 8840 | accuracy: 66.76737213134766 | test loss: 0.0014219214749890705 | predicted: 620 | test accuracy: 72.09302520751953\n",
      " epoch: 48 | loss: 0.0012292523398500196 | predicted: 8840 | accuracy: 66.76737213134766 | test loss: 0.001429785268251286 | predicted: 620 | test accuracy: 72.09302520751953\n",
      " epoch: 49 | loss: 0.0012318832996748726 | predicted: 8840 | accuracy: 66.76737213134766 | test loss: 0.001421882801277693 | predicted: 620 | test accuracy: 72.09302520751953\n",
      " epoch: 50 | loss: 0.0012282668283698781 | predicted: 8840 | accuracy: 66.76737213134766 | test loss: 0.0013945561508799708 | predicted: 620 | test accuracy: 72.09302520751953\n",
      " epoch: 51 | loss: 0.001227116224628921 | predicted: 8840 | accuracy: 66.76737213134766 | test loss: 0.0014263721399529036 | predicted: 620 | test accuracy: 72.09302520751953\n",
      " epoch: 52 | loss: 0.0012284350899411111 | predicted: 8840 | accuracy: 66.76737213134766 | test loss: 0.0014208208682925203 | predicted: 620 | test accuracy: 72.09302520751953\n",
      " epoch: 53 | loss: 0.0012224881670626268 | predicted: 8840 | accuracy: 66.76737213134766 | test loss: 0.0014189342426699262 | predicted: 620 | test accuracy: 72.09302520751953\n",
      " epoch: 54 | loss: 0.0012219117847454151 | predicted: 8840 | accuracy: 66.76737213134766 | test loss: 0.001404300193453944 | predicted: 620 | test accuracy: 72.09302520751953\n",
      " epoch: 55 | loss: 0.001224733335373985 | predicted: 8840 | accuracy: 66.76737213134766 | test loss: 0.0014357019302456877 | predicted: 620 | test accuracy: 72.09302520751953\n",
      " epoch: 56 | loss: 0.0012236322881231856 | predicted: 8840 | accuracy: 66.76737213134766 | test loss: 0.0014021474954693817 | predicted: 620 | test accuracy: 72.09302520751953\n",
      " epoch: 57 | loss: 0.0012137944604695024 | predicted: 8840 | accuracy: 66.76737213134766 | test loss: 0.0014284510252087616 | predicted: 620 | test accuracy: 72.09302520751953\n",
      " epoch: 58 | loss: 0.0012129218916878599 | predicted: 8840 | accuracy: 66.76737213134766 | test loss: 0.001432549052460249 | predicted: 620 | test accuracy: 72.09302520751953\n",
      " epoch: 59 | loss: 0.0012152514789039635 | predicted: 8840 | accuracy: 66.76737213134766 | test loss: 0.001426462170689605 | predicted: 620 | test accuracy: 72.09302520751953\n",
      " epoch: 60 | loss: 0.0012121886285050038 | predicted: 8840 | accuracy: 66.76737213134766 | test loss: 0.0013949270165243815 | predicted: 620 | test accuracy: 72.09302520751953\n",
      " epoch: 61 | loss: 0.0012139255546731171 | predicted: 8840 | accuracy: 66.76737213134766 | test loss: 0.0014495374158371326 | predicted: 620 | test accuracy: 72.09302520751953\n",
      " epoch: 62 | loss: 0.0012072154762521612 | predicted: 8840 | accuracy: 66.76737213134766 | test loss: 0.0014405789070351179 | predicted: 620 | test accuracy: 72.09302520751953\n",
      " epoch: 63 | loss: 0.0012090652730889911 | predicted: 8840 | accuracy: 66.76737213134766 | test loss: 0.001435807139374489 | predicted: 620 | test accuracy: 72.09302520751953\n",
      " epoch: 64 | loss: 0.001199793887642575 | predicted: 8840 | accuracy: 66.76737213134766 | test loss: 0.0014390513647434323 | predicted: 620 | test accuracy: 72.09302520751953\n",
      " epoch: 65 | loss: 0.00120334473981598 | predicted: 8840 | accuracy: 66.76737213134766 | test loss: 0.0014194214066793752 | predicted: 620 | test accuracy: 72.09302520751953\n",
      " epoch: 66 | loss: 0.0011972547657900347 | predicted: 8840 | accuracy: 66.76737213134766 | test loss: 0.0014372568490893343 | predicted: 620 | test accuracy: 72.09302520751953\n",
      " epoch: 67 | loss: 0.0011973053306971431 | predicted: 8840 | accuracy: 66.76737213134766 | test loss: 0.0014515309139739635 | predicted: 620 | test accuracy: 72.09302520751953\n",
      " epoch: 68 | loss: 0.0012021898142880903 | predicted: 8840 | accuracy: 66.76737213134766 | test loss: 0.0014608043570851171 | predicted: 620 | test accuracy: 72.09302520751953\n",
      " epoch: 69 | loss: 0.0011933352651913001 | predicted: 8840 | accuracy: 66.76737213134766 | test loss: 0.0014571081067240516 | predicted: 620 | test accuracy: 72.09302520751953\n",
      " epoch: 70 | loss: 0.0011904957071171786 | predicted: 8840 | accuracy: 66.76737213134766 | test loss: 0.0014292974804722986 | predicted: 616 | test accuracy: 71.6279067993164\n",
      " epoch: 71 | loss: 0.0011953806949166013 | predicted: 8850 | accuracy: 66.84290313720703 | test loss: 0.0014562934637069702 | predicted: 616 | test accuracy: 71.6279067993164\n",
      " epoch: 72 | loss: 0.0011944073564696528 | predicted: 8853 | accuracy: 66.86556243896484 | test loss: 0.001449521128521409 | predicted: 620 | test accuracy: 72.09302520751953\n",
      " epoch: 73 | loss: 0.0011869780606733708 | predicted: 8844 | accuracy: 66.7975845336914 | test loss: 0.0014804501173108122 | predicted: 611 | test accuracy: 71.0465087890625\n",
      " epoch: 74 | loss: 0.001180818001669339 | predicted: 8843 | accuracy: 66.79003143310547 | test loss: 0.0015012382074844005 | predicted: 601 | test accuracy: 69.88372039794922\n",
      " epoch: 75 | loss: 0.0011912298346574213 | predicted: 8876 | accuracy: 67.03927612304688 | test loss: 0.0014476559189862982 | predicted: 594 | test accuracy: 69.06977081298828\n",
      " epoch: 76 | loss: 0.0011892497359445807 | predicted: 8880 | accuracy: 67.06948852539062 | test loss: 0.0014659785947134327 | predicted: 582 | test accuracy: 67.6744155883789\n",
      " epoch: 77 | loss: 0.0011859352134865936 | predicted: 8892 | accuracy: 67.16011810302734 | test loss: 0.0014597817215808602 | predicted: 595 | test accuracy: 69.18604278564453\n",
      " epoch: 78 | loss: 0.001184937312883913 | predicted: 8910 | accuracy: 67.29607391357422 | test loss: 0.0014304858307505762 | predicted: 612 | test accuracy: 71.16278839111328\n",
      " epoch: 79 | loss: 0.0011809532736003219 | predicted: 8889 | accuracy: 67.13745880126953 | test loss: 0.0015264802200849665 | predicted: 568 | test accuracy: 66.0465087890625\n",
      " epoch: 80 | loss: 0.0011795427864051658 | predicted: 8985 | accuracy: 67.86254119873047 | test loss: 0.0015130322339922883 | predicted: 581 | test accuracy: 67.55813598632812\n",
      " epoch: 81 | loss: 0.0011794038409552905 | predicted: 8935 | accuracy: 67.48489379882812 | test loss: 0.0014793770257816759 | predicted: 577 | test accuracy: 67.09302520751953\n",
      " epoch: 82 | loss: 0.001175750202282678 | predicted: 9067 | accuracy: 68.48187255859375 | test loss: 0.0014544655417287073 | predicted: 551 | test accuracy: 64.06977081298828\n",
      " epoch: 83 | loss: 0.0011778772417512186 | predicted: 8977 | accuracy: 67.80211639404297 | test loss: 0.001486509969068128 | predicted: 561 | test accuracy: 65.23255920410156\n",
      " epoch: 84 | loss: 0.001181206890463469 | predicted: 9087 | accuracy: 68.63292694091797 | test loss: 0.001459064247996308 | predicted: 579 | test accuracy: 67.3255844116211\n",
      " epoch: 85 | loss: 0.0011736234509332664 | predicted: 9053 | accuracy: 68.37612915039062 | test loss: 0.0014894398145897444 | predicted: 567 | test accuracy: 65.93022918701172\n",
      " epoch: 86 | loss: 0.0011826804757478374 | predicted: 8994 | accuracy: 67.93051147460938 | test loss: 0.0015190607586572336 | predicted: 570 | test accuracy: 66.27906799316406\n",
      " epoch: 87 | loss: 0.0011704101303192784 | predicted: 9094 | accuracy: 68.68579864501953 | test loss: 0.0015011770087619161 | predicted: 572 | test accuracy: 66.51162719726562\n",
      " epoch: 88 | loss: 0.0011763310504463865 | predicted: 9142 | accuracy: 69.04833984375 | test loss: 0.0014366712681082791 | predicted: 551 | test accuracy: 64.06977081298828\n",
      " epoch: 89 | loss: 0.0011790295742069485 | predicted: 9036 | accuracy: 68.24773406982422 | test loss: 0.001503696552542753 | predicted: 569 | test accuracy: 66.16278839111328\n",
      " epoch: 90 | loss: 0.00116764512306974 | predicted: 9111 | accuracy: 68.81420135498047 | test loss: 0.0014749078556548717 | predicted: 578 | test accuracy: 67.20930480957031\n",
      " epoch: 91 | loss: 0.0011777669641546613 | predicted: 9105 | accuracy: 68.76888275146484 | test loss: 0.001485433204229488 | predicted: 552 | test accuracy: 64.18604278564453\n",
      " epoch: 92 | loss: 0.0011781956133885686 | predicted: 9128 | accuracy: 68.94259643554688 | test loss: 0.0014950660772101824 | predicted: 561 | test accuracy: 65.23255920410156\n",
      " epoch: 93 | loss: 0.00117040789739603 | predicted: 9156 | accuracy: 69.1540756225586 | test loss: 0.001527200188747672 | predicted: 573 | test accuracy: 66.6279067993164\n",
      " epoch: 94 | loss: 0.0011697849118097311 | predicted: 9126 | accuracy: 68.927490234375 | test loss: 0.001464737709178481 | predicted: 565 | test accuracy: 65.69767761230469\n",
      " epoch: 95 | loss: 0.0011684267902662387 | predicted: 9128 | accuracy: 68.94259643554688 | test loss: 0.0015103039353392845 | predicted: 561 | test accuracy: 65.23255920410156\n",
      " epoch: 96 | loss: 0.0011625194117381853 | predicted: 9153 | accuracy: 69.13141632080078 | test loss: 0.0014791757561439692 | predicted: 577 | test accuracy: 67.09302520751953\n",
      " epoch: 97 | loss: 0.001172254524922443 | predicted: 9177 | accuracy: 69.31269073486328 | test loss: 0.0014231250729671745 | predicted: 581 | test accuracy: 67.55813598632812\n",
      " epoch: 98 | loss: 0.0011724541914787177 | predicted: 9154 | accuracy: 69.13896942138672 | test loss: 0.0014531272095303202 | predicted: 579 | test accuracy: 67.3255844116211\n",
      " epoch: 99 | loss: 0.0011631014123784091 | predicted: 9197 | accuracy: 69.4637451171875 | test loss: 0.001458722283673841 | predicted: 583 | test accuracy: 67.79069519042969\n",
      " epoch: 100 | loss: 0.0011610009518995025 | predicted: 9177 | accuracy: 69.31269073486328 | test loss: 0.0015295258788175362 | predicted: 549 | test accuracy: 63.83720779418945\n",
      " epoch: 101 | loss: 0.0011639672823903064 | predicted: 9309 | accuracy: 70.3096694946289 | test loss: 0.00148029625415802 | predicted: 570 | test accuracy: 66.27906799316406\n",
      " epoch: 102 | loss: 0.0011644085368360997 | predicted: 9223 | accuracy: 69.66011810302734 | test loss: 0.0014929661917132 | predicted: 578 | test accuracy: 67.20930480957031\n",
      " epoch: 103 | loss: 0.001160077241972494 | predicted: 9256 | accuracy: 69.90936279296875 | test loss: 0.0015318151823309964 | predicted: 567 | test accuracy: 65.93022918701172\n",
      " epoch: 104 | loss: 0.001164697592352092 | predicted: 9180 | accuracy: 69.3353500366211 | test loss: 0.0014711841594341188 | predicted: 565 | test accuracy: 65.69767761230469\n",
      " epoch: 105 | loss: 0.001157956325035441 | predicted: 9244 | accuracy: 69.81873321533203 | test loss: 0.0015697631725045138 | predicted: 559 | test accuracy: 65.0\n",
      " epoch: 106 | loss: 0.0011602051668656917 | predicted: 9268 | accuracy: 70.0 | test loss: 0.001479792456294215 | predicted: 585 | test accuracy: 68.02325439453125\n",
      " epoch: 107 | loss: 0.001156343001973593 | predicted: 9269 | accuracy: 70.00755310058594 | test loss: 0.0015234051055686417 | predicted: 559 | test accuracy: 65.0\n",
      " epoch: 108 | loss: 0.0011524929380849049 | predicted: 9290 | accuracy: 70.1661605834961 | test loss: 0.0015458655218745386 | predicted: 551 | test accuracy: 64.06977081298828\n",
      " epoch: 109 | loss: 0.0011619611809260896 | predicted: 9242 | accuracy: 69.80362701416016 | test loss: 0.0014798851900322493 | predicted: 555 | test accuracy: 64.53488159179688\n",
      " epoch: 110 | loss: 0.00115749915200778 | predicted: 9292 | accuracy: 70.18126678466797 | test loss: 0.0014998139337051746 | predicted: 569 | test accuracy: 66.16278839111328\n",
      " epoch: 111 | loss: 0.0011603196221896168 | predicted: 9305 | accuracy: 70.27945709228516 | test loss: 0.0015472486268642337 | predicted: 560 | test accuracy: 65.11627960205078\n",
      " epoch: 112 | loss: 0.0011622823617249457 | predicted: 9268 | accuracy: 70.0 | test loss: 0.0014932599871657615 | predicted: 578 | test accuracy: 67.20930480957031\n",
      " epoch: 113 | loss: 0.0011633228319289101 | predicted: 9210 | accuracy: 69.56193542480469 | test loss: 0.0014818093111348706 | predicted: 566 | test accuracy: 65.81394958496094\n",
      " epoch: 114 | loss: 0.0011535104307883455 | predicted: 9326 | accuracy: 70.43806457519531 | test loss: 0.0015399182258650315 | predicted: 558 | test accuracy: 64.88372039794922\n",
      " epoch: 115 | loss: 0.00115784331030716 | predicted: 9292 | accuracy: 70.18126678466797 | test loss: 0.001474982638691747 | predicted: 570 | test accuracy: 66.27906799316406\n",
      " epoch: 116 | loss: 0.0011576257083351158 | predicted: 9271 | accuracy: 70.02265930175781 | test loss: 0.0015278448199116906 | predicted: 570 | test accuracy: 66.27906799316406\n",
      " epoch: 117 | loss: 0.0011597031192837166 | predicted: 9283 | accuracy: 70.11329650878906 | test loss: 0.0015215088461720666 | predicted: 551 | test accuracy: 64.06977081298828\n",
      " epoch: 118 | loss: 0.0011485521887004196 | predicted: 9387 | accuracy: 70.89878845214844 | test loss: 0.001541904793229214 | predicted: 559 | test accuracy: 65.0\n",
      " epoch: 119 | loss: 0.0011487411948489278 | predicted: 9364 | accuracy: 70.7250747680664 | test loss: 0.0014903943205988683 | predicted: 549 | test accuracy: 63.83720779418945\n",
      " epoch: 120 | loss: 0.0011521605206400245 | predicted: 9357 | accuracy: 70.67220306396484 | test loss: 0.0015079580074132874 | predicted: 550 | test accuracy: 63.953487396240234\n",
      " epoch: 121 | loss: 0.0011537570607626185 | predicted: 9343 | accuracy: 70.56646728515625 | test loss: 0.0015206742425297583 | predicted: 555 | test accuracy: 64.53488159179688\n",
      " epoch: 122 | loss: 0.0011604504282741028 | predicted: 9294 | accuracy: 70.19637298583984 | test loss: 0.0015438504690347716 | predicted: 553 | test accuracy: 64.30232238769531\n",
      " epoch: 123 | loss: 0.0011547777227764763 | predicted: 9300 | accuracy: 70.24169158935547 | test loss: 0.0015280379805453989 | predicted: 569 | test accuracy: 66.16278839111328\n",
      " epoch: 124 | loss: 0.0011532537166445637 | predicted: 9325 | accuracy: 70.43051147460938 | test loss: 0.001514683490575746 | predicted: 579 | test accuracy: 67.3255844116211\n",
      " epoch: 125 | loss: 0.0011524610288913876 | predicted: 9336 | accuracy: 70.51359558105469 | test loss: 0.0015446436959643697 | predicted: 562 | test accuracy: 65.34883880615234\n",
      " epoch: 126 | loss: 0.0011515634657753198 | predicted: 9322 | accuracy: 70.40785217285156 | test loss: 0.0015593117059663284 | predicted: 560 | test accuracy: 65.11627960205078\n",
      " epoch: 127 | loss: 0.0011466307222302947 | predicted: 9385 | accuracy: 70.88368225097656 | test loss: 0.0015819314607354099 | predicted: 551 | test accuracy: 64.06977081298828\n",
      " epoch: 128 | loss: 0.0011421279964850387 | predicted: 9430 | accuracy: 71.22356414794922 | test loss: 0.0014897641054419583 | predicted: 581 | test accuracy: 67.55813598632812\n",
      " epoch: 129 | loss: 0.00115407939403799 | predicted: 9360 | accuracy: 70.69486236572266 | test loss: 0.0015442362358403761 | predicted: 563 | test accuracy: 65.46511840820312\n",
      " epoch: 130 | loss: 0.0011515111721534382 | predicted: 9282 | accuracy: 70.10574340820312 | test loss: 0.0014958200066588646 | predicted: 563 | test accuracy: 65.46511840820312\n",
      " epoch: 131 | loss: 0.0011521851548255391 | predicted: 9344 | accuracy: 70.57402038574219 | test loss: 0.001528167585993922 | predicted: 572 | test accuracy: 66.51162719726562\n",
      " epoch: 132 | loss: 0.0011493038194777382 | predicted: 9302 | accuracy: 70.25679779052734 | test loss: 0.001498159974120384 | predicted: 563 | test accuracy: 65.46511840820312\n",
      " epoch: 133 | loss: 0.0011515749185106905 | predicted: 9366 | accuracy: 70.74018096923828 | test loss: 0.0015454798936843871 | predicted: 567 | test accuracy: 65.93022918701172\n",
      " epoch: 134 | loss: 0.0011513602697597169 | predicted: 9305 | accuracy: 70.27945709228516 | test loss: 0.0015549896761428478 | predicted: 542 | test accuracy: 63.02325439453125\n",
      " epoch: 135 | loss: 0.0011473519564395224 | predicted: 9323 | accuracy: 70.4154052734375 | test loss: 0.0015517464903898018 | predicted: 558 | test accuracy: 64.88372039794922\n",
      " epoch: 136 | loss: 0.0011485045049845991 | predicted: 9330 | accuracy: 70.46827697753906 | test loss: 0.0015167101178058357 | predicted: 571 | test accuracy: 66.39534759521484\n",
      " epoch: 137 | loss: 0.001143965260139765 | predicted: 9372 | accuracy: 70.7854995727539 | test loss: 0.0015619954397512036 | predicted: 569 | test accuracy: 66.16278839111328\n",
      " epoch: 138 | loss: 0.0011345482304737286 | predicted: 9472 | accuracy: 71.54078674316406 | test loss: 0.0014890498200128245 | predicted: 579 | test accuracy: 67.3255844116211\n",
      " epoch: 139 | loss: 0.0011411425570346798 | predicted: 9376 | accuracy: 70.81571197509766 | test loss: 0.0015038909607155379 | predicted: 564 | test accuracy: 65.5813980102539\n",
      " epoch: 140 | loss: 0.0011479861066420634 | predicted: 9343 | accuracy: 70.56646728515625 | test loss: 0.0015438327262567919 | predicted: 558 | test accuracy: 64.88372039794922\n",
      " epoch: 141 | loss: 0.0011438072267976052 | predicted: 9400 | accuracy: 70.99697875976562 | test loss: 0.0015227719794872194 | predicted: 571 | test accuracy: 66.39534759521484\n",
      " epoch: 142 | loss: 0.001146237655708797 | predicted: 9328 | accuracy: 70.45317077636719 | test loss: 0.0014686657245769057 | predicted: 571 | test accuracy: 66.39534759521484\n",
      " epoch: 143 | loss: 0.001136384845860415 | predicted: 9437 | accuracy: 71.27643585205078 | test loss: 0.0014954609926356825 | predicted: 559 | test accuracy: 65.0\n",
      " epoch: 144 | loss: 0.0011463938883064016 | predicted: 9360 | accuracy: 70.69486236572266 | test loss: 0.0015330445627833522 | predicted: 565 | test accuracy: 65.69767761230469\n",
      " epoch: 145 | loss: 0.0011416098862616318 | predicted: 9437 | accuracy: 71.27643585205078 | test loss: 0.0015960746033247127 | predicted: 567 | test accuracy: 65.93022918701172\n",
      " epoch: 146 | loss: 0.0011409977051426636 | predicted: 9356 | accuracy: 70.6646499633789 | test loss: 0.0015438731326613314 | predicted: 557 | test accuracy: 64.76744079589844\n",
      " epoch: 147 | loss: 0.001141753009438875 | predicted: 9446 | accuracy: 71.34441375732422 | test loss: 0.0014746329119039137 | predicted: 571 | test accuracy: 66.39534759521484\n",
      " epoch: 148 | loss: 0.0011422727763472727 | predicted: 9441 | accuracy: 71.30664825439453 | test loss: 0.0015634235947631127 | predicted: 549 | test accuracy: 63.83720779418945\n",
      " epoch: 149 | loss: 0.0011384420164402159 | predicted: 9401 | accuracy: 71.00453186035156 | test loss: 0.0015461078909940497 | predicted: 567 | test accuracy: 65.93022918701172\n"
     ]
    }
   ],
   "source": [
    "start_time = time.time()\n",
    "for e in range(epochs):\n",
    "    loss_epoch = torch.empty(0)\n",
    "    correct_epoch = 0\n",
    "\n",
    "    loss_epoch_test = np.empty(0)\n",
    "    correct_epoch_test = 0\n",
    "\n",
    "    for batch_num, batch in enumerate(train_dataset_loader):\n",
    "        X_train = batch[:,:-1]\n",
    "        y_train = batch[:,-1].reshape(-1,1)\n",
    "        y_pred = model.forward(X_train)\n",
    "\n",
    "        loss = criterion(y_pred, y_train)\n",
    "        if (e == 0 and batch_num == 0):\n",
    "            print(f'Loss on the first batch: {loss}')\n",
    "\n",
    "        # print(loss.item())\n",
    "        loss_epoch = np.append(loss_epoch, loss.detach().cpu().numpy())\n",
    "        # losses.append(loss.item())\n",
    "\n",
    "\n",
    "        optimizer.zero_grad()\n",
    "        loss.backward()\n",
    "        optimizer.step()\n",
    "\n",
    "\n",
    "        predicted = torch.round(y_pred)\n",
    "        # print(y_train)\n",
    "        predicted = (predicted == y_train).sum().cpu()\n",
    "        pred_cpu = predicted.cpu()\n",
    "        # print(f'pred_cpu: {pred_cpu}')\n",
    "        correct_epoch += predicted\n",
    "\n",
    "# przechodzenie przez dane testowe\n",
    "    with torch.no_grad():\n",
    "        for batch_num_test, batch_test in enumerate(test_dataset_loader_a):\n",
    "            X_test = batch_test[:,:-1]\n",
    "            y_test = batch_test[:,-1].reshape(-1,1)\n",
    "            y_pred_test = model.forward(X_test)\n",
    "\n",
    "            loss_test = criterion(y_pred_test, y_test)\n",
    "            if (e == 0 and batch_num_test == 0):\n",
    "                print(f'Loss on the first batch on test data: {loss_test}')\n",
    "                print(loss_test.shape)\n",
    "\n",
    "            # print(loss.item())\n",
    "            loss_epoch_test = np.append(loss_epoch_test, loss_test.item())\n",
    "            # print(loss_test)\n",
    "            # losses.append(loss.item())\n",
    "\n",
    "            predicted = torch.round(y_pred_test)\n",
    "            # print(predicted)\n",
    "            # print(y_test)\n",
    "            predicted = (predicted == y_test).sum()\n",
    "            pred_cpu = predicted.cpu()\n",
    "            # print(f'pred_cpu: {pred_cpu}')\n",
    "            correct_epoch_test += predicted\n",
    "\n",
    "        loss_epoch_test = loss_epoch_test.sum() / test_count_a\n",
    "        losses_test.append(loss_epoch_test)\n",
    "        accuracy_epoch_test = correct_epoch_test * 100/test_count_a\n",
    "        accuracy_epoch_test_cpu = accuracy_epoch_test.cpu()\n",
    "        accuracy_test.append(accuracy_epoch_test_cpu)\n",
    "\n",
    "        if e % save_every_epoch == 0:\n",
    "            losses_test_imp.append((e, loss_epoch_test))\n",
    "            accuracy_test_imp.append((e, accuracy_epoch_test_cpu))\n",
    "\n",
    "    loss_epoch = loss_epoch.sum() / train_count\n",
    "    losses.append(loss_epoch)\n",
    "    accuracy_epoch = correct_epoch * 100/train_count\n",
    "    accuracy_epoch_cpu = accuracy_epoch.cpu()\n",
    "    accuracy.append(accuracy_epoch)\n",
    "\n",
    "    if e % save_every_epoch == 0:\n",
    "        losses_imp.append((e, loss_epoch))\n",
    "        accuracy_imp.append((e, accuracy_epoch_cpu))\n",
    "\n",
    "    # print(f'Test accuracy: {correct_epoch.item()}/{train_count} = {correct.item() * 100 / (test_count):7.3f}%')\n",
    "    print(f' epoch: {e} | loss: {loss_epoch} | predicted: {correct_epoch} | accuracy: {accuracy_epoch} | test loss: {loss_epoch_test} | ' \\\n",
    "          + f'predicted: {correct_epoch_test} | test accuracy: {accuracy_epoch_test}')\n",
    "\n",
    "duration = time.time() - start_time"
   ]
  },
  {
   "cell_type": "markdown",
   "metadata": {
    "pycharm": {
     "name": "#%% md\n"
    }
   },
   "source": [
    "## Rysowanie funkcji straty i accuracy na przestrzeni epok"
   ]
  },
  {
   "cell_type": "code",
   "execution_count": 409,
   "metadata": {
    "collapsed": false,
    "jupyter": {
     "outputs_hidden": false
    },
    "pycharm": {
     "name": "#%%\n"
    }
   },
   "outputs": [
    {
     "data": {
      "text/plain": "<Figure size 1152x504 with 2 Axes>",
      "image/png": "[encoded data removed]"
     },
     "metadata": {
      "needs_background": "light"
     },
     "output_type": "display_data"
    }
   ],
   "source": [
    "## Plot loss functions over epochs\n",
    "fig, (ax1, ax2) = plt.subplots(1, 2, figsize=(16,7))\n",
    "\n",
    "ax1.plot(range(epochs), losses, label=\"Training data\")\n",
    "ax1.plot(range(epochs), losses_test, label=\"Test data\")\n",
    "ax1.set_title('Losses and epochs')\n",
    "\n",
    "ax1.legend(loc=\"upper right\")\n",
    "\n",
    "ax2.plot(range(epochs), accuracy, label=\"Training data\")\n",
    "ax2.plot(range(epochs), accuracy_test, label=\"Test data\")\n",
    "ax2.set_title(\"Accuracy and epochs\")\n",
    "\n",
    "ax2.legend(loc=\"lower right\")\n",
    "\n",
    "ax1.set_xlabel('Epoch')\n",
    "ax1.set_ylabel('Loss')\n",
    "\n",
    "ax2.set_xlabel('Epoch')\n",
    "ax2.set_ylabel('Accuracy')\n",
    "\n",
    "plt.show()"
   ]
  },
  {
   "cell_type": "code",
   "execution_count": 383,
   "metadata": {
    "collapsed": false,
    "jupyter": {
     "outputs_hidden": false
    },
    "pycharm": {
     "name": "#%%\n"
    }
   },
   "outputs": [],
   "source": [
    "# dictionary storing the data\n",
    "summary = {\n",
    "    \"Best\": [min(losses), max(accuracy), min(losses_test), max(accuracy_test)],\n",
    "}"
   ]
  },
  {
   "cell_type": "code",
   "execution_count": 384,
   "outputs": [],
   "source": [
    "for i in range(len(losses_imp)):\n",
    "    tr = 'Training ', losses_imp[i][0]\n",
    "    tt = 'Testing ', losses_test_imp[i][0]\n",
    "    summary[losses_imp[i][0]] = [losses_imp[i][1], accuracy_imp[i][1], losses_test_imp[i][1], accuracy_test_imp[i][1]]"
   ],
   "metadata": {
    "collapsed": false,
    "pycharm": {
     "name": "#%%\n"
    }
   }
  },
  {
   "cell_type": "code",
   "execution_count": 385,
   "outputs": [],
   "source": [
    "# dataframe from dict\n",
    "summary_df = pd.DataFrame.from_dict(summary, orient='index', columns=['Loss', 'Accuracy', 'Loss test', 'Accuracy test'])"
   ],
   "metadata": {
    "collapsed": false,
    "pycharm": {
     "name": "#%%\n"
    }
   }
  },
  {
   "cell_type": "code",
   "execution_count": 386,
   "metadata": {
    "collapsed": false,
    "jupyter": {
     "outputs_hidden": false
    },
    "pycharm": {
     "name": "#%%\n"
    }
   },
   "outputs": [
    {
     "name": "stdout",
     "output_type": "stream",
     "text": [
      "Spacy embeddings\n",
      "Model(\n",
      "  (embedding): Embedding(21585, 96)\n",
      "  (dropout): Dropout(p=0.3, inplace=False)\n",
      "  (fc1): Linear(in_features=7008, out_features=2, bias=True)\n",
      "  (fc2): Linear(in_features=2, out_features=3, bias=True)\n",
      "  (out): Linear(in_features=3, out_features=1, bias=True)\n",
      ")\n",
      "learning_rate:  0.002\n",
      "batch_size:  500\n",
      "time:  14.171486377716064\n"
     ]
    }
   ],
   "source": [
    "print('Spacy embeddings')\n",
    "print(model)\n",
    "print('learning_rate: ', learning_rate)\n",
    "print('batch_size: ', batch_size)\n",
    "print('time: ', duration)"
   ]
  },
  {
   "cell_type": "code",
   "execution_count": 387,
   "metadata": {
    "collapsed": false,
    "jupyter": {
     "outputs_hidden": false
    },
    "pycharm": {
     "name": "#%%\n"
    }
   },
   "outputs": [
    {
     "data": {
      "text/plain": "          Loss         Accuracy  Loss test    Accuracy test\nBest  0.001135  tensor(71.5408)   0.001374  tensor(72.0930)\n0     0.001568  tensor(33.2326)   0.001790  tensor(27.9070)\n15    0.001299  tensor(66.7674)   0.001409  tensor(72.0930)\n30    0.001274  tensor(66.7674)   0.001391  tensor(72.0930)\n45    0.001240  tensor(66.7674)   0.001413  tensor(72.0930)\n60    0.001212  tensor(66.7674)   0.001395  tensor(72.0930)\n75    0.001191  tensor(67.0393)   0.001448  tensor(69.0698)\n90    0.001168  tensor(68.8142)   0.001475  tensor(67.2093)\n105   0.001158  tensor(69.8187)   0.001570      tensor(65.)\n120   0.001152  tensor(70.6722)   0.001508  tensor(63.9535)\n135   0.001147  tensor(70.4154)   0.001552  tensor(64.8837)",
      "text/html": "<div>\n<style scoped>\n    .dataframe tbody tr th:only-of-type {\n        vertical-align: middle;\n    }\n\n    .dataframe tbody tr th {\n        vertical-align: top;\n    }\n\n    .dataframe thead th {\n        text-align: right;\n    }\n</style>\n<table border=\"1\" class=\"dataframe\">\n  <thead>\n    <tr style=\"text-align: right;\">\n      <th></th>\n      <th>Loss</th>\n      <th>Accuracy</th>\n      <th>Loss test</th>\n      <th>Accuracy test</th>\n    </tr>\n  </thead>\n  <tbody>\n    <tr>\n      <th>Best</th>\n      <td>0.001135</td>\n      <td>tensor(71.5408)</td>\n      <td>0.001374</td>\n      <td>tensor(72.0930)</td>\n    </tr>\n    <tr>\n      <th>0</th>\n      <td>0.001568</td>\n      <td>tensor(33.2326)</td>\n      <td>0.001790</td>\n      <td>tensor(27.9070)</td>\n    </tr>\n    <tr>\n      <th>15</th>\n      <td>0.001299</td>\n      <td>tensor(66.7674)</td>\n      <td>0.001409</td>\n      <td>tensor(72.0930)</td>\n    </tr>\n    <tr>\n      <th>30</th>\n      <td>0.001274</td>\n      <td>tensor(66.7674)</td>\n      <td>0.001391</td>\n      <td>tensor(72.0930)</td>\n    </tr>\n    <tr>\n      <th>45</th>\n      <td>0.001240</td>\n      <td>tensor(66.7674)</td>\n      <td>0.001413</td>\n      <td>tensor(72.0930)</td>\n    </tr>\n    <tr>\n      <th>60</th>\n      <td>0.001212</td>\n      <td>tensor(66.7674)</td>\n      <td>0.001395</td>\n      <td>tensor(72.0930)</td>\n    </tr>\n    <tr>\n      <th>75</th>\n      <td>0.001191</td>\n      <td>tensor(67.0393)</td>\n      <td>0.001448</td>\n      <td>tensor(69.0698)</td>\n    </tr>\n    <tr>\n      <th>90</th>\n      <td>0.001168</td>\n      <td>tensor(68.8142)</td>\n      <td>0.001475</td>\n      <td>tensor(67.2093)</td>\n    </tr>\n    <tr>\n      <th>105</th>\n      <td>0.001158</td>\n      <td>tensor(69.8187)</td>\n      <td>0.001570</td>\n      <td>tensor(65.)</td>\n    </tr>\n    <tr>\n      <th>120</th>\n      <td>0.001152</td>\n      <td>tensor(70.6722)</td>\n      <td>0.001508</td>\n      <td>tensor(63.9535)</td>\n    </tr>\n    <tr>\n      <th>135</th>\n      <td>0.001147</td>\n      <td>tensor(70.4154)</td>\n      <td>0.001552</td>\n      <td>tensor(64.8837)</td>\n    </tr>\n  </tbody>\n</table>\n</div>"
     },
     "execution_count": 387,
     "metadata": {},
     "output_type": "execute_result"
    }
   ],
   "source": [
    "summary_df"
   ]
  },
  {
   "cell_type": "code",
   "execution_count": 388,
   "metadata": {},
   "outputs": [
    {
     "data": {
      "text/plain": "<Figure size 432x288 with 1 Axes>",
      "image/png": "[encoded data removed]"
     },
     "metadata": {
      "needs_background": "light"
     },
     "output_type": "display_data"
    }
   ],
   "source": [
    "summary_df.plot();\n"
   ]
  },
  {
   "cell_type": "markdown",
   "source": [
    "Wydaję mi się, że trzeba byłoby zatrzymać nauczanie pomiędzy epoką 75 a 90 i takiego modelu używać."
   ],
   "metadata": {
    "collapsed": false,
    "pycharm": {
     "name": "#%% md\n"
    }
   }
  },
  {
   "cell_type": "code",
   "execution_count": null,
   "outputs": [],
   "source": [],
   "metadata": {
    "collapsed": false,
    "pycharm": {
     "name": "#%%\n"
    }
   }
  }
 ],
 "metadata": {
  "kernelspec": {
   "display_name": "torch-cuda",
   "language": "python",
   "name": "torch-cuda"
  },
  "language_info": {
   "codemirror_mode": {
    "name": "ipython",
    "version": 3
   },
   "file_extension": ".py",
   "mimetype": "text/x-python",
   "name": "python",
   "nbconvert_exporter": "python",
   "pygments_lexer": "ipython3",
   "version": "3.9.6"
  }
 },
 "nbformat": 4,
 "nbformat_minor": 4
}