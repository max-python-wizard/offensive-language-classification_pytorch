{
 "cells": [
  {
   "cell_type": "code",
   "execution_count": 1,
   "outputs": [],
   "source": [
    "import pandas as pd\n",
    "import numpy as np\n",
    "import matplotlib.pyplot as plt"
   ],
   "metadata": {
    "collapsed": false,
    "pycharm": {
     "name": "#%%\n"
    }
   }
  },
  {
   "cell_type": "code",
   "execution_count": 2,
   "outputs": [],
   "source": [
    "import spacy"
   ],
   "metadata": {
    "collapsed": false,
    "pycharm": {
     "name": "#%%\n"
    }
   }
  },
  {
   "cell_type": "code",
   "execution_count": 3,
   "metadata": {
    "collapsed": true
   },
   "outputs": [],
   "source": [
    "import torch\n",
    "import torch.nn as nn\n",
    "import torch.nn.functional as F"
   ]
  },
  {
   "cell_type": "code",
   "execution_count": 3,
   "outputs": [],
   "source": [],
   "metadata": {
    "collapsed": false,
    "pycharm": {
     "name": "#%%\n"
    }
   }
  },
  {
   "cell_type": "markdown",
   "source": [
    "## Ustawnia modelu i sieci"
   ],
   "metadata": {
    "collapsed": false,
    "pycharm": {
     "name": "#%% md\n"
    }
   }
  },
  {
   "cell_type": "code",
   "execution_count": 4,
   "outputs": [],
   "source": [
    "batch_size = 50"
   ],
   "metadata": {
    "collapsed": false,
    "pycharm": {
     "name": "#%%\n"
    }
   }
  },
  {
   "cell_type": "code",
   "execution_count": 4,
   "outputs": [],
   "source": [],
   "metadata": {
    "collapsed": false,
    "pycharm": {
     "name": "#%%\n"
    }
   }
  },
  {
   "cell_type": "code",
   "execution_count": 4,
   "outputs": [],
   "source": [],
   "metadata": {
    "collapsed": false,
    "pycharm": {
     "name": "#%%\n"
    }
   }
  },
  {
   "cell_type": "code",
   "execution_count": 5,
   "outputs": [
    {
     "data": {
      "text/plain": "True"
     },
     "execution_count": 5,
     "metadata": {},
     "output_type": "execute_result"
    }
   ],
   "source": [
    "torch.cuda.is_available()"
   ],
   "metadata": {
    "collapsed": false,
    "pycharm": {
     "name": "#%%\n"
    }
   }
  },
  {
   "cell_type": "markdown",
   "source": [
    "## Ładowanie danych treningowych"
   ],
   "metadata": {
    "collapsed": false,
    "pycharm": {
     "name": "#%% md\n"
    }
   }
  },
  {
   "cell_type": "code",
   "execution_count": 6,
   "outputs": [],
   "source": [
    "tweets = pd.read_csv('data/olid-training-v1.0.tsv', sep='\\t')"
   ],
   "metadata": {
    "collapsed": false,
    "pycharm": {
     "name": "#%%\n"
    }
   }
  },
  {
   "cell_type": "code",
   "execution_count": 7,
   "outputs": [
    {
     "data": {
      "text/plain": "      id                                              tweet subtask_a  \\\n0  86426  @USER She should ask a few native Americans wh...       OFF   \n1  90194  @USER @USER Go home you’re drunk!!! @USER #MAG...       OFF   \n2  16820  Amazon is investigating Chinese employees who ...       NOT   \n3  62688  @USER Someone should'veTaken\" this piece of sh...       OFF   \n4  43605  @USER @USER Obama wanted liberals &amp; illega...       NOT   \n\n  subtask_b subtask_c  \n0       UNT       NaN  \n1       TIN       IND  \n2       NaN       NaN  \n3       UNT       NaN  \n4       NaN       NaN  ",
      "text/html": "<div>\n<style scoped>\n    .dataframe tbody tr th:only-of-type {\n        vertical-align: middle;\n    }\n\n    .dataframe tbody tr th {\n        vertical-align: top;\n    }\n\n    .dataframe thead th {\n        text-align: right;\n    }\n</style>\n<table border=\"1\" class=\"dataframe\">\n  <thead>\n    <tr style=\"text-align: right;\">\n      <th></th>\n      <th>id</th>\n      <th>tweet</th>\n      <th>subtask_a</th>\n      <th>subtask_b</th>\n      <th>subtask_c</th>\n    </tr>\n  </thead>\n  <tbody>\n    <tr>\n      <th>0</th>\n      <td>86426</td>\n      <td>@USER She should ask a few native Americans wh...</td>\n      <td>OFF</td>\n      <td>UNT</td>\n      <td>NaN</td>\n    </tr>\n    <tr>\n      <th>1</th>\n      <td>90194</td>\n      <td>@USER @USER Go home you’re drunk!!! @USER #MAG...</td>\n      <td>OFF</td>\n      <td>TIN</td>\n      <td>IND</td>\n    </tr>\n    <tr>\n      <th>2</th>\n      <td>16820</td>\n      <td>Amazon is investigating Chinese employees who ...</td>\n      <td>NOT</td>\n      <td>NaN</td>\n      <td>NaN</td>\n    </tr>\n    <tr>\n      <th>3</th>\n      <td>62688</td>\n      <td>@USER Someone should'veTaken\" this piece of sh...</td>\n      <td>OFF</td>\n      <td>UNT</td>\n      <td>NaN</td>\n    </tr>\n    <tr>\n      <th>4</th>\n      <td>43605</td>\n      <td>@USER @USER Obama wanted liberals &amp;amp; illega...</td>\n      <td>NOT</td>\n      <td>NaN</td>\n      <td>NaN</td>\n    </tr>\n  </tbody>\n</table>\n</div>"
     },
     "execution_count": 7,
     "metadata": {},
     "output_type": "execute_result"
    }
   ],
   "source": [
    "tweets.head()"
   ],
   "metadata": {
    "collapsed": false,
    "pycharm": {
     "name": "#%%\n"
    }
   }
  },
  {
   "cell_type": "code",
   "execution_count": 8,
   "outputs": [],
   "source": [
    "tweets = tweets[:100]"
   ],
   "metadata": {
    "collapsed": false,
    "pycharm": {
     "name": "#%%\n"
    }
   }
  },
  {
   "cell_type": "code",
   "execution_count": 9,
   "outputs": [],
   "source": [
    "# tweets = tweets[:5]"
   ],
   "metadata": {
    "collapsed": false,
    "pycharm": {
     "name": "#%%\n"
    }
   }
  },
  {
   "cell_type": "markdown",
   "source": [
    "### Tokenizacja, lematyzacja, usówanie pewnych słów\n",
    "liczenie najdłuższego przetworzonego tweeta"
   ],
   "metadata": {
    "collapsed": false,
    "pycharm": {
     "name": "#%% md\n"
    }
   }
  },
  {
   "cell_type": "code",
   "execution_count": 10,
   "outputs": [],
   "source": [
    "nlp = spacy.load('en_core_web_sm')"
   ],
   "metadata": {
    "collapsed": false,
    "pycharm": {
     "name": "#%%\n"
    }
   }
  },
  {
   "cell_type": "code",
   "execution_count": 11,
   "outputs": [],
   "source": [
    "# dodawanie kolumny z tokenami\n",
    "tweets['tokens'] = tweets['tweet'].apply(nlp)"
   ],
   "metadata": {
    "collapsed": false,
    "pycharm": {
     "name": "#%%\n"
    }
   }
  },
  {
   "cell_type": "code",
   "execution_count": 12,
   "outputs": [
    {
     "data": {
      "text/plain": "      id                                              tweet subtask_a  \\\n0  86426  @USER She should ask a few native Americans wh...       OFF   \n1  90194  @USER @USER Go home you’re drunk!!! @USER #MAG...       OFF   \n2  16820  Amazon is investigating Chinese employees who ...       NOT   \n3  62688  @USER Someone should'veTaken\" this piece of sh...       OFF   \n4  43605  @USER @USER Obama wanted liberals &amp; illega...       NOT   \n\n  subtask_b subtask_c                                             tokens  \n0       UNT       NaN  (@USER, She, should, ask, a, few, native, Amer...  \n1       TIN       IND  (@USER, @USER, Go, home, you, ’re, drunk, !, !...  \n2       NaN       NaN  (Amazon, is, investigating, Chinese, employees...  \n3       UNT       NaN  (@USER, Someone, should'veTaken, \", this, piec...  \n4       NaN       NaN  (@USER, @USER, Obama, wanted, liberals, &, amp...  ",
      "text/html": "<div>\n<style scoped>\n    .dataframe tbody tr th:only-of-type {\n        vertical-align: middle;\n    }\n\n    .dataframe tbody tr th {\n        vertical-align: top;\n    }\n\n    .dataframe thead th {\n        text-align: right;\n    }\n</style>\n<table border=\"1\" class=\"dataframe\">\n  <thead>\n    <tr style=\"text-align: right;\">\n      <th></th>\n      <th>id</th>\n      <th>tweet</th>\n      <th>subtask_a</th>\n      <th>subtask_b</th>\n      <th>subtask_c</th>\n      <th>tokens</th>\n    </tr>\n  </thead>\n  <tbody>\n    <tr>\n      <th>0</th>\n      <td>86426</td>\n      <td>@USER She should ask a few native Americans wh...</td>\n      <td>OFF</td>\n      <td>UNT</td>\n      <td>NaN</td>\n      <td>(@USER, She, should, ask, a, few, native, Amer...</td>\n    </tr>\n    <tr>\n      <th>1</th>\n      <td>90194</td>\n      <td>@USER @USER Go home you’re drunk!!! @USER #MAG...</td>\n      <td>OFF</td>\n      <td>TIN</td>\n      <td>IND</td>\n      <td>(@USER, @USER, Go, home, you, ’re, drunk, !, !...</td>\n    </tr>\n    <tr>\n      <th>2</th>\n      <td>16820</td>\n      <td>Amazon is investigating Chinese employees who ...</td>\n      <td>NOT</td>\n      <td>NaN</td>\n      <td>NaN</td>\n      <td>(Amazon, is, investigating, Chinese, employees...</td>\n    </tr>\n    <tr>\n      <th>3</th>\n      <td>62688</td>\n      <td>@USER Someone should'veTaken\" this piece of sh...</td>\n      <td>OFF</td>\n      <td>UNT</td>\n      <td>NaN</td>\n      <td>(@USER, Someone, should'veTaken, \", this, piec...</td>\n    </tr>\n    <tr>\n      <th>4</th>\n      <td>43605</td>\n      <td>@USER @USER Obama wanted liberals &amp;amp; illega...</td>\n      <td>NOT</td>\n      <td>NaN</td>\n      <td>NaN</td>\n      <td>(@USER, @USER, Obama, wanted, liberals, &amp;, amp...</td>\n    </tr>\n  </tbody>\n</table>\n</div>"
     },
     "execution_count": 12,
     "metadata": {},
     "output_type": "execute_result"
    }
   ],
   "source": [
    "tweets.head()"
   ],
   "metadata": {
    "collapsed": false,
    "pycharm": {
     "name": "#%%\n"
    }
   }
  },
  {
   "cell_type": "code",
   "execution_count": 13,
   "outputs": [],
   "source": [
    "# dodawanie kolumny z lematami za pomoca funkcji lambda - przy tym usuwanie:\n",
    "# odwolan do wczesniejszych tweetow (zawiera @)\n",
    "# - slowa url (czyli adresy stron inernetowych które w danych wejściowych mają URL zamiast adreasu.\n",
    "# # - hasztagów; przyimków i innych częstych słów (stop words) oraz znaków interpunkcyjnych.\n",
    "# spacji ' ', '  ', '   '\n",
    "\n",
    "# emotikony zostawiam - uważam, że też niosą znaczenie\n",
    "\n",
    "tweets['lemmas'] = tweets['tokens'].apply\\\n",
    "    (lambda list_tokens : [token.lemma_.strip() for token in list_tokens if ('@' not in token.lemma_ \\\n",
    "                                                                     and '#' not in token.lemma_ and 'url' not in token.lemma_ \\\n",
    "                                                                     and not token.is_stop and not token.is_punct and token.lemma_ != ' ' \\\n",
    "                                                                     and token.lemma_ != '  ' and token.lemma_ != '   '\n",
    "                                                                     and token.lemma_ != '    ')])"
   ],
   "metadata": {
    "collapsed": false,
    "pycharm": {
     "name": "#%%\n"
    }
   }
  },
  {
   "cell_type": "code",
   "execution_count": 14,
   "outputs": [
    {
     "data": {
      "text/plain": "0                             [ask, native, Americans]\n1           [home, drunk, MAGA, Trump2020, 👊, 🇺, 🇸, 👊]\n2    [Amazon, investigate, chinese, employee, sell,...\n3            [should'vetaken, piece, shit, volcano, 😂]\nName: lemmas, dtype: object"
     },
     "execution_count": 14,
     "metadata": {},
     "output_type": "execute_result"
    }
   ],
   "source": [
    "tweets.loc[:3,'lemmas']"
   ],
   "metadata": {
    "collapsed": false,
    "pycharm": {
     "name": "#%%\n"
    }
   }
  },
  {
   "cell_type": "code",
   "execution_count": 15,
   "outputs": [
    {
     "data": {
      "text/plain": "@USER What’s the difference between #Kavanaugh and @USER   One of these men admitted to groping a 15 year old girl years ago.  The other is going to be #confirmed to the SCJ   #DemsareFrauds #DemsAreDone   #WalkAwayDemocrats2018 #redwave #VoteRedSaveAmerica #trumptrain #MAGA URL"
     },
     "execution_count": 15,
     "metadata": {},
     "output_type": "execute_result"
    }
   ],
   "source": [
    "tweets.loc[11, 'tokens']"
   ],
   "metadata": {
    "collapsed": false,
    "pycharm": {
     "name": "#%%\n"
    }
   }
  },
  {
   "cell_type": "code",
   "execution_count": 16,
   "outputs": [],
   "source": [
    "tweets['length_lemmas'] = tweets['lemmas'].apply(lambda row: len(row))"
   ],
   "metadata": {
    "collapsed": false,
    "pycharm": {
     "name": "#%%\n"
    }
   }
  },
  {
   "cell_type": "code",
   "execution_count": 17,
   "outputs": [
    {
     "data": {
      "text/plain": "0      3\n1      8\n2     18\n3      5\n4      7\n5      2\n6      4\n7     16\n8      2\n9     10\n10     4\nName: length_lemmas, dtype: int64"
     },
     "execution_count": 17,
     "metadata": {},
     "output_type": "execute_result"
    }
   ],
   "source": [
    "tweets.loc[:10, 'length_lemmas']"
   ],
   "metadata": {
    "collapsed": false,
    "pycharm": {
     "name": "#%%\n"
    }
   }
  },
  {
   "cell_type": "code",
   "execution_count": 18,
   "outputs": [],
   "source": [
    "max_length_tweet = max(tweets['length_lemmas'])"
   ],
   "metadata": {
    "collapsed": false,
    "pycharm": {
     "name": "#%%\n"
    }
   }
  },
  {
   "cell_type": "markdown",
   "source": [
    "## Ładowanie danych testowych(a)"
   ],
   "metadata": {
    "collapsed": false,
    "pycharm": {
     "name": "#%% md\n"
    }
   }
  },
  {
   "cell_type": "code",
   "execution_count": 19,
   "outputs": [],
   "source": [
    "test_level_a = pd.read_csv('data/testset-levela.tsv', sep='\\t')"
   ],
   "metadata": {
    "collapsed": false,
    "pycharm": {
     "name": "#%%\n"
    }
   }
  },
  {
   "cell_type": "code",
   "execution_count": 20,
   "outputs": [],
   "source": [
    "labels_level_a = pd.read_csv('data/labels-levela.csv', header=None)"
   ],
   "metadata": {
    "collapsed": false,
    "pycharm": {
     "name": "#%%\n"
    }
   }
  },
  {
   "cell_type": "code",
   "execution_count": 21,
   "outputs": [],
   "source": [
    "labels_level_a = labels_level_a.rename(columns={0:'id', 1:'subtask_a'})"
   ],
   "metadata": {
    "collapsed": false,
    "pycharm": {
     "name": "#%%\n"
    }
   }
  },
  {
   "cell_type": "code",
   "execution_count": 22,
   "outputs": [],
   "source": [
    "test_a = pd.merge(test_level_a, labels_level_a, on = \"id\", how = \"inner\")"
   ],
   "metadata": {
    "collapsed": false,
    "pycharm": {
     "name": "#%%\n"
    }
   }
  },
  {
   "cell_type": "code",
   "execution_count": 23,
   "outputs": [
    {
     "data": {
      "text/plain": "      id                                              tweet subtask_a\n0  15923  #WhoIsQ #WheresTheServer #DumpNike #DECLASFISA...       OFF\n1  27014  #ConstitutionDay is revered by Conservatives, ...       NOT\n2  30530  #FOXNews #NRA #MAGA #POTUS #TRUMP #2ndAmendmen...       NOT\n3  13876  #Watching #Boomer getting the news that she is...       NOT\n4  60133  #NoPasaran: Unity demo to oppose the far-right...       OFF",
      "text/html": "<div>\n<style scoped>\n    .dataframe tbody tr th:only-of-type {\n        vertical-align: middle;\n    }\n\n    .dataframe tbody tr th {\n        vertical-align: top;\n    }\n\n    .dataframe thead th {\n        text-align: right;\n    }\n</style>\n<table border=\"1\" class=\"dataframe\">\n  <thead>\n    <tr style=\"text-align: right;\">\n      <th></th>\n      <th>id</th>\n      <th>tweet</th>\n      <th>subtask_a</th>\n    </tr>\n  </thead>\n  <tbody>\n    <tr>\n      <th>0</th>\n      <td>15923</td>\n      <td>#WhoIsQ #WheresTheServer #DumpNike #DECLASFISA...</td>\n      <td>OFF</td>\n    </tr>\n    <tr>\n      <th>1</th>\n      <td>27014</td>\n      <td>#ConstitutionDay is revered by Conservatives, ...</td>\n      <td>NOT</td>\n    </tr>\n    <tr>\n      <th>2</th>\n      <td>30530</td>\n      <td>#FOXNews #NRA #MAGA #POTUS #TRUMP #2ndAmendmen...</td>\n      <td>NOT</td>\n    </tr>\n    <tr>\n      <th>3</th>\n      <td>13876</td>\n      <td>#Watching #Boomer getting the news that she is...</td>\n      <td>NOT</td>\n    </tr>\n    <tr>\n      <th>4</th>\n      <td>60133</td>\n      <td>#NoPasaran: Unity demo to oppose the far-right...</td>\n      <td>OFF</td>\n    </tr>\n  </tbody>\n</table>\n</div>"
     },
     "execution_count": 23,
     "metadata": {},
     "output_type": "execute_result"
    }
   ],
   "source": [
    "test_a.head()"
   ],
   "metadata": {
    "collapsed": false,
    "pycharm": {
     "name": "#%%\n"
    }
   }
  },
  {
   "cell_type": "code",
   "execution_count": 24,
   "outputs": [
    {
     "data": {
      "text/plain": "860"
     },
     "execution_count": 24,
     "metadata": {},
     "output_type": "execute_result"
    }
   ],
   "source": [
    "len(test_a)"
   ],
   "metadata": {
    "collapsed": false,
    "pycharm": {
     "name": "#%%\n"
    }
   }
  },
  {
   "cell_type": "code",
   "execution_count": 24,
   "outputs": [],
   "source": [],
   "metadata": {
    "collapsed": false,
    "pycharm": {
     "name": "#%%\n"
    }
   }
  },
  {
   "cell_type": "markdown",
   "source": [
    "### Opracowanie danych testowych (część a)\n",
    "Takie same modyfikacje jak dla danych treningowych"
   ],
   "metadata": {
    "collapsed": false
   }
  },
  {
   "cell_type": "code",
   "execution_count": 25,
   "outputs": [],
   "source": [
    "test_a['tokens'] = test_a['tweet'].apply(nlp)\n",
    "test_a['lemmas'] = test_a['tokens'].apply \\\n",
    "    (lambda list_tokens : [token.lemma_.strip() for token in list_tokens if ('@' not in token.lemma_ \\\n",
    "                                                                             and '#' not in token.lemma_ and 'url' not in token.lemma_ \\\n",
    "                                                                             and not token.is_stop and not token.is_punct and token.lemma_ != ' ' \\\n",
    "                                                                             and token.lemma_ != '  ' and token.lemma_ != '   ' \\\n",
    "                                                                             and token.lemma_ != '    ')])\n",
    "\n",
    "test_a['length_lemmas'] = test_a['lemmas'].apply(lambda row: len(row))"
   ],
   "metadata": {
    "collapsed": false,
    "pycharm": {
     "name": "#%%\n"
    }
   }
  },
  {
   "cell_type": "code",
   "execution_count": 26,
   "outputs": [
    {
     "data": {
      "text/plain": "40"
     },
     "execution_count": 26,
     "metadata": {},
     "output_type": "execute_result"
    }
   ],
   "source": [
    "max(test_a['length_lemmas'])"
   ],
   "metadata": {
    "collapsed": false,
    "pycharm": {
     "name": "#%%\n"
    }
   }
  },
  {
   "cell_type": "code",
   "execution_count": 27,
   "outputs": [
    {
     "data": {
      "text/plain": "      id                                              tweet subtask_a  \\\n0  15923  #WhoIsQ #WheresTheServer #DumpNike #DECLASFISA...       OFF   \n1  27014  #ConstitutionDay is revered by Conservatives, ...       NOT   \n2  30530  #FOXNews #NRA #MAGA #POTUS #TRUMP #2ndAmendmen...       NOT   \n3  13876  #Watching #Boomer getting the news that she is...       NOT   \n4  60133  #NoPasaran: Unity demo to oppose the far-right...       OFF   \n\n                                              tokens  \\\n0  (#, WhoIsQ, #, WheresTheServer, #, DumpNike, #...   \n1  (#, ConstitutionDay, is, revered, by, Conserva...   \n2  (#, FOXNews, #, NRA, #, MAGA, #, POTUS, #, TRU...   \n3  (#, Watching, #, Boomer, getting, the, news, t...   \n4  (#, NoPasaran, :, Unity, demo, to, oppose, the...   \n\n                                              lemmas  length_lemmas  \n0  [WhoIsQ, wherestheserver, DumpNike, DECLASFISA...             24  \n1  [ConstitutionDay, revere, conservative, hate, ...              9  \n2  [foxnew, NRA, MAGA, POTUS, TRUMP, 2ndamendment...             15  \n3  [watch, Boomer, get, news, parole, make, smile...             10  \n4  [NoPasaran, unity, demo, oppose, far, right, L...              9  ",
      "text/html": "<div>\n<style scoped>\n    .dataframe tbody tr th:only-of-type {\n        vertical-align: middle;\n    }\n\n    .dataframe tbody tr th {\n        vertical-align: top;\n    }\n\n    .dataframe thead th {\n        text-align: right;\n    }\n</style>\n<table border=\"1\" class=\"dataframe\">\n  <thead>\n    <tr style=\"text-align: right;\">\n      <th></th>\n      <th>id</th>\n      <th>tweet</th>\n      <th>subtask_a</th>\n      <th>tokens</th>\n      <th>lemmas</th>\n      <th>length_lemmas</th>\n    </tr>\n  </thead>\n  <tbody>\n    <tr>\n      <th>0</th>\n      <td>15923</td>\n      <td>#WhoIsQ #WheresTheServer #DumpNike #DECLASFISA...</td>\n      <td>OFF</td>\n      <td>(#, WhoIsQ, #, WheresTheServer, #, DumpNike, #...</td>\n      <td>[WhoIsQ, wherestheserver, DumpNike, DECLASFISA...</td>\n      <td>24</td>\n    </tr>\n    <tr>\n      <th>1</th>\n      <td>27014</td>\n      <td>#ConstitutionDay is revered by Conservatives, ...</td>\n      <td>NOT</td>\n      <td>(#, ConstitutionDay, is, revered, by, Conserva...</td>\n      <td>[ConstitutionDay, revere, conservative, hate, ...</td>\n      <td>9</td>\n    </tr>\n    <tr>\n      <th>2</th>\n      <td>30530</td>\n      <td>#FOXNews #NRA #MAGA #POTUS #TRUMP #2ndAmendmen...</td>\n      <td>NOT</td>\n      <td>(#, FOXNews, #, NRA, #, MAGA, #, POTUS, #, TRU...</td>\n      <td>[foxnew, NRA, MAGA, POTUS, TRUMP, 2ndamendment...</td>\n      <td>15</td>\n    </tr>\n    <tr>\n      <th>3</th>\n      <td>13876</td>\n      <td>#Watching #Boomer getting the news that she is...</td>\n      <td>NOT</td>\n      <td>(#, Watching, #, Boomer, getting, the, news, t...</td>\n      <td>[watch, Boomer, get, news, parole, make, smile...</td>\n      <td>10</td>\n    </tr>\n    <tr>\n      <th>4</th>\n      <td>60133</td>\n      <td>#NoPasaran: Unity demo to oppose the far-right...</td>\n      <td>OFF</td>\n      <td>(#, NoPasaran, :, Unity, demo, to, oppose, the...</td>\n      <td>[NoPasaran, unity, demo, oppose, far, right, L...</td>\n      <td>9</td>\n    </tr>\n  </tbody>\n</table>\n</div>"
     },
     "execution_count": 27,
     "metadata": {},
     "output_type": "execute_result"
    }
   ],
   "source": [
    "test_a.head()"
   ],
   "metadata": {
    "collapsed": false,
    "pycharm": {
     "name": "#%%\n"
    }
   }
  },
  {
   "cell_type": "code",
   "execution_count": 28,
   "outputs": [
    {
     "data": {
      "text/plain": "860"
     },
     "execution_count": 28,
     "metadata": {},
     "output_type": "execute_result"
    }
   ],
   "source": [
    "len(test_a)"
   ],
   "metadata": {
    "collapsed": false,
    "pycharm": {
     "name": "#%%\n"
    }
   }
  },
  {
   "cell_type": "code",
   "execution_count": 29,
   "outputs": [],
   "source": [
    "max_length_tweet_test = max(test_a['length_lemmas'])"
   ],
   "metadata": {
    "collapsed": false,
    "pycharm": {
     "name": "#%%\n"
    }
   }
  },
  {
   "cell_type": "code",
   "execution_count": 30,
   "outputs": [
    {
     "data": {
      "text/plain": "40"
     },
     "execution_count": 30,
     "metadata": {},
     "output_type": "execute_result"
    }
   ],
   "source": [
    "max_length_tweet_test"
   ],
   "metadata": {
    "collapsed": false,
    "pycharm": {
     "name": "#%%\n"
    }
   }
  },
  {
   "cell_type": "code",
   "execution_count": 30,
   "outputs": [],
   "source": [],
   "metadata": {
    "collapsed": false,
    "pycharm": {
     "name": "#%%\n"
    }
   }
  },
  {
   "cell_type": "code",
   "execution_count": 31,
   "outputs": [],
   "source": [
    "#### Maksymalna długość wektora z lematami z tweetów"
   ],
   "metadata": {
    "collapsed": false,
    "pycharm": {
     "name": "#%%\n"
    }
   }
  },
  {
   "cell_type": "code",
   "execution_count": 32,
   "outputs": [],
   "source": [
    "max_width = max(max_length_tweet, max_length_tweet_test)"
   ],
   "metadata": {
    "collapsed": false,
    "pycharm": {
     "name": "#%%\n"
    }
   }
  },
  {
   "cell_type": "markdown",
   "source": [
    "## Funkcje do przekszałcania danych"
   ],
   "metadata": {
    "collapsed": false,
    "pycharm": {
     "name": "#%% md\n"
    }
   }
  },
  {
   "cell_type": "code",
   "execution_count": 33,
   "outputs": [],
   "source": [
    "def convert_words_to_numbers(lemmas_series, dict_ = dict()):\n",
    "    # dict_ = dict()\n",
    "    for row in lemmas_series:\n",
    "        for lemma in row:\n",
    "            if lemma not in dict_:\n",
    "                dict_[lemma] = len(dict_) + 1\n",
    "\n",
    "    return dict_"
   ],
   "metadata": {
    "collapsed": false,
    "pycharm": {
     "name": "#%%\n"
    }
   }
  },
  {
   "cell_type": "code",
   "execution_count": 34,
   "outputs": [],
   "source": [
    "def lemmas_to_numbers(row, max_list_lemmas, dict_):\n",
    "    list_numbers = []\n",
    "    for i in range(max_list_lemmas - len(row)):\n",
    "        list_numbers.append(0)\n",
    "\n",
    "    for lemma in row:\n",
    "        list_numbers.append(dict_[lemma])\n",
    "\n",
    "    array_numbers = np.array(list_numbers, dtype=np.int32)\n",
    "    return array_numbers"
   ],
   "metadata": {
    "collapsed": false,
    "pycharm": {
     "name": "#%%\n"
    }
   }
  },
  {
   "cell_type": "markdown",
   "source": [
    "## Powrót do opracowywania danych treningowych"
   ],
   "metadata": {
    "collapsed": false,
    "pycharm": {
     "name": "#%% md\n"
    }
   }
  },
  {
   "cell_type": "code",
   "execution_count": 35,
   "outputs": [],
   "source": [
    "dict_lemmas = convert_words_to_numbers(tweets['lemmas'])"
   ],
   "metadata": {
    "collapsed": false,
    "pycharm": {
     "name": "#%%\n"
    }
   }
  },
  {
   "cell_type": "code",
   "execution_count": 36,
   "outputs": [
    {
     "data": {
      "text/plain": "['1', '10', '11th', '15', '2', '2U', '2a', '3', '4', '5/5']"
     },
     "execution_count": 36,
     "metadata": {},
     "output_type": "execute_result"
    }
   ],
   "source": [
    "sorted(dict_lemmas)[:10]"
   ],
   "metadata": {
    "collapsed": false,
    "pycharm": {
     "name": "#%%\n"
    }
   }
  },
  {
   "cell_type": "code",
   "execution_count": 37,
   "outputs": [],
   "source": [
    "# zamiana lematu na liczbe ze slownika ktory odpowiada danemu slowu\n",
    "tweets['numbers'] = tweets['lemmas'].apply(lambda row : lemmas_to_numbers(row, max_width, dict_lemmas))"
   ],
   "metadata": {
    "collapsed": false,
    "pycharm": {
     "name": "#%%\n"
    }
   }
  },
  {
   "cell_type": "code",
   "execution_count": 38,
   "outputs": [
    {
     "data": {
      "text/plain": "0    [0, 0, 0, 0, 0, 0, 0, 0, 0, 0, 0, 0, 0, 0, 0, ...\n1    [0, 0, 0, 0, 0, 0, 0, 0, 0, 0, 0, 0, 0, 0, 0, ...\n2    [0, 0, 0, 0, 0, 0, 0, 0, 0, 0, 0, 0, 0, 0, 0, ...\n3    [0, 0, 0, 0, 0, 0, 0, 0, 0, 0, 0, 0, 0, 0, 0, ...\n4    [0, 0, 0, 0, 0, 0, 0, 0, 0, 0, 0, 0, 0, 0, 0, ...\nName: numbers, dtype: object"
     },
     "execution_count": 38,
     "metadata": {},
     "output_type": "execute_result"
    }
   ],
   "source": [
    "tweets['numbers'].head()"
   ],
   "metadata": {
    "collapsed": false,
    "pycharm": {
     "name": "#%%\n"
    }
   }
  },
  {
   "cell_type": "code",
   "execution_count": 39,
   "outputs": [],
   "source": [
    "# przypisywanie X_train kolumny numbers skonwertowanej na tablice numpy\n",
    "X_train = tweets['numbers'].values"
   ],
   "metadata": {
    "collapsed": false,
    "pycharm": {
     "name": "#%%\n"
    }
   }
  },
  {
   "cell_type": "code",
   "execution_count": 40,
   "outputs": [],
   "source": [
    "# łączenie wierszy tablic w jedną tablicę 2D\n",
    "X_train = np.stack(X_train)"
   ],
   "metadata": {
    "collapsed": false,
    "pycharm": {
     "name": "#%%\n"
    }
   }
  },
  {
   "cell_type": "code",
   "execution_count": 41,
   "outputs": [],
   "source": [
    "# konwertowanie tablicy 2d do tensora\n",
    "X_train = torch.FloatTensor(X_train)"
   ],
   "metadata": {
    "collapsed": false,
    "pycharm": {
     "name": "#%%\n"
    }
   }
  },
  {
   "cell_type": "code",
   "execution_count": 42,
   "outputs": [],
   "source": [
    "# ustawianie kolumn z etykietami na poszczególne zadania jako type które przechowują kategorie"
   ],
   "metadata": {
    "collapsed": false,
    "pycharm": {
     "name": "#%%\n"
    }
   }
  },
  {
   "cell_type": "code",
   "execution_count": 43,
   "outputs": [],
   "source": [
    "cat_cols = ['subtask_a', 'subtask_b', 'subtask_c']"
   ],
   "metadata": {
    "collapsed": false,
    "pycharm": {
     "name": "#%%\n"
    }
   }
  },
  {
   "cell_type": "code",
   "execution_count": 44,
   "outputs": [],
   "source": [
    "for col in cat_cols:\n",
    "    tweets[col] = tweets[col].astype('category')"
   ],
   "metadata": {
    "collapsed": false,
    "pycharm": {
     "name": "#%%\n"
    }
   }
  },
  {
   "cell_type": "code",
   "execution_count": 45,
   "outputs": [],
   "source": [
    "tweets['labels_a'] = tweets['subtask_a'].cat.codes"
   ],
   "metadata": {
    "collapsed": false,
    "pycharm": {
     "name": "#%%\n"
    }
   }
  },
  {
   "cell_type": "code",
   "execution_count": 46,
   "outputs": [
    {
     "data": {
      "text/plain": "0    1\n1    1\n2    0\n3    1\n4    0\n5    1\nName: labels_a, dtype: int8"
     },
     "execution_count": 46,
     "metadata": {},
     "output_type": "execute_result"
    }
   ],
   "source": [
    "# OFFENSIVE jest jako 1, a NOT OFFENSIVE jest jako 0\n",
    "tweets.loc[:5, 'labels_a']"
   ],
   "metadata": {
    "collapsed": false,
    "pycharm": {
     "name": "#%%\n"
    }
   }
  },
  {
   "cell_type": "code",
   "execution_count": 47,
   "outputs": [
    {
     "data": {
      "text/plain": "id                                                           86426\ntweet            @USER She should ask a few native Americans wh...\nsubtask_a                                                      OFF\nsubtask_b                                                      UNT\nsubtask_c                                                      NaN\ntokens           (@USER, She, should, ask, a, few, native, Amer...\nlemmas                                    [ask, native, Americans]\nlength_lemmas                                                    3\nnumbers          [0, 0, 0, 0, 0, 0, 0, 0, 0, 0, 0, 0, 0, 0, 0, ...\nlabels_a                                                         1\nName: 0, dtype: object"
     },
     "execution_count": 47,
     "metadata": {},
     "output_type": "execute_result"
    }
   ],
   "source": [
    "tweets.iloc[0]"
   ],
   "metadata": {
    "collapsed": false,
    "pycharm": {
     "name": "#%%\n"
    }
   }
  },
  {
   "cell_type": "code",
   "execution_count": 48,
   "outputs": [],
   "source": [
    "y_train = tweets['labels_a'].values"
   ],
   "metadata": {
    "collapsed": false,
    "pycharm": {
     "name": "#%%\n"
    }
   }
  },
  {
   "cell_type": "code",
   "execution_count": 49,
   "outputs": [],
   "source": [
    "y_train = torch.tensor(y_train).reshape(-1,1)"
   ],
   "metadata": {
    "collapsed": false,
    "pycharm": {
     "name": "#%%\n"
    }
   }
  },
  {
   "cell_type": "code",
   "execution_count": 50,
   "outputs": [
    {
     "data": {
      "text/plain": "tensor([[1],\n        [1],\n        [0],\n        [1],\n        [0]], dtype=torch.int8)"
     },
     "execution_count": 50,
     "metadata": {},
     "output_type": "execute_result"
    }
   ],
   "source": [
    "y_train[:5]"
   ],
   "metadata": {
    "collapsed": false,
    "pycharm": {
     "name": "#%%\n"
    }
   }
  },
  {
   "cell_type": "code",
   "execution_count": 51,
   "outputs": [],
   "source": [
    "data = np.concatenate((X_train, y_train), axis=1)"
   ],
   "metadata": {
    "collapsed": false,
    "pycharm": {
     "name": "#%%\n"
    }
   }
  },
  {
   "cell_type": "code",
   "execution_count": 52,
   "outputs": [],
   "source": [
    "\n",
    "train_dataset_loader = torch.utils.data.DataLoader(data, batch_size=batch_size, shuffle=True)"
   ],
   "metadata": {
    "collapsed": false,
    "pycharm": {
     "name": "#%%\n"
    }
   }
  },
  {
   "cell_type": "markdown",
   "source": [
    "## Definiowanie modelu"
   ],
   "metadata": {
    "collapsed": false,
    "pycharm": {
     "name": "#%% md\n"
    }
   }
  },
  {
   "cell_type": "code",
   "execution_count": 53,
   "outputs": [],
   "source": [
    "class Model(nn.Module):\n",
    "    def __init__(self, in_features=18, h1=80, h2=50, out_features=1):\n",
    "        super().__init__()\n",
    "\n",
    "        self.fc1 = nn.Linear(in_features, h1)\n",
    "        self.fc2 = nn.Linear(h1, h2)\n",
    "        self.out = nn.Linear(h2, out_features)\n",
    "        # self.sig = nn.Sigmoid()\n",
    "\n",
    "    def forward(self, x):\n",
    "\n",
    "        x = F.relu(self.fc1(x))\n",
    "        x = F.relu(self.fc2(x))\n",
    "        # self.out(x)\n",
    "        x = torch.sigmoid(self.out(x))\n",
    "\n",
    "        return x"
   ],
   "metadata": {
    "collapsed": false,
    "pycharm": {
     "name": "#%%\n"
    }
   }
  },
  {
   "cell_type": "markdown",
   "source": [
    "## Opracowywanie danych testowych"
   ],
   "metadata": {
    "collapsed": false,
    "pycharm": {
     "name": "#%% md\n"
    }
   }
  },
  {
   "cell_type": "code",
   "execution_count": 54,
   "outputs": [],
   "source": [
    "dict_lemmas = convert_words_to_numbers(test_a['lemmas'], dict_lemmas)"
   ],
   "metadata": {
    "collapsed": false,
    "pycharm": {
     "name": "#%%\n"
    }
   }
  },
  {
   "cell_type": "code",
   "execution_count": 55,
   "outputs": [
    {
     "data": {
      "text/plain": "['',\n '$',\n \"'cause\",\n '+',\n '-AG',\n '-HOMEWARD',\n '-eyesed',\n '-tsk',\n '/attempt/',\n '/via']"
     },
     "execution_count": 55,
     "metadata": {},
     "output_type": "execute_result"
    }
   ],
   "source": [
    "sorted(dict_lemmas)[:10]"
   ],
   "metadata": {
    "collapsed": false,
    "pycharm": {
     "name": "#%%\n"
    }
   }
  },
  {
   "cell_type": "code",
   "execution_count": 56,
   "outputs": [],
   "source": [
    "# zamiana lematu na liczbe ze slownika ktory odpowiada danemu slowu\n",
    "test_a['numbers'] = test_a['lemmas'].apply(lambda row : lemmas_to_numbers(row, max_width, dict_lemmas))"
   ],
   "metadata": {
    "collapsed": false,
    "pycharm": {
     "name": "#%%\n"
    }
   }
  },
  {
   "cell_type": "code",
   "execution_count": 57,
   "outputs": [
    {
     "data": {
      "text/plain": "0    [WhoIsQ, wherestheserver, DumpNike, DECLASFISA...\n1    [ConstitutionDay, revere, conservative, hate, ...\n2    [foxnew, NRA, MAGA, POTUS, TRUMP, 2ndamendment...\n3    [watch, Boomer, get, news, parole, make, smile...\n4    [NoPasaran, unity, demo, oppose, far, right, L...\nName: lemmas, dtype: object"
     },
     "execution_count": 57,
     "metadata": {},
     "output_type": "execute_result"
    }
   ],
   "source": [
    "test_a['lemmas'].head()"
   ],
   "metadata": {
    "collapsed": false,
    "pycharm": {
     "name": "#%%\n"
    }
   }
  },
  {
   "cell_type": "code",
   "execution_count": 58,
   "outputs": [
    {
     "data": {
      "text/plain": "0    [0, 0, 0, 0, 0, 0, 0, 0, 0, 0, 0, 0, 0, 0, 0, ...\n1    [0, 0, 0, 0, 0, 0, 0, 0, 0, 0, 0, 0, 0, 0, 0, ...\n2    [0, 0, 0, 0, 0, 0, 0, 0, 0, 0, 0, 0, 0, 0, 0, ...\n3    [0, 0, 0, 0, 0, 0, 0, 0, 0, 0, 0, 0, 0, 0, 0, ...\n4    [0, 0, 0, 0, 0, 0, 0, 0, 0, 0, 0, 0, 0, 0, 0, ...\n5    [0, 0, 0, 0, 0, 0, 0, 0, 0, 0, 0, 0, 0, 0, 0, ...\nName: numbers, dtype: object"
     },
     "execution_count": 58,
     "metadata": {},
     "output_type": "execute_result"
    }
   ],
   "source": [
    "test_a.loc[:5, 'numbers']"
   ],
   "metadata": {
    "collapsed": false,
    "pycharm": {
     "name": "#%%\n"
    }
   }
  },
  {
   "cell_type": "code",
   "execution_count": 58,
   "outputs": [],
   "source": [],
   "metadata": {
    "collapsed": false,
    "pycharm": {
     "name": "#%%\n"
    }
   }
  },
  {
   "cell_type": "markdown",
   "source": [
    "### Robienie tego samego procesu co wcześniej dla danych testowych\n"
   ],
   "metadata": {
    "collapsed": false,
    "pycharm": {
     "name": "#%% md\n"
    }
   }
  },
  {
   "cell_type": "code",
   "execution_count": 59,
   "outputs": [],
   "source": [
    "X_test = test_a['numbers'].values\n"
   ],
   "metadata": {
    "collapsed": false,
    "pycharm": {
     "name": "#%%\n"
    }
   }
  },
  {
   "cell_type": "code",
   "execution_count": 60,
   "outputs": [],
   "source": [
    "X_test = np.stack(X_test)"
   ],
   "metadata": {
    "collapsed": false,
    "pycharm": {
     "name": "#%%\n"
    }
   }
  },
  {
   "cell_type": "code",
   "execution_count": 61,
   "outputs": [],
   "source": [
    "X_test = torch.FloatTensor(X_test)"
   ],
   "metadata": {
    "collapsed": false,
    "pycharm": {
     "name": "#%%\n"
    }
   }
  },
  {
   "cell_type": "code",
   "execution_count": 62,
   "outputs": [],
   "source": [
    "# cat_cols = ['subtask_a', 'subtask_b', 'subtask_c']\n",
    "# for col in cat_cols:\n",
    "#     X_test[col] = X_test[col].astype('category')"
   ],
   "metadata": {
    "collapsed": false,
    "pycharm": {
     "name": "#%%\n"
    }
   }
  },
  {
   "cell_type": "code",
   "execution_count": 62,
   "outputs": [],
   "source": [],
   "metadata": {
    "collapsed": false,
    "pycharm": {
     "name": "#%%\n"
    }
   }
  },
  {
   "cell_type": "code",
   "execution_count": 63,
   "outputs": [],
   "source": [
    "test_a['subtask_a'] = test_a['subtask_a'].astype('category')"
   ],
   "metadata": {
    "collapsed": false,
    "pycharm": {
     "name": "#%%\n"
    }
   }
  },
  {
   "cell_type": "code",
   "execution_count": 63,
   "outputs": [],
   "source": [],
   "metadata": {
    "collapsed": false,
    "pycharm": {
     "name": "#%%\n"
    }
   }
  },
  {
   "cell_type": "code",
   "execution_count": 64,
   "outputs": [],
   "source": [
    "test_a['labels_a'] = test_a['subtask_a'].cat.codes"
   ],
   "metadata": {
    "collapsed": false,
    "pycharm": {
     "name": "#%%\n"
    }
   }
  },
  {
   "cell_type": "code",
   "execution_count": 64,
   "outputs": [],
   "source": [],
   "metadata": {
    "collapsed": false,
    "pycharm": {
     "name": "#%%\n"
    }
   }
  },
  {
   "cell_type": "code",
   "execution_count": 64,
   "outputs": [],
   "source": [],
   "metadata": {
    "collapsed": false,
    "pycharm": {
     "name": "#%%\n"
    }
   }
  },
  {
   "cell_type": "code",
   "execution_count": 65,
   "outputs": [
    {
     "data": {
      "text/plain": "0    1\n1    0\n2    0\n3    0\n4    1\n5    1\nName: labels_a, dtype: int8"
     },
     "execution_count": 65,
     "metadata": {},
     "output_type": "execute_result"
    }
   ],
   "source": [
    "# OFFENSIVE jest jako 1, a NOT OFFENSIVE jest jako 0\n",
    "test_a.loc[:5, 'labels_a']"
   ],
   "metadata": {
    "collapsed": false,
    "pycharm": {
     "name": "#%%\n"
    }
   }
  },
  {
   "cell_type": "markdown",
   "source": [],
   "metadata": {
    "collapsed": false
   }
  },
  {
   "cell_type": "code",
   "execution_count": 66,
   "outputs": [],
   "source": [
    "y_test = test_a['labels_a'].values"
   ],
   "metadata": {
    "collapsed": false,
    "pycharm": {
     "name": "#%%\n"
    }
   }
  },
  {
   "cell_type": "code",
   "execution_count": 67,
   "outputs": [],
   "source": [
    "y_test = torch.tensor(y_test).reshape(-1,1)"
   ],
   "metadata": {
    "collapsed": false,
    "pycharm": {
     "name": "#%%\n"
    }
   }
  },
  {
   "cell_type": "code",
   "execution_count": 68,
   "outputs": [
    {
     "data": {
      "text/plain": "tensor([[1],\n        [0],\n        [0],\n        [0],\n        [1]], dtype=torch.int8)"
     },
     "execution_count": 68,
     "metadata": {},
     "output_type": "execute_result"
    }
   ],
   "source": [
    "y_test[:5]"
   ],
   "metadata": {
    "collapsed": false,
    "pycharm": {
     "name": "#%%\n"
    }
   }
  },
  {
   "cell_type": "code",
   "execution_count": 69,
   "outputs": [],
   "source": [
    "data_test_a = np.concatenate((X_test, y_test), axis=1)"
   ],
   "metadata": {
    "collapsed": false,
    "pycharm": {
     "name": "#%%\n"
    }
   }
  },
  {
   "cell_type": "code",
   "execution_count": 70,
   "outputs": [],
   "source": [
    "\n",
    "test_dataset_loader_a = torch.utils.data.DataLoader(data_test_a, batch_size=batch_size, shuffle=True)"
   ],
   "metadata": {
    "collapsed": false,
    "pycharm": {
     "name": "#%%\n"
    }
   }
  },
  {
   "cell_type": "code",
   "execution_count": 70,
   "outputs": [],
   "source": [],
   "metadata": {
    "collapsed": false,
    "pycharm": {
     "name": "#%%\n"
    }
   }
  },
  {
   "cell_type": "markdown",
   "source": [
    "## Tworzenie instancji modelu\n",
    "Ustawianie funkcji straty i optymalizatora"
   ],
   "metadata": {
    "collapsed": false,
    "pycharm": {
     "name": "#%% md\n"
    }
   }
  },
  {
   "cell_type": "code",
   "execution_count": 71,
   "outputs": [],
   "source": [
    "# tworzenie numpy array z listy liczb (odpowiadających lematom)"
   ],
   "metadata": {
    "collapsed": false,
    "pycharm": {
     "name": "#%%\n"
    }
   }
  },
  {
   "cell_type": "code",
   "execution_count": 72,
   "outputs": [],
   "source": [
    "torch.manual_seed(32)\n",
    "model = Model(max_width)"
   ],
   "metadata": {
    "collapsed": false,
    "pycharm": {
     "name": "#%%\n"
    }
   }
  },
  {
   "cell_type": "code",
   "execution_count": 73,
   "outputs": [],
   "source": [
    "criterion = nn.BCELoss()\n",
    "optimizer = torch.optim.Adam(model.parameters(), lr=0.001)"
   ],
   "metadata": {
    "collapsed": false,
    "pycharm": {
     "name": "#%%\n"
    }
   }
  },
  {
   "cell_type": "markdown",
   "source": [
    "### Ustawianie nauki sieci i samo uczenie się"
   ],
   "metadata": {
    "collapsed": false,
    "pycharm": {
     "name": "#%% md\n"
    }
   }
  },
  {
   "cell_type": "code",
   "execution_count": 74,
   "outputs": [],
   "source": [
    "epochs = 100\n",
    "losses = []\n",
    "losses_test = []\n",
    "accuracy = []\n",
    "accuracy_test = []\n",
    "train_count = len(tweets)\n",
    "test_count_a = len(test_a)"
   ],
   "metadata": {
    "collapsed": false,
    "pycharm": {
     "name": "#%%\n"
    }
   }
  },
  {
   "cell_type": "code",
   "execution_count": 75,
   "outputs": [
    {
     "name": "stdout",
     "output_type": "stream",
     "text": [
      "Loss on the first batch: 40.87933349609375\n",
      "Loss on the first batch on test data: 47.458641052246094\n",
      " epoch: 0 | loss: 0.7033251190185547 | predicted: 33 | accuracy: 33.0 | test loss: 0.9905464172363281 | predicted: 356 | test accuracy: 41.395347595214844\n",
      " epoch: 1 | loss: 0.1637565851211548 | predicted: 46 | accuracy: 46.0 | test loss: 0.4558910569479299 | predicted: 553 | test accuracy: 64.30232238769531\n",
      " epoch: 2 | loss: 0.04538987159729004 | predicted: 58 | accuracy: 58.0 | test loss: 0.4062153827312381 | predicted: 616 | test accuracy: 71.6279067993164\n",
      " epoch: 3 | loss: 0.05936400651931763 | predicted: 67 | accuracy: 67.0 | test loss: 0.4506370954735335 | predicted: 618 | test accuracy: 71.86046600341797\n",
      " epoch: 4 | loss: 0.06849943161010742 | predicted: 68 | accuracy: 68.0 | test loss: 0.4624277203582054 | predicted: 618 | test accuracy: 71.86046600341797\n",
      " epoch: 5 | loss: 0.0628628134727478 | predicted: 68 | accuracy: 68.0 | test loss: 0.414200142926948 | predicted: 618 | test accuracy: 71.86046600341797\n",
      " epoch: 6 | loss: 0.05057503938674927 | predicted: 67 | accuracy: 67.0 | test loss: 0.3849583525990331 | predicted: 609 | test accuracy: 70.81395721435547\n",
      " epoch: 7 | loss: 0.03602466642856598 | predicted: 68 | accuracy: 68.0 | test loss: 0.3991113768067471 | predicted: 568 | test accuracy: 66.0465087890625\n",
      " epoch: 8 | loss: 0.030800222158432006 | predicted: 64 | accuracy: 64.0 | test loss: 0.49746961371843207 | predicted: 520 | test accuracy: 60.46511459350586\n",
      " epoch: 9 | loss: 0.03189633131027222 | predicted: 57 | accuracy: 57.0 | test loss: 0.47656561053076457 | predicted: 514 | test accuracy: 59.76744079589844\n",
      " epoch: 10 | loss: 0.029431129693984984 | predicted: 58 | accuracy: 58.0 | test loss: 0.42595182241395463 | predicted: 526 | test accuracy: 61.16279220581055\n",
      " epoch: 11 | loss: 0.02055104434490204 | predicted: 64 | accuracy: 64.0 | test loss: 0.3347309395324352 | predicted: 564 | test accuracy: 65.5813980102539\n",
      " epoch: 12 | loss: 0.01537630558013916 | predicted: 72 | accuracy: 72.0 | test loss: 0.32296388980954194 | predicted: 592 | test accuracy: 68.83721160888672\n",
      " epoch: 13 | loss: 0.01816232442855835 | predicted: 72 | accuracy: 72.0 | test loss: 0.32470977805381596 | predicted: 586 | test accuracy: 68.13953399658203\n",
      " epoch: 14 | loss: 0.01719924509525299 | predicted: 74 | accuracy: 74.0 | test loss: 0.3141493054323418 | predicted: 564 | test accuracy: 65.5813980102539\n",
      " epoch: 15 | loss: 0.014015181660652161 | predicted: 70 | accuracy: 70.0 | test loss: 0.3797860356264336 | predicted: 544 | test accuracy: 63.25581359863281\n",
      " epoch: 16 | loss: 0.01333410918712616 | predicted: 72 | accuracy: 72.0 | test loss: 0.40721006282540256 | predicted: 508 | test accuracy: 59.069766998291016\n",
      " epoch: 17 | loss: 0.014296374917030334 | predicted: 68 | accuracy: 68.0 | test loss: 0.38983181798180866 | predicted: 508 | test accuracy: 59.069766998291016\n",
      " epoch: 18 | loss: 0.012149778604507446 | predicted: 71 | accuracy: 71.0 | test loss: 0.36116380026174144 | predicted: 538 | test accuracy: 62.55813980102539\n",
      " epoch: 19 | loss: 0.010106870830059051 | predicted: 73 | accuracy: 73.0 | test loss: 0.3158556766288225 | predicted: 561 | test accuracy: 65.23255920410156\n",
      " epoch: 20 | loss: 0.010470690429210663 | predicted: 72 | accuracy: 72.0 | test loss: 0.2990245259085367 | predicted: 575 | test accuracy: 66.86046600341797\n",
      " epoch: 21 | loss: 0.010014413297176361 | predicted: 71 | accuracy: 71.0 | test loss: 0.3157428214716357 | predicted: 573 | test accuracy: 66.6279067993164\n",
      " epoch: 22 | loss: 0.009303646087646484 | predicted: 77 | accuracy: 77.0 | test loss: 0.3021000584890676 | predicted: 558 | test accuracy: 64.88372039794922\n",
      " epoch: 23 | loss: 0.009109731018543243 | predicted: 77 | accuracy: 77.0 | test loss: 0.30531334544337074 | predicted: 543 | test accuracy: 63.13953399658203\n",
      " epoch: 24 | loss: 0.009186580777168274 | predicted: 79 | accuracy: 79.0 | test loss: 0.30119437616924905 | predicted: 554 | test accuracy: 64.4186019897461\n",
      " epoch: 25 | loss: 0.008662090003490448 | predicted: 79 | accuracy: 79.0 | test loss: 0.29266820286595546 | predicted: 566 | test accuracy: 65.81395721435547\n",
      " epoch: 26 | loss: 0.008106483519077301 | predicted: 80 | accuracy: 80.0 | test loss: 0.2763104528881783 | predicted: 579 | test accuracy: 67.3255844116211\n",
      " epoch: 27 | loss: 0.008009847402572632 | predicted: 80 | accuracy: 80.0 | test loss: 0.2939803910809894 | predicted: 579 | test accuracy: 67.3255844116211\n",
      " epoch: 28 | loss: 0.007672678232192993 | predicted: 79 | accuracy: 79.0 | test loss: 0.2986150131669155 | predicted: 572 | test accuracy: 66.51162719726562\n",
      " epoch: 29 | loss: 0.007264633774757385 | predicted: 81 | accuracy: 81.0 | test loss: 0.28794847588206446 | predicted: 559 | test accuracy: 65.0\n",
      " epoch: 30 | loss: 0.007106769979000092 | predicted: 82 | accuracy: 82.0 | test loss: 0.2988248703091644 | predicted: 541 | test accuracy: 62.906978607177734\n",
      " epoch: 31 | loss: 0.007116568386554718 | predicted: 82 | accuracy: 82.0 | test loss: 0.3052418642265852 | predicted: 542 | test accuracy: 63.02325439453125\n",
      " epoch: 32 | loss: 0.006925328373908996 | predicted: 81 | accuracy: 81.0 | test loss: 0.2922485068786976 | predicted: 561 | test accuracy: 65.23255920410156\n",
      " epoch: 33 | loss: 0.006789384186267853 | predicted: 81 | accuracy: 81.0 | test loss: 0.3024651715921801 | predicted: 567 | test accuracy: 65.93022918701172\n",
      " epoch: 34 | loss: 0.006601918935775757 | predicted: 82 | accuracy: 82.0 | test loss: 0.29542897357497105 | predicted: 569 | test accuracy: 66.16278839111328\n",
      " epoch: 35 | loss: 0.006340981721878052 | predicted: 82 | accuracy: 82.0 | test loss: 0.31814110999883605 | predicted: 565 | test accuracy: 65.69767761230469\n",
      " epoch: 36 | loss: 0.006235238015651703 | predicted: 82 | accuracy: 82.0 | test loss: 0.32496836850809496 | predicted: 554 | test accuracy: 64.4186019897461\n",
      " epoch: 37 | loss: 0.006304588615894318 | predicted: 84 | accuracy: 84.0 | test loss: 0.32364365777304005 | predicted: 555 | test accuracy: 64.53488159179688\n",
      " epoch: 38 | loss: 0.006091142892837524 | predicted: 84 | accuracy: 84.0 | test loss: 0.31435731233552444 | predicted: 563 | test accuracy: 65.46511840820312\n",
      " epoch: 39 | loss: 0.006037911176681518 | predicted: 85 | accuracy: 85.0 | test loss: 0.3075602315192999 | predicted: 572 | test accuracy: 66.51162719726562\n",
      " epoch: 40 | loss: 0.005993338227272034 | predicted: 84 | accuracy: 84.0 | test loss: 0.3469607863315316 | predicted: 572 | test accuracy: 66.51162719726562\n",
      " epoch: 41 | loss: 0.005938403308391571 | predicted: 85 | accuracy: 85.0 | test loss: 0.30808805286781765 | predicted: 565 | test accuracy: 65.69767761230469\n",
      " epoch: 42 | loss: 0.005898643583059311 | predicted: 83 | accuracy: 83.0 | test loss: 0.3230749340944512 | predicted: 559 | test accuracy: 65.0\n",
      " epoch: 43 | loss: 0.005739839673042297 | predicted: 85 | accuracy: 85.0 | test loss: 0.3340084042660026 | predicted: 568 | test accuracy: 66.0465087890625\n",
      " epoch: 44 | loss: 0.005653692483901978 | predicted: 83 | accuracy: 83.0 | test loss: 0.3261833434881166 | predicted: 566 | test accuracy: 65.81395721435547\n",
      " epoch: 45 | loss: 0.005642483532428741 | predicted: 85 | accuracy: 85.0 | test loss: 0.3327320359474005 | predicted: 574 | test accuracy: 66.74418640136719\n",
      " epoch: 46 | loss: 0.00555948793888092 | predicted: 85 | accuracy: 85.0 | test loss: 0.3130831000416778 | predicted: 568 | test accuracy: 66.0465087890625\n",
      " epoch: 47 | loss: 0.005466525256633758 | predicted: 85 | accuracy: 85.0 | test loss: 0.32553414355876836 | predicted: 562 | test accuracy: 65.34883880615234\n",
      " epoch: 48 | loss: 0.005453514158725739 | predicted: 85 | accuracy: 85.0 | test loss: 0.3341325438299844 | predicted: 561 | test accuracy: 65.23255920410156\n",
      " epoch: 49 | loss: 0.0054001124203205105 | predicted: 85 | accuracy: 85.0 | test loss: 0.32785532529964 | predicted: 564 | test accuracy: 65.5813980102539\n",
      " epoch: 50 | loss: 0.005341606438159943 | predicted: 85 | accuracy: 85.0 | test loss: 0.35719372394473053 | predicted: 567 | test accuracy: 65.93022918701172\n",
      " epoch: 51 | loss: 0.005275413691997528 | predicted: 85 | accuracy: 85.0 | test loss: 0.32216046577276186 | predicted: 570 | test accuracy: 66.27906799316406\n",
      " epoch: 52 | loss: 0.005275235623121262 | predicted: 83 | accuracy: 83.0 | test loss: 0.34002584856609963 | predicted: 572 | test accuracy: 66.51162719726562\n",
      " epoch: 53 | loss: 0.0051876100897789 | predicted: 85 | accuracy: 85.0 | test loss: 0.3577855587005615 | predicted: 566 | test accuracy: 65.81395721435547\n",
      " epoch: 54 | loss: 0.005167833417654037 | predicted: 84 | accuracy: 84.0 | test loss: 0.3403458051903303 | predicted: 566 | test accuracy: 65.81395721435547\n",
      " epoch: 55 | loss: 0.005110711008310318 | predicted: 85 | accuracy: 85.0 | test loss: 0.3246564593426017 | predicted: 565 | test accuracy: 65.69767761230469\n",
      " epoch: 56 | loss: 0.005089201182126999 | predicted: 86 | accuracy: 86.0 | test loss: 0.343314127589381 | predicted: 566 | test accuracy: 65.81395721435547\n",
      " epoch: 57 | loss: 0.00503548264503479 | predicted: 86 | accuracy: 86.0 | test loss: 0.3348222388777622 | predicted: 565 | test accuracy: 65.69767761230469\n",
      " epoch: 58 | loss: 0.00503782406449318 | predicted: 86 | accuracy: 86.0 | test loss: 0.3338935663533765 | predicted: 572 | test accuracy: 66.51162719726562\n",
      " epoch: 59 | loss: 0.004971018433570862 | predicted: 85 | accuracy: 85.0 | test loss: 0.34246379275654637 | predicted: 567 | test accuracy: 65.93022918701172\n",
      " epoch: 60 | loss: 0.0049802465736866 | predicted: 85 | accuracy: 85.0 | test loss: 0.34727632943973985 | predicted: 566 | test accuracy: 65.81395721435547\n",
      " epoch: 61 | loss: 0.004902819842100143 | predicted: 85 | accuracy: 85.0 | test loss: 0.3421143232389938 | predicted: 564 | test accuracy: 65.5813980102539\n",
      " epoch: 62 | loss: 0.00487718790769577 | predicted: 87 | accuracy: 87.0 | test loss: 0.33794062747511755 | predicted: 562 | test accuracy: 65.34883880615234\n",
      " epoch: 63 | loss: 0.004861885607242584 | predicted: 86 | accuracy: 86.0 | test loss: 0.3348282209662504 | predicted: 563 | test accuracy: 65.46511840820312\n",
      " epoch: 64 | loss: 0.004803563505411148 | predicted: 87 | accuracy: 87.0 | test loss: 0.34277786654095316 | predicted: 567 | test accuracy: 65.93022918701172\n",
      " epoch: 65 | loss: 0.00481033056974411 | predicted: 87 | accuracy: 87.0 | test loss: 0.3384053806925929 | predicted: 569 | test accuracy: 66.16278839111328\n",
      " epoch: 66 | loss: 0.004805984944105148 | predicted: 87 | accuracy: 87.0 | test loss: 0.33944261961205063 | predicted: 565 | test accuracy: 65.69767761230469\n",
      " epoch: 67 | loss: 0.004764602482318878 | predicted: 87 | accuracy: 87.0 | test loss: 0.37419537278108816 | predicted: 556 | test accuracy: 64.65116119384766\n",
      " epoch: 68 | loss: 0.004767422676086426 | predicted: 86 | accuracy: 86.0 | test loss: 0.3464161953260732 | predicted: 558 | test accuracy: 64.88372039794922\n",
      " epoch: 69 | loss: 0.00467605784535408 | predicted: 87 | accuracy: 87.0 | test loss: 0.3553222634071527 | predicted: 567 | test accuracy: 65.93022918701172\n",
      " epoch: 70 | loss: 0.004630717784166336 | predicted: 88 | accuracy: 88.0 | test loss: 0.37803784414779307 | predicted: 568 | test accuracy: 66.0465087890625\n",
      " epoch: 71 | loss: 0.004658538401126861 | predicted: 87 | accuracy: 87.0 | test loss: 0.38337701198666596 | predicted: 568 | test accuracy: 66.0465087890625\n",
      " epoch: 72 | loss: 0.004625050723552704 | predicted: 87 | accuracy: 87.0 | test loss: 0.3550790775653928 | predicted: 562 | test accuracy: 65.34883880615234\n",
      " epoch: 73 | loss: 0.004609390199184418 | predicted: 87 | accuracy: 87.0 | test loss: 0.36257456735123034 | predicted: 555 | test accuracy: 64.53488159179688\n",
      " epoch: 74 | loss: 0.004623523205518723 | predicted: 89 | accuracy: 89.0 | test loss: 0.3776624036389728 | predicted: 558 | test accuracy: 64.88372039794922\n",
      " epoch: 75 | loss: 0.004506587535142898 | predicted: 87 | accuracy: 87.0 | test loss: 0.3808749465055244 | predicted: 566 | test accuracy: 65.81395721435547\n",
      " epoch: 76 | loss: 0.004646672904491425 | predicted: 87 | accuracy: 87.0 | test loss: 0.3589758074560831 | predicted: 575 | test accuracy: 66.86046600341797\n",
      " epoch: 77 | loss: 0.0045657697319984435 | predicted: 87 | accuracy: 87.0 | test loss: 0.37252284427021826 | predicted: 566 | test accuracy: 65.81395721435547\n",
      " epoch: 78 | loss: 0.0044438081979751584 | predicted: 87 | accuracy: 87.0 | test loss: 0.3786320730697277 | predicted: 557 | test accuracy: 64.76744079589844\n",
      " epoch: 79 | loss: 0.004424462616443634 | predicted: 88 | accuracy: 88.0 | test loss: 0.357335601876988 | predicted: 554 | test accuracy: 64.4186019897461\n",
      " epoch: 80 | loss: 0.004458217620849609 | predicted: 89 | accuracy: 89.0 | test loss: 0.3718229227287825 | predicted: 558 | test accuracy: 64.88372039794922\n",
      " epoch: 81 | loss: 0.004385761171579361 | predicted: 88 | accuracy: 88.0 | test loss: 0.3757810248885044 | predicted: 564 | test accuracy: 65.5813980102539\n",
      " epoch: 82 | loss: 0.004444544315338135 | predicted: 86 | accuracy: 86.0 | test loss: 0.38817789055580315 | predicted: 572 | test accuracy: 66.51162719726562\n",
      " epoch: 83 | loss: 0.004371979981660843 | predicted: 89 | accuracy: 89.0 | test loss: 0.36694128125212916 | predicted: 563 | test accuracy: 65.46511840820312\n",
      " epoch: 84 | loss: 0.004354354590177536 | predicted: 89 | accuracy: 89.0 | test loss: 0.38443643104198366 | predicted: 555 | test accuracy: 64.53488159179688\n",
      " epoch: 85 | loss: 0.004340957552194595 | predicted: 89 | accuracy: 89.0 | test loss: 0.38177369361700014 | predicted: 558 | test accuracy: 64.88372039794922\n",
      " epoch: 86 | loss: 0.004358556270599365 | predicted: 89 | accuracy: 89.0 | test loss: 0.3975236493487691 | predicted: 571 | test accuracy: 66.39534759521484\n",
      " epoch: 87 | loss: 0.004397782683372498 | predicted: 89 | accuracy: 89.0 | test loss: 0.3663104717121568 | predicted: 572 | test accuracy: 66.51162719726562\n",
      " epoch: 88 | loss: 0.004233245700597763 | predicted: 89 | accuracy: 89.0 | test loss: 0.3748533370882966 | predicted: 557 | test accuracy: 64.76744079589844\n",
      " epoch: 89 | loss: 0.0042345432937145235 | predicted: 89 | accuracy: 89.0 | test loss: 0.39920433731966243 | predicted: 553 | test accuracy: 64.30232238769531\n",
      " epoch: 90 | loss: 0.004249870777130127 | predicted: 89 | accuracy: 89.0 | test loss: 0.3757977541102919 | predicted: 560 | test accuracy: 65.11627960205078\n",
      " epoch: 91 | loss: 0.004162898510694504 | predicted: 88 | accuracy: 88.0 | test loss: 0.3809376838595368 | predicted: 568 | test accuracy: 66.0465087890625\n",
      " epoch: 92 | loss: 0.004152514785528183 | predicted: 89 | accuracy: 89.0 | test loss: 0.37696033411247787 | predicted: 568 | test accuracy: 66.0465087890625\n",
      " epoch: 93 | loss: 0.0041835767030715945 | predicted: 88 | accuracy: 88.0 | test loss: 0.408200882201971 | predicted: 564 | test accuracy: 65.5813980102539\n",
      " epoch: 94 | loss: 0.0041626450419425965 | predicted: 88 | accuracy: 88.0 | test loss: 0.39091194618579955 | predicted: 563 | test accuracy: 65.46511840820312\n",
      " epoch: 95 | loss: 0.004089084416627884 | predicted: 89 | accuracy: 89.0 | test loss: 0.40043183703755225 | predicted: 558 | test accuracy: 64.88372039794922\n",
      " epoch: 96 | loss: 0.004141317456960678 | predicted: 89 | accuracy: 89.0 | test loss: 0.39483030230499977 | predicted: 560 | test accuracy: 65.11627960205078\n",
      " epoch: 97 | loss: 0.0040973958373069766 | predicted: 88 | accuracy: 88.0 | test loss: 0.3874727482019469 | predicted: 566 | test accuracy: 65.81395721435547\n",
      " epoch: 98 | loss: 0.004135127365589142 | predicted: 87 | accuracy: 87.0 | test loss: 0.37950260583744494 | predicted: 562 | test accuracy: 65.34883880615234\n",
      " epoch: 99 | loss: 0.004024233371019363 | predicted: 89 | accuracy: 89.0 | test loss: 0.38548805658207386 | predicted: 565 | test accuracy: 65.69767761230469\n"
     ]
    }
   ],
   "source": [
    "for e in range(epochs):\n",
    "    loss_epoch = np.empty(0)\n",
    "    correct_epoch = 0\n",
    "\n",
    "    loss_epoch_test = np.empty(0)\n",
    "    correct_epoch_test = 0\n",
    "\n",
    "    for batch_num, batch in enumerate(train_dataset_loader):\n",
    "        X_train = batch[:,:-1]\n",
    "        y_train = batch[:,-1].reshape(-1,1)\n",
    "        y_pred = model.forward(X_train)\n",
    "\n",
    "        loss = criterion(y_pred, y_train)\n",
    "        if (e == 0 and batch_num == 0):\n",
    "            print(f'Loss on the first batch: {loss}')\n",
    "\n",
    "        # print(loss.item())\n",
    "        loss_epoch = np.append(loss_epoch, loss.detach().numpy())\n",
    "        # losses.append(loss.item())\n",
    "\n",
    "\n",
    "        optimizer.zero_grad()\n",
    "        loss.backward()\n",
    "        optimizer.step()\n",
    "\n",
    "\n",
    "        predicted = torch.round(y_pred)\n",
    "        # print(predicted)\n",
    "        # print(y_train)\n",
    "        predicted = (predicted == y_train).sum()\n",
    "        # print(f'Predicted this batch: {predicted}')\n",
    "        correct_epoch += predicted\n",
    "\n",
    "# przechodzenie przez dane testowe\n",
    "    with torch.no_grad():\n",
    "        for batch_num, batch in enumerate(test_dataset_loader_a):\n",
    "            X_test = batch[:,:-1]\n",
    "            y_test = batch[:,-1].reshape(-1,1)\n",
    "            y_pred = model.forward(X_test)\n",
    "\n",
    "            loss = criterion(y_pred, y_test)\n",
    "            if (e == 0 and batch_num == 0):\n",
    "                print(f'Loss on the first batch on test data: {loss}')\n",
    "\n",
    "            # print(loss.item())\n",
    "            loss_epoch_test = np.append(loss_epoch_test, loss.detach().numpy())\n",
    "            # losses.append(loss.item())\n",
    "\n",
    "            predicted = torch.round(y_pred)\n",
    "            # print(predicted)\n",
    "            # print(y_test)\n",
    "            predicted = (predicted == y_test).sum()\n",
    "            # print(f'Predicted this batch: {predicted}')\n",
    "            correct_epoch_test += predicted\n",
    "\n",
    "        loss_epoch_test = loss_epoch_test.sum() / test_count_a\n",
    "        losses_test.append(loss_epoch)\n",
    "        accuracy_epoch_test = correct_epoch_test * 100/test_count_a\n",
    "        accuracy_test.append(accuracy_epoch_test)\n",
    "\n",
    "    loss_epoch = loss_epoch.sum() / train_count\n",
    "    losses.append(loss_epoch)\n",
    "    accuracy_epoch = correct_epoch * 100/train_count\n",
    "    accuracy.append(accuracy_epoch)\n",
    "\n",
    "    # print(f'Test accuracy: {correct_epoch.item()}/{train_count} = {correct.item() * 100 / (test_count):7.3f}%')\n",
    "    print(f' epoch: {e} | loss: {loss_epoch} | predicted: {correct_epoch} | accuracy: {accuracy_epoch} | test loss: {loss_epoch_test} | ' \\\n",
    "          + f'predicted: {correct_epoch_test} | test accuracy: {accuracy_epoch_test}')"
   ],
   "metadata": {
    "collapsed": false,
    "pycharm": {
     "name": "#%%\n"
    }
   }
  },
  {
   "cell_type": "code",
   "execution_count": null,
   "outputs": [],
   "source": [
    "y_val"
   ],
   "metadata": {
    "collapsed": false,
    "pycharm": {
     "name": "#%%\n"
    }
   }
  },
  {
   "cell_type": "code",
   "execution_count": null,
   "outputs": [],
   "source": [
    "torch.round(y_val)"
   ],
   "metadata": {
    "collapsed": false,
    "pycharm": {
     "name": "#%%\n"
    }
   }
  },
  {
   "cell_type": "markdown",
   "source": [
    "## Rysowanie funkcji straty i accuracy na przestrzeni epok"
   ],
   "metadata": {
    "collapsed": false,
    "pycharm": {
     "name": "#%% md\n"
    }
   }
  },
  {
   "cell_type": "code",
   "execution_count": 77,
   "outputs": [
    {
     "data": {
      "text/plain": "<Figure size 1152x504 with 2 Axes>",
      "image/png": "[encoded data removed]"
     },
     "metadata": {
      "needs_background": "light"
     },
     "output_type": "display_data"
    }
   ],
   "source": [
    "## Plot loss functions over epochs\n",
    "\n",
    "fig, (ax1, ax2) = plt.subplots(1, 2, figsize=(16,7))\n",
    "# ax1.plot(x, y)\n",
    "# ax2.plot(x, -y)\n",
    "\n",
    "# fig, axis = plt.subplots(1, 2, figsize=(10,7))\n",
    "#\n",
    "# axis[0, 0].plot(range(epochs), losses)\n",
    "# axis[0, 0].set_title(\"Losses and epochs\")\n",
    "#\n",
    "# axis[0, 1].plot(range(epochs), accuracy)\n",
    "# axis[0, 1].set_title(\"Accuracy and epochs\")\n",
    "\n",
    "ax1.plot(range(epochs), losses)\n",
    "ax1.plot(range(epochs), losses_test)\n",
    "ax1.set_title('Losses and epochs')\n",
    "\n",
    "ax2.plot(range(epochs), accuracy)\n",
    "ax2.plot(range(epochs), accuracy_test)\n",
    "ax2.set_title(\"Accuracy and epochs\")\n",
    "\n",
    "plt.show()"
   ],
   "metadata": {
    "collapsed": false,
    "pycharm": {
     "name": "#%%\n"
    }
   }
  },
  {
   "cell_type": "code",
   "execution_count": null,
   "outputs": [],
   "source": [],
   "metadata": {
    "collapsed": false,
    "pycharm": {
     "name": "#%%\n"
    }
   }
  },
  {
   "cell_type": "code",
   "execution_count": null,
   "outputs": [],
   "source": [],
   "metadata": {
    "collapsed": false,
    "pycharm": {
     "name": "#%%\n"
    }
   }
  }
 ],
 "metadata": {
  "kernelspec": {
   "name": "torch-cuda",
   "language": "python",
   "display_name": "torch-cuda"
  },
  "language_info": {
   "codemirror_mode": {
    "name": "ipython",
    "version": 2
   },
   "file_extension": ".py",
   "mimetype": "text/x-python",
   "name": "python",
   "nbconvert_exporter": "python",
   "pygments_lexer": "ipython2",
   "version": "2.7.6"
  }
 },
 "nbformat": 4,
 "nbformat_minor": 0
}