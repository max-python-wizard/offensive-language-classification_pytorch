{
 "cells": [
  {
   "cell_type": "code",
   "execution_count": 1,
   "outputs": [],
   "source": [
    "import pandas as pd\n",
    "import numpy as np\n",
    "import matplotlib.pyplot as plt"
   ],
   "metadata": {
    "collapsed": false,
    "pycharm": {
     "name": "#%%\n"
    }
   }
  },
  {
   "cell_type": "code",
   "execution_count": 2,
   "outputs": [],
   "source": [
    "import time"
   ],
   "metadata": {
    "collapsed": false,
    "pycharm": {
     "name": "#%%\n"
    }
   }
  },
  {
   "cell_type": "code",
   "execution_count": 3,
   "outputs": [],
   "source": [
    "import spacy"
   ],
   "metadata": {
    "collapsed": false,
    "pycharm": {
     "name": "#%%\n"
    }
   }
  },
  {
   "cell_type": "code",
   "execution_count": 4,
   "metadata": {
    "collapsed": true
   },
   "outputs": [],
   "source": [
    "import torch\n",
    "import torch.nn as nn\n",
    "import torch.nn.functional as F"
   ]
  },
  {
   "cell_type": "markdown",
   "source": [
    "## Ustawnia modelu i sieci"
   ],
   "metadata": {
    "collapsed": false,
    "pycharm": {
     "name": "#%% md\n"
    }
   }
  },
  {
   "cell_type": "code",
   "execution_count": 5,
   "outputs": [
    {
     "name": "stdout",
     "output_type": "stream",
     "text": [
      "max width: 73\n"
     ]
    }
   ],
   "source": [
    "print('max width: 73')"
   ],
   "metadata": {
    "collapsed": false,
    "pycharm": {
     "name": "#%%\n"
    }
   }
  },
  {
   "cell_type": "code",
   "execution_count": 155,
   "outputs": [],
   "source": [
    "epochs = 200\n",
    "learning_rate = 0.0001\n",
    "batch_size = 2500\n",
    "h1 = 100\n",
    "h2 = 100\n",
    "h3 = 100"
   ],
   "metadata": {
    "collapsed": false,
    "pycharm": {
     "name": "#%%\n"
    }
   }
  },
  {
   "cell_type": "markdown",
   "source": [
    "## Definiowanie modelu"
   ],
   "metadata": {
    "collapsed": false
   }
  },
  {
   "cell_type": "code",
   "execution_count": 179,
   "outputs": [],
   "source": [
    "class Model(nn.Module):\n",
    "    def __init__(self, in_features=18, h1=80, h2=50, h3=None, out_features=1):\n",
    "        super().__init__()\n",
    "\n",
    "        self.fc1 = nn.Linear(in_features, h1)\n",
    "        self.fc2 = nn.Linear(h1, h2)\n",
    "        if h3 is None:\n",
    "            self.out = nn.Linear(h2, out_features)\n",
    "        # self.sig = nn.Sigmoid()\n",
    "        else:\n",
    "            self.fc3 = nn.Linear(h2, h3)\n",
    "            self.out = nn.Linear(h3, out_features)\n",
    "\n",
    "\n",
    "    def forward(self, x):\n",
    "\n",
    "        x = torch.sigmoid(self.fc1(x))\n",
    "        x = torch.sigmoid(self.fc2(x))\n",
    "        if h3 is not None:\n",
    "            x = torch.sigmoid(self.fc3(x))\n",
    "\n",
    "        x = torch.sigmoid(self.out(x))\n",
    "\n",
    "        return x"
   ],
   "metadata": {
    "collapsed": false,
    "pycharm": {
     "name": "#%%\n"
    }
   }
  },
  {
   "cell_type": "markdown",
   "source": [
    "### Sprawdzanie czy w systemie jest karta graficzna Nvidia - CUDA"
   ],
   "metadata": {
    "collapsed": false,
    "pycharm": {
     "name": "#%% md\n"
    }
   }
  },
  {
   "cell_type": "code",
   "execution_count": 8,
   "outputs": [
    {
     "data": {
      "text/plain": "True"
     },
     "execution_count": 8,
     "metadata": {},
     "output_type": "execute_result"
    }
   ],
   "source": [
    "cuda_av = torch.cuda.is_available()\n",
    "cuda_av"
   ],
   "metadata": {
    "collapsed": false,
    "pycharm": {
     "name": "#%%\n"
    }
   }
  },
  {
   "cell_type": "code",
   "execution_count": 9,
   "outputs": [
    {
     "name": "stdout",
     "output_type": "stream",
     "text": [
      "ID urządzenia CUDA: 0\n",
      "Nazwa urządzenia CUDA: NVIDIA GeForce GTX 1070\n"
     ]
    }
   ],
   "source": [
    "if cuda_av:\n",
    "    cuda_id = torch.cuda.current_device()\n",
    "    print(f'ID urządzenia CUDA: {cuda_id}')\n",
    "    print(f\"Nazwa urządzenia CUDA: {torch.cuda.get_device_name(cuda_id)}\")"
   ],
   "metadata": {
    "collapsed": false,
    "pycharm": {
     "name": "#%%\n"
    }
   }
  },
  {
   "cell_type": "code",
   "execution_count": 10,
   "outputs": [
    {
     "data": {
      "text/plain": "'cuda'"
     },
     "execution_count": 10,
     "metadata": {},
     "output_type": "execute_result"
    }
   ],
   "source": [
    "# Tworzenie kodu uniwersalnego: dla CUDA i CPU\n",
    "device = 'cuda' if torch.cuda.is_available() else 'cpu'\n",
    "device"
   ],
   "metadata": {
    "collapsed": false,
    "pycharm": {
     "name": "#%%\n"
    }
   }
  },
  {
   "cell_type": "code",
   "execution_count": 10,
   "outputs": [],
   "source": [],
   "metadata": {
    "collapsed": false,
    "pycharm": {
     "name": "#%%\n"
    }
   }
  },
  {
   "cell_type": "markdown",
   "source": [
    "## Ładowanie danych treningowych"
   ],
   "metadata": {
    "collapsed": false,
    "pycharm": {
     "name": "#%% md\n"
    }
   }
  },
  {
   "cell_type": "code",
   "execution_count": 11,
   "outputs": [],
   "source": [
    "tweets = pd.read_csv('data/olid-training-v1.0.tsv', sep='\\t')"
   ],
   "metadata": {
    "collapsed": false,
    "pycharm": {
     "name": "#%%\n"
    }
   }
  },
  {
   "cell_type": "code",
   "execution_count": 12,
   "outputs": [
    {
     "data": {
      "text/plain": "      id                                              tweet subtask_a  \\\n0  86426  @USER She should ask a few native Americans wh...       OFF   \n1  90194  @USER @USER Go home you’re drunk!!! @USER #MAG...       OFF   \n2  16820  Amazon is investigating Chinese employees who ...       NOT   \n3  62688  @USER Someone should'veTaken\" this piece of sh...       OFF   \n4  43605  @USER @USER Obama wanted liberals &amp; illega...       NOT   \n\n  subtask_b subtask_c  \n0       UNT       NaN  \n1       TIN       IND  \n2       NaN       NaN  \n3       UNT       NaN  \n4       NaN       NaN  ",
      "text/html": "<div>\n<style scoped>\n    .dataframe tbody tr th:only-of-type {\n        vertical-align: middle;\n    }\n\n    .dataframe tbody tr th {\n        vertical-align: top;\n    }\n\n    .dataframe thead th {\n        text-align: right;\n    }\n</style>\n<table border=\"1\" class=\"dataframe\">\n  <thead>\n    <tr style=\"text-align: right;\">\n      <th></th>\n      <th>id</th>\n      <th>tweet</th>\n      <th>subtask_a</th>\n      <th>subtask_b</th>\n      <th>subtask_c</th>\n    </tr>\n  </thead>\n  <tbody>\n    <tr>\n      <th>0</th>\n      <td>86426</td>\n      <td>@USER She should ask a few native Americans wh...</td>\n      <td>OFF</td>\n      <td>UNT</td>\n      <td>NaN</td>\n    </tr>\n    <tr>\n      <th>1</th>\n      <td>90194</td>\n      <td>@USER @USER Go home you’re drunk!!! @USER #MAG...</td>\n      <td>OFF</td>\n      <td>TIN</td>\n      <td>IND</td>\n    </tr>\n    <tr>\n      <th>2</th>\n      <td>16820</td>\n      <td>Amazon is investigating Chinese employees who ...</td>\n      <td>NOT</td>\n      <td>NaN</td>\n      <td>NaN</td>\n    </tr>\n    <tr>\n      <th>3</th>\n      <td>62688</td>\n      <td>@USER Someone should'veTaken\" this piece of sh...</td>\n      <td>OFF</td>\n      <td>UNT</td>\n      <td>NaN</td>\n    </tr>\n    <tr>\n      <th>4</th>\n      <td>43605</td>\n      <td>@USER @USER Obama wanted liberals &amp;amp; illega...</td>\n      <td>NOT</td>\n      <td>NaN</td>\n      <td>NaN</td>\n    </tr>\n  </tbody>\n</table>\n</div>"
     },
     "execution_count": 12,
     "metadata": {},
     "output_type": "execute_result"
    }
   ],
   "source": [
    "tweets.head()"
   ],
   "metadata": {
    "collapsed": false,
    "pycharm": {
     "name": "#%%\n"
    }
   }
  },
  {
   "cell_type": "code",
   "execution_count": 13,
   "outputs": [],
   "source": [
    "# tweets = tweets[:100]"
   ],
   "metadata": {
    "collapsed": false,
    "pycharm": {
     "name": "#%%\n"
    }
   }
  },
  {
   "cell_type": "code",
   "execution_count": 14,
   "outputs": [],
   "source": [
    "# tweets = tweets[:5]"
   ],
   "metadata": {
    "collapsed": false,
    "pycharm": {
     "name": "#%%\n"
    }
   }
  },
  {
   "cell_type": "markdown",
   "source": [
    "### Tokenizacja, lematyzacja, usówanie pewnych słów\n",
    "liczenie najdłuższego przetworzonego tweeta"
   ],
   "metadata": {
    "collapsed": false,
    "pycharm": {
     "name": "#%% md\n"
    }
   }
  },
  {
   "cell_type": "code",
   "execution_count": 15,
   "outputs": [],
   "source": [
    "nlp = spacy.load('en_core_web_sm')"
   ],
   "metadata": {
    "collapsed": false,
    "pycharm": {
     "name": "#%%\n"
    }
   }
  },
  {
   "cell_type": "code",
   "execution_count": 16,
   "outputs": [],
   "source": [
    "# dodawanie kolumny z tokenami\n",
    "tweets['tokens'] = tweets['tweet'].apply(nlp)"
   ],
   "metadata": {
    "collapsed": false,
    "pycharm": {
     "name": "#%%\n"
    }
   }
  },
  {
   "cell_type": "code",
   "execution_count": 17,
   "outputs": [
    {
     "data": {
      "text/plain": "      id                                              tweet subtask_a  \\\n0  86426  @USER She should ask a few native Americans wh...       OFF   \n1  90194  @USER @USER Go home you’re drunk!!! @USER #MAG...       OFF   \n2  16820  Amazon is investigating Chinese employees who ...       NOT   \n3  62688  @USER Someone should'veTaken\" this piece of sh...       OFF   \n4  43605  @USER @USER Obama wanted liberals &amp; illega...       NOT   \n\n  subtask_b subtask_c                                             tokens  \n0       UNT       NaN  (@USER, She, should, ask, a, few, native, Amer...  \n1       TIN       IND  (@USER, @USER, Go, home, you, ’re, drunk, !, !...  \n2       NaN       NaN  (Amazon, is, investigating, Chinese, employees...  \n3       UNT       NaN  (@USER, Someone, should'veTaken, \", this, piec...  \n4       NaN       NaN  (@USER, @USER, Obama, wanted, liberals, &, amp...  ",
      "text/html": "<div>\n<style scoped>\n    .dataframe tbody tr th:only-of-type {\n        vertical-align: middle;\n    }\n\n    .dataframe tbody tr th {\n        vertical-align: top;\n    }\n\n    .dataframe thead th {\n        text-align: right;\n    }\n</style>\n<table border=\"1\" class=\"dataframe\">\n  <thead>\n    <tr style=\"text-align: right;\">\n      <th></th>\n      <th>id</th>\n      <th>tweet</th>\n      <th>subtask_a</th>\n      <th>subtask_b</th>\n      <th>subtask_c</th>\n      <th>tokens</th>\n    </tr>\n  </thead>\n  <tbody>\n    <tr>\n      <th>0</th>\n      <td>86426</td>\n      <td>@USER She should ask a few native Americans wh...</td>\n      <td>OFF</td>\n      <td>UNT</td>\n      <td>NaN</td>\n      <td>(@USER, She, should, ask, a, few, native, Amer...</td>\n    </tr>\n    <tr>\n      <th>1</th>\n      <td>90194</td>\n      <td>@USER @USER Go home you’re drunk!!! @USER #MAG...</td>\n      <td>OFF</td>\n      <td>TIN</td>\n      <td>IND</td>\n      <td>(@USER, @USER, Go, home, you, ’re, drunk, !, !...</td>\n    </tr>\n    <tr>\n      <th>2</th>\n      <td>16820</td>\n      <td>Amazon is investigating Chinese employees who ...</td>\n      <td>NOT</td>\n      <td>NaN</td>\n      <td>NaN</td>\n      <td>(Amazon, is, investigating, Chinese, employees...</td>\n    </tr>\n    <tr>\n      <th>3</th>\n      <td>62688</td>\n      <td>@USER Someone should'veTaken\" this piece of sh...</td>\n      <td>OFF</td>\n      <td>UNT</td>\n      <td>NaN</td>\n      <td>(@USER, Someone, should'veTaken, \", this, piec...</td>\n    </tr>\n    <tr>\n      <th>4</th>\n      <td>43605</td>\n      <td>@USER @USER Obama wanted liberals &amp;amp; illega...</td>\n      <td>NOT</td>\n      <td>NaN</td>\n      <td>NaN</td>\n      <td>(@USER, @USER, Obama, wanted, liberals, &amp;, amp...</td>\n    </tr>\n  </tbody>\n</table>\n</div>"
     },
     "execution_count": 17,
     "metadata": {},
     "output_type": "execute_result"
    }
   ],
   "source": [
    "tweets.head()"
   ],
   "metadata": {
    "collapsed": false,
    "pycharm": {
     "name": "#%%\n"
    }
   }
  },
  {
   "cell_type": "code",
   "execution_count": 18,
   "outputs": [],
   "source": [
    "# dodawanie kolumny z lematami za pomoca funkcji lambda - przy tym usuwanie:\n",
    "# odwolan do wczesniejszych tweetow (zawiera @)\n",
    "# - slowa url (czyli adresy stron inernetowych które w danych wejściowych mają URL zamiast adreasu.\n",
    "# # - hasztagów; przyimków i innych częstych słów (stop words) oraz znaków interpunkcyjnych.\n",
    "# spacji ' ', '  ', '   '\n",
    "\n",
    "# emotikony zostawiam - uważam, że też niosą znaczenie\n",
    "\n",
    "tweets['lemmas'] = tweets['tokens'].apply\\\n",
    "    (lambda list_tokens : [token.lemma_.strip() for token in list_tokens if ('@' not in token.lemma_ \\\n",
    "                                                                     and '#' not in token.lemma_ and 'url' not in token.lemma_ \\\n",
    "                                                                     and not token.is_stop and not token.is_punct and token.lemma_ != ' ' \\\n",
    "                                                                     and token.lemma_ != '  ' and token.lemma_ != '   '\n",
    "                                                                     and token.lemma_ != '    ')])"
   ],
   "metadata": {
    "collapsed": false,
    "pycharm": {
     "name": "#%%\n"
    }
   }
  },
  {
   "cell_type": "code",
   "execution_count": 19,
   "outputs": [
    {
     "data": {
      "text/plain": "0                             [ask, native, Americans]\n1           [home, drunk, MAGA, Trump2020, 👊, 🇺, 🇸, 👊]\n2    [Amazon, investigate, chinese, employee, sell,...\n3            [should'vetaken, piece, shit, volcano, 😂]\nName: lemmas, dtype: object"
     },
     "execution_count": 19,
     "metadata": {},
     "output_type": "execute_result"
    }
   ],
   "source": [
    "tweets.loc[:3,'lemmas']"
   ],
   "metadata": {
    "collapsed": false,
    "pycharm": {
     "name": "#%%\n"
    }
   }
  },
  {
   "cell_type": "code",
   "execution_count": 20,
   "outputs": [
    {
     "data": {
      "text/plain": "@USER What’s the difference between #Kavanaugh and @USER   One of these men admitted to groping a 15 year old girl years ago.  The other is going to be #confirmed to the SCJ   #DemsareFrauds #DemsAreDone   #WalkAwayDemocrats2018 #redwave #VoteRedSaveAmerica #trumptrain #MAGA URL"
     },
     "execution_count": 20,
     "metadata": {},
     "output_type": "execute_result"
    }
   ],
   "source": [
    "tweets.loc[11, 'tokens']"
   ],
   "metadata": {
    "collapsed": false,
    "pycharm": {
     "name": "#%%\n"
    }
   }
  },
  {
   "cell_type": "code",
   "execution_count": 21,
   "outputs": [],
   "source": [
    "tweets['length_lemmas'] = tweets['lemmas'].apply(lambda row: len(row))"
   ],
   "metadata": {
    "collapsed": false,
    "pycharm": {
     "name": "#%%\n"
    }
   }
  },
  {
   "cell_type": "code",
   "execution_count": 22,
   "outputs": [
    {
     "data": {
      "text/plain": "0      3\n1      8\n2     18\n3      5\n4      7\n5      2\n6      4\n7     16\n8      2\n9     10\n10     4\nName: length_lemmas, dtype: int64"
     },
     "execution_count": 22,
     "metadata": {},
     "output_type": "execute_result"
    }
   ],
   "source": [
    "tweets.loc[:10, 'length_lemmas']"
   ],
   "metadata": {
    "collapsed": false,
    "pycharm": {
     "name": "#%%\n"
    }
   }
  },
  {
   "cell_type": "code",
   "execution_count": 23,
   "outputs": [],
   "source": [
    "max_length_tweet = max(tweets['length_lemmas'])"
   ],
   "metadata": {
    "collapsed": false,
    "pycharm": {
     "name": "#%%\n"
    }
   }
  },
  {
   "cell_type": "markdown",
   "source": [
    "## Ładowanie danych testowych(a)"
   ],
   "metadata": {
    "collapsed": false,
    "pycharm": {
     "name": "#%% md\n"
    }
   }
  },
  {
   "cell_type": "code",
   "execution_count": 24,
   "outputs": [],
   "source": [
    "test_level_a = pd.read_csv('data/testset-levela.tsv', sep='\\t')"
   ],
   "metadata": {
    "collapsed": false,
    "pycharm": {
     "name": "#%%\n"
    }
   }
  },
  {
   "cell_type": "code",
   "execution_count": 25,
   "outputs": [],
   "source": [
    "labels_level_a = pd.read_csv('data/labels-levela.csv', header=None)"
   ],
   "metadata": {
    "collapsed": false,
    "pycharm": {
     "name": "#%%\n"
    }
   }
  },
  {
   "cell_type": "code",
   "execution_count": 26,
   "outputs": [],
   "source": [
    "labels_level_a = labels_level_a.rename(columns={0:'id', 1:'subtask_a'})"
   ],
   "metadata": {
    "collapsed": false,
    "pycharm": {
     "name": "#%%\n"
    }
   }
  },
  {
   "cell_type": "code",
   "execution_count": 27,
   "outputs": [],
   "source": [
    "test_a = pd.merge(test_level_a, labels_level_a, on = \"id\", how = \"inner\")"
   ],
   "metadata": {
    "collapsed": false,
    "pycharm": {
     "name": "#%%\n"
    }
   }
  },
  {
   "cell_type": "code",
   "execution_count": 28,
   "outputs": [
    {
     "data": {
      "text/plain": "      id                                              tweet subtask_a\n0  15923  #WhoIsQ #WheresTheServer #DumpNike #DECLASFISA...       OFF\n1  27014  #ConstitutionDay is revered by Conservatives, ...       NOT\n2  30530  #FOXNews #NRA #MAGA #POTUS #TRUMP #2ndAmendmen...       NOT\n3  13876  #Watching #Boomer getting the news that she is...       NOT\n4  60133  #NoPasaran: Unity demo to oppose the far-right...       OFF",
      "text/html": "<div>\n<style scoped>\n    .dataframe tbody tr th:only-of-type {\n        vertical-align: middle;\n    }\n\n    .dataframe tbody tr th {\n        vertical-align: top;\n    }\n\n    .dataframe thead th {\n        text-align: right;\n    }\n</style>\n<table border=\"1\" class=\"dataframe\">\n  <thead>\n    <tr style=\"text-align: right;\">\n      <th></th>\n      <th>id</th>\n      <th>tweet</th>\n      <th>subtask_a</th>\n    </tr>\n  </thead>\n  <tbody>\n    <tr>\n      <th>0</th>\n      <td>15923</td>\n      <td>#WhoIsQ #WheresTheServer #DumpNike #DECLASFISA...</td>\n      <td>OFF</td>\n    </tr>\n    <tr>\n      <th>1</th>\n      <td>27014</td>\n      <td>#ConstitutionDay is revered by Conservatives, ...</td>\n      <td>NOT</td>\n    </tr>\n    <tr>\n      <th>2</th>\n      <td>30530</td>\n      <td>#FOXNews #NRA #MAGA #POTUS #TRUMP #2ndAmendmen...</td>\n      <td>NOT</td>\n    </tr>\n    <tr>\n      <th>3</th>\n      <td>13876</td>\n      <td>#Watching #Boomer getting the news that she is...</td>\n      <td>NOT</td>\n    </tr>\n    <tr>\n      <th>4</th>\n      <td>60133</td>\n      <td>#NoPasaran: Unity demo to oppose the far-right...</td>\n      <td>OFF</td>\n    </tr>\n  </tbody>\n</table>\n</div>"
     },
     "execution_count": 28,
     "metadata": {},
     "output_type": "execute_result"
    }
   ],
   "source": [
    "test_a.head()"
   ],
   "metadata": {
    "collapsed": false,
    "pycharm": {
     "name": "#%%\n"
    }
   }
  },
  {
   "cell_type": "code",
   "execution_count": 29,
   "outputs": [
    {
     "data": {
      "text/plain": "860"
     },
     "execution_count": 29,
     "metadata": {},
     "output_type": "execute_result"
    }
   ],
   "source": [
    "len(test_a)"
   ],
   "metadata": {
    "collapsed": false,
    "pycharm": {
     "name": "#%%\n"
    }
   }
  },
  {
   "cell_type": "code",
   "execution_count": 29,
   "outputs": [],
   "source": [],
   "metadata": {
    "collapsed": false,
    "pycharm": {
     "name": "#%%\n"
    }
   }
  },
  {
   "cell_type": "markdown",
   "source": [
    "### Opracowanie danych testowych (część a)\n",
    "Takie same modyfikacje jak dla danych treningowych"
   ],
   "metadata": {
    "collapsed": false
   }
  },
  {
   "cell_type": "code",
   "execution_count": 30,
   "outputs": [],
   "source": [
    "test_a['tokens'] = test_a['tweet'].apply(nlp)\n",
    "test_a['lemmas'] = test_a['tokens'].apply \\\n",
    "    (lambda list_tokens : [token.lemma_.strip() for token in list_tokens if ('@' not in token.lemma_ \\\n",
    "                                                                             and '#' not in token.lemma_ and 'url' not in token.lemma_ \\\n",
    "                                                                             and not token.is_stop and not token.is_punct and token.lemma_ != ' ' \\\n",
    "                                                                             and token.lemma_ != '  ' and token.lemma_ != '   ' \\\n",
    "                                                                             and token.lemma_ != '    ')])\n",
    "\n",
    "test_a['length_lemmas'] = test_a['lemmas'].apply(lambda row: len(row))"
   ],
   "metadata": {
    "collapsed": false,
    "pycharm": {
     "name": "#%%\n"
    }
   }
  },
  {
   "cell_type": "code",
   "execution_count": 31,
   "outputs": [
    {
     "data": {
      "text/plain": "40"
     },
     "execution_count": 31,
     "metadata": {},
     "output_type": "execute_result"
    }
   ],
   "source": [
    "max(test_a['length_lemmas'])"
   ],
   "metadata": {
    "collapsed": false,
    "pycharm": {
     "name": "#%%\n"
    }
   }
  },
  {
   "cell_type": "code",
   "execution_count": 32,
   "outputs": [
    {
     "data": {
      "text/plain": "      id                                              tweet subtask_a  \\\n0  15923  #WhoIsQ #WheresTheServer #DumpNike #DECLASFISA...       OFF   \n1  27014  #ConstitutionDay is revered by Conservatives, ...       NOT   \n2  30530  #FOXNews #NRA #MAGA #POTUS #TRUMP #2ndAmendmen...       NOT   \n3  13876  #Watching #Boomer getting the news that she is...       NOT   \n4  60133  #NoPasaran: Unity demo to oppose the far-right...       OFF   \n\n                                              tokens  \\\n0  (#, WhoIsQ, #, WheresTheServer, #, DumpNike, #...   \n1  (#, ConstitutionDay, is, revered, by, Conserva...   \n2  (#, FOXNews, #, NRA, #, MAGA, #, POTUS, #, TRU...   \n3  (#, Watching, #, Boomer, getting, the, news, t...   \n4  (#, NoPasaran, :, Unity, demo, to, oppose, the...   \n\n                                              lemmas  length_lemmas  \n0  [WhoIsQ, wherestheserver, DumpNike, DECLASFISA...             24  \n1  [ConstitutionDay, revere, conservative, hate, ...              9  \n2  [foxnew, NRA, MAGA, POTUS, TRUMP, 2ndamendment...             15  \n3  [watch, Boomer, get, news, parole, make, smile...             10  \n4  [NoPasaran, unity, demo, oppose, far, right, L...              9  ",
      "text/html": "<div>\n<style scoped>\n    .dataframe tbody tr th:only-of-type {\n        vertical-align: middle;\n    }\n\n    .dataframe tbody tr th {\n        vertical-align: top;\n    }\n\n    .dataframe thead th {\n        text-align: right;\n    }\n</style>\n<table border=\"1\" class=\"dataframe\">\n  <thead>\n    <tr style=\"text-align: right;\">\n      <th></th>\n      <th>id</th>\n      <th>tweet</th>\n      <th>subtask_a</th>\n      <th>tokens</th>\n      <th>lemmas</th>\n      <th>length_lemmas</th>\n    </tr>\n  </thead>\n  <tbody>\n    <tr>\n      <th>0</th>\n      <td>15923</td>\n      <td>#WhoIsQ #WheresTheServer #DumpNike #DECLASFISA...</td>\n      <td>OFF</td>\n      <td>(#, WhoIsQ, #, WheresTheServer, #, DumpNike, #...</td>\n      <td>[WhoIsQ, wherestheserver, DumpNike, DECLASFISA...</td>\n      <td>24</td>\n    </tr>\n    <tr>\n      <th>1</th>\n      <td>27014</td>\n      <td>#ConstitutionDay is revered by Conservatives, ...</td>\n      <td>NOT</td>\n      <td>(#, ConstitutionDay, is, revered, by, Conserva...</td>\n      <td>[ConstitutionDay, revere, conservative, hate, ...</td>\n      <td>9</td>\n    </tr>\n    <tr>\n      <th>2</th>\n      <td>30530</td>\n      <td>#FOXNews #NRA #MAGA #POTUS #TRUMP #2ndAmendmen...</td>\n      <td>NOT</td>\n      <td>(#, FOXNews, #, NRA, #, MAGA, #, POTUS, #, TRU...</td>\n      <td>[foxnew, NRA, MAGA, POTUS, TRUMP, 2ndamendment...</td>\n      <td>15</td>\n    </tr>\n    <tr>\n      <th>3</th>\n      <td>13876</td>\n      <td>#Watching #Boomer getting the news that she is...</td>\n      <td>NOT</td>\n      <td>(#, Watching, #, Boomer, getting, the, news, t...</td>\n      <td>[watch, Boomer, get, news, parole, make, smile...</td>\n      <td>10</td>\n    </tr>\n    <tr>\n      <th>4</th>\n      <td>60133</td>\n      <td>#NoPasaran: Unity demo to oppose the far-right...</td>\n      <td>OFF</td>\n      <td>(#, NoPasaran, :, Unity, demo, to, oppose, the...</td>\n      <td>[NoPasaran, unity, demo, oppose, far, right, L...</td>\n      <td>9</td>\n    </tr>\n  </tbody>\n</table>\n</div>"
     },
     "execution_count": 32,
     "metadata": {},
     "output_type": "execute_result"
    }
   ],
   "source": [
    "test_a.head()"
   ],
   "metadata": {
    "collapsed": false,
    "pycharm": {
     "name": "#%%\n"
    }
   }
  },
  {
   "cell_type": "code",
   "execution_count": 33,
   "outputs": [
    {
     "data": {
      "text/plain": "860"
     },
     "execution_count": 33,
     "metadata": {},
     "output_type": "execute_result"
    }
   ],
   "source": [
    "len(test_a)"
   ],
   "metadata": {
    "collapsed": false,
    "pycharm": {
     "name": "#%%\n"
    }
   }
  },
  {
   "cell_type": "code",
   "execution_count": 34,
   "outputs": [],
   "source": [
    "max_length_tweet_test = max(test_a['length_lemmas'])"
   ],
   "metadata": {
    "collapsed": false,
    "pycharm": {
     "name": "#%%\n"
    }
   }
  },
  {
   "cell_type": "code",
   "execution_count": 35,
   "outputs": [
    {
     "data": {
      "text/plain": "40"
     },
     "execution_count": 35,
     "metadata": {},
     "output_type": "execute_result"
    }
   ],
   "source": [
    "max_length_tweet_test"
   ],
   "metadata": {
    "collapsed": false,
    "pycharm": {
     "name": "#%%\n"
    }
   }
  },
  {
   "cell_type": "code",
   "execution_count": 35,
   "outputs": [],
   "source": [],
   "metadata": {
    "collapsed": false,
    "pycharm": {
     "name": "#%%\n"
    }
   }
  },
  {
   "cell_type": "code",
   "execution_count": 36,
   "outputs": [],
   "source": [
    "#### Maksymalna długość wektora z lematami z tweetów"
   ],
   "metadata": {
    "collapsed": false,
    "pycharm": {
     "name": "#%%\n"
    }
   }
  },
  {
   "cell_type": "code",
   "execution_count": 37,
   "outputs": [],
   "source": [
    "max_width = max(max_length_tweet, max_length_tweet_test)"
   ],
   "metadata": {
    "collapsed": false,
    "pycharm": {
     "name": "#%%\n"
    }
   }
  },
  {
   "cell_type": "markdown",
   "source": [
    "## Funkcje do przekszałcania danych"
   ],
   "metadata": {
    "collapsed": false,
    "pycharm": {
     "name": "#%% md\n"
    }
   }
  },
  {
   "cell_type": "code",
   "execution_count": 38,
   "outputs": [],
   "source": [
    "def convert_words_to_numbers(lemmas_series, dict_ = dict()):\n",
    "    # dict_ = dict()\n",
    "    for row in lemmas_series:\n",
    "        for lemma in row:\n",
    "            if lemma not in dict_:\n",
    "                dict_[lemma] = len(dict_) + 1\n",
    "\n",
    "    return dict_"
   ],
   "metadata": {
    "collapsed": false,
    "pycharm": {
     "name": "#%%\n"
    }
   }
  },
  {
   "cell_type": "code",
   "execution_count": 39,
   "outputs": [],
   "source": [
    "def lemmas_to_numbers(row, max_list_lemmas, dict_):\n",
    "    list_numbers = []\n",
    "    for i in range(max_list_lemmas - len(row)):\n",
    "        list_numbers.append(0)\n",
    "\n",
    "    for lemma in row:\n",
    "        list_numbers.append(dict_[lemma])\n",
    "\n",
    "    array_numbers = np.array(list_numbers, dtype=np.int32)\n",
    "    return array_numbers"
   ],
   "metadata": {
    "collapsed": false,
    "pycharm": {
     "name": "#%%\n"
    }
   }
  },
  {
   "cell_type": "markdown",
   "source": [
    "## Powrót do opracowywania danych treningowych"
   ],
   "metadata": {
    "collapsed": false,
    "pycharm": {
     "name": "#%% md\n"
    }
   }
  },
  {
   "cell_type": "code",
   "execution_count": 40,
   "outputs": [],
   "source": [
    "dict_lemmas = convert_words_to_numbers(tweets['lemmas'])"
   ],
   "metadata": {
    "collapsed": false,
    "pycharm": {
     "name": "#%%\n"
    }
   }
  },
  {
   "cell_type": "code",
   "execution_count": 41,
   "outputs": [
    {
     "data": {
      "text/plain": "['', '$', '&amp', \"'cause\", \"'em\", '(sorry', '*disclaimer', '+', '+15', '+2']"
     },
     "execution_count": 41,
     "metadata": {},
     "output_type": "execute_result"
    }
   ],
   "source": [
    "sorted(dict_lemmas)[:10]"
   ],
   "metadata": {
    "collapsed": false,
    "pycharm": {
     "name": "#%%\n"
    }
   }
  },
  {
   "cell_type": "code",
   "execution_count": 42,
   "outputs": [],
   "source": [
    "# zamiana lematu na liczbe ze slownika ktory odpowiada danemu slowu\n",
    "tweets['numbers'] = tweets['lemmas'].apply(lambda row : lemmas_to_numbers(row, max_width, dict_lemmas))"
   ],
   "metadata": {
    "collapsed": false,
    "pycharm": {
     "name": "#%%\n"
    }
   }
  },
  {
   "cell_type": "code",
   "execution_count": 43,
   "outputs": [
    {
     "data": {
      "text/plain": "0    [0, 0, 0, 0, 0, 0, 0, 0, 0, 0, 0, 0, 0, 0, 0, ...\n1    [0, 0, 0, 0, 0, 0, 0, 0, 0, 0, 0, 0, 0, 0, 0, ...\n2    [0, 0, 0, 0, 0, 0, 0, 0, 0, 0, 0, 0, 0, 0, 0, ...\n3    [0, 0, 0, 0, 0, 0, 0, 0, 0, 0, 0, 0, 0, 0, 0, ...\n4    [0, 0, 0, 0, 0, 0, 0, 0, 0, 0, 0, 0, 0, 0, 0, ...\nName: numbers, dtype: object"
     },
     "execution_count": 43,
     "metadata": {},
     "output_type": "execute_result"
    }
   ],
   "source": [
    "tweets['numbers'].head()"
   ],
   "metadata": {
    "collapsed": false,
    "pycharm": {
     "name": "#%%\n"
    }
   }
  },
  {
   "cell_type": "code",
   "execution_count": 44,
   "outputs": [],
   "source": [
    "# przypisywanie X_train kolumny numbers skonwertowanej na tablice numpy\n",
    "X_train = tweets['numbers'].values"
   ],
   "metadata": {
    "collapsed": false,
    "pycharm": {
     "name": "#%%\n"
    }
   }
  },
  {
   "cell_type": "code",
   "execution_count": 45,
   "outputs": [],
   "source": [
    "# łączenie wierszy tablic w jedną tablicę 2D\n",
    "X_train = np.stack(X_train)"
   ],
   "metadata": {
    "collapsed": false,
    "pycharm": {
     "name": "#%%\n"
    }
   }
  },
  {
   "cell_type": "code",
   "execution_count": 46,
   "outputs": [],
   "source": [
    "# konwertowanie tablicy 2d do tensora\n",
    "X_train = torch.FloatTensor(X_train)"
   ],
   "metadata": {
    "collapsed": false,
    "pycharm": {
     "name": "#%%\n"
    }
   }
  },
  {
   "cell_type": "code",
   "execution_count": 47,
   "outputs": [],
   "source": [
    "# ustawianie kolumn z etykietami na poszczególne zadania jako type które przechowują kategorie"
   ],
   "metadata": {
    "collapsed": false,
    "pycharm": {
     "name": "#%%\n"
    }
   }
  },
  {
   "cell_type": "code",
   "execution_count": 48,
   "outputs": [],
   "source": [
    "cat_cols = ['subtask_a', 'subtask_b', 'subtask_c']"
   ],
   "metadata": {
    "collapsed": false,
    "pycharm": {
     "name": "#%%\n"
    }
   }
  },
  {
   "cell_type": "code",
   "execution_count": 49,
   "outputs": [],
   "source": [
    "for col in cat_cols:\n",
    "    tweets[col] = tweets[col].astype('category')"
   ],
   "metadata": {
    "collapsed": false,
    "pycharm": {
     "name": "#%%\n"
    }
   }
  },
  {
   "cell_type": "code",
   "execution_count": 50,
   "outputs": [],
   "source": [
    "tweets['labels_a'] = tweets['subtask_a'].cat.codes"
   ],
   "metadata": {
    "collapsed": false,
    "pycharm": {
     "name": "#%%\n"
    }
   }
  },
  {
   "cell_type": "code",
   "execution_count": 51,
   "outputs": [
    {
     "data": {
      "text/plain": "0    1\n1    1\n2    0\n3    1\n4    0\n5    1\nName: labels_a, dtype: int8"
     },
     "execution_count": 51,
     "metadata": {},
     "output_type": "execute_result"
    }
   ],
   "source": [
    "# OFFENSIVE jest jako 1, a NOT OFFENSIVE jest jako 0\n",
    "tweets.loc[:5, 'labels_a']"
   ],
   "metadata": {
    "collapsed": false,
    "pycharm": {
     "name": "#%%\n"
    }
   }
  },
  {
   "cell_type": "code",
   "execution_count": 52,
   "outputs": [
    {
     "data": {
      "text/plain": "          id                                              tweet subtask_a  \\\n0      86426  @USER She should ask a few native Americans wh...       OFF   \n1      90194  @USER @USER Go home you’re drunk!!! @USER #MAG...       OFF   \n2      16820  Amazon is investigating Chinese employees who ...       NOT   \n3      62688  @USER Someone should'veTaken\" this piece of sh...       OFF   \n4      43605  @USER @USER Obama wanted liberals &amp; illega...       NOT   \n...      ...                                                ...       ...   \n13235  95338  @USER Sometimes I get strong vibes from people...       OFF   \n13236  67210  Benidorm ✅  Creamfields ✅  Maga ✅   Not too sh...       NOT   \n13237  82921  @USER And why report this garbage.  We don't g...       OFF   \n13238  27429                                        @USER Pussy       OFF   \n13239  46552  #Spanishrevenge vs. #justice #HumanRights and ...       NOT   \n\n      subtask_b subtask_c                                             tokens  \\\n0           UNT       NaN  (@USER, She, should, ask, a, few, native, Amer...   \n1           TIN       IND  (@USER, @USER, Go, home, you, ’re, drunk, !, !...   \n2           NaN       NaN  (Amazon, is, investigating, Chinese, employees...   \n3           UNT       NaN  (@USER, Someone, should'veTaken, \", this, piec...   \n4           NaN       NaN  (@USER, @USER, Obama, wanted, liberals, &, amp...   \n...         ...       ...                                                ...   \n13235       TIN       IND  (@USER, Sometimes, I, get, strong, vibes, from...   \n13236       NaN       NaN  (Benidorm, ✅,  , Creamfields, ✅,  , Maga, ✅,  ...   \n13237       TIN       OTH  (@USER, And, why, report, this, garbage, .,  ,...   \n13238       UNT       NaN                                     (@USER, Pussy)   \n13239       NaN       NaN  (#, Spanishrevenge, vs., #, justice, #, HumanR...   \n\n                                                  lemmas  length_lemmas  \\\n0                               [ask, native, Americans]              3   \n1             [home, drunk, MAGA, Trump2020, 👊, 🇺, 🇸, 👊]              8   \n2      [Amazon, investigate, chinese, employee, sell,...             18   \n3              [should'vetaken, piece, shit, volcano, 😂]              5   \n4       [Obama, want, liberal, amp, illegal, red, state]              7   \n...                                                  ...            ...   \n13235  [strong, vibe, people, man, vibe, ten, million...             10   \n13236  [benidorm, ✅, creamfield, ✅, Maga, ✅, shabby, ...              8   \n13237                            [report, garbage, crap]              3   \n13238                                            [Pussy]              1   \n13239  [Spanishrevenge, vs., justice, HumanRights, fr...             10   \n\n                                                 numbers  labels_a  \n0      [0, 0, 0, 0, 0, 0, 0, 0, 0, 0, 0, 0, 0, 0, 0, ...         1  \n1      [0, 0, 0, 0, 0, 0, 0, 0, 0, 0, 0, 0, 0, 0, 0, ...         1  \n2      [0, 0, 0, 0, 0, 0, 0, 0, 0, 0, 0, 0, 0, 0, 0, ...         0  \n3      [0, 0, 0, 0, 0, 0, 0, 0, 0, 0, 0, 0, 0, 0, 0, ...         1  \n4      [0, 0, 0, 0, 0, 0, 0, 0, 0, 0, 0, 0, 0, 0, 0, ...         0  \n...                                                  ...       ...  \n13235  [0, 0, 0, 0, 0, 0, 0, 0, 0, 0, 0, 0, 0, 0, 0, ...         1  \n13236  [0, 0, 0, 0, 0, 0, 0, 0, 0, 0, 0, 0, 0, 0, 0, ...         0  \n13237  [0, 0, 0, 0, 0, 0, 0, 0, 0, 0, 0, 0, 0, 0, 0, ...         1  \n13238  [0, 0, 0, 0, 0, 0, 0, 0, 0, 0, 0, 0, 0, 0, 0, ...         1  \n13239  [0, 0, 0, 0, 0, 0, 0, 0, 0, 0, 0, 0, 0, 0, 0, ...         0  \n\n[13240 rows x 10 columns]",
      "text/html": "<div>\n<style scoped>\n    .dataframe tbody tr th:only-of-type {\n        vertical-align: middle;\n    }\n\n    .dataframe tbody tr th {\n        vertical-align: top;\n    }\n\n    .dataframe thead th {\n        text-align: right;\n    }\n</style>\n<table border=\"1\" class=\"dataframe\">\n  <thead>\n    <tr style=\"text-align: right;\">\n      <th></th>\n      <th>id</th>\n      <th>tweet</th>\n      <th>subtask_a</th>\n      <th>subtask_b</th>\n      <th>subtask_c</th>\n      <th>tokens</th>\n      <th>lemmas</th>\n      <th>length_lemmas</th>\n      <th>numbers</th>\n      <th>labels_a</th>\n    </tr>\n  </thead>\n  <tbody>\n    <tr>\n      <th>0</th>\n      <td>86426</td>\n      <td>@USER She should ask a few native Americans wh...</td>\n      <td>OFF</td>\n      <td>UNT</td>\n      <td>NaN</td>\n      <td>(@USER, She, should, ask, a, few, native, Amer...</td>\n      <td>[ask, native, Americans]</td>\n      <td>3</td>\n      <td>[0, 0, 0, 0, 0, 0, 0, 0, 0, 0, 0, 0, 0, 0, 0, ...</td>\n      <td>1</td>\n    </tr>\n    <tr>\n      <th>1</th>\n      <td>90194</td>\n      <td>@USER @USER Go home you’re drunk!!! @USER #MAG...</td>\n      <td>OFF</td>\n      <td>TIN</td>\n      <td>IND</td>\n      <td>(@USER, @USER, Go, home, you, ’re, drunk, !, !...</td>\n      <td>[home, drunk, MAGA, Trump2020, 👊, 🇺, 🇸, 👊]</td>\n      <td>8</td>\n      <td>[0, 0, 0, 0, 0, 0, 0, 0, 0, 0, 0, 0, 0, 0, 0, ...</td>\n      <td>1</td>\n    </tr>\n    <tr>\n      <th>2</th>\n      <td>16820</td>\n      <td>Amazon is investigating Chinese employees who ...</td>\n      <td>NOT</td>\n      <td>NaN</td>\n      <td>NaN</td>\n      <td>(Amazon, is, investigating, Chinese, employees...</td>\n      <td>[Amazon, investigate, chinese, employee, sell,...</td>\n      <td>18</td>\n      <td>[0, 0, 0, 0, 0, 0, 0, 0, 0, 0, 0, 0, 0, 0, 0, ...</td>\n      <td>0</td>\n    </tr>\n    <tr>\n      <th>3</th>\n      <td>62688</td>\n      <td>@USER Someone should'veTaken\" this piece of sh...</td>\n      <td>OFF</td>\n      <td>UNT</td>\n      <td>NaN</td>\n      <td>(@USER, Someone, should'veTaken, \", this, piec...</td>\n      <td>[should'vetaken, piece, shit, volcano, 😂]</td>\n      <td>5</td>\n      <td>[0, 0, 0, 0, 0, 0, 0, 0, 0, 0, 0, 0, 0, 0, 0, ...</td>\n      <td>1</td>\n    </tr>\n    <tr>\n      <th>4</th>\n      <td>43605</td>\n      <td>@USER @USER Obama wanted liberals &amp;amp; illega...</td>\n      <td>NOT</td>\n      <td>NaN</td>\n      <td>NaN</td>\n      <td>(@USER, @USER, Obama, wanted, liberals, &amp;, amp...</td>\n      <td>[Obama, want, liberal, amp, illegal, red, state]</td>\n      <td>7</td>\n      <td>[0, 0, 0, 0, 0, 0, 0, 0, 0, 0, 0, 0, 0, 0, 0, ...</td>\n      <td>0</td>\n    </tr>\n    <tr>\n      <th>...</th>\n      <td>...</td>\n      <td>...</td>\n      <td>...</td>\n      <td>...</td>\n      <td>...</td>\n      <td>...</td>\n      <td>...</td>\n      <td>...</td>\n      <td>...</td>\n      <td>...</td>\n    </tr>\n    <tr>\n      <th>13235</th>\n      <td>95338</td>\n      <td>@USER Sometimes I get strong vibes from people...</td>\n      <td>OFF</td>\n      <td>TIN</td>\n      <td>IND</td>\n      <td>(@USER, Sometimes, I, get, strong, vibes, from...</td>\n      <td>[strong, vibe, people, man, vibe, ten, million...</td>\n      <td>10</td>\n      <td>[0, 0, 0, 0, 0, 0, 0, 0, 0, 0, 0, 0, 0, 0, 0, ...</td>\n      <td>1</td>\n    </tr>\n    <tr>\n      <th>13236</th>\n      <td>67210</td>\n      <td>Benidorm ✅  Creamfields ✅  Maga ✅   Not too sh...</td>\n      <td>NOT</td>\n      <td>NaN</td>\n      <td>NaN</td>\n      <td>(Benidorm, ✅,  , Creamfields, ✅,  , Maga, ✅,  ...</td>\n      <td>[benidorm, ✅, creamfield, ✅, Maga, ✅, shabby, ...</td>\n      <td>8</td>\n      <td>[0, 0, 0, 0, 0, 0, 0, 0, 0, 0, 0, 0, 0, 0, 0, ...</td>\n      <td>0</td>\n    </tr>\n    <tr>\n      <th>13237</th>\n      <td>82921</td>\n      <td>@USER And why report this garbage.  We don't g...</td>\n      <td>OFF</td>\n      <td>TIN</td>\n      <td>OTH</td>\n      <td>(@USER, And, why, report, this, garbage, .,  ,...</td>\n      <td>[report, garbage, crap]</td>\n      <td>3</td>\n      <td>[0, 0, 0, 0, 0, 0, 0, 0, 0, 0, 0, 0, 0, 0, 0, ...</td>\n      <td>1</td>\n    </tr>\n    <tr>\n      <th>13238</th>\n      <td>27429</td>\n      <td>@USER Pussy</td>\n      <td>OFF</td>\n      <td>UNT</td>\n      <td>NaN</td>\n      <td>(@USER, Pussy)</td>\n      <td>[Pussy]</td>\n      <td>1</td>\n      <td>[0, 0, 0, 0, 0, 0, 0, 0, 0, 0, 0, 0, 0, 0, 0, ...</td>\n      <td>1</td>\n    </tr>\n    <tr>\n      <th>13239</th>\n      <td>46552</td>\n      <td>#Spanishrevenge vs. #justice #HumanRights and ...</td>\n      <td>NOT</td>\n      <td>NaN</td>\n      <td>NaN</td>\n      <td>(#, Spanishrevenge, vs., #, justice, #, HumanR...</td>\n      <td>[Spanishrevenge, vs., justice, HumanRights, fr...</td>\n      <td>10</td>\n      <td>[0, 0, 0, 0, 0, 0, 0, 0, 0, 0, 0, 0, 0, 0, 0, ...</td>\n      <td>0</td>\n    </tr>\n  </tbody>\n</table>\n<p>13240 rows × 10 columns</p>\n</div>"
     },
     "execution_count": 52,
     "metadata": {},
     "output_type": "execute_result"
    }
   ],
   "source": [
    "tweets"
   ],
   "metadata": {
    "collapsed": false,
    "pycharm": {
     "name": "#%%\n"
    }
   }
  },
  {
   "cell_type": "code",
   "execution_count": 53,
   "outputs": [
    {
     "data": {
      "text/plain": "id                                                           86426\ntweet            @USER She should ask a few native Americans wh...\nsubtask_a                                                      OFF\nsubtask_b                                                      UNT\nsubtask_c                                                      NaN\ntokens           (@USER, She, should, ask, a, few, native, Amer...\nlemmas                                    [ask, native, Americans]\nlength_lemmas                                                    3\nnumbers          [0, 0, 0, 0, 0, 0, 0, 0, 0, 0, 0, 0, 0, 0, 0, ...\nlabels_a                                                         1\nName: 0, dtype: object"
     },
     "execution_count": 53,
     "metadata": {},
     "output_type": "execute_result"
    }
   ],
   "source": [
    "tweets.iloc[0]"
   ],
   "metadata": {
    "collapsed": false,
    "pycharm": {
     "name": "#%%\n"
    }
   }
  },
  {
   "cell_type": "code",
   "execution_count": 54,
   "outputs": [],
   "source": [
    "y_train = tweets['labels_a'].values"
   ],
   "metadata": {
    "collapsed": false,
    "pycharm": {
     "name": "#%%\n"
    }
   }
  },
  {
   "cell_type": "code",
   "execution_count": 55,
   "outputs": [],
   "source": [
    "y_train = torch.tensor(y_train).reshape(-1,1)"
   ],
   "metadata": {
    "collapsed": false,
    "pycharm": {
     "name": "#%%\n"
    }
   }
  },
  {
   "cell_type": "code",
   "execution_count": 56,
   "outputs": [
    {
     "data": {
      "text/plain": "tensor([[1],\n        [1],\n        [0],\n        [1],\n        [0]], dtype=torch.int8)"
     },
     "execution_count": 56,
     "metadata": {},
     "output_type": "execute_result"
    }
   ],
   "source": [
    "y_train[:5]"
   ],
   "metadata": {
    "collapsed": false,
    "pycharm": {
     "name": "#%%\n"
    }
   }
  },
  {
   "cell_type": "code",
   "execution_count": 57,
   "outputs": [],
   "source": [
    "data = torch.cat((X_train, y_train), axis=1)"
   ],
   "metadata": {
    "collapsed": false,
    "pycharm": {
     "name": "#%%\n"
    }
   }
  },
  {
   "cell_type": "code",
   "execution_count": 58,
   "outputs": [],
   "source": [
    "data = data.to(device)"
   ],
   "metadata": {
    "collapsed": false,
    "pycharm": {
     "name": "#%%\n"
    }
   }
  },
  {
   "cell_type": "code",
   "execution_count": 59,
   "outputs": [],
   "source": [
    "\n",
    "train_dataset_loader = torch.utils.data.DataLoader(data, batch_size=batch_size, shuffle=True)"
   ],
   "metadata": {
    "collapsed": false,
    "pycharm": {
     "name": "#%%\n"
    }
   }
  },
  {
   "cell_type": "markdown",
   "source": [
    "## Opracowywanie danych testowych"
   ],
   "metadata": {
    "collapsed": false,
    "pycharm": {
     "name": "#%% md\n"
    }
   }
  },
  {
   "cell_type": "code",
   "execution_count": 60,
   "outputs": [],
   "source": [
    "dict_lemmas = convert_words_to_numbers(test_a['lemmas'], dict_lemmas)"
   ],
   "metadata": {
    "collapsed": false,
    "pycharm": {
     "name": "#%%\n"
    }
   }
  },
  {
   "cell_type": "code",
   "execution_count": 61,
   "outputs": [
    {
     "data": {
      "text/plain": "['', '$', '&amp', \"'cause\", \"'em\", '(sorry', '*disclaimer', '+', '+15', '+2']"
     },
     "execution_count": 61,
     "metadata": {},
     "output_type": "execute_result"
    }
   ],
   "source": [
    "sorted(dict_lemmas)[:10]"
   ],
   "metadata": {
    "collapsed": false,
    "pycharm": {
     "name": "#%%\n"
    }
   }
  },
  {
   "cell_type": "code",
   "execution_count": 62,
   "outputs": [],
   "source": [
    "# zamiana lematu na liczbe ze slownika ktory odpowiada danemu slowu\n",
    "test_a['numbers'] = test_a['lemmas'].apply(lambda row : lemmas_to_numbers(row, max_width, dict_lemmas))"
   ],
   "metadata": {
    "collapsed": false,
    "pycharm": {
     "name": "#%%\n"
    }
   }
  },
  {
   "cell_type": "code",
   "execution_count": 63,
   "outputs": [
    {
     "data": {
      "text/plain": "0    [WhoIsQ, wherestheserver, DumpNike, DECLASFISA...\n1    [ConstitutionDay, revere, conservative, hate, ...\n2    [foxnew, NRA, MAGA, POTUS, TRUMP, 2ndamendment...\n3    [watch, Boomer, get, news, parole, make, smile...\n4    [NoPasaran, unity, demo, oppose, far, right, L...\nName: lemmas, dtype: object"
     },
     "execution_count": 63,
     "metadata": {},
     "output_type": "execute_result"
    }
   ],
   "source": [
    "test_a['lemmas'].head()"
   ],
   "metadata": {
    "collapsed": false,
    "pycharm": {
     "name": "#%%\n"
    }
   }
  },
  {
   "cell_type": "code",
   "execution_count": 64,
   "outputs": [
    {
     "data": {
      "text/plain": "0    [0, 0, 0, 0, 0, 0, 0, 0, 0, 0, 0, 0, 0, 0, 0, ...\n1    [0, 0, 0, 0, 0, 0, 0, 0, 0, 0, 0, 0, 0, 0, 0, ...\n2    [0, 0, 0, 0, 0, 0, 0, 0, 0, 0, 0, 0, 0, 0, 0, ...\n3    [0, 0, 0, 0, 0, 0, 0, 0, 0, 0, 0, 0, 0, 0, 0, ...\n4    [0, 0, 0, 0, 0, 0, 0, 0, 0, 0, 0, 0, 0, 0, 0, ...\n5    [0, 0, 0, 0, 0, 0, 0, 0, 0, 0, 0, 0, 0, 0, 0, ...\nName: numbers, dtype: object"
     },
     "execution_count": 64,
     "metadata": {},
     "output_type": "execute_result"
    }
   ],
   "source": [
    "test_a.loc[:5, 'numbers']"
   ],
   "metadata": {
    "collapsed": false,
    "pycharm": {
     "name": "#%%\n"
    }
   }
  },
  {
   "cell_type": "code",
   "execution_count": 64,
   "outputs": [],
   "source": [],
   "metadata": {
    "collapsed": false,
    "pycharm": {
     "name": "#%%\n"
    }
   }
  },
  {
   "cell_type": "markdown",
   "source": [
    "### Robienie tego samego procesu co wcześniej dla danych testowych\n"
   ],
   "metadata": {
    "collapsed": false,
    "pycharm": {
     "name": "#%% md\n"
    }
   }
  },
  {
   "cell_type": "code",
   "execution_count": 65,
   "outputs": [],
   "source": [
    "X_test = test_a['numbers'].values\n"
   ],
   "metadata": {
    "collapsed": false,
    "pycharm": {
     "name": "#%%\n"
    }
   }
  },
  {
   "cell_type": "code",
   "execution_count": 66,
   "outputs": [],
   "source": [
    "X_test = np.stack(X_test)"
   ],
   "metadata": {
    "collapsed": false,
    "pycharm": {
     "name": "#%%\n"
    }
   }
  },
  {
   "cell_type": "code",
   "execution_count": 67,
   "outputs": [],
   "source": [
    "X_test = torch.FloatTensor(X_test)"
   ],
   "metadata": {
    "collapsed": false,
    "pycharm": {
     "name": "#%%\n"
    }
   }
  },
  {
   "cell_type": "code",
   "execution_count": 68,
   "outputs": [],
   "source": [
    "# cat_cols = ['subtask_a', 'subtask_b', 'subtask_c']\n",
    "# for col in cat_cols:\n",
    "#     X_test[col] = X_test[col].astype('category')"
   ],
   "metadata": {
    "collapsed": false,
    "pycharm": {
     "name": "#%%\n"
    }
   }
  },
  {
   "cell_type": "code",
   "execution_count": 69,
   "outputs": [],
   "source": [
    "test_a['subtask_a'] = test_a['subtask_a'].astype('category')"
   ],
   "metadata": {
    "collapsed": false,
    "pycharm": {
     "name": "#%%\n"
    }
   }
  },
  {
   "cell_type": "code",
   "execution_count": 70,
   "outputs": [],
   "source": [
    "test_a['labels_a'] = test_a['subtask_a'].cat.codes"
   ],
   "metadata": {
    "collapsed": false,
    "pycharm": {
     "name": "#%%\n"
    }
   }
  },
  {
   "cell_type": "code",
   "execution_count": 71,
   "outputs": [
    {
     "data": {
      "text/plain": "0    1\n1    0\n2    0\n3    0\n4    1\n5    1\nName: labels_a, dtype: int8"
     },
     "execution_count": 71,
     "metadata": {},
     "output_type": "execute_result"
    }
   ],
   "source": [
    "# OFFENSIVE jest jako 1, a NOT OFFENSIVE jest jako 0\n",
    "test_a.loc[:5, 'labels_a']"
   ],
   "metadata": {
    "collapsed": false,
    "pycharm": {
     "name": "#%%\n"
    }
   }
  },
  {
   "cell_type": "markdown",
   "source": [],
   "metadata": {
    "collapsed": false
   }
  },
  {
   "cell_type": "code",
   "execution_count": 72,
   "outputs": [],
   "source": [
    "y_test = test_a['labels_a'].values"
   ],
   "metadata": {
    "collapsed": false,
    "pycharm": {
     "name": "#%%\n"
    }
   }
  },
  {
   "cell_type": "code",
   "execution_count": 73,
   "outputs": [],
   "source": [
    "y_test = torch.tensor(y_test).reshape(-1,1)"
   ],
   "metadata": {
    "collapsed": false,
    "pycharm": {
     "name": "#%%\n"
    }
   }
  },
  {
   "cell_type": "code",
   "execution_count": 74,
   "outputs": [
    {
     "data": {
      "text/plain": "tensor([[1],\n        [0],\n        [0],\n        [0],\n        [1]], dtype=torch.int8)"
     },
     "execution_count": 74,
     "metadata": {},
     "output_type": "execute_result"
    }
   ],
   "source": [
    "y_test[:5]"
   ],
   "metadata": {
    "collapsed": false,
    "pycharm": {
     "name": "#%%\n"
    }
   }
  },
  {
   "cell_type": "code",
   "execution_count": 75,
   "outputs": [],
   "source": [
    "data_test_a = torch.cat((X_test, y_test), axis=1)"
   ],
   "metadata": {
    "collapsed": false,
    "pycharm": {
     "name": "#%%\n"
    }
   }
  },
  {
   "cell_type": "code",
   "execution_count": 76,
   "outputs": [],
   "source": [
    "data_test_a = data_test_a.to(device)"
   ],
   "metadata": {
    "collapsed": false,
    "pycharm": {
     "name": "#%%\n"
    }
   }
  },
  {
   "cell_type": "code",
   "execution_count": 77,
   "outputs": [],
   "source": [
    "\n",
    "test_dataset_loader_a = torch.utils.data.DataLoader(data_test_a, batch_size=batch_size, shuffle=True)"
   ],
   "metadata": {
    "collapsed": false,
    "pycharm": {
     "name": "#%%\n"
    }
   }
  },
  {
   "cell_type": "code",
   "execution_count": 77,
   "outputs": [],
   "source": [],
   "metadata": {
    "collapsed": false,
    "pycharm": {
     "name": "#%%\n"
    }
   }
  },
  {
   "cell_type": "markdown",
   "source": [
    "## Tworzenie instancji modelu\n",
    "Ustawianie funkcji straty i optymalizatora"
   ],
   "metadata": {
    "collapsed": false,
    "pycharm": {
     "name": "#%% md\n"
    }
   }
  },
  {
   "cell_type": "code",
   "execution_count": 78,
   "outputs": [],
   "source": [
    "# tworzenie numpy array z listy liczb (odpowiadających lematom)"
   ],
   "metadata": {
    "collapsed": false,
    "pycharm": {
     "name": "#%%\n"
    }
   }
  },
  {
   "cell_type": "code",
   "execution_count": 137,
   "outputs": [
    {
     "data": {
      "text/plain": "73"
     },
     "execution_count": 137,
     "metadata": {},
     "output_type": "execute_result"
    }
   ],
   "source": [
    "max_width"
   ],
   "metadata": {
    "collapsed": false,
    "pycharm": {
     "name": "#%%\n"
    }
   }
  },
  {
   "cell_type": "code",
   "execution_count": 169,
   "outputs": [],
   "source": [
    "torch.manual_seed(32)\n",
    "model = Model(max_width, h1, h2, h3)"
   ],
   "metadata": {
    "collapsed": false,
    "pycharm": {
     "name": "#%%\n"
    }
   }
  },
  {
   "cell_type": "code",
   "execution_count": 170,
   "outputs": [],
   "source": [
    "model = model.to(device)"
   ],
   "metadata": {
    "collapsed": false,
    "pycharm": {
     "name": "#%%\n"
    }
   }
  },
  {
   "cell_type": "code",
   "execution_count": 171,
   "outputs": [],
   "source": [
    "criterion = nn.BCELoss()\n",
    "optimizer = torch.optim.Adam(model.parameters(), lr=learning_rate)"
   ],
   "metadata": {
    "collapsed": false,
    "pycharm": {
     "name": "#%%\n"
    }
   }
  },
  {
   "cell_type": "code",
   "execution_count": 172,
   "outputs": [
    {
     "data": {
      "text/plain": "Model(\n  (fc1): Linear(in_features=73, out_features=100, bias=True)\n  (fc2): Linear(in_features=100, out_features=100, bias=True)\n  (fc3): Linear(in_features=100, out_features=100, bias=True)\n  (out): Linear(in_features=100, out_features=1, bias=True)\n)"
     },
     "execution_count": 172,
     "metadata": {},
     "output_type": "execute_result"
    }
   ],
   "source": [
    "model"
   ],
   "metadata": {
    "collapsed": false,
    "pycharm": {
     "name": "#%%\n"
    }
   }
  },
  {
   "cell_type": "markdown",
   "source": [
    "### Ustawianie nauki sieci i samo uczenie się"
   ],
   "metadata": {
    "collapsed": false,
    "pycharm": {
     "name": "#%% md\n"
    }
   }
  },
  {
   "cell_type": "code",
   "execution_count": 173,
   "outputs": [],
   "source": [
    "losses = []\n",
    "losses_test = []\n",
    "accuracy = []\n",
    "accuracy_test = []\n",
    "train_count = len(tweets)\n",
    "test_count_a = len(test_a)"
   ],
   "metadata": {
    "collapsed": false,
    "pycharm": {
     "name": "#%%\n"
    }
   }
  },
  {
   "cell_type": "code",
   "execution_count": 174,
   "outputs": [
    {
     "name": "stdout",
     "output_type": "stream",
     "text": [
      "Loss on the first batch: 39.3065071105957\n",
      "Loss on the first batch on test data: 30.63985252380371\n",
      "torch.Size([])\n",
      " epoch: 0 | loss: 0.013618676684054002 | predicted: 5501 | accuracy: 41.54833984375 | test loss: 0.035627735492795014 | predicted: 454 | test accuracy: 52.79069900512695\n",
      " epoch: 1 | loss: 0.006967360159421615 | predicted: 7198 | accuracy: 54.36555862426758 | test loss: 0.0246793037237123 | predicted: 542 | test accuracy: 63.02325439453125\n",
      " epoch: 2 | loss: 0.005325387683879933 | predicted: 7756 | accuracy: 58.58005905151367 | test loss: 0.026420974731445314 | predicted: 479 | test accuracy: 55.69767379760742\n",
      " epoch: 3 | loss: 0.005325448188896986 | predicted: 6370 | accuracy: 48.11178207397461 | test loss: 0.021847897906636084 | predicted: 522 | test accuracy: 60.69767379760742\n",
      " epoch: 4 | loss: 0.003941047875902804 | predicted: 7818 | accuracy: 59.04833984375 | test loss: 0.02164023199746775 | predicted: 501 | test accuracy: 58.25581359863281\n",
      " epoch: 5 | loss: 0.004002362219588634 | predicted: 7049 | accuracy: 53.24018096923828 | test loss: 0.022742947866750317 | predicted: 493 | test accuracy: 57.32558059692383\n",
      " epoch: 6 | loss: 0.0035799741024697294 | predicted: 7622 | accuracy: 57.56797409057617 | test loss: 0.022392488080401753 | predicted: 488 | test accuracy: 56.74418640136719\n",
      " epoch: 7 | loss: 0.0035482556438157925 | predicted: 7298 | accuracy: 55.120845794677734 | test loss: 0.01998938848805982 | predicted: 501 | test accuracy: 58.25581359863281\n",
      " epoch: 8 | loss: 0.003111523515868403 | predicted: 7718 | accuracy: 58.293052673339844 | test loss: 0.020321828265522802 | predicted: 456 | test accuracy: 53.02325439453125\n",
      " epoch: 9 | loss: 0.002883713194970998 | predicted: 7162 | accuracy: 54.09365463256836 | test loss: 0.017898567332777865 | predicted: 517 | test accuracy: 60.11627960205078\n",
      " epoch: 10 | loss: 0.0027694624356272715 | predicted: 7438 | accuracy: 56.17824935913086 | test loss: 0.01836780725523483 | predicted: 487 | test accuracy: 56.627906799316406\n",
      " epoch: 11 | loss: 0.0024291948969630676 | predicted: 7774 | accuracy: 58.71601104736328 | test loss: 0.018000277807546216 | predicted: 476 | test accuracy: 55.348838806152344\n",
      " epoch: 12 | loss: 0.0023610630784510127 | predicted: 7496 | accuracy: 56.61631393432617 | test loss: 0.0169536923253259 | predicted: 505 | test accuracy: 58.72092819213867\n",
      " epoch: 13 | loss: 0.0022034348317863718 | predicted: 7484 | accuracy: 56.52568054199219 | test loss: 0.016039754069128703 | predicted: 507 | test accuracy: 58.953487396240234\n",
      " epoch: 14 | loss: 0.0021324682091658207 | predicted: 7753 | accuracy: 58.557403564453125 | test loss: 0.01740454962087232 | predicted: 493 | test accuracy: 57.32558059692383\n",
      " epoch: 15 | loss: 0.002048021933103256 | predicted: 7791 | accuracy: 58.84440994262695 | test loss: 0.0160515031149221 | predicted: 500 | test accuracy: 58.13953399658203\n",
      " epoch: 16 | loss: 0.0019678147537830733 | predicted: 7652 | accuracy: 57.79456329345703 | test loss: 0.014439414268316225 | predicted: 510 | test accuracy: 59.30232620239258\n",
      " epoch: 17 | loss: 0.0018560772576000756 | predicted: 7704 | accuracy: 58.187313079833984 | test loss: 0.014756825912830441 | predicted: 502 | test accuracy: 58.372093200683594\n",
      " epoch: 18 | loss: 0.001834926432353132 | predicted: 7755 | accuracy: 58.572505950927734 | test loss: 0.015311295487159907 | predicted: 489 | test accuracy: 56.86046600341797\n",
      " epoch: 19 | loss: 0.0017851636488992282 | predicted: 8040 | accuracy: 60.725074768066406 | test loss: 0.015338358768196994 | predicted: 486 | test accuracy: 56.511627197265625\n",
      " epoch: 20 | loss: 0.0016955969196792095 | predicted: 8033 | accuracy: 60.67220687866211 | test loss: 0.014654057524925055 | predicted: 485 | test accuracy: 56.395347595214844\n",
      " epoch: 21 | loss: 0.0017061314193863883 | predicted: 8060 | accuracy: 60.87613296508789 | test loss: 0.014435910069665244 | predicted: 486 | test accuracy: 56.511627197265625\n",
      " epoch: 22 | loss: 0.0016464164249846583 | predicted: 7991 | accuracy: 60.354984283447266 | test loss: 0.013999639555465343 | predicted: 480 | test accuracy: 55.8139533996582\n",
      " epoch: 23 | loss: 0.0016387452531797287 | predicted: 8021 | accuracy: 60.58156967163086 | test loss: 0.01392083722491597 | predicted: 501 | test accuracy: 58.25581359863281\n",
      " epoch: 24 | loss: 0.0015195110413243043 | predicted: 8019 | accuracy: 60.566463470458984 | test loss: 0.013630967916444291 | predicted: 500 | test accuracy: 58.13953399658203\n",
      " epoch: 25 | loss: 0.00150975187019279 | predicted: 8146 | accuracy: 61.52568054199219 | test loss: 0.01310157997663631 | predicted: 508 | test accuracy: 59.069766998291016\n",
      " epoch: 26 | loss: 0.0014925201853956702 | predicted: 8096 | accuracy: 61.14803695678711 | test loss: 0.012598772936089095 | predicted: 501 | test accuracy: 58.25581359863281\n",
      " epoch: 27 | loss: 0.001458864701838652 | predicted: 8193 | accuracy: 61.88066482543945 | test loss: 0.013216006478597952 | predicted: 492 | test accuracy: 57.20930099487305\n",
      " epoch: 28 | loss: 0.0014671671426548338 | predicted: 8236 | accuracy: 62.20543670654297 | test loss: 0.012094222667605377 | predicted: 512 | test accuracy: 59.534881591796875\n",
      " epoch: 29 | loss: 0.0014033542298838451 | predicted: 8176 | accuracy: 61.75226593017578 | test loss: 0.011938524246215821 | predicted: 496 | test accuracy: 57.67441940307617\n",
      " epoch: 30 | loss: 0.0013794564768626972 | predicted: 8310 | accuracy: 62.76435089111328 | test loss: 0.011747295911922011 | predicted: 499 | test accuracy: 58.02325439453125\n",
      " epoch: 31 | loss: 0.0013102177046577016 | predicted: 8357 | accuracy: 63.11933517456055 | test loss: 0.01218089502911235 | predicted: 493 | test accuracy: 57.32558059692383\n",
      " epoch: 32 | loss: 0.0013001970654167797 | predicted: 8371 | accuracy: 63.225074768066406 | test loss: 0.012006175240804983 | predicted: 489 | test accuracy: 56.86046600341797\n",
      " epoch: 33 | loss: 0.0012297865127148585 | predicted: 8385 | accuracy: 63.330814361572266 | test loss: 0.011971518050792605 | predicted: 495 | test accuracy: 57.55813980102539\n",
      " epoch: 34 | loss: 0.0012380252792035704 | predicted: 8364 | accuracy: 63.17220687866211 | test loss: 0.011819780704587005 | predicted: 490 | test accuracy: 56.97674560546875\n",
      " epoch: 35 | loss: 0.0012681593707681061 | predicted: 8483 | accuracy: 64.07099914550781 | test loss: 0.011783745122510333 | predicted: 486 | test accuracy: 56.511627197265625\n",
      " epoch: 36 | loss: 0.001198931186941095 | predicted: 8502 | accuracy: 64.2145004272461 | test loss: 0.011956457759058754 | predicted: 497 | test accuracy: 57.79069900512695\n",
      " epoch: 37 | loss: 0.0012086100448654498 | predicted: 8554 | accuracy: 64.60725402832031 | test loss: 0.010641590384549872 | predicted: 508 | test accuracy: 59.069766998291016\n",
      " epoch: 38 | loss: 0.001217792689620188 | predicted: 8506 | accuracy: 64.24471282958984 | test loss: 0.010965390538060388 | predicted: 504 | test accuracy: 58.604652404785156\n",
      " epoch: 39 | loss: 0.0012191948213606083 | predicted: 8559 | accuracy: 64.64501190185547 | test loss: 0.0107958338981451 | predicted: 495 | test accuracy: 57.55813980102539\n",
      " epoch: 40 | loss: 0.001086544774450204 | predicted: 8591 | accuracy: 64.88670349121094 | test loss: 0.01140200370966002 | predicted: 503 | test accuracy: 58.488372802734375\n",
      " epoch: 41 | loss: 0.001100522153687261 | predicted: 8604 | accuracy: 64.98489379882812 | test loss: 0.01066811583762945 | predicted: 502 | test accuracy: 58.372093200683594\n",
      " epoch: 42 | loss: 0.0010692914807184225 | predicted: 8556 | accuracy: 64.62236022949219 | test loss: 0.010956109956253407 | predicted: 498 | test accuracy: 57.90697479248047\n",
      " epoch: 43 | loss: 0.0010321855545043946 | predicted: 8574 | accuracy: 64.75830841064453 | test loss: 0.01130738701931266 | predicted: 489 | test accuracy: 56.86046600341797\n",
      " epoch: 44 | loss: 0.001062812473838783 | predicted: 8692 | accuracy: 65.64954376220703 | test loss: 0.010768152946649595 | predicted: 496 | test accuracy: 57.67441940307617\n",
      " epoch: 45 | loss: 0.0010219223189570031 | predicted: 8722 | accuracy: 65.87612915039062 | test loss: 0.010164879643639853 | predicted: 501 | test accuracy: 58.25581359863281\n",
      " epoch: 46 | loss: 0.0009973533924252606 | predicted: 8690 | accuracy: 65.63443756103516 | test loss: 0.010224928966788359 | predicted: 495 | test accuracy: 57.55813980102539\n",
      " epoch: 47 | loss: 0.0009830075808522204 | predicted: 8735 | accuracy: 65.97431945800781 | test loss: 0.010711685446805732 | predicted: 500 | test accuracy: 58.13953399658203\n",
      " epoch: 48 | loss: 0.0009683226530645549 | predicted: 8739 | accuracy: 66.00453186035156 | test loss: 0.010378772158955418 | predicted: 498 | test accuracy: 57.90697479248047\n",
      " epoch: 49 | loss: 0.0009458037661641746 | predicted: 8726 | accuracy: 65.90634155273438 | test loss: 0.010714341318884562 | predicted: 485 | test accuracy: 56.395347595214844\n",
      " epoch: 50 | loss: 0.0009579098116595219 | predicted: 8792 | accuracy: 66.40483093261719 | test loss: 0.010455850113269894 | predicted: 493 | test accuracy: 57.32558059692383\n",
      " epoch: 51 | loss: 0.0009274259434725943 | predicted: 8794 | accuracy: 66.41993713378906 | test loss: 0.01007316278856854 | predicted: 501 | test accuracy: 58.25581359863281\n",
      " epoch: 52 | loss: 0.0009018514811812571 | predicted: 8810 | accuracy: 66.54078674316406 | test loss: 0.010250591677288676 | predicted: 499 | test accuracy: 58.02325439453125\n",
      " epoch: 53 | loss: 0.0009008767741684467 | predicted: 8848 | accuracy: 66.82779693603516 | test loss: 0.009785849549049555 | predicted: 499 | test accuracy: 58.02325439453125\n",
      " epoch: 54 | loss: 0.0009141877338605345 | predicted: 8839 | accuracy: 66.75981903076172 | test loss: 0.010241831180661224 | predicted: 494 | test accuracy: 57.44186019897461\n",
      " epoch: 55 | loss: 0.0008882672404954801 | predicted: 8894 | accuracy: 67.17522430419922 | test loss: 0.00961270110551701 | predicted: 508 | test accuracy: 59.069766998291016\n",
      " epoch: 56 | loss: 0.0008573898015785794 | predicted: 8912 | accuracy: 67.3111801147461 | test loss: 0.009353446960449218 | predicted: 499 | test accuracy: 58.02325439453125\n",
      " epoch: 57 | loss: 0.000884017339285767 | predicted: 8902 | accuracy: 67.23564910888672 | test loss: 0.009563605729923692 | predicted: 497 | test accuracy: 57.79069900512695\n",
      " epoch: 58 | loss: 0.0008505769366584156 | predicted: 8943 | accuracy: 67.54531860351562 | test loss: 0.009800176842268124 | predicted: 484 | test accuracy: 56.27906799316406\n",
      " epoch: 59 | loss: 0.0008454350906556467 | predicted: 8895 | accuracy: 67.18277740478516 | test loss: 0.009991477256597475 | predicted: 488 | test accuracy: 56.74418640136719\n",
      " epoch: 60 | loss: 0.0008559948728163797 | predicted: 8958 | accuracy: 67.65860748291016 | test loss: 0.009832527471143146 | predicted: 488 | test accuracy: 56.74418640136719\n",
      " epoch: 61 | loss: 0.0008351475090418697 | predicted: 8969 | accuracy: 67.74169158935547 | test loss: 0.010052428134652071 | predicted: 482 | test accuracy: 56.046512603759766\n",
      " epoch: 62 | loss: 0.0008434670209164346 | predicted: 8988 | accuracy: 67.88519287109375 | test loss: 0.010062792134839436 | predicted: 478 | test accuracy: 55.58139419555664\n",
      " epoch: 63 | loss: 0.0008073306155708982 | predicted: 8968 | accuracy: 67.73413848876953 | test loss: 0.008992559410804925 | predicted: 502 | test accuracy: 58.372093200683594\n",
      " epoch: 64 | loss: 0.0008352596594127644 | predicted: 8932 | accuracy: 67.46223449707031 | test loss: 0.00893810183502907 | predicted: 520 | test accuracy: 60.46511459350586\n",
      " epoch: 65 | loss: 0.0008241176605224609 | predicted: 8980 | accuracy: 67.82477569580078 | test loss: 0.009140158808508585 | predicted: 498 | test accuracy: 57.90697479248047\n",
      " epoch: 66 | loss: 0.000775862532439909 | predicted: 8972 | accuracy: 67.76435089111328 | test loss: 0.009830837471540585 | predicted: 481 | test accuracy: 55.930233001708984\n",
      " epoch: 67 | loss: 0.0007972656780139197 | predicted: 8972 | accuracy: 67.76435089111328 | test loss: 0.009444935377254042 | predicted: 483 | test accuracy: 56.16279220581055\n",
      " epoch: 68 | loss: 0.0007735526093543476 | predicted: 9037 | accuracy: 68.25528717041016 | test loss: 0.009602157459702602 | predicted: 475 | test accuracy: 55.23255920410156\n",
      " epoch: 69 | loss: 0.0007447952950468957 | predicted: 9065 | accuracy: 68.46676635742188 | test loss: 0.009287265844123309 | predicted: 489 | test accuracy: 56.86046600341797\n",
      " epoch: 70 | loss: 0.0007451500417242598 | predicted: 9120 | accuracy: 68.88217163085938 | test loss: 0.009534661714420762 | predicted: 482 | test accuracy: 56.046512603759766\n",
      " epoch: 71 | loss: 0.0007703441867655498 | predicted: 9117 | accuracy: 68.8595199584961 | test loss: 0.008917741442835608 | predicted: 487 | test accuracy: 56.627906799316406\n",
      " epoch: 72 | loss: 0.000714147343016103 | predicted: 9141 | accuracy: 69.04078674316406 | test loss: 0.009388341460117074 | predicted: 480 | test accuracy: 55.8139533996582\n",
      " epoch: 73 | loss: 0.0007621491423546367 | predicted: 9087 | accuracy: 68.63292694091797 | test loss: 0.00935632350832917 | predicted: 493 | test accuracy: 57.32558059692383\n",
      " epoch: 74 | loss: 0.0007564119702019361 | predicted: 9123 | accuracy: 68.90483093261719 | test loss: 0.009129744906758153 | predicted: 494 | test accuracy: 57.44186019897461\n",
      " epoch: 75 | loss: 0.0007345850013894257 | predicted: 9173 | accuracy: 69.28247833251953 | test loss: 0.008773759908454363 | predicted: 500 | test accuracy: 58.13953399658203\n",
      " epoch: 76 | loss: 0.0007031444336352391 | predicted: 9173 | accuracy: 69.28247833251953 | test loss: 0.008734829481257948 | predicted: 491 | test accuracy: 57.093021392822266\n",
      " epoch: 77 | loss: 0.0007324324633779843 | predicted: 9192 | accuracy: 69.42597961425781 | test loss: 0.009063663039096566 | predicted: 489 | test accuracy: 56.86046600341797\n",
      " epoch: 78 | loss: 0.0007148127541441212 | predicted: 9186 | accuracy: 69.38066101074219 | test loss: 0.00918975597204164 | predicted: 488 | test accuracy: 56.74418640136719\n",
      " epoch: 79 | loss: 0.0007015252761610325 | predicted: 9206 | accuracy: 69.53172302246094 | test loss: 0.009194543749787086 | predicted: 485 | test accuracy: 56.395347595214844\n",
      " epoch: 80 | loss: 0.0006885181380902893 | predicted: 9192 | accuracy: 69.42597961425781 | test loss: 0.009469030069750408 | predicted: 471 | test accuracy: 54.76744079589844\n",
      " epoch: 81 | loss: 0.0006890399938623711 | predicted: 9206 | accuracy: 69.53172302246094 | test loss: 0.009044128240540971 | predicted: 477 | test accuracy: 55.46511459350586\n",
      " epoch: 82 | loss: 0.0006689166014288128 | predicted: 9227 | accuracy: 69.6903305053711 | test loss: 0.008577560824017193 | predicted: 501 | test accuracy: 58.25581359863281\n",
      " epoch: 83 | loss: 0.0006930845381630151 | predicted: 9233 | accuracy: 69.73564910888672 | test loss: 0.008316726462785588 | predicted: 506 | test accuracy: 58.83720779418945\n",
      " epoch: 84 | loss: 0.0006518130576142372 | predicted: 9314 | accuracy: 70.3474349975586 | test loss: 0.008669039814971214 | predicted: 492 | test accuracy: 57.20930099487305\n",
      " epoch: 85 | loss: 0.0006455404160606177 | predicted: 9301 | accuracy: 70.2492446899414 | test loss: 0.008902601863062659 | predicted: 479 | test accuracy: 55.69767379760742\n",
      " epoch: 86 | loss: 0.0006603053689363139 | predicted: 9237 | accuracy: 69.76586151123047 | test loss: 0.008873975554177927 | predicted: 480 | test accuracy: 55.8139533996582\n",
      " epoch: 87 | loss: 0.0006683120554667585 | predicted: 9317 | accuracy: 70.3700942993164 | test loss: 0.008997852303260981 | predicted: 482 | test accuracy: 56.046512603759766\n",
      " epoch: 88 | loss: 0.0006457133595676941 | predicted: 9313 | accuracy: 70.33988189697266 | test loss: 0.008070412901944893 | predicted: 512 | test accuracy: 59.534881591796875\n",
      " epoch: 89 | loss: 0.0006369207560836008 | predicted: 9282 | accuracy: 70.10574340820312 | test loss: 0.00716039358183395 | predicted: 517 | test accuracy: 60.11627960205078\n",
      " epoch: 90 | loss: 0.0006458026044678472 | predicted: 9201 | accuracy: 69.49395751953125 | test loss: 0.007947356756343399 | predicted: 508 | test accuracy: 59.069766998291016\n",
      " epoch: 91 | loss: 0.0006165320059323959 | predicted: 9254 | accuracy: 69.89425659179688 | test loss: 0.008885216158489848 | predicted: 480 | test accuracy: 55.8139533996582\n",
      " epoch: 92 | loss: 0.0006257930911199564 | predicted: 9384 | accuracy: 70.87612915039062 | test loss: 0.009098382328831872 | predicted: 469 | test accuracy: 54.53488540649414\n",
      " epoch: 93 | loss: 0.0006044501624438697 | predicted: 9334 | accuracy: 70.49848937988281 | test loss: 0.008974816632825275 | predicted: 482 | test accuracy: 56.046512603759766\n",
      " epoch: 94 | loss: 0.0006168920107838611 | predicted: 9418 | accuracy: 71.13292694091797 | test loss: 0.00873182263485221 | predicted: 476 | test accuracy: 55.348838806152344\n",
      " epoch: 95 | loss: 0.000601298067144757 | predicted: 9436 | accuracy: 71.26888275146484 | test loss: 0.00920420580132063 | predicted: 476 | test accuracy: 55.348838806152344\n",
      " epoch: 96 | loss: 0.0006232820608824762 | predicted: 9434 | accuracy: 71.25377655029297 | test loss: 0.008710141514622887 | predicted: 479 | test accuracy: 55.69767379760742\n",
      " epoch: 97 | loss: 0.0005954846514675912 | predicted: 9467 | accuracy: 71.50302124023438 | test loss: 0.008610860691514127 | predicted: 485 | test accuracy: 56.395347595214844\n",
      " epoch: 98 | loss: 0.0005794797779210024 | predicted: 9505 | accuracy: 71.79003143310547 | test loss: 0.008100571188815804 | predicted: 482 | test accuracy: 56.046512603759766\n",
      " epoch: 99 | loss: 0.0005981854081514019 | predicted: 9461 | accuracy: 71.45770263671875 | test loss: 0.008219676794007768 | predicted: 494 | test accuracy: 57.44186019897461\n",
      " epoch: 100 | loss: 0.0005777858895477571 | predicted: 9491 | accuracy: 71.68428802490234 | test loss: 0.008553177811378656 | predicted: 484 | test accuracy: 56.27906799316406\n",
      " epoch: 101 | loss: 0.0005773599774455736 | predicted: 9534 | accuracy: 72.00906372070312 | test loss: 0.009060996632243312 | predicted: 480 | test accuracy: 55.8139533996582\n",
      " epoch: 102 | loss: 0.0006014286931547874 | predicted: 9489 | accuracy: 71.66918182373047 | test loss: 0.008308209929355355 | predicted: 488 | test accuracy: 56.74418640136719\n",
      " epoch: 103 | loss: 0.0005777290580495967 | predicted: 9571 | accuracy: 72.28852081298828 | test loss: 0.008206953004349109 | predicted: 486 | test accuracy: 56.511627197265625\n",
      " epoch: 104 | loss: 0.0005650331966826563 | predicted: 9590 | accuracy: 72.43202209472656 | test loss: 0.008451624249303064 | predicted: 480 | test accuracy: 55.8139533996582\n",
      " epoch: 105 | loss: 0.0005651050463904067 | predicted: 9589 | accuracy: 72.42446899414062 | test loss: 0.008822935681010401 | predicted: 471 | test accuracy: 54.76744079589844\n",
      " epoch: 106 | loss: 0.0005695128728976063 | predicted: 9588 | accuracy: 72.41691589355469 | test loss: 0.008284364744674328 | predicted: 476 | test accuracy: 55.348838806152344\n",
      " epoch: 107 | loss: 0.0005822269217845537 | predicted: 9587 | accuracy: 72.40936279296875 | test loss: 0.008045922878176667 | predicted: 487 | test accuracy: 56.627906799316406\n",
      " epoch: 108 | loss: 0.0005676788145681882 | predicted: 9607 | accuracy: 72.5604248046875 | test loss: 0.007817031616388366 | predicted: 494 | test accuracy: 57.44186019897461\n",
      " epoch: 109 | loss: 0.000556286080006026 | predicted: 9626 | accuracy: 72.70392608642578 | test loss: 0.007787740507791209 | predicted: 493 | test accuracy: 57.32558059692383\n",
      " epoch: 110 | loss: 0.0005543122478842375 | predicted: 9574 | accuracy: 72.3111801147461 | test loss: 0.008197560421256132 | predicted: 480 | test accuracy: 55.8139533996582\n",
      " epoch: 111 | loss: 0.000570043804422246 | predicted: 9623 | accuracy: 72.68126678466797 | test loss: 0.008083929017532703 | predicted: 464 | test accuracy: 53.953487396240234\n",
      " epoch: 112 | loss: 0.0005936878685504648 | predicted: 9608 | accuracy: 72.56797790527344 | test loss: 0.008199483294819676 | predicted: 475 | test accuracy: 55.23255920410156\n",
      " epoch: 113 | loss: 0.0005507550210751076 | predicted: 9663 | accuracy: 72.98338317871094 | test loss: 0.007977413576702739 | predicted: 463 | test accuracy: 53.83720779418945\n",
      " epoch: 114 | loss: 0.0005589282044471211 | predicted: 9645 | accuracy: 72.8474349975586 | test loss: 0.007803790513859239 | predicted: 486 | test accuracy: 56.511627197265625\n",
      " epoch: 115 | loss: 0.0005408014775763106 | predicted: 9654 | accuracy: 72.9154052734375 | test loss: 0.00765694074852522 | predicted: 505 | test accuracy: 58.72092819213867\n",
      " epoch: 116 | loss: 0.000543625333157911 | predicted: 9703 | accuracy: 73.2854995727539 | test loss: 0.0071823413981947784 | predicted: 505 | test accuracy: 58.72092819213867\n",
      " epoch: 117 | loss: 0.0005447637278507844 | predicted: 9674 | accuracy: 73.06646728515625 | test loss: 0.007659220695495605 | predicted: 501 | test accuracy: 58.25581359863281\n",
      " epoch: 118 | loss: 0.000545975376832161 | predicted: 9687 | accuracy: 73.1646499633789 | test loss: 0.008044034381245457 | predicted: 466 | test accuracy: 54.1860466003418\n",
      " epoch: 119 | loss: 0.0005584809715294045 | predicted: 9711 | accuracy: 73.3459243774414 | test loss: 0.007950550456379735 | predicted: 470 | test accuracy: 54.651161193847656\n",
      " epoch: 120 | loss: 0.0005376709912118595 | predicted: 9711 | accuracy: 73.3459243774414 | test loss: 0.007530133114304653 | predicted: 500 | test accuracy: 58.13953399658203\n",
      " epoch: 121 | loss: 0.0005723491896315284 | predicted: 9718 | accuracy: 73.39878845214844 | test loss: 0.0075357126635174415 | predicted: 498 | test accuracy: 57.90697479248047\n",
      " epoch: 122 | loss: 0.0005353810563908603 | predicted: 9785 | accuracy: 73.90483093261719 | test loss: 0.007387036500975143 | predicted: 512 | test accuracy: 59.534881591796875\n",
      " epoch: 123 | loss: 0.0005227039227672935 | predicted: 9727 | accuracy: 73.46676635742188 | test loss: 0.007411784349485885 | predicted: 503 | test accuracy: 58.488372802734375\n",
      " epoch: 124 | loss: 0.0005194217056666256 | predicted: 9728 | accuracy: 73.47431945800781 | test loss: 0.007538679588672726 | predicted: 483 | test accuracy: 56.16279220581055\n",
      " epoch: 125 | loss: 0.0005050238885908328 | predicted: 9748 | accuracy: 73.62537384033203 | test loss: 0.00755046522894571 | predicted: 493 | test accuracy: 57.32558059692383\n",
      " epoch: 126 | loss: 0.0005527494897294981 | predicted: 9812 | accuracy: 74.1087646484375 | test loss: 0.007789234782374183 | predicted: 476 | test accuracy: 55.348838806152344\n",
      " epoch: 127 | loss: 0.0005069215492179386 | predicted: 9818 | accuracy: 74.1540756225586 | test loss: 0.007929421025653218 | predicted: 468 | test accuracy: 54.41860580444336\n",
      " epoch: 128 | loss: 0.0005159588378721853 | predicted: 9792 | accuracy: 73.95770263671875 | test loss: 0.007779610434243845 | predicted: 480 | test accuracy: 55.8139533996582\n",
      " epoch: 129 | loss: 0.0005193680794937733 | predicted: 9826 | accuracy: 74.2145004272461 | test loss: 0.00761415071265642 | predicted: 498 | test accuracy: 57.90697479248047\n",
      " epoch: 130 | loss: 0.0004967212316853042 | predicted: 9837 | accuracy: 74.2975845336914 | test loss: 0.006688502222992653 | predicted: 507 | test accuracy: 58.953487396240234\n",
      " epoch: 131 | loss: 0.0004990597866092924 | predicted: 9839 | accuracy: 74.31269073486328 | test loss: 0.007268216998078102 | predicted: 498 | test accuracy: 57.90697479248047\n",
      " epoch: 132 | loss: 0.0004939957327713059 | predicted: 9849 | accuracy: 74.38821411132812 | test loss: 0.007799447414486908 | predicted: 478 | test accuracy: 55.58139419555664\n",
      " epoch: 133 | loss: 0.00048398481755098185 | predicted: 9841 | accuracy: 74.32779693603516 | test loss: 0.007508727007134016 | predicted: 493 | test accuracy: 57.32558059692383\n",
      " epoch: 134 | loss: 0.000513259521784019 | predicted: 9845 | accuracy: 74.3580093383789 | test loss: 0.0068063519721807434 | predicted: 506 | test accuracy: 58.83720779418945\n",
      " epoch: 135 | loss: 0.00048560004940205833 | predicted: 9828 | accuracy: 74.22960662841797 | test loss: 0.006671667653460835 | predicted: 501 | test accuracy: 58.25581359863281\n",
      " epoch: 136 | loss: 0.0004909494852371446 | predicted: 9848 | accuracy: 74.38066101074219 | test loss: 0.008097375825394031 | predicted: 459 | test accuracy: 53.372093200683594\n",
      " epoch: 137 | loss: 0.0004817710542246654 | predicted: 9781 | accuracy: 73.87462615966797 | test loss: 0.007049370920935343 | predicted: 499 | test accuracy: 58.02325439453125\n",
      " epoch: 138 | loss: 0.0005026366775489646 | predicted: 9883 | accuracy: 74.64501190185547 | test loss: 0.006783914566040039 | predicted: 505 | test accuracy: 58.72092819213867\n",
      " epoch: 139 | loss: 0.00048496417048474454 | predicted: 9887 | accuracy: 74.67522430419922 | test loss: 0.007525630329930505 | predicted: 482 | test accuracy: 56.046512603759766\n",
      " epoch: 140 | loss: 0.000493358773407259 | predicted: 9893 | accuracy: 74.72054290771484 | test loss: 0.007670501221057981 | predicted: 470 | test accuracy: 54.651161193847656\n",
      " epoch: 141 | loss: 0.0005061908070774597 | predicted: 9883 | accuracy: 74.64501190185547 | test loss: 0.006796049517254496 | predicted: 499 | test accuracy: 58.02325439453125\n",
      " epoch: 142 | loss: 0.0004799815823304329 | predicted: 9922 | accuracy: 74.9395751953125 | test loss: 0.007044381319090377 | predicted: 501 | test accuracy: 58.25581359863281\n",
      " epoch: 143 | loss: 0.00046921583100748205 | predicted: 9928 | accuracy: 74.98489379882812 | test loss: 0.007005566774412643 | predicted: 499 | test accuracy: 58.02325439453125\n",
      " epoch: 144 | loss: 0.0004551433724579134 | predicted: 9945 | accuracy: 75.11329650878906 | test loss: 0.007798977785332259 | predicted: 464 | test accuracy: 53.953487396240234\n",
      " epoch: 145 | loss: 0.0004767907350084933 | predicted: 9913 | accuracy: 74.8716049194336 | test loss: 0.007519741945488509 | predicted: 482 | test accuracy: 56.046512603759766\n",
      " epoch: 146 | loss: 0.0004737615585327148 | predicted: 9853 | accuracy: 74.41842651367188 | test loss: 0.006297851163287496 | predicted: 504 | test accuracy: 58.604652404785156\n",
      " epoch: 147 | loss: 0.00047579676002894284 | predicted: 9946 | accuracy: 75.120849609375 | test loss: 0.0067600255788758746 | predicted: 504 | test accuracy: 58.604652404785156\n",
      " epoch: 148 | loss: 0.00044598525384401626 | predicted: 9985 | accuracy: 75.4154052734375 | test loss: 0.0071278422377830325 | predicted: 501 | test accuracy: 58.25581359863281\n",
      " epoch: 149 | loss: 0.0004733028368647365 | predicted: 9980 | accuracy: 75.37763977050781 | test loss: 0.006904642526493516 | predicted: 493 | test accuracy: 57.32558059692383\n",
      " epoch: 150 | loss: 0.0004819764111337345 | predicted: 9962 | accuracy: 75.24169158935547 | test loss: 0.0066227480422618775 | predicted: 512 | test accuracy: 59.534881591796875\n",
      " epoch: 151 | loss: 0.0004571019342658743 | predicted: 10006 | accuracy: 75.57402038574219 | test loss: 0.006760583921920422 | predicted: 500 | test accuracy: 58.13953399658203\n",
      " epoch: 152 | loss: 0.0004473455362809749 | predicted: 10032 | accuracy: 75.77039337158203 | test loss: 0.007270770294721737 | predicted: 479 | test accuracy: 55.69767379760742\n",
      " epoch: 153 | loss: 0.0004633093888665974 | predicted: 10022 | accuracy: 75.69486236572266 | test loss: 0.006889287815537564 | predicted: 495 | test accuracy: 57.55813980102539\n",
      " epoch: 154 | loss: 0.0004403812287437232 | predicted: 10033 | accuracy: 75.77794647216797 | test loss: 0.007783888107122377 | predicted: 461 | test accuracy: 53.604652404785156\n",
      " epoch: 155 | loss: 0.0004829915268543624 | predicted: 9970 | accuracy: 75.30211639404297 | test loss: 0.007245453568392022 | predicted: 482 | test accuracy: 56.046512603759766\n",
      " epoch: 156 | loss: 0.0004489936497276283 | predicted: 10047 | accuracy: 75.88368225097656 | test loss: 0.006731944860414017 | predicted: 499 | test accuracy: 58.02325439453125\n",
      " epoch: 157 | loss: 0.00045690032290547996 | predicted: 10028 | accuracy: 75.74018096923828 | test loss: 0.0066051128298737286 | predicted: 510 | test accuracy: 59.30232620239258\n",
      " epoch: 158 | loss: 0.00045774732111443923 | predicted: 10078 | accuracy: 76.11782836914062 | test loss: 0.007117211541464163 | predicted: 482 | test accuracy: 56.046512603759766\n",
      " epoch: 159 | loss: 0.0004430573512420193 | predicted: 10077 | accuracy: 76.11027526855469 | test loss: 0.006978739694107411 | predicted: 483 | test accuracy: 56.16279220581055\n",
      " epoch: 160 | loss: 0.000463324983314445 | predicted: 10098 | accuracy: 76.26888275146484 | test loss: 0.006703338512154513 | predicted: 504 | test accuracy: 58.604652404785156\n",
      " epoch: 161 | loss: 0.00044376580016490557 | predicted: 10073 | accuracy: 76.08006286621094 | test loss: 0.006975562627925429 | predicted: 489 | test accuracy: 56.86046600341797\n",
      " epoch: 162 | loss: 0.0004473285372523743 | predicted: 10100 | accuracy: 76.28398895263672 | test loss: 0.007363545062930085 | predicted: 470 | test accuracy: 54.651161193847656\n",
      " epoch: 163 | loss: 0.0004617911091023702 | predicted: 10058 | accuracy: 75.96676635742188 | test loss: 0.006710435068884561 | predicted: 500 | test accuracy: 58.13953399658203\n",
      " epoch: 164 | loss: 0.00043417067686236515 | predicted: 10090 | accuracy: 76.20845794677734 | test loss: 0.006711888313293457 | predicted: 502 | test accuracy: 58.372093200683594\n",
      " epoch: 165 | loss: 0.00042902137577713795 | predicted: 10110 | accuracy: 76.3595199584961 | test loss: 0.006716023489486339 | predicted: 492 | test accuracy: 57.20930099487305\n",
      " epoch: 166 | loss: 0.0004346524840755405 | predicted: 10116 | accuracy: 76.40483093261719 | test loss: 0.007216566662455714 | predicted: 483 | test accuracy: 56.16279220581055\n",
      " epoch: 167 | loss: 0.00043828242494980735 | predicted: 10148 | accuracy: 76.64652252197266 | test loss: 0.006730761638907499 | predicted: 496 | test accuracy: 57.67441940307617\n",
      " epoch: 168 | loss: 0.00043281410395919017 | predicted: 10145 | accuracy: 76.62387084960938 | test loss: 0.006848542080369106 | predicted: 487 | test accuracy: 56.627906799316406\n",
      " epoch: 169 | loss: 0.0004167809587230855 | predicted: 10168 | accuracy: 76.7975845336914 | test loss: 0.006733699732048567 | predicted: 480 | test accuracy: 55.8139533996582\n",
      " epoch: 170 | loss: 0.00043811805298681343 | predicted: 10154 | accuracy: 76.69184112548828 | test loss: 0.006576536977013876 | predicted: 506 | test accuracy: 58.83720779418945\n",
      " epoch: 171 | loss: 0.00042859830885135154 | predicted: 10115 | accuracy: 76.39727783203125 | test loss: 0.006688457311585892 | predicted: 501 | test accuracy: 58.25581359863281\n",
      " epoch: 172 | loss: 0.0004322053442548769 | predicted: 10135 | accuracy: 76.54833984375 | test loss: 0.007491974497950354 | predicted: 461 | test accuracy: 53.604652404785156\n",
      " epoch: 173 | loss: 0.0004268068561381084 | predicted: 10096 | accuracy: 76.25377655029297 | test loss: 0.007349744508432787 | predicted: 472 | test accuracy: 54.88372039794922\n",
      " epoch: 174 | loss: 0.0004354382209547337 | predicted: 10114 | accuracy: 76.38972473144531 | test loss: 0.00693580660709115 | predicted: 500 | test accuracy: 58.13953399658203\n",
      " epoch: 175 | loss: 0.00044015563146585423 | predicted: 10153 | accuracy: 76.68428802490234 | test loss: 0.006562054988949798 | predicted: 506 | test accuracy: 58.83720779418945\n",
      " epoch: 176 | loss: 0.000435897626905643 | predicted: 10171 | accuracy: 76.82024383544922 | test loss: 0.007049359277237294 | predicted: 491 | test accuracy: 57.093021392822266\n",
      " epoch: 177 | loss: 0.0004223791854259111 | predicted: 10204 | accuracy: 77.06948852539062 | test loss: 0.0070757804914962415 | predicted: 484 | test accuracy: 56.27906799316406\n",
      " epoch: 178 | loss: 0.0004537664511412652 | predicted: 10197 | accuracy: 77.01661682128906 | test loss: 0.0071982860565185545 | predicted: 480 | test accuracy: 55.8139533996582\n",
      " epoch: 179 | loss: 0.00044404347497530933 | predicted: 10184 | accuracy: 76.91842651367188 | test loss: 0.007042941936226778 | predicted: 485 | test accuracy: 56.395347595214844\n",
      " epoch: 180 | loss: 0.0004339730991697744 | predicted: 10188 | accuracy: 76.94863891601562 | test loss: 0.006779151184614315 | predicted: 496 | test accuracy: 57.67441940307617\n",
      " epoch: 181 | loss: 0.0004240802407624858 | predicted: 10230 | accuracy: 77.26586151123047 | test loss: 0.006806113553601642 | predicted: 493 | test accuracy: 57.32558059692383\n",
      " epoch: 182 | loss: 0.0004114584620265442 | predicted: 10218 | accuracy: 77.17522430419922 | test loss: 0.007082895345466082 | predicted: 479 | test accuracy: 55.69767379760742\n",
      " epoch: 183 | loss: 0.0004198019238036925 | predicted: 10228 | accuracy: 77.2507553100586 | test loss: 0.006956384902776674 | predicted: 479 | test accuracy: 55.69767379760742\n",
      " epoch: 184 | loss: 0.000401441172170495 | predicted: 10252 | accuracy: 77.43202209472656 | test loss: 0.007446507520453874 | predicted: 460 | test accuracy: 53.488372802734375\n",
      " epoch: 185 | loss: 0.00042304002266275916 | predicted: 10222 | accuracy: 77.20543670654297 | test loss: 0.007015501621157624 | predicted: 493 | test accuracy: 57.32558059692383\n",
      " epoch: 186 | loss: 0.00042957114308982456 | predicted: 10242 | accuracy: 77.35649871826172 | test loss: 0.007294258405995923 | predicted: 477 | test accuracy: 55.46511459350586\n",
      " epoch: 187 | loss: 0.00042848943583554734 | predicted: 10248 | accuracy: 77.40180969238281 | test loss: 0.007067761310311251 | predicted: 473 | test accuracy: 55.0\n",
      " epoch: 188 | loss: 0.0004234718051921925 | predicted: 10255 | accuracy: 77.45468139648438 | test loss: 0.006911700825358546 | predicted: 487 | test accuracy: 56.627906799316406\n",
      " epoch: 189 | loss: 0.0004416774406894096 | predicted: 10269 | accuracy: 77.5604248046875 | test loss: 0.006752141131911167 | predicted: 506 | test accuracy: 58.83720779418945\n",
      " epoch: 190 | loss: 0.00041021785707272073 | predicted: 10251 | accuracy: 77.42446899414062 | test loss: 0.006868075770001079 | predicted: 498 | test accuracy: 57.90697479248047\n",
      " epoch: 191 | loss: 0.00041700579968824127 | predicted: 10251 | accuracy: 77.42446899414062 | test loss: 0.007559939317925032 | predicted: 470 | test accuracy: 54.651161193847656\n",
      " epoch: 192 | loss: 0.000402677059173584 | predicted: 10254 | accuracy: 77.44712829589844 | test loss: 0.0070681682852811595 | predicted: 470 | test accuracy: 54.651161193847656\n",
      " epoch: 193 | loss: 0.0004167771771595197 | predicted: 10273 | accuracy: 77.59063720703125 | test loss: 0.007030864649040755 | predicted: 486 | test accuracy: 56.511627197265625\n",
      " epoch: 194 | loss: 0.00040790159536632526 | predicted: 10284 | accuracy: 77.67371368408203 | test loss: 0.00702750516492267 | predicted: 476 | test accuracy: 55.348838806152344\n",
      " epoch: 195 | loss: 0.0004335243536266315 | predicted: 10308 | accuracy: 77.85498809814453 | test loss: 0.0068367686382559845 | predicted: 500 | test accuracy: 58.13953399658203\n",
      " epoch: 196 | loss: 0.0004163417211111939 | predicted: 10296 | accuracy: 77.76435089111328 | test loss: 0.007456943046214969 | predicted: 468 | test accuracy: 54.41860580444336\n",
      " epoch: 197 | loss: 0.00040526915893093697 | predicted: 10236 | accuracy: 77.3111801147461 | test loss: 0.006925519677095635 | predicted: 475 | test accuracy: 55.23255920410156\n",
      " epoch: 198 | loss: 0.000437358462918561 | predicted: 10264 | accuracy: 77.52265930175781 | test loss: 0.006871162458907726 | predicted: 509 | test accuracy: 59.1860466003418\n",
      " epoch: 199 | loss: 0.00042073114400903986 | predicted: 10223 | accuracy: 77.2129898071289 | test loss: 0.006881644004999205 | predicted: 503 | test accuracy: 58.488372802734375\n"
     ]
    }
   ],
   "source": [
    "start_time = time.time()\n",
    "for e in range(epochs):\n",
    "    loss_epoch = torch.empty(0)\n",
    "    correct_epoch = 0\n",
    "\n",
    "    loss_epoch_test = np.empty(0)\n",
    "    correct_epoch_test = 0\n",
    "\n",
    "    for batch_num, batch in enumerate(train_dataset_loader):\n",
    "        X_train = batch[:,:-1]\n",
    "        y_train = batch[:,-1].reshape(-1,1)\n",
    "        y_pred = model.forward(X_train)\n",
    "\n",
    "        loss = criterion(y_pred, y_train)\n",
    "        if (e == 0 and batch_num == 0):\n",
    "            print(f'Loss on the first batch: {loss}')\n",
    "\n",
    "        # print(loss.item())\n",
    "        loss_epoch = np.append(loss_epoch, loss.detach().cpu().numpy())\n",
    "        # losses.append(loss.item())\n",
    "\n",
    "\n",
    "        optimizer.zero_grad()\n",
    "        loss.backward()\n",
    "        optimizer.step()\n",
    "\n",
    "\n",
    "        predicted = torch.round(y_pred)\n",
    "        # print(y_train)\n",
    "        predicted = (predicted == y_train).sum().cpu()\n",
    "        pred_cpu = predicted.cpu()\n",
    "        # print(f'pred_cpu: {pred_cpu}')\n",
    "        correct_epoch += predicted\n",
    "\n",
    "# przechodzenie przez dane testowe\n",
    "    with torch.no_grad():\n",
    "        for batch_num_test, batch_test in enumerate(test_dataset_loader_a):\n",
    "            X_test = batch_test[:,:-1]\n",
    "            y_test = batch_test[:,-1].reshape(-1,1)\n",
    "            y_pred_test = model.forward(X_test)\n",
    "\n",
    "            loss_test = criterion(y_pred_test, y_test)\n",
    "            if (e == 0 and batch_num_test == 0):\n",
    "                print(f'Loss on the first batch on test data: {loss_test}')\n",
    "                print(loss_test.shape)\n",
    "\n",
    "            # print(loss.item())\n",
    "            loss_epoch_test = np.append(loss_epoch_test, loss_test.item())\n",
    "            # print(loss_test)\n",
    "            # losses.append(loss.item())\n",
    "\n",
    "            predicted = torch.round(y_pred_test)\n",
    "            # print(predicted)\n",
    "            # print(y_test)\n",
    "            predicted = (predicted == y_test).sum()\n",
    "            pred_cpu = predicted.cpu()\n",
    "            # print(f'pred_cpu: {pred_cpu}')\n",
    "            correct_epoch_test += predicted\n",
    "\n",
    "        loss_epoch_test = loss_epoch_test.sum() / test_count_a\n",
    "        losses_test.append(loss_epoch_test)\n",
    "        accuracy_epoch_test = correct_epoch_test * 100/test_count_a\n",
    "        accuracy_epoch_test_cpu = accuracy_epoch_test.cpu()\n",
    "        accuracy_test.append(accuracy_epoch_test_cpu)\n",
    "\n",
    "    loss_epoch = loss_epoch.sum() / train_count\n",
    "    losses.append(loss_epoch)\n",
    "    accuracy_epoch = correct_epoch * 100/train_count\n",
    "    accuracy_epoch_cpu = accuracy_epoch.cpu()\n",
    "    accuracy.append(accuracy_epoch)\n",
    "\n",
    "\n",
    "    # print(f'Test accuracy: {correct_epoch.item()}/{train_count} = {correct.item() * 100 / (test_count):7.3f}%')\n",
    "    print(f' epoch: {e} | loss: {loss_epoch} | predicted: {correct_epoch} | accuracy: {accuracy_epoch} | test loss: {loss_epoch_test} | ' \\\n",
    "          + f'predicted: {correct_epoch_test} | test accuracy: {accuracy_epoch_test}')\n",
    "\n",
    "duration = time.time() - start_time"
   ],
   "metadata": {
    "collapsed": false,
    "pycharm": {
     "name": "#%%\n"
    }
   }
  },
  {
   "cell_type": "markdown",
   "source": [
    "## Rysowanie funkcji straty i accuracy na przestrzeni epok"
   ],
   "metadata": {
    "collapsed": false,
    "pycharm": {
     "name": "#%% md\n"
    }
   }
  },
  {
   "cell_type": "code",
   "execution_count": 175,
   "outputs": [
    {
     "data": {
      "text/plain": "<Figure size 1152x504 with 2 Axes>",
      "image/png": "[encoded data removed]"
     },
     "metadata": {
      "needs_background": "light"
     },
     "output_type": "display_data"
    }
   ],
   "source": [
    "## Plot loss functions over epochs\n",
    "\n",
    "fig, (ax1, ax2) = plt.subplots(1, 2, figsize=(16,7))\n",
    "\n",
    "\n",
    "ax1.plot(range(epochs), losses, c='r')\n",
    "ax1.plot(range(epochs), losses_test)\n",
    "ax1.set_title('Losses and epochs')\n",
    "\n",
    "ax2.plot(range(epochs), accuracy, c='r')\n",
    "ax2.plot(range(epochs), accuracy_test)\n",
    "ax2.set_title(\"Accuracy and epochs\")\n",
    "\n",
    "plt.show()"
   ],
   "metadata": {
    "collapsed": false,
    "pycharm": {
     "name": "#%%\n"
    }
   }
  },
  {
   "cell_type": "code",
   "execution_count": 176,
   "outputs": [],
   "source": [
    "# dictionary storing the data\n",
    "summary = {\n",
    "    \"Training\": [min(losses), max(accuracy)],\n",
    "    \"Test\": [min(losses_test), max(accuracy_test)]\n",
    "}\n",
    "\n",
    "# dataframe from dict\n",
    "summary_df = pd.DataFrame.from_dict(summary, orient='index', columns=['Loss', 'Accuracy'])"
   ],
   "metadata": {
    "collapsed": false,
    "pycharm": {
     "name": "#%%\n"
    }
   }
  },
  {
   "cell_type": "code",
   "execution_count": 177,
   "outputs": [
    {
     "name": "stdout",
     "output_type": "stream",
     "text": [
      "Model(\n",
      "  (fc1): Linear(in_features=73, out_features=100, bias=True)\n",
      "  (fc2): Linear(in_features=100, out_features=100, bias=True)\n",
      "  (fc3): Linear(in_features=100, out_features=100, bias=True)\n",
      "  (out): Linear(in_features=100, out_features=1, bias=True)\n",
      ")\n",
      "learning_rate:  0.0001\n",
      "batch_size:  2500\n",
      "time:  10.325990438461304\n"
     ]
    }
   ],
   "source": [
    "print(model)\n",
    "print('learning_rate: ', learning_rate)\n",
    "print('batch_size: ', batch_size)\n",
    "print('time: ', duration)"
   ],
   "metadata": {
    "collapsed": false,
    "pycharm": {
     "name": "#%%\n"
    }
   }
  },
  {
   "cell_type": "code",
   "execution_count": 178,
   "outputs": [
    {
     "data": {
      "text/plain": "              Loss         Accuracy\nTraining  0.000401  tensor(77.8550)\nTest      0.006298  tensor(63.0233)",
      "text/html": "<div>\n<style scoped>\n    .dataframe tbody tr th:only-of-type {\n        vertical-align: middle;\n    }\n\n    .dataframe tbody tr th {\n        vertical-align: top;\n    }\n\n    .dataframe thead th {\n        text-align: right;\n    }\n</style>\n<table border=\"1\" class=\"dataframe\">\n  <thead>\n    <tr style=\"text-align: right;\">\n      <th></th>\n      <th>Loss</th>\n      <th>Accuracy</th>\n    </tr>\n  </thead>\n  <tbody>\n    <tr>\n      <th>Training</th>\n      <td>0.000401</td>\n      <td>tensor(77.8550)</td>\n    </tr>\n    <tr>\n      <th>Test</th>\n      <td>0.006298</td>\n      <td>tensor(63.0233)</td>\n    </tr>\n  </tbody>\n</table>\n</div>"
     },
     "execution_count": 178,
     "metadata": {},
     "output_type": "execute_result"
    }
   ],
   "source": [
    "summary_df"
   ],
   "metadata": {
    "collapsed": false,
    "pycharm": {
     "name": "#%%\n"
    }
   }
  },
  {
   "cell_type": "code",
   "execution_count": 89,
   "outputs": [],
   "source": [],
   "metadata": {
    "collapsed": false,
    "pycharm": {
     "name": "#%%\n"
    }
   }
  }
 ],
 "metadata": {
  "kernelspec": {
   "name": "torch-cuda",
   "language": "python",
   "display_name": "torch-cuda"
  },
  "language_info": {
   "codemirror_mode": {
    "name": "ipython",
    "version": 2
   },
   "file_extension": ".py",
   "mimetype": "text/x-python",
   "name": "python",
   "nbconvert_exporter": "python",
   "pygments_lexer": "ipython2",
   "version": "2.7.6"
  }
 },
 "nbformat": 4,
 "nbformat_minor": 0
}