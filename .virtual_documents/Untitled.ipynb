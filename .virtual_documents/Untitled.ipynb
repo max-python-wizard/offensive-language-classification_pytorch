import torch
import torch.nn as nn
import torch.nn.functional as F


torch.cuda.is_available()



