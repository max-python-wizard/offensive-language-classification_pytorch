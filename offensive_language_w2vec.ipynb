{
 "cells": [
  {
   "cell_type": "code",
   "execution_count": 1,
   "metadata": {
    "collapsed": false,
    "jupyter": {
     "outputs_hidden": false
    },
    "pycharm": {
     "is_executing": true,
     "name": "#%%\n"
    }
   },
   "outputs": [],
   "source": [
    "import pandas as pd\n",
    "import numpy as np\n",
    "import matplotlib.pyplot as plt"
   ]
  },
  {
   "cell_type": "code",
   "execution_count": 2,
   "metadata": {
    "collapsed": false,
    "jupyter": {
     "outputs_hidden": false
    },
    "pycharm": {
     "name": "#%%\n"
    }
   },
   "outputs": [],
   "source": [
    "import time"
   ]
  },
  {
   "cell_type": "code",
   "execution_count": 3,
   "metadata": {
    "collapsed": false,
    "jupyter": {
     "outputs_hidden": false
    },
    "pycharm": {
     "name": "#%%\n"
    }
   },
   "outputs": [],
   "source": [
    "import spacy"
   ]
  },
  {
   "cell_type": "code",
   "execution_count": 4,
   "metadata": {
    "collapsed": false,
    "jupyter": {
     "outputs_hidden": false
    },
    "pycharm": {
     "name": "#%%\n"
    }
   },
   "outputs": [
    {
     "data": {
      "text/plain": [
       "False"
      ]
     },
     "execution_count": 4,
     "metadata": {},
     "output_type": "execute_result"
    }
   ],
   "source": [
    "spacy.prefer_gpu()"
   ]
  },
  {
   "cell_type": "code",
   "execution_count": 5,
   "metadata": {},
   "outputs": [],
   "source": [
    "import torch\n",
    "import torch.nn as nn\n",
    "import torch.nn.functional as F"
   ]
  },
  {
   "cell_type": "markdown",
   "metadata": {
    "pycharm": {
     "name": "#%% md\n"
    }
   },
   "source": [
    "### Sprawdzanie czy w systemie jest karta graficzna Nvidia - CUDA"
   ]
  },
  {
   "cell_type": "code",
   "execution_count": 6,
   "metadata": {
    "collapsed": false,
    "jupyter": {
     "outputs_hidden": false
    },
    "pycharm": {
     "name": "#%%\n"
    }
   },
   "outputs": [
    {
     "data": {
      "text/plain": [
       "True"
      ]
     },
     "execution_count": 6,
     "metadata": {},
     "output_type": "execute_result"
    }
   ],
   "source": [
    "cuda_av = torch.cuda.is_available()\n",
    "cuda_av"
   ]
  },
  {
   "cell_type": "code",
   "execution_count": 7,
   "metadata": {
    "collapsed": false,
    "jupyter": {
     "outputs_hidden": false
    },
    "pycharm": {
     "name": "#%%\n"
    }
   },
   "outputs": [
    {
     "name": "stdout",
     "output_type": "stream",
     "text": [
      "ID urządzenia CUDA: 0\n",
      "Nazwa urządzenia CUDA: NVIDIA GeForce GTX 1070\n"
     ]
    }
   ],
   "source": [
    "if cuda_av:\n",
    "    cuda_id = torch.cuda.current_device()\n",
    "    print(f'ID urządzenia CUDA: {cuda_id}')\n",
    "    print(f\"Nazwa urządzenia CUDA: {torch.cuda.get_device_name(cuda_id)}\")"
   ]
  },
  {
   "cell_type": "code",
   "execution_count": 8,
   "metadata": {
    "collapsed": false,
    "jupyter": {
     "outputs_hidden": false
    },
    "pycharm": {
     "name": "#%%\n"
    }
   },
   "outputs": [
    {
     "data": {
      "text/plain": [
       "'cuda'"
      ]
     },
     "execution_count": 8,
     "metadata": {},
     "output_type": "execute_result"
    }
   ],
   "source": [
    "# Tworzenie kodu uniwersalnego: dla CUDA i CPU\n",
    "device = 'cuda' if torch.cuda.is_available() else 'cpu'\n",
    "device"
   ]
  },
  {
   "cell_type": "markdown",
   "metadata": {
    "pycharm": {
     "name": "#%% md\n"
    }
   },
   "source": [
    "## Ładowanie danych treningowych"
   ]
  },
  {
   "cell_type": "code",
   "execution_count": 9,
   "metadata": {
    "collapsed": false,
    "jupyter": {
     "outputs_hidden": false
    },
    "pycharm": {
     "name": "#%%\n"
    }
   },
   "outputs": [],
   "source": [
    "tweets = pd.read_csv('data/olid-training-v1.0.tsv', sep='\\t')"
   ]
  },
  {
   "cell_type": "code",
   "execution_count": 10,
   "metadata": {
    "collapsed": false,
    "jupyter": {
     "outputs_hidden": false
    },
    "pycharm": {
     "name": "#%%\n"
    }
   },
   "outputs": [
    {
     "data": {
      "text/html": [
       "<div>\n",
       "<style scoped>\n",
       "    .dataframe tbody tr th:only-of-type {\n",
       "        vertical-align: middle;\n",
       "    }\n",
       "\n",
       "    .dataframe tbody tr th {\n",
       "        vertical-align: top;\n",
       "    }\n",
       "\n",
       "    .dataframe thead th {\n",
       "        text-align: right;\n",
       "    }\n",
       "</style>\n",
       "<table border=\"1\" class=\"dataframe\">\n",
       "  <thead>\n",
       "    <tr style=\"text-align: right;\">\n",
       "      <th></th>\n",
       "      <th>id</th>\n",
       "      <th>tweet</th>\n",
       "      <th>subtask_a</th>\n",
       "      <th>subtask_b</th>\n",
       "      <th>subtask_c</th>\n",
       "    </tr>\n",
       "  </thead>\n",
       "  <tbody>\n",
       "    <tr>\n",
       "      <th>0</th>\n",
       "      <td>86426</td>\n",
       "      <td>@USER She should ask a few native Americans wh...</td>\n",
       "      <td>OFF</td>\n",
       "      <td>UNT</td>\n",
       "      <td>NaN</td>\n",
       "    </tr>\n",
       "    <tr>\n",
       "      <th>1</th>\n",
       "      <td>90194</td>\n",
       "      <td>@USER @USER Go home you’re drunk!!! @USER #MAG...</td>\n",
       "      <td>OFF</td>\n",
       "      <td>TIN</td>\n",
       "      <td>IND</td>\n",
       "    </tr>\n",
       "    <tr>\n",
       "      <th>2</th>\n",
       "      <td>16820</td>\n",
       "      <td>Amazon is investigating Chinese employees who ...</td>\n",
       "      <td>NOT</td>\n",
       "      <td>NaN</td>\n",
       "      <td>NaN</td>\n",
       "    </tr>\n",
       "    <tr>\n",
       "      <th>3</th>\n",
       "      <td>62688</td>\n",
       "      <td>@USER Someone should'veTaken\" this piece of sh...</td>\n",
       "      <td>OFF</td>\n",
       "      <td>UNT</td>\n",
       "      <td>NaN</td>\n",
       "    </tr>\n",
       "    <tr>\n",
       "      <th>4</th>\n",
       "      <td>43605</td>\n",
       "      <td>@USER @USER Obama wanted liberals &amp;amp; illega...</td>\n",
       "      <td>NOT</td>\n",
       "      <td>NaN</td>\n",
       "      <td>NaN</td>\n",
       "    </tr>\n",
       "  </tbody>\n",
       "</table>\n",
       "</div>"
      ],
      "text/plain": [
       "      id                                              tweet subtask_a  \\\n",
       "0  86426  @USER She should ask a few native Americans wh...       OFF   \n",
       "1  90194  @USER @USER Go home you’re drunk!!! @USER #MAG...       OFF   \n",
       "2  16820  Amazon is investigating Chinese employees who ...       NOT   \n",
       "3  62688  @USER Someone should'veTaken\" this piece of sh...       OFF   \n",
       "4  43605  @USER @USER Obama wanted liberals &amp; illega...       NOT   \n",
       "\n",
       "  subtask_b subtask_c  \n",
       "0       UNT       NaN  \n",
       "1       TIN       IND  \n",
       "2       NaN       NaN  \n",
       "3       UNT       NaN  \n",
       "4       NaN       NaN  "
      ]
     },
     "execution_count": 10,
     "metadata": {},
     "output_type": "execute_result"
    }
   ],
   "source": [
    "tweets.head()"
   ]
  },
  {
   "cell_type": "code",
   "execution_count": 11,
   "metadata": {
    "collapsed": false,
    "jupyter": {
     "outputs_hidden": false
    },
    "pycharm": {
     "name": "#%%\n"
    }
   },
   "outputs": [],
   "source": [
    "# tweets = tweets[:100]"
   ]
  },
  {
   "cell_type": "code",
   "execution_count": 12,
   "metadata": {
    "collapsed": false,
    "jupyter": {
     "outputs_hidden": false
    },
    "pycharm": {
     "name": "#%%\n"
    }
   },
   "outputs": [],
   "source": [
    "# tweets = tweets[:5]"
   ]
  },
  {
   "cell_type": "markdown",
   "metadata": {
    "pycharm": {
     "name": "#%% md\n"
    }
   },
   "source": [
    "### Tokenizacja, lematyzacja, usówanie pewnych słów\n",
    "liczenie najdłuższego przetworzonego tweeta"
   ]
  },
  {
   "cell_type": "code",
   "execution_count": 13,
   "metadata": {
    "collapsed": false,
    "jupyter": {
     "outputs_hidden": false
    },
    "pycharm": {
     "name": "#%%\n"
    }
   },
   "outputs": [],
   "source": [
    "nlp = spacy.load('en_core_web_sm')"
   ]
  },
  {
   "cell_type": "code",
   "execution_count": 14,
   "metadata": {
    "collapsed": false,
    "jupyter": {
     "outputs_hidden": false
    },
    "pycharm": {
     "name": "#%%\n"
    }
   },
   "outputs": [],
   "source": [
    "# dodawanie kolumny z tokenami\n",
    "tweets['tokens'] = tweets['tweet'].apply(nlp)"
   ]
  },
  {
   "cell_type": "code",
   "execution_count": 15,
   "metadata": {
    "collapsed": false,
    "jupyter": {
     "outputs_hidden": false
    },
    "pycharm": {
     "name": "#%%\n"
    }
   },
   "outputs": [
    {
     "data": {
      "text/html": [
       "<div>\n",
       "<style scoped>\n",
       "    .dataframe tbody tr th:only-of-type {\n",
       "        vertical-align: middle;\n",
       "    }\n",
       "\n",
       "    .dataframe tbody tr th {\n",
       "        vertical-align: top;\n",
       "    }\n",
       "\n",
       "    .dataframe thead th {\n",
       "        text-align: right;\n",
       "    }\n",
       "</style>\n",
       "<table border=\"1\" class=\"dataframe\">\n",
       "  <thead>\n",
       "    <tr style=\"text-align: right;\">\n",
       "      <th></th>\n",
       "      <th>id</th>\n",
       "      <th>tweet</th>\n",
       "      <th>subtask_a</th>\n",
       "      <th>subtask_b</th>\n",
       "      <th>subtask_c</th>\n",
       "      <th>tokens</th>\n",
       "    </tr>\n",
       "  </thead>\n",
       "  <tbody>\n",
       "    <tr>\n",
       "      <th>0</th>\n",
       "      <td>86426</td>\n",
       "      <td>@USER She should ask a few native Americans wh...</td>\n",
       "      <td>OFF</td>\n",
       "      <td>UNT</td>\n",
       "      <td>NaN</td>\n",
       "      <td>(@USER, She, should, ask, a, few, native, Amer...</td>\n",
       "    </tr>\n",
       "    <tr>\n",
       "      <th>1</th>\n",
       "      <td>90194</td>\n",
       "      <td>@USER @USER Go home you’re drunk!!! @USER #MAG...</td>\n",
       "      <td>OFF</td>\n",
       "      <td>TIN</td>\n",
       "      <td>IND</td>\n",
       "      <td>(@USER, @USER, Go, home, you, ’re, drunk, !, !...</td>\n",
       "    </tr>\n",
       "    <tr>\n",
       "      <th>2</th>\n",
       "      <td>16820</td>\n",
       "      <td>Amazon is investigating Chinese employees who ...</td>\n",
       "      <td>NOT</td>\n",
       "      <td>NaN</td>\n",
       "      <td>NaN</td>\n",
       "      <td>(Amazon, is, investigating, Chinese, employees...</td>\n",
       "    </tr>\n",
       "    <tr>\n",
       "      <th>3</th>\n",
       "      <td>62688</td>\n",
       "      <td>@USER Someone should'veTaken\" this piece of sh...</td>\n",
       "      <td>OFF</td>\n",
       "      <td>UNT</td>\n",
       "      <td>NaN</td>\n",
       "      <td>(@USER, Someone, should'veTaken, \", this, piec...</td>\n",
       "    </tr>\n",
       "    <tr>\n",
       "      <th>4</th>\n",
       "      <td>43605</td>\n",
       "      <td>@USER @USER Obama wanted liberals &amp;amp; illega...</td>\n",
       "      <td>NOT</td>\n",
       "      <td>NaN</td>\n",
       "      <td>NaN</td>\n",
       "      <td>(@USER, @USER, Obama, wanted, liberals, &amp;, amp...</td>\n",
       "    </tr>\n",
       "  </tbody>\n",
       "</table>\n",
       "</div>"
      ],
      "text/plain": [
       "      id                                              tweet subtask_a  \\\n",
       "0  86426  @USER She should ask a few native Americans wh...       OFF   \n",
       "1  90194  @USER @USER Go home you’re drunk!!! @USER #MAG...       OFF   \n",
       "2  16820  Amazon is investigating Chinese employees who ...       NOT   \n",
       "3  62688  @USER Someone should'veTaken\" this piece of sh...       OFF   \n",
       "4  43605  @USER @USER Obama wanted liberals &amp; illega...       NOT   \n",
       "\n",
       "  subtask_b subtask_c                                             tokens  \n",
       "0       UNT       NaN  (@USER, She, should, ask, a, few, native, Amer...  \n",
       "1       TIN       IND  (@USER, @USER, Go, home, you, ’re, drunk, !, !...  \n",
       "2       NaN       NaN  (Amazon, is, investigating, Chinese, employees...  \n",
       "3       UNT       NaN  (@USER, Someone, should'veTaken, \", this, piec...  \n",
       "4       NaN       NaN  (@USER, @USER, Obama, wanted, liberals, &, amp...  "
      ]
     },
     "execution_count": 15,
     "metadata": {},
     "output_type": "execute_result"
    }
   ],
   "source": [
    "tweets.head()"
   ]
  },
  {
   "cell_type": "code",
   "execution_count": 16,
   "metadata": {
    "collapsed": false,
    "jupyter": {
     "outputs_hidden": false
    },
    "pycharm": {
     "name": "#%%\n"
    }
   },
   "outputs": [],
   "source": [
    "# dodawanie kolumny z lematami za pomoca funkcji lambda - przy tym usuwanie:\n",
    "# odwolan do wczesniejszych tweetow (zawiera @)\n",
    "# - slowa url (czyli adresy stron inernetowych które w danych wejściowych mają URL zamiast adreasu.\n",
    "# # - hasztagów; przyimków i innych częstych słów (stop words) oraz znaków interpunkcyjnych.\n",
    "# spacji ' ', '  ', '   '\n",
    "\n",
    "# emotikony zostawiam - uważam, że też niosą znaczenie\n",
    "\n",
    "tweets['lemmas'] = tweets['tokens'].apply\\\n",
    "    (lambda list_tokens : [token.lemma_.strip() for token in list_tokens if ('@' not in token.lemma_ \\\n",
    "                                                                     and '#' not in token.lemma_ and 'url' not in token.lemma_ \\\n",
    "                                                                     and not token.is_stop and not token.is_punct and token.lemma_ != ' ' \\\n",
    "                                                                     and token.lemma_ != '  ' and token.lemma_ != '   '\n",
    "                                                                     and token.lemma_ != '    ' and token.lemma_.strip() != '')])"
   ]
  },
  {
   "cell_type": "code",
   "execution_count": null,
   "metadata": {
    "collapsed": false,
    "jupyter": {
     "outputs_hidden": false
    },
    "pycharm": {
     "name": "#%%\n"
    }
   },
   "outputs": [],
   "source": []
  },
  {
   "cell_type": "code",
   "execution_count": 17,
   "metadata": {
    "collapsed": false,
    "jupyter": {
     "outputs_hidden": false
    },
    "pycharm": {
     "name": "#%%\n"
    }
   },
   "outputs": [
    {
     "data": {
      "text/html": [
       "<div>\n",
       "<style scoped>\n",
       "    .dataframe tbody tr th:only-of-type {\n",
       "        vertical-align: middle;\n",
       "    }\n",
       "\n",
       "    .dataframe tbody tr th {\n",
       "        vertical-align: top;\n",
       "    }\n",
       "\n",
       "    .dataframe thead th {\n",
       "        text-align: right;\n",
       "    }\n",
       "</style>\n",
       "<table border=\"1\" class=\"dataframe\">\n",
       "  <thead>\n",
       "    <tr style=\"text-align: right;\">\n",
       "      <th></th>\n",
       "      <th>id</th>\n",
       "      <th>tweet</th>\n",
       "      <th>subtask_a</th>\n",
       "      <th>subtask_b</th>\n",
       "      <th>subtask_c</th>\n",
       "      <th>tokens</th>\n",
       "      <th>lemmas</th>\n",
       "    </tr>\n",
       "  </thead>\n",
       "  <tbody>\n",
       "    <tr>\n",
       "      <th>0</th>\n",
       "      <td>86426</td>\n",
       "      <td>@USER She should ask a few native Americans wh...</td>\n",
       "      <td>OFF</td>\n",
       "      <td>UNT</td>\n",
       "      <td>NaN</td>\n",
       "      <td>(@USER, She, should, ask, a, few, native, Amer...</td>\n",
       "      <td>[ask, native, Americans]</td>\n",
       "    </tr>\n",
       "    <tr>\n",
       "      <th>1</th>\n",
       "      <td>90194</td>\n",
       "      <td>@USER @USER Go home you’re drunk!!! @USER #MAG...</td>\n",
       "      <td>OFF</td>\n",
       "      <td>TIN</td>\n",
       "      <td>IND</td>\n",
       "      <td>(@USER, @USER, Go, home, you, ’re, drunk, !, !...</td>\n",
       "      <td>[home, drunk, MAGA, Trump2020, 👊, 🇺, 🇸, 👊]</td>\n",
       "    </tr>\n",
       "    <tr>\n",
       "      <th>2</th>\n",
       "      <td>16820</td>\n",
       "      <td>Amazon is investigating Chinese employees who ...</td>\n",
       "      <td>NOT</td>\n",
       "      <td>NaN</td>\n",
       "      <td>NaN</td>\n",
       "      <td>(Amazon, is, investigating, Chinese, employees...</td>\n",
       "      <td>[Amazon, investigate, chinese, employee, sell,...</td>\n",
       "    </tr>\n",
       "    <tr>\n",
       "      <th>3</th>\n",
       "      <td>62688</td>\n",
       "      <td>@USER Someone should'veTaken\" this piece of sh...</td>\n",
       "      <td>OFF</td>\n",
       "      <td>UNT</td>\n",
       "      <td>NaN</td>\n",
       "      <td>(@USER, Someone, should'veTaken, \", this, piec...</td>\n",
       "      <td>[should'vetaken, piece, shit, volcano, 😂]</td>\n",
       "    </tr>\n",
       "    <tr>\n",
       "      <th>4</th>\n",
       "      <td>43605</td>\n",
       "      <td>@USER @USER Obama wanted liberals &amp;amp; illega...</td>\n",
       "      <td>NOT</td>\n",
       "      <td>NaN</td>\n",
       "      <td>NaN</td>\n",
       "      <td>(@USER, @USER, Obama, wanted, liberals, &amp;, amp...</td>\n",
       "      <td>[Obama, want, liberal, amp, illegal, red, state]</td>\n",
       "    </tr>\n",
       "    <tr>\n",
       "      <th>...</th>\n",
       "      <td>...</td>\n",
       "      <td>...</td>\n",
       "      <td>...</td>\n",
       "      <td>...</td>\n",
       "      <td>...</td>\n",
       "      <td>...</td>\n",
       "      <td>...</td>\n",
       "    </tr>\n",
       "    <tr>\n",
       "      <th>13235</th>\n",
       "      <td>95338</td>\n",
       "      <td>@USER Sometimes I get strong vibes from people...</td>\n",
       "      <td>OFF</td>\n",
       "      <td>TIN</td>\n",
       "      <td>IND</td>\n",
       "      <td>(@USER, Sometimes, I, get, strong, vibes, from...</td>\n",
       "      <td>[strong, vibe, people, man, vibe, ten, million...</td>\n",
       "    </tr>\n",
       "    <tr>\n",
       "      <th>13236</th>\n",
       "      <td>67210</td>\n",
       "      <td>Benidorm ✅  Creamfields ✅  Maga ✅   Not too sh...</td>\n",
       "      <td>NOT</td>\n",
       "      <td>NaN</td>\n",
       "      <td>NaN</td>\n",
       "      <td>(Benidorm, ✅,  , Creamfields, ✅,  , Maga, ✅,  ...</td>\n",
       "      <td>[benidorm, ✅, creamfield, ✅, Maga, ✅, shabby, ...</td>\n",
       "    </tr>\n",
       "    <tr>\n",
       "      <th>13237</th>\n",
       "      <td>82921</td>\n",
       "      <td>@USER And why report this garbage.  We don't g...</td>\n",
       "      <td>OFF</td>\n",
       "      <td>TIN</td>\n",
       "      <td>OTH</td>\n",
       "      <td>(@USER, And, why, report, this, garbage, .,  ,...</td>\n",
       "      <td>[report, garbage, crap]</td>\n",
       "    </tr>\n",
       "    <tr>\n",
       "      <th>13238</th>\n",
       "      <td>27429</td>\n",
       "      <td>@USER Pussy</td>\n",
       "      <td>OFF</td>\n",
       "      <td>UNT</td>\n",
       "      <td>NaN</td>\n",
       "      <td>(@USER, Pussy)</td>\n",
       "      <td>[Pussy]</td>\n",
       "    </tr>\n",
       "    <tr>\n",
       "      <th>13239</th>\n",
       "      <td>46552</td>\n",
       "      <td>#Spanishrevenge vs. #justice #HumanRights and ...</td>\n",
       "      <td>NOT</td>\n",
       "      <td>NaN</td>\n",
       "      <td>NaN</td>\n",
       "      <td>(#, Spanishrevenge, vs., #, justice, #, HumanR...</td>\n",
       "      <td>[Spanishrevenge, vs., justice, HumanRights, fr...</td>\n",
       "    </tr>\n",
       "  </tbody>\n",
       "</table>\n",
       "<p>13240 rows × 7 columns</p>\n",
       "</div>"
      ],
      "text/plain": [
       "          id                                              tweet subtask_a  \\\n",
       "0      86426  @USER She should ask a few native Americans wh...       OFF   \n",
       "1      90194  @USER @USER Go home you’re drunk!!! @USER #MAG...       OFF   \n",
       "2      16820  Amazon is investigating Chinese employees who ...       NOT   \n",
       "3      62688  @USER Someone should'veTaken\" this piece of sh...       OFF   \n",
       "4      43605  @USER @USER Obama wanted liberals &amp; illega...       NOT   \n",
       "...      ...                                                ...       ...   \n",
       "13235  95338  @USER Sometimes I get strong vibes from people...       OFF   \n",
       "13236  67210  Benidorm ✅  Creamfields ✅  Maga ✅   Not too sh...       NOT   \n",
       "13237  82921  @USER And why report this garbage.  We don't g...       OFF   \n",
       "13238  27429                                        @USER Pussy       OFF   \n",
       "13239  46552  #Spanishrevenge vs. #justice #HumanRights and ...       NOT   \n",
       "\n",
       "      subtask_b subtask_c                                             tokens  \\\n",
       "0           UNT       NaN  (@USER, She, should, ask, a, few, native, Amer...   \n",
       "1           TIN       IND  (@USER, @USER, Go, home, you, ’re, drunk, !, !...   \n",
       "2           NaN       NaN  (Amazon, is, investigating, Chinese, employees...   \n",
       "3           UNT       NaN  (@USER, Someone, should'veTaken, \", this, piec...   \n",
       "4           NaN       NaN  (@USER, @USER, Obama, wanted, liberals, &, amp...   \n",
       "...         ...       ...                                                ...   \n",
       "13235       TIN       IND  (@USER, Sometimes, I, get, strong, vibes, from...   \n",
       "13236       NaN       NaN  (Benidorm, ✅,  , Creamfields, ✅,  , Maga, ✅,  ...   \n",
       "13237       TIN       OTH  (@USER, And, why, report, this, garbage, .,  ,...   \n",
       "13238       UNT       NaN                                     (@USER, Pussy)   \n",
       "13239       NaN       NaN  (#, Spanishrevenge, vs., #, justice, #, HumanR...   \n",
       "\n",
       "                                                  lemmas  \n",
       "0                               [ask, native, Americans]  \n",
       "1             [home, drunk, MAGA, Trump2020, 👊, 🇺, 🇸, 👊]  \n",
       "2      [Amazon, investigate, chinese, employee, sell,...  \n",
       "3              [should'vetaken, piece, shit, volcano, 😂]  \n",
       "4       [Obama, want, liberal, amp, illegal, red, state]  \n",
       "...                                                  ...  \n",
       "13235  [strong, vibe, people, man, vibe, ten, million...  \n",
       "13236  [benidorm, ✅, creamfield, ✅, Maga, ✅, shabby, ...  \n",
       "13237                            [report, garbage, crap]  \n",
       "13238                                            [Pussy]  \n",
       "13239  [Spanishrevenge, vs., justice, HumanRights, fr...  \n",
       "\n",
       "[13240 rows x 7 columns]"
      ]
     },
     "execution_count": 17,
     "metadata": {},
     "output_type": "execute_result"
    }
   ],
   "source": [
    "tweets"
   ]
  },
  {
   "cell_type": "code",
   "execution_count": 18,
   "metadata": {
    "collapsed": false,
    "jupyter": {
     "outputs_hidden": false
    },
    "pycharm": {
     "name": "#%%\n"
    }
   },
   "outputs": [],
   "source": [
    "# for index, row in tweets.iterrows():\n",
    "#     for word in row['lemmas']:\n",
    "#         if word == '':\n",
    "#             print(index)"
   ]
  },
  {
   "cell_type": "code",
   "execution_count": 19,
   "metadata": {
    "collapsed": false,
    "jupyter": {
     "outputs_hidden": false
    },
    "pycharm": {
     "name": "#%%\n"
    }
   },
   "outputs": [],
   "source": [
    "# tweets.iloc[499, 6]"
   ]
  },
  {
   "cell_type": "code",
   "execution_count": 20,
   "metadata": {
    "collapsed": false,
    "jupyter": {
     "outputs_hidden": false
    },
    "pycharm": {
     "name": "#%%\n"
    }
   },
   "outputs": [],
   "source": [
    "# if tweets.iloc[500, 6][0] == '':\n",
    "#     print(True)"
   ]
  },
  {
   "cell_type": "code",
   "execution_count": 21,
   "metadata": {
    "collapsed": false,
    "jupyter": {
     "outputs_hidden": false
    },
    "pycharm": {
     "name": "#%%\n"
    }
   },
   "outputs": [],
   "source": [
    "# tweets.iloc[500, 6]"
   ]
  },
  {
   "cell_type": "code",
   "execution_count": 22,
   "metadata": {
    "collapsed": false,
    "jupyter": {
     "outputs_hidden": false
    },
    "pycharm": {
     "name": "#%%\n"
    }
   },
   "outputs": [],
   "source": [
    "# tweets.loc[:3,'lemmas']"
   ]
  },
  {
   "cell_type": "code",
   "execution_count": 23,
   "metadata": {
    "collapsed": false,
    "jupyter": {
     "outputs_hidden": false
    },
    "pycharm": {
     "name": "#%%\n"
    }
   },
   "outputs": [
    {
     "data": {
      "text/plain": [
       "@USER What’s the difference between #Kavanaugh and @USER   One of these men admitted to groping a 15 year old girl years ago.  The other is going to be #confirmed to the SCJ   #DemsareFrauds #DemsAreDone   #WalkAwayDemocrats2018 #redwave #VoteRedSaveAmerica #trumptrain #MAGA URL"
      ]
     },
     "execution_count": 23,
     "metadata": {},
     "output_type": "execute_result"
    }
   ],
   "source": [
    "tweets.loc[11, 'tokens']"
   ]
  },
  {
   "cell_type": "code",
   "execution_count": 24,
   "metadata": {
    "collapsed": false,
    "jupyter": {
     "outputs_hidden": false
    },
    "pycharm": {
     "name": "#%%\n"
    }
   },
   "outputs": [],
   "source": [
    "tweets['length_lemmas'] = tweets['lemmas'].apply(lambda row: len(row))"
   ]
  },
  {
   "cell_type": "code",
   "execution_count": 25,
   "metadata": {
    "collapsed": false,
    "jupyter": {
     "outputs_hidden": false
    },
    "pycharm": {
     "name": "#%%\n"
    }
   },
   "outputs": [
    {
     "data": {
      "text/plain": [
       "0      3\n",
       "1      8\n",
       "2     18\n",
       "3      5\n",
       "4      7\n",
       "5      2\n",
       "6      4\n",
       "7     16\n",
       "8      2\n",
       "9     10\n",
       "10     4\n",
       "Name: length_lemmas, dtype: int64"
      ]
     },
     "execution_count": 25,
     "metadata": {},
     "output_type": "execute_result"
    }
   ],
   "source": [
    "tweets.loc[:10, 'length_lemmas']"
   ]
  },
  {
   "cell_type": "code",
   "execution_count": 26,
   "metadata": {
    "collapsed": false,
    "jupyter": {
     "outputs_hidden": false
    },
    "pycharm": {
     "name": "#%%\n"
    }
   },
   "outputs": [],
   "source": [
    "max_length_tweet = max(tweets['length_lemmas'])"
   ]
  },
  {
   "cell_type": "markdown",
   "metadata": {
    "pycharm": {
     "name": "#%% md\n"
    }
   },
   "source": [
    "## Ładowanie danych testowych(a)"
   ]
  },
  {
   "cell_type": "code",
   "execution_count": 27,
   "metadata": {
    "collapsed": false,
    "jupyter": {
     "outputs_hidden": false
    },
    "pycharm": {
     "name": "#%%\n"
    }
   },
   "outputs": [],
   "source": [
    "test_level_a = pd.read_csv('data/testset-levela.tsv', sep='\\t')"
   ]
  },
  {
   "cell_type": "code",
   "execution_count": 28,
   "metadata": {
    "collapsed": false,
    "jupyter": {
     "outputs_hidden": false
    },
    "pycharm": {
     "name": "#%%\n"
    }
   },
   "outputs": [],
   "source": [
    "labels_level_a = pd.read_csv('data/labels-levela.csv', header=None)"
   ]
  },
  {
   "cell_type": "code",
   "execution_count": 29,
   "metadata": {
    "collapsed": false,
    "jupyter": {
     "outputs_hidden": false
    },
    "pycharm": {
     "name": "#%%\n"
    }
   },
   "outputs": [],
   "source": [
    "labels_level_a = labels_level_a.rename(columns={0:'id', 1:'subtask_a'})"
   ]
  },
  {
   "cell_type": "code",
   "execution_count": 30,
   "metadata": {
    "collapsed": false,
    "jupyter": {
     "outputs_hidden": false
    },
    "pycharm": {
     "name": "#%%\n"
    }
   },
   "outputs": [],
   "source": [
    "test_a = pd.merge(test_level_a, labels_level_a, on = \"id\", how = \"inner\")"
   ]
  },
  {
   "cell_type": "code",
   "execution_count": 31,
   "metadata": {
    "collapsed": false,
    "jupyter": {
     "outputs_hidden": false
    },
    "pycharm": {
     "name": "#%%\n"
    }
   },
   "outputs": [
    {
     "data": {
      "text/html": [
       "<div>\n",
       "<style scoped>\n",
       "    .dataframe tbody tr th:only-of-type {\n",
       "        vertical-align: middle;\n",
       "    }\n",
       "\n",
       "    .dataframe tbody tr th {\n",
       "        vertical-align: top;\n",
       "    }\n",
       "\n",
       "    .dataframe thead th {\n",
       "        text-align: right;\n",
       "    }\n",
       "</style>\n",
       "<table border=\"1\" class=\"dataframe\">\n",
       "  <thead>\n",
       "    <tr style=\"text-align: right;\">\n",
       "      <th></th>\n",
       "      <th>id</th>\n",
       "      <th>tweet</th>\n",
       "      <th>subtask_a</th>\n",
       "    </tr>\n",
       "  </thead>\n",
       "  <tbody>\n",
       "    <tr>\n",
       "      <th>0</th>\n",
       "      <td>15923</td>\n",
       "      <td>#WhoIsQ #WheresTheServer #DumpNike #DECLASFISA...</td>\n",
       "      <td>OFF</td>\n",
       "    </tr>\n",
       "    <tr>\n",
       "      <th>1</th>\n",
       "      <td>27014</td>\n",
       "      <td>#ConstitutionDay is revered by Conservatives, ...</td>\n",
       "      <td>NOT</td>\n",
       "    </tr>\n",
       "    <tr>\n",
       "      <th>2</th>\n",
       "      <td>30530</td>\n",
       "      <td>#FOXNews #NRA #MAGA #POTUS #TRUMP #2ndAmendmen...</td>\n",
       "      <td>NOT</td>\n",
       "    </tr>\n",
       "    <tr>\n",
       "      <th>3</th>\n",
       "      <td>13876</td>\n",
       "      <td>#Watching #Boomer getting the news that she is...</td>\n",
       "      <td>NOT</td>\n",
       "    </tr>\n",
       "    <tr>\n",
       "      <th>4</th>\n",
       "      <td>60133</td>\n",
       "      <td>#NoPasaran: Unity demo to oppose the far-right...</td>\n",
       "      <td>OFF</td>\n",
       "    </tr>\n",
       "  </tbody>\n",
       "</table>\n",
       "</div>"
      ],
      "text/plain": [
       "      id                                              tweet subtask_a\n",
       "0  15923  #WhoIsQ #WheresTheServer #DumpNike #DECLASFISA...       OFF\n",
       "1  27014  #ConstitutionDay is revered by Conservatives, ...       NOT\n",
       "2  30530  #FOXNews #NRA #MAGA #POTUS #TRUMP #2ndAmendmen...       NOT\n",
       "3  13876  #Watching #Boomer getting the news that she is...       NOT\n",
       "4  60133  #NoPasaran: Unity demo to oppose the far-right...       OFF"
      ]
     },
     "execution_count": 31,
     "metadata": {},
     "output_type": "execute_result"
    }
   ],
   "source": [
    "test_a.head()"
   ]
  },
  {
   "cell_type": "code",
   "execution_count": 32,
   "metadata": {
    "collapsed": false,
    "jupyter": {
     "outputs_hidden": false
    },
    "pycharm": {
     "name": "#%%\n"
    }
   },
   "outputs": [
    {
     "data": {
      "text/plain": [
       "860"
      ]
     },
     "execution_count": 32,
     "metadata": {},
     "output_type": "execute_result"
    }
   ],
   "source": [
    "len(test_a)"
   ]
  },
  {
   "cell_type": "code",
   "execution_count": null,
   "metadata": {
    "collapsed": false,
    "jupyter": {
     "outputs_hidden": false
    },
    "pycharm": {
     "name": "#%%\n"
    }
   },
   "outputs": [],
   "source": []
  },
  {
   "cell_type": "markdown",
   "metadata": {},
   "source": [
    "### Opracowanie danych testowych (część a)\n",
    "Takie same modyfikacje jak dla danych treningowych"
   ]
  },
  {
   "cell_type": "code",
   "execution_count": 33,
   "metadata": {
    "collapsed": false,
    "jupyter": {
     "outputs_hidden": false
    },
    "pycharm": {
     "name": "#%%\n"
    }
   },
   "outputs": [],
   "source": [
    "test_a['tokens'] = test_a['tweet'].apply(nlp)\n",
    "test_a['lemmas'] = test_a['tokens'].apply \\\n",
    "    (lambda list_tokens : [token.lemma_.strip() for token in list_tokens if ('@' not in token.lemma_\n",
    "                                                                             and '#' not in token.lemma_ and 'url' not in token.lemma_\n",
    "                                                                             and not token.is_stop and not token.is_punct and token.lemma_ != ' '\n",
    "                                                                             and token.lemma_ != '  ' and token.lemma_ != '   '\n",
    "                                                                             and token.lemma_ != '    ' and token.lemma_.strip() != '')])\n",
    "\n"
   ]
  },
  {
   "cell_type": "code",
   "execution_count": null,
   "metadata": {
    "collapsed": false,
    "jupyter": {
     "outputs_hidden": false
    },
    "pycharm": {
     "name": "#%%\n"
    }
   },
   "outputs": [],
   "source": []
  },
  {
   "cell_type": "code",
   "execution_count": 34,
   "metadata": {
    "collapsed": false,
    "jupyter": {
     "outputs_hidden": false
    },
    "pycharm": {
     "name": "#%%\n"
    }
   },
   "outputs": [],
   "source": [
    "test_a['length_lemmas'] = test_a['lemmas'].apply(lambda row: len(row))"
   ]
  },
  {
   "cell_type": "code",
   "execution_count": 35,
   "metadata": {
    "collapsed": false,
    "jupyter": {
     "outputs_hidden": false
    },
    "pycharm": {
     "name": "#%%\n"
    }
   },
   "outputs": [
    {
     "data": {
      "text/plain": [
       "40"
      ]
     },
     "execution_count": 35,
     "metadata": {},
     "output_type": "execute_result"
    }
   ],
   "source": [
    "max(test_a['length_lemmas'])"
   ]
  },
  {
   "cell_type": "code",
   "execution_count": 36,
   "metadata": {
    "collapsed": false,
    "jupyter": {
     "outputs_hidden": false
    },
    "pycharm": {
     "name": "#%%\n"
    }
   },
   "outputs": [
    {
     "data": {
      "text/html": [
       "<div>\n",
       "<style scoped>\n",
       "    .dataframe tbody tr th:only-of-type {\n",
       "        vertical-align: middle;\n",
       "    }\n",
       "\n",
       "    .dataframe tbody tr th {\n",
       "        vertical-align: top;\n",
       "    }\n",
       "\n",
       "    .dataframe thead th {\n",
       "        text-align: right;\n",
       "    }\n",
       "</style>\n",
       "<table border=\"1\" class=\"dataframe\">\n",
       "  <thead>\n",
       "    <tr style=\"text-align: right;\">\n",
       "      <th></th>\n",
       "      <th>id</th>\n",
       "      <th>tweet</th>\n",
       "      <th>subtask_a</th>\n",
       "      <th>tokens</th>\n",
       "      <th>lemmas</th>\n",
       "      <th>length_lemmas</th>\n",
       "    </tr>\n",
       "  </thead>\n",
       "  <tbody>\n",
       "    <tr>\n",
       "      <th>0</th>\n",
       "      <td>15923</td>\n",
       "      <td>#WhoIsQ #WheresTheServer #DumpNike #DECLASFISA...</td>\n",
       "      <td>OFF</td>\n",
       "      <td>(#, WhoIsQ, #, WheresTheServer, #, DumpNike, #...</td>\n",
       "      <td>[WhoIsQ, wherestheserver, DumpNike, DECLASFISA...</td>\n",
       "      <td>24</td>\n",
       "    </tr>\n",
       "    <tr>\n",
       "      <th>1</th>\n",
       "      <td>27014</td>\n",
       "      <td>#ConstitutionDay is revered by Conservatives, ...</td>\n",
       "      <td>NOT</td>\n",
       "      <td>(#, ConstitutionDay, is, revered, by, Conserva...</td>\n",
       "      <td>[ConstitutionDay, revere, conservative, hate, ...</td>\n",
       "      <td>9</td>\n",
       "    </tr>\n",
       "    <tr>\n",
       "      <th>2</th>\n",
       "      <td>30530</td>\n",
       "      <td>#FOXNews #NRA #MAGA #POTUS #TRUMP #2ndAmendmen...</td>\n",
       "      <td>NOT</td>\n",
       "      <td>(#, FOXNews, #, NRA, #, MAGA, #, POTUS, #, TRU...</td>\n",
       "      <td>[foxnew, NRA, MAGA, POTUS, TRUMP, 2ndamendment...</td>\n",
       "      <td>15</td>\n",
       "    </tr>\n",
       "    <tr>\n",
       "      <th>3</th>\n",
       "      <td>13876</td>\n",
       "      <td>#Watching #Boomer getting the news that she is...</td>\n",
       "      <td>NOT</td>\n",
       "      <td>(#, Watching, #, Boomer, getting, the, news, t...</td>\n",
       "      <td>[watch, Boomer, get, news, parole, make, smile...</td>\n",
       "      <td>10</td>\n",
       "    </tr>\n",
       "    <tr>\n",
       "      <th>4</th>\n",
       "      <td>60133</td>\n",
       "      <td>#NoPasaran: Unity demo to oppose the far-right...</td>\n",
       "      <td>OFF</td>\n",
       "      <td>(#, NoPasaran, :, Unity, demo, to, oppose, the...</td>\n",
       "      <td>[NoPasaran, unity, demo, oppose, far, right, L...</td>\n",
       "      <td>9</td>\n",
       "    </tr>\n",
       "  </tbody>\n",
       "</table>\n",
       "</div>"
      ],
      "text/plain": [
       "      id                                              tweet subtask_a  \\\n",
       "0  15923  #WhoIsQ #WheresTheServer #DumpNike #DECLASFISA...       OFF   \n",
       "1  27014  #ConstitutionDay is revered by Conservatives, ...       NOT   \n",
       "2  30530  #FOXNews #NRA #MAGA #POTUS #TRUMP #2ndAmendmen...       NOT   \n",
       "3  13876  #Watching #Boomer getting the news that she is...       NOT   \n",
       "4  60133  #NoPasaran: Unity demo to oppose the far-right...       OFF   \n",
       "\n",
       "                                              tokens  \\\n",
       "0  (#, WhoIsQ, #, WheresTheServer, #, DumpNike, #...   \n",
       "1  (#, ConstitutionDay, is, revered, by, Conserva...   \n",
       "2  (#, FOXNews, #, NRA, #, MAGA, #, POTUS, #, TRU...   \n",
       "3  (#, Watching, #, Boomer, getting, the, news, t...   \n",
       "4  (#, NoPasaran, :, Unity, demo, to, oppose, the...   \n",
       "\n",
       "                                              lemmas  length_lemmas  \n",
       "0  [WhoIsQ, wherestheserver, DumpNike, DECLASFISA...             24  \n",
       "1  [ConstitutionDay, revere, conservative, hate, ...              9  \n",
       "2  [foxnew, NRA, MAGA, POTUS, TRUMP, 2ndamendment...             15  \n",
       "3  [watch, Boomer, get, news, parole, make, smile...             10  \n",
       "4  [NoPasaran, unity, demo, oppose, far, right, L...              9  "
      ]
     },
     "execution_count": 36,
     "metadata": {},
     "output_type": "execute_result"
    }
   ],
   "source": [
    "test_a.head()"
   ]
  },
  {
   "cell_type": "code",
   "execution_count": 37,
   "metadata": {
    "collapsed": false,
    "jupyter": {
     "outputs_hidden": false
    },
    "pycharm": {
     "name": "#%%\n"
    }
   },
   "outputs": [
    {
     "data": {
      "text/plain": [
       "860"
      ]
     },
     "execution_count": 37,
     "metadata": {},
     "output_type": "execute_result"
    }
   ],
   "source": [
    "len(test_a)"
   ]
  },
  {
   "cell_type": "code",
   "execution_count": 38,
   "metadata": {
    "collapsed": false,
    "jupyter": {
     "outputs_hidden": false
    },
    "pycharm": {
     "name": "#%%\n"
    }
   },
   "outputs": [],
   "source": [
    "max_length_tweet_test = max(test_a['length_lemmas'])"
   ]
  },
  {
   "cell_type": "code",
   "execution_count": 39,
   "metadata": {
    "collapsed": false,
    "jupyter": {
     "outputs_hidden": false
    },
    "pycharm": {
     "name": "#%%\n"
    }
   },
   "outputs": [
    {
     "data": {
      "text/plain": [
       "40"
      ]
     },
     "execution_count": 39,
     "metadata": {},
     "output_type": "execute_result"
    }
   ],
   "source": [
    "max_length_tweet_test"
   ]
  },
  {
   "cell_type": "code",
   "execution_count": null,
   "metadata": {
    "collapsed": false,
    "jupyter": {
     "outputs_hidden": false
    },
    "pycharm": {
     "name": "#%%\n"
    }
   },
   "outputs": [],
   "source": []
  },
  {
   "cell_type": "markdown",
   "metadata": {
    "pycharm": {
     "name": "#%% md\n"
    }
   },
   "source": [
    "#### Maksymalna długość wektora z lematami z tweetów"
   ]
  },
  {
   "cell_type": "code",
   "execution_count": 40,
   "metadata": {
    "collapsed": false,
    "jupyter": {
     "outputs_hidden": false
    },
    "pycharm": {
     "name": "#%%\n"
    }
   },
   "outputs": [],
   "source": [
    "max_width = max(max_length_tweet, max_length_tweet_test)"
   ]
  },
  {
   "cell_type": "markdown",
   "metadata": {
    "pycharm": {
     "name": "#%% md\n"
    }
   },
   "source": [
    "## Funkcje do przekszałcania danych"
   ]
  },
  {
   "cell_type": "code",
   "execution_count": 41,
   "metadata": {
    "collapsed": false,
    "jupyter": {
     "outputs_hidden": false
    },
    "pycharm": {
     "name": "#%%\n"
    }
   },
   "outputs": [],
   "source": [
    "def convert_words_to_numbers(lemmas_series, dict_ = dict()):\n",
    "    # dict_ = dict()\n",
    "    for row in lemmas_series:\n",
    "        for lemma in row:\n",
    "            if lemma not in dict_:\n",
    "                dict_[lemma] = len(dict_) + 1\n",
    "\n",
    "    return dict_"
   ]
  },
  {
   "cell_type": "code",
   "execution_count": 42,
   "metadata": {
    "collapsed": false,
    "jupyter": {
     "outputs_hidden": false
    },
    "pycharm": {
     "name": "#%%\n"
    }
   },
   "outputs": [],
   "source": [
    "def lemmas_to_numbers(row, max_list_lemmas, dict_):\n",
    "    list_numbers = []\n",
    "    for i in range(max_list_lemmas - len(row)):\n",
    "        list_numbers.append(0)\n",
    "\n",
    "    for lemma in row:\n",
    "        list_numbers.append(dict_[lemma])\n",
    "\n",
    "    array_numbers = np.array(list_numbers, dtype=np.int32)\n",
    "    return array_numbers"
   ]
  },
  {
   "cell_type": "markdown",
   "metadata": {
    "pycharm": {
     "name": "#%% md\n"
    }
   },
   "source": [
    "## Powrót do opracowywania danych treningowych"
   ]
  },
  {
   "cell_type": "code",
   "execution_count": null,
   "metadata": {
    "collapsed": false,
    "jupyter": {
     "outputs_hidden": false
    },
    "pycharm": {
     "name": "#%%\n"
    }
   },
   "outputs": [],
   "source": []
  },
  {
   "cell_type": "code",
   "execution_count": 43,
   "metadata": {
    "collapsed": false,
    "jupyter": {
     "outputs_hidden": false
    },
    "pycharm": {
     "name": "#%%\n"
    }
   },
   "outputs": [],
   "source": [
    "dict_lemmas = convert_words_to_numbers(tweets['lemmas'])"
   ]
  },
  {
   "cell_type": "code",
   "execution_count": 44,
   "metadata": {
    "collapsed": false,
    "jupyter": {
     "outputs_hidden": false
    },
    "pycharm": {
     "name": "#%%\n"
    }
   },
   "outputs": [
    {
     "data": {
      "text/plain": [
       "['$',\n",
       " '&amp',\n",
       " \"'cause\",\n",
       " \"'em\",\n",
       " '(sorry',\n",
       " '*disclaimer',\n",
       " '+',\n",
       " '+15',\n",
       " '+2',\n",
       " '--&gt']"
      ]
     },
     "execution_count": 44,
     "metadata": {},
     "output_type": "execute_result"
    }
   ],
   "source": [
    "sorted(dict_lemmas)[:10]"
   ]
  },
  {
   "cell_type": "code",
   "execution_count": 45,
   "metadata": {
    "collapsed": false,
    "jupyter": {
     "outputs_hidden": false
    },
    "pycharm": {
     "name": "#%%\n"
    }
   },
   "outputs": [],
   "source": [
    "# zamiana lematu na liczbe ze slownika ktory odpowiada danemu slowu\n",
    "tweets['numbers'] = tweets['lemmas'].apply(lambda row : lemmas_to_numbers(row, max_width, dict_lemmas))"
   ]
  },
  {
   "cell_type": "code",
   "execution_count": 46,
   "metadata": {
    "collapsed": false,
    "jupyter": {
     "outputs_hidden": false
    },
    "pycharm": {
     "name": "#%%\n"
    }
   },
   "outputs": [
    {
     "data": {
      "text/plain": [
       "0    [0, 0, 0, 0, 0, 0, 0, 0, 0, 0, 0, 0, 0, 0, 0, ...\n",
       "1    [0, 0, 0, 0, 0, 0, 0, 0, 0, 0, 0, 0, 0, 0, 0, ...\n",
       "2    [0, 0, 0, 0, 0, 0, 0, 0, 0, 0, 0, 0, 0, 0, 0, ...\n",
       "3    [0, 0, 0, 0, 0, 0, 0, 0, 0, 0, 0, 0, 0, 0, 0, ...\n",
       "4    [0, 0, 0, 0, 0, 0, 0, 0, 0, 0, 0, 0, 0, 0, 0, ...\n",
       "Name: numbers, dtype: object"
      ]
     },
     "execution_count": 46,
     "metadata": {},
     "output_type": "execute_result"
    }
   ],
   "source": [
    "tweets['numbers'].head()"
   ]
  },
  {
   "cell_type": "code",
   "execution_count": 47,
   "metadata": {
    "collapsed": false,
    "jupyter": {
     "outputs_hidden": false
    },
    "pycharm": {
     "name": "#%%\n"
    }
   },
   "outputs": [],
   "source": [
    "# przypisywanie X_train kolumny numbers skonwertowanej na tablice numpy\n",
    "X_train = tweets['numbers'].values"
   ]
  },
  {
   "cell_type": "code",
   "execution_count": 48,
   "metadata": {
    "collapsed": false,
    "jupyter": {
     "outputs_hidden": false
    },
    "pycharm": {
     "name": "#%%\n"
    }
   },
   "outputs": [],
   "source": [
    "# łączenie wierszy tablic w jedną tablicę 2D\n",
    "X_train = np.stack(X_train)"
   ]
  },
  {
   "cell_type": "code",
   "execution_count": 49,
   "metadata": {
    "collapsed": false,
    "jupyter": {
     "outputs_hidden": false
    },
    "pycharm": {
     "name": "#%%\n"
    }
   },
   "outputs": [],
   "source": [
    "# konwertowanie tablicy 2d do tensora\n",
    "X_train = torch.FloatTensor(X_train)"
   ]
  },
  {
   "cell_type": "code",
   "execution_count": 50,
   "metadata": {
    "collapsed": false,
    "jupyter": {
     "outputs_hidden": false
    },
    "pycharm": {
     "name": "#%%\n"
    }
   },
   "outputs": [],
   "source": [
    "# ustawianie kolumn z etykietami na poszczególne zadania jako type które przechowują kategorie"
   ]
  },
  {
   "cell_type": "code",
   "execution_count": 51,
   "metadata": {
    "collapsed": false,
    "jupyter": {
     "outputs_hidden": false
    },
    "pycharm": {
     "name": "#%%\n"
    }
   },
   "outputs": [],
   "source": [
    "cat_cols = ['subtask_a', 'subtask_b', 'subtask_c']"
   ]
  },
  {
   "cell_type": "code",
   "execution_count": 52,
   "metadata": {
    "collapsed": false,
    "jupyter": {
     "outputs_hidden": false
    },
    "pycharm": {
     "name": "#%%\n"
    }
   },
   "outputs": [],
   "source": [
    "for col in cat_cols:\n",
    "    tweets[col] = tweets[col].astype('category')"
   ]
  },
  {
   "cell_type": "code",
   "execution_count": 53,
   "metadata": {
    "collapsed": false,
    "jupyter": {
     "outputs_hidden": false
    },
    "pycharm": {
     "name": "#%%\n"
    }
   },
   "outputs": [],
   "source": [
    "tweets['labels_a'] = tweets['subtask_a'].cat.codes"
   ]
  },
  {
   "cell_type": "code",
   "execution_count": 54,
   "metadata": {
    "collapsed": false,
    "jupyter": {
     "outputs_hidden": false
    },
    "pycharm": {
     "name": "#%%\n"
    }
   },
   "outputs": [
    {
     "data": {
      "text/plain": [
       "0    1\n",
       "1    1\n",
       "2    0\n",
       "3    1\n",
       "4    0\n",
       "5    1\n",
       "Name: labels_a, dtype: int8"
      ]
     },
     "execution_count": 54,
     "metadata": {},
     "output_type": "execute_result"
    }
   ],
   "source": [
    "# OFFENSIVE jest jako 1, a NOT OFFENSIVE jest jako 0\n",
    "tweets.loc[:5, 'labels_a']"
   ]
  },
  {
   "cell_type": "code",
   "execution_count": 55,
   "metadata": {
    "collapsed": false,
    "jupyter": {
     "outputs_hidden": false
    },
    "pycharm": {
     "name": "#%%\n"
    }
   },
   "outputs": [
    {
     "data": {
      "text/html": [
       "<div>\n",
       "<style scoped>\n",
       "    .dataframe tbody tr th:only-of-type {\n",
       "        vertical-align: middle;\n",
       "    }\n",
       "\n",
       "    .dataframe tbody tr th {\n",
       "        vertical-align: top;\n",
       "    }\n",
       "\n",
       "    .dataframe thead th {\n",
       "        text-align: right;\n",
       "    }\n",
       "</style>\n",
       "<table border=\"1\" class=\"dataframe\">\n",
       "  <thead>\n",
       "    <tr style=\"text-align: right;\">\n",
       "      <th></th>\n",
       "      <th>id</th>\n",
       "      <th>tweet</th>\n",
       "      <th>subtask_a</th>\n",
       "      <th>subtask_b</th>\n",
       "      <th>subtask_c</th>\n",
       "      <th>tokens</th>\n",
       "      <th>lemmas</th>\n",
       "      <th>length_lemmas</th>\n",
       "      <th>numbers</th>\n",
       "      <th>labels_a</th>\n",
       "    </tr>\n",
       "  </thead>\n",
       "  <tbody>\n",
       "    <tr>\n",
       "      <th>0</th>\n",
       "      <td>86426</td>\n",
       "      <td>@USER She should ask a few native Americans wh...</td>\n",
       "      <td>OFF</td>\n",
       "      <td>UNT</td>\n",
       "      <td>NaN</td>\n",
       "      <td>(@USER, She, should, ask, a, few, native, Amer...</td>\n",
       "      <td>[ask, native, Americans]</td>\n",
       "      <td>3</td>\n",
       "      <td>[0, 0, 0, 0, 0, 0, 0, 0, 0, 0, 0, 0, 0, 0, 0, ...</td>\n",
       "      <td>1</td>\n",
       "    </tr>\n",
       "    <tr>\n",
       "      <th>1</th>\n",
       "      <td>90194</td>\n",
       "      <td>@USER @USER Go home you’re drunk!!! @USER #MAG...</td>\n",
       "      <td>OFF</td>\n",
       "      <td>TIN</td>\n",
       "      <td>IND</td>\n",
       "      <td>(@USER, @USER, Go, home, you, ’re, drunk, !, !...</td>\n",
       "      <td>[home, drunk, MAGA, Trump2020, 👊, 🇺, 🇸, 👊]</td>\n",
       "      <td>8</td>\n",
       "      <td>[0, 0, 0, 0, 0, 0, 0, 0, 0, 0, 0, 0, 0, 0, 0, ...</td>\n",
       "      <td>1</td>\n",
       "    </tr>\n",
       "    <tr>\n",
       "      <th>2</th>\n",
       "      <td>16820</td>\n",
       "      <td>Amazon is investigating Chinese employees who ...</td>\n",
       "      <td>NOT</td>\n",
       "      <td>NaN</td>\n",
       "      <td>NaN</td>\n",
       "      <td>(Amazon, is, investigating, Chinese, employees...</td>\n",
       "      <td>[Amazon, investigate, chinese, employee, sell,...</td>\n",
       "      <td>18</td>\n",
       "      <td>[0, 0, 0, 0, 0, 0, 0, 0, 0, 0, 0, 0, 0, 0, 0, ...</td>\n",
       "      <td>0</td>\n",
       "    </tr>\n",
       "    <tr>\n",
       "      <th>3</th>\n",
       "      <td>62688</td>\n",
       "      <td>@USER Someone should'veTaken\" this piece of sh...</td>\n",
       "      <td>OFF</td>\n",
       "      <td>UNT</td>\n",
       "      <td>NaN</td>\n",
       "      <td>(@USER, Someone, should'veTaken, \", this, piec...</td>\n",
       "      <td>[should'vetaken, piece, shit, volcano, 😂]</td>\n",
       "      <td>5</td>\n",
       "      <td>[0, 0, 0, 0, 0, 0, 0, 0, 0, 0, 0, 0, 0, 0, 0, ...</td>\n",
       "      <td>1</td>\n",
       "    </tr>\n",
       "    <tr>\n",
       "      <th>4</th>\n",
       "      <td>43605</td>\n",
       "      <td>@USER @USER Obama wanted liberals &amp;amp; illega...</td>\n",
       "      <td>NOT</td>\n",
       "      <td>NaN</td>\n",
       "      <td>NaN</td>\n",
       "      <td>(@USER, @USER, Obama, wanted, liberals, &amp;, amp...</td>\n",
       "      <td>[Obama, want, liberal, amp, illegal, red, state]</td>\n",
       "      <td>7</td>\n",
       "      <td>[0, 0, 0, 0, 0, 0, 0, 0, 0, 0, 0, 0, 0, 0, 0, ...</td>\n",
       "      <td>0</td>\n",
       "    </tr>\n",
       "    <tr>\n",
       "      <th>...</th>\n",
       "      <td>...</td>\n",
       "      <td>...</td>\n",
       "      <td>...</td>\n",
       "      <td>...</td>\n",
       "      <td>...</td>\n",
       "      <td>...</td>\n",
       "      <td>...</td>\n",
       "      <td>...</td>\n",
       "      <td>...</td>\n",
       "      <td>...</td>\n",
       "    </tr>\n",
       "    <tr>\n",
       "      <th>13235</th>\n",
       "      <td>95338</td>\n",
       "      <td>@USER Sometimes I get strong vibes from people...</td>\n",
       "      <td>OFF</td>\n",
       "      <td>TIN</td>\n",
       "      <td>IND</td>\n",
       "      <td>(@USER, Sometimes, I, get, strong, vibes, from...</td>\n",
       "      <td>[strong, vibe, people, man, vibe, ten, million...</td>\n",
       "      <td>10</td>\n",
       "      <td>[0, 0, 0, 0, 0, 0, 0, 0, 0, 0, 0, 0, 0, 0, 0, ...</td>\n",
       "      <td>1</td>\n",
       "    </tr>\n",
       "    <tr>\n",
       "      <th>13236</th>\n",
       "      <td>67210</td>\n",
       "      <td>Benidorm ✅  Creamfields ✅  Maga ✅   Not too sh...</td>\n",
       "      <td>NOT</td>\n",
       "      <td>NaN</td>\n",
       "      <td>NaN</td>\n",
       "      <td>(Benidorm, ✅,  , Creamfields, ✅,  , Maga, ✅,  ...</td>\n",
       "      <td>[benidorm, ✅, creamfield, ✅, Maga, ✅, shabby, ...</td>\n",
       "      <td>8</td>\n",
       "      <td>[0, 0, 0, 0, 0, 0, 0, 0, 0, 0, 0, 0, 0, 0, 0, ...</td>\n",
       "      <td>0</td>\n",
       "    </tr>\n",
       "    <tr>\n",
       "      <th>13237</th>\n",
       "      <td>82921</td>\n",
       "      <td>@USER And why report this garbage.  We don't g...</td>\n",
       "      <td>OFF</td>\n",
       "      <td>TIN</td>\n",
       "      <td>OTH</td>\n",
       "      <td>(@USER, And, why, report, this, garbage, .,  ,...</td>\n",
       "      <td>[report, garbage, crap]</td>\n",
       "      <td>3</td>\n",
       "      <td>[0, 0, 0, 0, 0, 0, 0, 0, 0, 0, 0, 0, 0, 0, 0, ...</td>\n",
       "      <td>1</td>\n",
       "    </tr>\n",
       "    <tr>\n",
       "      <th>13238</th>\n",
       "      <td>27429</td>\n",
       "      <td>@USER Pussy</td>\n",
       "      <td>OFF</td>\n",
       "      <td>UNT</td>\n",
       "      <td>NaN</td>\n",
       "      <td>(@USER, Pussy)</td>\n",
       "      <td>[Pussy]</td>\n",
       "      <td>1</td>\n",
       "      <td>[0, 0, 0, 0, 0, 0, 0, 0, 0, 0, 0, 0, 0, 0, 0, ...</td>\n",
       "      <td>1</td>\n",
       "    </tr>\n",
       "    <tr>\n",
       "      <th>13239</th>\n",
       "      <td>46552</td>\n",
       "      <td>#Spanishrevenge vs. #justice #HumanRights and ...</td>\n",
       "      <td>NOT</td>\n",
       "      <td>NaN</td>\n",
       "      <td>NaN</td>\n",
       "      <td>(#, Spanishrevenge, vs., #, justice, #, HumanR...</td>\n",
       "      <td>[Spanishrevenge, vs., justice, HumanRights, fr...</td>\n",
       "      <td>10</td>\n",
       "      <td>[0, 0, 0, 0, 0, 0, 0, 0, 0, 0, 0, 0, 0, 0, 0, ...</td>\n",
       "      <td>0</td>\n",
       "    </tr>\n",
       "  </tbody>\n",
       "</table>\n",
       "<p>13240 rows × 10 columns</p>\n",
       "</div>"
      ],
      "text/plain": [
       "          id                                              tweet subtask_a  \\\n",
       "0      86426  @USER She should ask a few native Americans wh...       OFF   \n",
       "1      90194  @USER @USER Go home you’re drunk!!! @USER #MAG...       OFF   \n",
       "2      16820  Amazon is investigating Chinese employees who ...       NOT   \n",
       "3      62688  @USER Someone should'veTaken\" this piece of sh...       OFF   \n",
       "4      43605  @USER @USER Obama wanted liberals &amp; illega...       NOT   \n",
       "...      ...                                                ...       ...   \n",
       "13235  95338  @USER Sometimes I get strong vibes from people...       OFF   \n",
       "13236  67210  Benidorm ✅  Creamfields ✅  Maga ✅   Not too sh...       NOT   \n",
       "13237  82921  @USER And why report this garbage.  We don't g...       OFF   \n",
       "13238  27429                                        @USER Pussy       OFF   \n",
       "13239  46552  #Spanishrevenge vs. #justice #HumanRights and ...       NOT   \n",
       "\n",
       "      subtask_b subtask_c                                             tokens  \\\n",
       "0           UNT       NaN  (@USER, She, should, ask, a, few, native, Amer...   \n",
       "1           TIN       IND  (@USER, @USER, Go, home, you, ’re, drunk, !, !...   \n",
       "2           NaN       NaN  (Amazon, is, investigating, Chinese, employees...   \n",
       "3           UNT       NaN  (@USER, Someone, should'veTaken, \", this, piec...   \n",
       "4           NaN       NaN  (@USER, @USER, Obama, wanted, liberals, &, amp...   \n",
       "...         ...       ...                                                ...   \n",
       "13235       TIN       IND  (@USER, Sometimes, I, get, strong, vibes, from...   \n",
       "13236       NaN       NaN  (Benidorm, ✅,  , Creamfields, ✅,  , Maga, ✅,  ...   \n",
       "13237       TIN       OTH  (@USER, And, why, report, this, garbage, .,  ,...   \n",
       "13238       UNT       NaN                                     (@USER, Pussy)   \n",
       "13239       NaN       NaN  (#, Spanishrevenge, vs., #, justice, #, HumanR...   \n",
       "\n",
       "                                                  lemmas  length_lemmas  \\\n",
       "0                               [ask, native, Americans]              3   \n",
       "1             [home, drunk, MAGA, Trump2020, 👊, 🇺, 🇸, 👊]              8   \n",
       "2      [Amazon, investigate, chinese, employee, sell,...             18   \n",
       "3              [should'vetaken, piece, shit, volcano, 😂]              5   \n",
       "4       [Obama, want, liberal, amp, illegal, red, state]              7   \n",
       "...                                                  ...            ...   \n",
       "13235  [strong, vibe, people, man, vibe, ten, million...             10   \n",
       "13236  [benidorm, ✅, creamfield, ✅, Maga, ✅, shabby, ...              8   \n",
       "13237                            [report, garbage, crap]              3   \n",
       "13238                                            [Pussy]              1   \n",
       "13239  [Spanishrevenge, vs., justice, HumanRights, fr...             10   \n",
       "\n",
       "                                                 numbers  labels_a  \n",
       "0      [0, 0, 0, 0, 0, 0, 0, 0, 0, 0, 0, 0, 0, 0, 0, ...         1  \n",
       "1      [0, 0, 0, 0, 0, 0, 0, 0, 0, 0, 0, 0, 0, 0, 0, ...         1  \n",
       "2      [0, 0, 0, 0, 0, 0, 0, 0, 0, 0, 0, 0, 0, 0, 0, ...         0  \n",
       "3      [0, 0, 0, 0, 0, 0, 0, 0, 0, 0, 0, 0, 0, 0, 0, ...         1  \n",
       "4      [0, 0, 0, 0, 0, 0, 0, 0, 0, 0, 0, 0, 0, 0, 0, ...         0  \n",
       "...                                                  ...       ...  \n",
       "13235  [0, 0, 0, 0, 0, 0, 0, 0, 0, 0, 0, 0, 0, 0, 0, ...         1  \n",
       "13236  [0, 0, 0, 0, 0, 0, 0, 0, 0, 0, 0, 0, 0, 0, 0, ...         0  \n",
       "13237  [0, 0, 0, 0, 0, 0, 0, 0, 0, 0, 0, 0, 0, 0, 0, ...         1  \n",
       "13238  [0, 0, 0, 0, 0, 0, 0, 0, 0, 0, 0, 0, 0, 0, 0, ...         1  \n",
       "13239  [0, 0, 0, 0, 0, 0, 0, 0, 0, 0, 0, 0, 0, 0, 0, ...         0  \n",
       "\n",
       "[13240 rows x 10 columns]"
      ]
     },
     "execution_count": 55,
     "metadata": {},
     "output_type": "execute_result"
    }
   ],
   "source": [
    "tweets"
   ]
  },
  {
   "cell_type": "code",
   "execution_count": 56,
   "metadata": {
    "collapsed": false,
    "jupyter": {
     "outputs_hidden": false
    },
    "pycharm": {
     "name": "#%%\n"
    }
   },
   "outputs": [
    {
     "data": {
      "text/plain": [
       "id                                                           86426\n",
       "tweet            @USER She should ask a few native Americans wh...\n",
       "subtask_a                                                      OFF\n",
       "subtask_b                                                      UNT\n",
       "subtask_c                                                      NaN\n",
       "tokens           (@USER, She, should, ask, a, few, native, Amer...\n",
       "lemmas                                    [ask, native, Americans]\n",
       "length_lemmas                                                    3\n",
       "numbers          [0, 0, 0, 0, 0, 0, 0, 0, 0, 0, 0, 0, 0, 0, 0, ...\n",
       "labels_a                                                         1\n",
       "Name: 0, dtype: object"
      ]
     },
     "execution_count": 56,
     "metadata": {},
     "output_type": "execute_result"
    }
   ],
   "source": [
    "tweets.iloc[0]"
   ]
  },
  {
   "cell_type": "code",
   "execution_count": 57,
   "metadata": {
    "collapsed": false,
    "jupyter": {
     "outputs_hidden": false
    },
    "pycharm": {
     "name": "#%%\n"
    }
   },
   "outputs": [],
   "source": [
    "y_train = tweets['labels_a'].values"
   ]
  },
  {
   "cell_type": "code",
   "execution_count": 58,
   "metadata": {
    "collapsed": false,
    "jupyter": {
     "outputs_hidden": false
    },
    "pycharm": {
     "name": "#%%\n"
    }
   },
   "outputs": [],
   "source": [
    "y_train = torch.tensor(y_train).reshape(-1,1)"
   ]
  },
  {
   "cell_type": "code",
   "execution_count": 59,
   "metadata": {
    "collapsed": false,
    "jupyter": {
     "outputs_hidden": false
    },
    "pycharm": {
     "name": "#%%\n"
    }
   },
   "outputs": [
    {
     "data": {
      "text/plain": [
       "tensor([[1],\n",
       "        [1],\n",
       "        [0],\n",
       "        [1],\n",
       "        [0]], dtype=torch.int8)"
      ]
     },
     "execution_count": 59,
     "metadata": {},
     "output_type": "execute_result"
    }
   ],
   "source": [
    "y_train[:5]"
   ]
  },
  {
   "cell_type": "code",
   "execution_count": 60,
   "metadata": {
    "collapsed": false,
    "jupyter": {
     "outputs_hidden": false
    },
    "pycharm": {
     "name": "#%%\n"
    }
   },
   "outputs": [],
   "source": [
    "data = torch.cat((X_train, y_train), axis=1)"
   ]
  },
  {
   "cell_type": "code",
   "execution_count": 61,
   "metadata": {
    "collapsed": false,
    "jupyter": {
     "outputs_hidden": false
    },
    "pycharm": {
     "name": "#%%\n"
    }
   },
   "outputs": [],
   "source": [
    "data = data.to(device)"
   ]
  },
  {
   "cell_type": "code",
   "execution_count": null,
   "metadata": {
    "collapsed": false,
    "jupyter": {
     "outputs_hidden": false
    },
    "pycharm": {
     "name": "#%%\n"
    }
   },
   "outputs": [],
   "source": [
    "\n"
   ]
  },
  {
   "cell_type": "markdown",
   "metadata": {
    "pycharm": {
     "name": "#%% md\n"
    }
   },
   "source": [
    "## Opracowywanie danych testowych"
   ]
  },
  {
   "cell_type": "code",
   "execution_count": 62,
   "metadata": {
    "collapsed": false,
    "jupyter": {
     "outputs_hidden": false
    },
    "pycharm": {
     "name": "#%%\n"
    }
   },
   "outputs": [],
   "source": [
    "dict_lemmas = convert_words_to_numbers(test_a['lemmas'], dict_lemmas)"
   ]
  },
  {
   "cell_type": "code",
   "execution_count": 63,
   "metadata": {
    "collapsed": false,
    "jupyter": {
     "outputs_hidden": false
    },
    "pycharm": {
     "name": "#%%\n"
    }
   },
   "outputs": [
    {
     "data": {
      "text/plain": [
       "['$',\n",
       " '&amp',\n",
       " \"'cause\",\n",
       " \"'em\",\n",
       " '(sorry',\n",
       " '*disclaimer',\n",
       " '+',\n",
       " '+15',\n",
       " '+2',\n",
       " '--&gt']"
      ]
     },
     "execution_count": 63,
     "metadata": {},
     "output_type": "execute_result"
    }
   ],
   "source": [
    "sorted(dict_lemmas)[:10]"
   ]
  },
  {
   "cell_type": "code",
   "execution_count": 64,
   "metadata": {
    "collapsed": false,
    "jupyter": {
     "outputs_hidden": false
    },
    "pycharm": {
     "name": "#%%\n"
    }
   },
   "outputs": [],
   "source": [
    "# zamiana lematu na liczbe ze slownika ktory odpowiada danemu slowu\n",
    "test_a['numbers'] = test_a['lemmas'].apply(lambda row : lemmas_to_numbers(row, max_width, dict_lemmas))"
   ]
  },
  {
   "cell_type": "code",
   "execution_count": 65,
   "metadata": {
    "collapsed": false,
    "jupyter": {
     "outputs_hidden": false
    },
    "pycharm": {
     "name": "#%%\n"
    }
   },
   "outputs": [
    {
     "data": {
      "text/plain": [
       "0    [WhoIsQ, wherestheserver, DumpNike, DECLASFISA...\n",
       "1    [ConstitutionDay, revere, conservative, hate, ...\n",
       "2    [foxnew, NRA, MAGA, POTUS, TRUMP, 2ndamendment...\n",
       "3    [watch, Boomer, get, news, parole, make, smile...\n",
       "4    [NoPasaran, unity, demo, oppose, far, right, L...\n",
       "Name: lemmas, dtype: object"
      ]
     },
     "execution_count": 65,
     "metadata": {},
     "output_type": "execute_result"
    }
   ],
   "source": [
    "test_a['lemmas'].head()"
   ]
  },
  {
   "cell_type": "code",
   "execution_count": 66,
   "metadata": {
    "collapsed": false,
    "jupyter": {
     "outputs_hidden": false
    },
    "pycharm": {
     "name": "#%%\n"
    }
   },
   "outputs": [
    {
     "data": {
      "text/plain": [
       "0    [0, 0, 0, 0, 0, 0, 0, 0, 0, 0, 0, 0, 0, 0, 0, ...\n",
       "1    [0, 0, 0, 0, 0, 0, 0, 0, 0, 0, 0, 0, 0, 0, 0, ...\n",
       "2    [0, 0, 0, 0, 0, 0, 0, 0, 0, 0, 0, 0, 0, 0, 0, ...\n",
       "3    [0, 0, 0, 0, 0, 0, 0, 0, 0, 0, 0, 0, 0, 0, 0, ...\n",
       "4    [0, 0, 0, 0, 0, 0, 0, 0, 0, 0, 0, 0, 0, 0, 0, ...\n",
       "5    [0, 0, 0, 0, 0, 0, 0, 0, 0, 0, 0, 0, 0, 0, 0, ...\n",
       "Name: numbers, dtype: object"
      ]
     },
     "execution_count": 66,
     "metadata": {},
     "output_type": "execute_result"
    }
   ],
   "source": [
    "test_a.loc[:5, 'numbers']"
   ]
  },
  {
   "cell_type": "code",
   "execution_count": null,
   "metadata": {
    "collapsed": false,
    "jupyter": {
     "outputs_hidden": false
    },
    "pycharm": {
     "name": "#%%\n"
    }
   },
   "outputs": [],
   "source": []
  },
  {
   "cell_type": "markdown",
   "metadata": {
    "pycharm": {
     "name": "#%% md\n"
    }
   },
   "source": [
    "### Robienie tego samego procesu co wcześniej dla danych testowych\n"
   ]
  },
  {
   "cell_type": "code",
   "execution_count": 67,
   "metadata": {
    "collapsed": false,
    "jupyter": {
     "outputs_hidden": false
    },
    "pycharm": {
     "name": "#%%\n"
    }
   },
   "outputs": [],
   "source": [
    "X_test = test_a['numbers'].values\n"
   ]
  },
  {
   "cell_type": "code",
   "execution_count": 68,
   "metadata": {
    "collapsed": false,
    "jupyter": {
     "outputs_hidden": false
    },
    "pycharm": {
     "name": "#%%\n"
    }
   },
   "outputs": [],
   "source": [
    "X_test = np.stack(X_test)"
   ]
  },
  {
   "cell_type": "code",
   "execution_count": 69,
   "metadata": {
    "collapsed": false,
    "jupyter": {
     "outputs_hidden": false
    },
    "pycharm": {
     "name": "#%%\n"
    }
   },
   "outputs": [],
   "source": [
    "X_test = torch.FloatTensor(X_test)"
   ]
  },
  {
   "cell_type": "code",
   "execution_count": 70,
   "metadata": {
    "collapsed": false,
    "jupyter": {
     "outputs_hidden": false
    },
    "pycharm": {
     "name": "#%%\n"
    }
   },
   "outputs": [],
   "source": [
    "# cat_cols = ['subtask_a', 'subtask_b', 'subtask_c']\n",
    "# for col in cat_cols:\n",
    "#     X_test[col] = X_test[col].astype('category')"
   ]
  },
  {
   "cell_type": "code",
   "execution_count": 71,
   "metadata": {
    "collapsed": false,
    "jupyter": {
     "outputs_hidden": false
    },
    "pycharm": {
     "name": "#%%\n"
    }
   },
   "outputs": [],
   "source": [
    "test_a['subtask_a'] = test_a['subtask_a'].astype('category')"
   ]
  },
  {
   "cell_type": "code",
   "execution_count": 72,
   "metadata": {
    "collapsed": false,
    "jupyter": {
     "outputs_hidden": false
    },
    "pycharm": {
     "name": "#%%\n"
    }
   },
   "outputs": [],
   "source": [
    "test_a['labels_a'] = test_a['subtask_a'].cat.codes"
   ]
  },
  {
   "cell_type": "code",
   "execution_count": 73,
   "metadata": {
    "collapsed": false,
    "jupyter": {
     "outputs_hidden": false
    },
    "pycharm": {
     "name": "#%%\n"
    }
   },
   "outputs": [
    {
     "data": {
      "text/plain": [
       "0    1\n",
       "1    0\n",
       "2    0\n",
       "3    0\n",
       "4    1\n",
       "5    1\n",
       "Name: labels_a, dtype: int8"
      ]
     },
     "execution_count": 73,
     "metadata": {},
     "output_type": "execute_result"
    }
   ],
   "source": [
    "# OFFENSIVE jest jako 1, a NOT OFFENSIVE jest jako 0\n",
    "test_a.loc[:5, 'labels_a']"
   ]
  },
  {
   "cell_type": "markdown",
   "metadata": {},
   "source": []
  },
  {
   "cell_type": "code",
   "execution_count": 74,
   "metadata": {
    "collapsed": false,
    "jupyter": {
     "outputs_hidden": false
    },
    "pycharm": {
     "name": "#%%\n"
    }
   },
   "outputs": [],
   "source": [
    "y_test = test_a['labels_a'].values"
   ]
  },
  {
   "cell_type": "code",
   "execution_count": 75,
   "metadata": {
    "collapsed": false,
    "jupyter": {
     "outputs_hidden": false
    },
    "pycharm": {
     "name": "#%%\n"
    }
   },
   "outputs": [],
   "source": [
    "y_test = torch.tensor(y_test).reshape(-1,1)"
   ]
  },
  {
   "cell_type": "code",
   "execution_count": 76,
   "metadata": {
    "collapsed": false,
    "jupyter": {
     "outputs_hidden": false
    },
    "pycharm": {
     "name": "#%%\n"
    }
   },
   "outputs": [
    {
     "data": {
      "text/plain": [
       "tensor([[1],\n",
       "        [0],\n",
       "        [0],\n",
       "        [0],\n",
       "        [1]], dtype=torch.int8)"
      ]
     },
     "execution_count": 76,
     "metadata": {},
     "output_type": "execute_result"
    }
   ],
   "source": [
    "y_test[:5]"
   ]
  },
  {
   "cell_type": "code",
   "execution_count": 77,
   "metadata": {
    "collapsed": false,
    "jupyter": {
     "outputs_hidden": false
    },
    "pycharm": {
     "name": "#%%\n"
    }
   },
   "outputs": [],
   "source": [
    "data_test_a = torch.cat((X_test, y_test), axis=1)"
   ]
  },
  {
   "cell_type": "code",
   "execution_count": 78,
   "metadata": {
    "collapsed": false,
    "jupyter": {
     "outputs_hidden": false
    },
    "pycharm": {
     "name": "#%%\n"
    }
   },
   "outputs": [],
   "source": [
    "data_test_a = data_test_a.to(device)"
   ]
  },
  {
   "cell_type": "markdown",
   "metadata": {
    "pycharm": {
     "name": "#%% md\n"
    }
   },
   "source": [
    "## Generowanie embedingów na podstawie embedingów ze spacy"
   ]
  },
  {
   "cell_type": "code",
   "execution_count": 93,
   "metadata": {
    "collapsed": false,
    "jupyter": {
     "outputs_hidden": false
    },
    "pycharm": {
     "name": "#%%\n"
    }
   },
   "outputs": [],
   "source": [
    "embeddings = []"
   ]
  },
  {
   "cell_type": "code",
   "execution_count": 94,
   "metadata": {
    "collapsed": false,
    "jupyter": {
     "outputs_hidden": false
    },
    "pycharm": {
     "name": "#%%\n"
    }
   },
   "outputs": [],
   "source": [
    "embeddings.append(np.zeros(96))"
   ]
  },
  {
   "cell_type": "code",
   "execution_count": 96,
   "metadata": {
    "collapsed": false,
    "jupyter": {
     "outputs_hidden": false
    },
    "pycharm": {
     "name": "#%%\n"
    }
   },
   "outputs": [],
   "source": [
    "for key, value in dict_lemmas.items():\n",
    "    embeddings.append(nlp(key)[0].vector)\n",
    "    # print(key)"
   ]
  },
  {
   "cell_type": "code",
   "execution_count": 97,
   "metadata": {
    "collapsed": false,
    "jupyter": {
     "outputs_hidden": false
    },
    "pycharm": {
     "name": "#%%\n"
    }
   },
   "outputs": [],
   "source": [
    "# embeddings"
   ]
  },
  {
   "cell_type": "code",
   "execution_count": 98,
   "metadata": {
    "collapsed": false,
    "jupyter": {
     "outputs_hidden": false
    },
    "pycharm": {
     "name": "#%%\n"
    }
   },
   "outputs": [
    {
     "data": {
      "text/plain": [
       "21584"
      ]
     },
     "execution_count": 98,
     "metadata": {},
     "output_type": "execute_result"
    }
   ],
   "source": [
    "len(dict_lemmas)"
   ]
  },
  {
   "cell_type": "code",
   "execution_count": 99,
   "metadata": {
    "collapsed": false,
    "jupyter": {
     "outputs_hidden": false
    },
    "pycharm": {
     "name": "#%%\n"
    }
   },
   "outputs": [],
   "source": [
    "dict_lemmas_inverted = {v: k for k, v in dict_lemmas.items()}"
   ]
  },
  {
   "cell_type": "code",
   "execution_count": 100,
   "metadata": {
    "collapsed": false,
    "jupyter": {
     "outputs_hidden": false
    },
    "pycharm": {
     "name": "#%%\n"
    }
   },
   "outputs": [],
   "source": [
    "# dict_lemmas_inverted"
   ]
  },
  {
   "cell_type": "code",
   "execution_count": 101,
   "metadata": {
    "collapsed": false,
    "jupyter": {
     "outputs_hidden": false
    },
    "pycharm": {
     "name": "#%%\n"
    }
   },
   "outputs": [
    {
     "name": "stdout",
     "output_type": "stream",
     "text": [
      "finished\n"
     ]
    }
   ],
   "source": [
    "# sprawdzanie embeddingów - czy się dobrze zapisały\n",
    "for key, value in dict_lemmas.items():\n",
    "    comparison = embeddings[value] == nlp(key)[0].vector\n",
    "    if comparison.all() == False:\n",
    "        print('false')\n",
    "\n",
    "print('finished')\n"
   ]
  },
  {
   "cell_type": "code",
   "execution_count": 118,
   "metadata": {
    "collapsed": false,
    "jupyter": {
     "outputs_hidden": false
    },
    "pycharm": {
     "name": "#%%\n"
    }
   },
   "outputs": [
    {
     "data": {
      "text/plain": [
       "array([-0.676073  ,  0.09062457, -0.19625556,  0.9512366 ,  0.7504209 ,\n",
       "        1.1548312 ,  1.0129769 , -0.8388504 , -1.1186899 ,  0.71350086,\n",
       "       -0.4241021 , -0.30965236,  0.12993638, -0.2392391 , -1.0840138 ,\n",
       "        0.61949897,  0.04032705, -0.10979578, -1.0923057 , -0.11414534,\n",
       "       -0.20071098,  0.01481187, -0.4070547 , -0.3393178 , -0.19887975,\n",
       "       -0.00512362, -0.44030216, -0.26272678, -0.51703787,  0.02113847,\n",
       "       -0.84284085, -0.33209977,  0.92871165, -0.4222517 ,  0.4632333 ,\n",
       "       -0.5070641 ,  1.0883812 ,  0.53153765, -0.6991434 , -0.24793866,\n",
       "        0.2177751 ,  0.76133025, -0.2888482 ,  1.6803848 ,  1.1069292 ,\n",
       "       -0.44316196,  0.4076068 , -0.2660989 , -0.54845977, -0.55120814,\n",
       "        0.23734902,  0.02351934,  0.45318043,  0.856611  ,  0.29240057,\n",
       "       -1.0060917 ,  1.32265   , -1.1334491 ,  0.20376281, -0.6440315 ,\n",
       "        0.41097862,  0.3831125 ,  1.1056539 , -0.34738913,  0.60588783,\n",
       "       -0.09251603, -0.41251144, -0.6224398 ,  0.683713  ,  0.34403592,\n",
       "       -0.16671339, -0.6788694 , -0.04922862, -0.5299547 , -0.25115994,\n",
       "        0.7615716 ,  0.00928873,  0.22849807, -0.3107491 , -0.42255074,\n",
       "        0.11905795, -0.03290644,  0.1583575 ,  1.0251714 , -0.8566352 ,\n",
       "        0.17710371,  0.2147669 , -1.0185226 ,  0.522235  ,  0.09653302,\n",
       "       -0.3551365 ,  0.5546729 , -0.36672962, -0.2642688 , -0.8536765 ,\n",
       "       -0.2873654 ], dtype=float32)"
      ]
     },
     "execution_count": 118,
     "metadata": {},
     "output_type": "execute_result"
    }
   ],
   "source": [
    "embeddings[1]"
   ]
  },
  {
   "cell_type": "code",
   "execution_count": 120,
   "metadata": {
    "collapsed": false,
    "jupyter": {
     "outputs_hidden": false
    },
    "pycharm": {
     "name": "#%%\n"
    }
   },
   "outputs": [],
   "source": [
    "emb_torch = torch.tensor(embeddings, dtype=torch.float32, device=device)"
   ]
  },
  {
   "cell_type": "code",
   "execution_count": null,
   "metadata": {},
   "outputs": [],
   "source": []
  },
  {
   "cell_type": "code",
   "execution_count": 104,
   "metadata": {
    "collapsed": false,
    "jupyter": {
     "outputs_hidden": false
    },
    "pycharm": {
     "name": "#%%\n"
    }
   },
   "outputs": [
    {
     "data": {
      "text/plain": [
       "torch.Size([21585, 96])"
      ]
     },
     "execution_count": 104,
     "metadata": {},
     "output_type": "execute_result"
    }
   ],
   "source": [
    "emb_torch.shape"
   ]
  },
  {
   "cell_type": "markdown",
   "metadata": {},
   "source": [
    "## Definiowanie modelu"
   ]
  },
  {
   "cell_type": "code",
   "execution_count": 237,
   "metadata": {
    "collapsed": false,
    "jupyter": {
     "outputs_hidden": false
    },
    "pycharm": {
     "name": "#%%\n"
    }
   },
   "outputs": [],
   "source": [
    "class Model(nn.Module):\n",
    "    def __init__(self, emb_vectors, in_features=18, h1=80, h2=50, h3=None, embedding_dim=None, out_features=1):\n",
    "        super().__init__()\n",
    "\n",
    "        # warstwa embeddingów\n",
    "        self.embedding = nn.Embedding.from_pretrained(emb_vectors)\n",
    "\n",
    "        # self.embedding = nn.Embedding(vocab_size, embedding_dim)\n",
    "\n",
    "        # dropout layer - losowe pomijanie uczenia się pewnych neuronów\n",
    "        self.dropout = nn.Dropout(0.3)\n",
    "\n",
    "        self.fc1 = nn.Linear(embedding_dim * in_features, h1)\n",
    "        self.fc2 = nn.Linear(h1, h2)\n",
    "        if h3 is None:\n",
    "            self.out = nn.Linear(h2, out_features)\n",
    "        # self.sig = nn.Sigmoid()\n",
    "        else:\n",
    "            self.fc3 = nn.Linear(h2, h3)\n",
    "            self.out = nn.Linear(h3, out_features)\n",
    "\n",
    "\n",
    "    def forward(self, x):\n",
    "        # print(x.shape)\n",
    "        x = x.long()\n",
    "        # print(x.shape)\n",
    "        embeds = self.embedding(x)\n",
    "        \n",
    "        # print(embeds.shape)\n",
    "        embeds = embeds.view(embeds.shape[0], -1)\n",
    "        # print(embeds.shape)\n",
    "        x = torch.sigmoid(self.fc1(embeds))\n",
    "        \n",
    "        x = self.dropout(x)\n",
    "        \n",
    "        # x = self.dropout(x)\n",
    "\n",
    "        x = torch.sigmoid(self.fc2(x))\n",
    "        x = self.dropout(x)\n",
    "\n",
    "        if h3 is not None:\n",
    "            x = torch.sigmoid(self.fc3(x))\n",
    "            x = self.dropout(x)\n",
    "        x = torch.sigmoid(self.out(x))\n",
    "\n",
    "        return x"
   ]
  },
  {
   "cell_type": "markdown",
   "metadata": {},
   "source": [
    "## Ustawnia modelu i sieci"
   ]
  },
  {
   "cell_type": "code",
   "execution_count": 238,
   "metadata": {
    "collapsed": false,
    "jupyter": {
     "outputs_hidden": false
    },
    "pycharm": {
     "is_executing": true,
     "name": "#%%\n"
    }
   },
   "outputs": [
    {
     "name": "stdout",
     "output_type": "stream",
     "text": [
      "max width: 73\n"
     ]
    }
   ],
   "source": [
    "print('max width: 73')"
   ]
  },
  {
   "cell_type": "code",
   "execution_count": 474,
   "metadata": {
    "collapsed": false,
    "jupyter": {
     "outputs_hidden": false
    },
    "pycharm": {
     "name": "#%%\n"
    }
   },
   "outputs": [],
   "source": [
    "epochs = 100\n",
    "learning_rate = 0.001\n",
    "batch_size = 500\n",
    "vocab_size = len(dict_lemmas) + 1\n",
    "embedding_dim = emb_torch.shape[1]\n",
    "h1 = 100\n",
    "h2 = 100\n",
    "h3 = 100\n"
   ]
  },
  {
   "cell_type": "code",
   "execution_count": 475,
   "metadata": {
    "collapsed": false,
    "jupyter": {
     "outputs_hidden": false
    },
    "pycharm": {
     "name": "#%%\n"
    }
   },
   "outputs": [],
   "source": [
    "train_dataset_loader = torch.utils.data.DataLoader(data, batch_size=batch_size, shuffle=True)\n",
    "test_dataset_loader_a = torch.utils.data.DataLoader(data_test_a, batch_size=batch_size, shuffle=True)"
   ]
  },
  {
   "cell_type": "markdown",
   "metadata": {
    "pycharm": {
     "name": "#%% md\n"
    }
   },
   "source": [
    "## Tworzenie instancji modelu\n",
    "Ustawianie funkcji straty i optymalizatora"
   ]
  },
  {
   "cell_type": "code",
   "execution_count": 476,
   "metadata": {
    "collapsed": false,
    "jupyter": {
     "outputs_hidden": false
    },
    "pycharm": {
     "name": "#%%\n"
    }
   },
   "outputs": [],
   "source": [
    "# tworzenie numpy array z listy liczb (odpowiadających lematom)"
   ]
  },
  {
   "cell_type": "code",
   "execution_count": 477,
   "metadata": {
    "collapsed": false,
    "jupyter": {
     "outputs_hidden": false
    },
    "pycharm": {
     "name": "#%%\n"
    }
   },
   "outputs": [
    {
     "data": {
      "text/plain": [
       "73"
      ]
     },
     "execution_count": 477,
     "metadata": {},
     "output_type": "execute_result"
    }
   ],
   "source": [
    "max_width"
   ]
  },
  {
   "cell_type": "code",
   "execution_count": 478,
   "metadata": {
    "collapsed": false,
    "jupyter": {
     "outputs_hidden": false
    },
    "pycharm": {
     "name": "#%%\n"
    }
   },
   "outputs": [],
   "source": [
    "torch.manual_seed(32)\n",
    "model = Model(emb_torch, max_width, h1, h2, h3, embedding_dim)"
   ]
  },
  {
   "cell_type": "code",
   "execution_count": 479,
   "metadata": {
    "collapsed": false,
    "jupyter": {
     "outputs_hidden": false
    },
    "pycharm": {
     "name": "#%%\n"
    }
   },
   "outputs": [],
   "source": [
    "model = model.to(device)"
   ]
  },
  {
   "cell_type": "code",
   "execution_count": 480,
   "metadata": {
    "collapsed": false,
    "jupyter": {
     "outputs_hidden": false
    },
    "pycharm": {
     "name": "#%%\n"
    }
   },
   "outputs": [],
   "source": [
    "criterion = nn.BCELoss()\n",
    "optimizer = torch.optim.Adam(model.parameters(), lr=learning_rate)"
   ]
  },
  {
   "cell_type": "code",
   "execution_count": 481,
   "metadata": {
    "collapsed": false,
    "jupyter": {
     "outputs_hidden": false
    },
    "pycharm": {
     "name": "#%%\n"
    }
   },
   "outputs": [
    {
     "data": {
      "text/plain": [
       "Model(\n",
       "  (embedding): Embedding(21585, 96)\n",
       "  (dropout): Dropout(p=0.3, inplace=False)\n",
       "  (fc1): Linear(in_features=7008, out_features=100, bias=True)\n",
       "  (fc2): Linear(in_features=100, out_features=100, bias=True)\n",
       "  (fc3): Linear(in_features=100, out_features=100, bias=True)\n",
       "  (out): Linear(in_features=100, out_features=1, bias=True)\n",
       ")"
      ]
     },
     "execution_count": 481,
     "metadata": {},
     "output_type": "execute_result"
    }
   ],
   "source": [
    "model"
   ]
  },
  {
   "cell_type": "markdown",
   "metadata": {
    "pycharm": {
     "name": "#%% md\n"
    }
   },
   "source": [
    "### Ustawianie nauki sieci i samo uczenie się"
   ]
  },
  {
   "cell_type": "code",
   "execution_count": 482,
   "metadata": {
    "collapsed": false,
    "jupyter": {
     "outputs_hidden": false
    },
    "pycharm": {
     "name": "#%%\n"
    }
   },
   "outputs": [],
   "source": [
    "losses = []\n",
    "losses_test = []\n",
    "accuracy = []\n",
    "accuracy_test = []\n",
    "train_count = len(tweets)\n",
    "test_count_a = len(test_a)"
   ]
  },
  {
   "cell_type": "code",
   "execution_count": 483,
   "metadata": {
    "collapsed": false,
    "jupyter": {
     "outputs_hidden": false
    },
    "pycharm": {
     "name": "#%%\n"
    }
   },
   "outputs": [
    {
     "name": "stdout",
     "output_type": "stream",
     "text": [
      "Loss on the first batch: 0.6777004599571228\n",
      "Loss on the first batch on test data: 0.6072809100151062\n",
      "torch.Size([])\n",
      " epoch: 0 | loss: 0.001312379030302572 | predicted: 8789 | accuracy: 66.38217163085938 | test loss: 0.0014148222845654155 | predicted: 620 | test accuracy: 72.09302520751953\n",
      " epoch: 1 | loss: 0.001302348450951706 | predicted: 8840 | accuracy: 66.76737213134766 | test loss: 0.0014235348895538685 | predicted: 620 | test accuracy: 72.09302520751953\n",
      " epoch: 2 | loss: 0.0012963413111752975 | predicted: 8840 | accuracy: 66.76737213134766 | test loss: 0.0014264171206673911 | predicted: 619 | test accuracy: 71.97674560546875\n",
      " epoch: 3 | loss: 0.0012844222549945566 | predicted: 8840 | accuracy: 66.76737213134766 | test loss: 0.0013996045256769935 | predicted: 621 | test accuracy: 72.20930480957031\n",
      " epoch: 4 | loss: 0.0012583885308118745 | predicted: 8831 | accuracy: 66.69939422607422 | test loss: 0.0014089476923609889 | predicted: 612 | test accuracy: 71.16278839111328\n",
      " epoch: 5 | loss: 0.0012257671068082042 | predicted: 8984 | accuracy: 67.85498809814453 | test loss: 0.0014025424802026083 | predicted: 584 | test accuracy: 67.90697479248047\n",
      " epoch: 6 | loss: 0.0011960251453779975 | predicted: 9141 | accuracy: 69.04078674316406 | test loss: 0.00142420980819436 | predicted: 580 | test accuracy: 67.44186401367188\n",
      " epoch: 7 | loss: 0.0011734223437813473 | predicted: 9283 | accuracy: 70.11329650878906 | test loss: 0.0014095488675805025 | predicted: 596 | test accuracy: 69.30232238769531\n",
      " epoch: 8 | loss: 0.0011570787861988263 | predicted: 9391 | accuracy: 70.92900085449219 | test loss: 0.0014450555623963823 | predicted: 589 | test accuracy: 68.48837280273438\n",
      " epoch: 9 | loss: 0.0011395185735650654 | predicted: 9500 | accuracy: 71.75226593017578 | test loss: 0.0014599695455196292 | predicted: 577 | test accuracy: 67.09302520751953\n",
      " epoch: 10 | loss: 0.0011251412849772012 | predicted: 9569 | accuracy: 72.2734146118164 | test loss: 0.0015003557815108188 | predicted: 540 | test accuracy: 62.79069900512695\n",
      " epoch: 11 | loss: 0.001106813883133165 | predicted: 9701 | accuracy: 73.27039337158203 | test loss: 0.0014512798120809155 | predicted: 598 | test accuracy: 69.53488159179688\n",
      " epoch: 12 | loss: 0.0010897905804959668 | predicted: 9719 | accuracy: 73.40634155273438 | test loss: 0.0014888632436131323 | predicted: 573 | test accuracy: 66.6279067993164\n",
      " epoch: 13 | loss: 0.0010742030475074792 | predicted: 9866 | accuracy: 74.51661682128906 | test loss: 0.0015408263650051382 | predicted: 571 | test accuracy: 66.39534759521484\n",
      " epoch: 14 | loss: 0.0010604161150145747 | predicted: 9887 | accuracy: 74.67522430419922 | test loss: 0.0015050027952637783 | predicted: 566 | test accuracy: 65.81394958496094\n",
      " epoch: 15 | loss: 0.0010391045913235298 | predicted: 10020 | accuracy: 75.67975616455078 | test loss: 0.0015497216651606004 | predicted: 570 | test accuracy: 66.27906799316406\n",
      " epoch: 16 | loss: 0.0010169676063284054 | predicted: 10060 | accuracy: 75.98187255859375 | test loss: 0.0015193654354228529 | predicted: 590 | test accuracy: 68.60465240478516\n",
      " epoch: 17 | loss: 0.000999907568502282 | predicted: 10258 | accuracy: 77.47734069824219 | test loss: 0.0015764176152473271 | predicted: 576 | test accuracy: 66.97674560546875\n",
      " epoch: 18 | loss: 0.0009747838685879894 | predicted: 10330 | accuracy: 78.02114868164062 | test loss: 0.0015955924294715703 | predicted: 569 | test accuracy: 66.16278839111328\n",
      " epoch: 19 | loss: 0.0009521932400245321 | predicted: 10405 | accuracy: 78.58761596679688 | test loss: 0.0015736419794171355 | predicted: 574 | test accuracy: 66.74418640136719\n",
      " epoch: 20 | loss: 0.000928782408331096 | predicted: 10511 | accuracy: 79.38821411132812 | test loss: 0.0016852349042892456 | predicted: 566 | test accuracy: 65.81394958496094\n",
      " epoch: 21 | loss: 0.0009035100389463304 | predicted: 10610 | accuracy: 80.13594818115234 | test loss: 0.001701846164326335 | predicted: 555 | test accuracy: 64.53488159179688\n",
      " epoch: 22 | loss: 0.0008927799783804626 | predicted: 10653 | accuracy: 80.46072387695312 | test loss: 0.0017419973778170208 | predicted: 578 | test accuracy: 67.20930480957031\n",
      " epoch: 23 | loss: 0.000862074330494123 | predicted: 10763 | accuracy: 81.29154205322266 | test loss: 0.0019520395716955494 | predicted: 521 | test accuracy: 60.58139419555664\n",
      " epoch: 24 | loss: 0.0008414439924533994 | predicted: 10826 | accuracy: 81.76737213134766 | test loss: 0.0018509571635445883 | predicted: 552 | test accuracy: 64.18604278564453\n",
      " epoch: 25 | loss: 0.0008089557515170278 | predicted: 10919 | accuracy: 82.46978759765625 | test loss: 0.001983433961868286 | predicted: 545 | test accuracy: 63.372093200683594\n",
      " epoch: 26 | loss: 0.0007908515699680478 | predicted: 10973 | accuracy: 82.87763977050781 | test loss: 0.0019372589366380558 | predicted: 564 | test accuracy: 65.5813980102539\n",
      " epoch: 27 | loss: 0.0007800061176910861 | predicted: 11074 | accuracy: 83.6404800415039 | test loss: 0.0019164951041687366 | predicted: 573 | test accuracy: 66.6279067993164\n",
      " epoch: 28 | loss: 0.0007589085944829751 | predicted: 11130 | accuracy: 84.06344604492188 | test loss: 0.0020488637131313944 | predicted: 550 | test accuracy: 63.953487396240234\n",
      " epoch: 29 | loss: 0.000748448141391904 | predicted: 11139 | accuracy: 84.13141632080078 | test loss: 0.0019718032243639925 | predicted: 565 | test accuracy: 65.69767761230469\n",
      " epoch: 30 | loss: 0.0007193127427576532 | predicted: 11229 | accuracy: 84.8111801147461 | test loss: 0.0021320014498954596 | predicted: 554 | test accuracy: 64.4186019897461\n",
      " epoch: 31 | loss: 0.0007043763590003069 | predicted: 11344 | accuracy: 85.67975616455078 | test loss: 0.002110020573749099 | predicted: 550 | test accuracy: 63.953487396240234\n",
      " epoch: 32 | loss: 0.0006961596336249498 | predicted: 11342 | accuracy: 85.6646499633789 | test loss: 0.0021186424549235854 | predicted: 547 | test accuracy: 63.604652404785156\n",
      " epoch: 33 | loss: 0.0006657445538800289 | predicted: 11453 | accuracy: 86.50302124023438 | test loss: 0.002208073610483214 | predicted: 566 | test accuracy: 65.81394958496094\n",
      " epoch: 34 | loss: 0.0006546294220984882 | predicted: 11486 | accuracy: 86.75226593017578 | test loss: 0.002161435332409171 | predicted: 555 | test accuracy: 64.53488159179688\n",
      " epoch: 35 | loss: 0.0006445210505828397 | predicted: 11551 | accuracy: 87.24320220947266 | test loss: 0.002184360942175222 | predicted: 563 | test accuracy: 65.46511840820312\n",
      " epoch: 36 | loss: 0.0006321379065153461 | predicted: 11520 | accuracy: 87.00906372070312 | test loss: 0.0023858206216679063 | predicted: 544 | test accuracy: 63.25581359863281\n",
      " epoch: 37 | loss: 0.0006129315972688335 | predicted: 11614 | accuracy: 87.71903228759766 | test loss: 0.002417992020762244 | predicted: 540 | test accuracy: 62.79069900512695\n",
      " epoch: 38 | loss: 0.0006026057318258141 | predicted: 11634 | accuracy: 87.8700942993164 | test loss: 0.0024971597416456356 | predicted: 554 | test accuracy: 64.4186019897461\n",
      " epoch: 39 | loss: 0.0005918977483881924 | predicted: 11636 | accuracy: 87.88519287109375 | test loss: 0.0024082176907117975 | predicted: 547 | test accuracy: 63.604652404785156\n",
      " epoch: 40 | loss: 0.0005711294012847623 | predicted: 11719 | accuracy: 88.5120849609375 | test loss: 0.002293732762336731 | predicted: 563 | test accuracy: 65.46511840820312\n",
      " epoch: 41 | loss: 0.0005662566585483147 | predicted: 11730 | accuracy: 88.59516906738281 | test loss: 0.0024744703326114387 | predicted: 559 | test accuracy: 65.0\n",
      " epoch: 42 | loss: 0.0005640795583811411 | predicted: 11701 | accuracy: 88.37612915039062 | test loss: 0.0026508871899094694 | predicted: 539 | test accuracy: 62.67441940307617\n",
      " epoch: 43 | loss: 0.000551151869160171 | predicted: 11761 | accuracy: 88.82930755615234 | test loss: 0.0023054452136505484 | predicted: 577 | test accuracy: 67.09302520751953\n",
      " epoch: 44 | loss: 0.0005414957366321022 | predicted: 11776 | accuracy: 88.94259643554688 | test loss: 0.00235842625762141 | predicted: 576 | test accuracy: 66.97674560546875\n",
      " epoch: 45 | loss: 0.000528010068703274 | predicted: 11854 | accuracy: 89.53172302246094 | test loss: 0.002739577099334362 | predicted: 541 | test accuracy: 62.90697479248047\n",
      " epoch: 46 | loss: 0.0005112759656416326 | predicted: 11882 | accuracy: 89.74320220947266 | test loss: 0.00256483887517175 | predicted: 553 | test accuracy: 64.30232238769531\n",
      " epoch: 47 | loss: 0.0005045248302448192 | predicted: 11913 | accuracy: 89.97734069824219 | test loss: 0.0025156996970952944 | predicted: 561 | test accuracy: 65.23255920410156\n",
      " epoch: 48 | loss: 0.000506283257302921 | predicted: 11897 | accuracy: 89.85649871826172 | test loss: 0.0024561557658883027 | predicted: 569 | test accuracy: 66.16278839111328\n",
      " epoch: 49 | loss: 0.00048648925706339027 | predicted: 11948 | accuracy: 90.24169158935547 | test loss: 0.002814207104749458 | predicted: 544 | test accuracy: 63.25581359863281\n",
      " epoch: 50 | loss: 0.0004732579262955311 | predicted: 12019 | accuracy: 90.77794647216797 | test loss: 0.002561423251795214 | predicted: 562 | test accuracy: 65.34883880615234\n",
      " epoch: 51 | loss: 0.0004683588206587961 | predicted: 12030 | accuracy: 90.86103057861328 | test loss: 0.0026669518892155136 | predicted: 560 | test accuracy: 65.11627960205078\n",
      " epoch: 52 | loss: 0.0004595005980431133 | predicted: 12055 | accuracy: 91.04985046386719 | test loss: 0.0028190585069878156 | predicted: 550 | test accuracy: 63.953487396240234\n",
      " epoch: 53 | loss: 0.0004536566417382923 | predicted: 12038 | accuracy: 90.92144775390625 | test loss: 0.0025808844455452854 | predicted: 580 | test accuracy: 67.44186401367188\n",
      " epoch: 54 | loss: 0.0004434137546043742 | predicted: 12117 | accuracy: 91.51812744140625 | test loss: 0.002722705519476602 | predicted: 559 | test accuracy: 65.0\n",
      " epoch: 55 | loss: 0.0004421419967697466 | predicted: 12093 | accuracy: 91.33686065673828 | test loss: 0.0027458785578261973 | predicted: 564 | test accuracy: 65.5813980102539\n",
      " epoch: 56 | loss: 0.00044171118664237307 | predicted: 12093 | accuracy: 91.33686065673828 | test loss: 0.0027277672013571097 | predicted: 561 | test accuracy: 65.23255920410156\n",
      " epoch: 57 | loss: 0.00043331860055376034 | predicted: 12103 | accuracy: 91.41238403320312 | test loss: 0.0027590179166128467 | predicted: 568 | test accuracy: 66.0465087890625\n",
      " epoch: 58 | loss: 0.0004181826222699214 | predicted: 12132 | accuracy: 91.63141632080078 | test loss: 0.00285417590030404 | predicted: 553 | test accuracy: 64.30232238769531\n",
      " epoch: 59 | loss: 0.0004135688266005041 | predicted: 12156 | accuracy: 91.81269073486328 | test loss: 0.002897317742192468 | predicted: 560 | test accuracy: 65.11627960205078\n",
      " epoch: 60 | loss: 0.0004035803126424461 | predicted: 12192 | accuracy: 92.0845947265625 | test loss: 0.002961758680121843 | predicted: 541 | test accuracy: 62.90697479248047\n",
      " epoch: 61 | loss: 0.0003895318039954609 | predicted: 12220 | accuracy: 92.29607391357422 | test loss: 0.0028763678184775417 | predicted: 565 | test accuracy: 65.69767761230469\n",
      " epoch: 62 | loss: 0.0003857434696301233 | predicted: 12241 | accuracy: 92.45468139648438 | test loss: 0.003137430202129275 | predicted: 529 | test accuracy: 61.511627197265625\n",
      " epoch: 63 | loss: 0.0003871746653876636 | predicted: 12231 | accuracy: 92.379150390625 | test loss: 0.0028729276601658312 | predicted: 558 | test accuracy: 64.88372039794922\n",
      " epoch: 64 | loss: 0.00038484410576950027 | predicted: 12262 | accuracy: 92.61329650878906 | test loss: 0.0029937357403511224 | predicted: 562 | test accuracy: 65.34883880615234\n",
      " epoch: 65 | loss: 0.0003699325362721239 | predicted: 12304 | accuracy: 92.93051147460938 | test loss: 0.003034957203754159 | predicted: 559 | test accuracy: 65.0\n",
      " epoch: 66 | loss: 0.0003761736287811372 | predicted: 12285 | accuracy: 92.7870101928711 | test loss: 0.00304245158683422 | predicted: 558 | test accuracy: 64.88372039794922\n",
      " epoch: 67 | loss: 0.00035847969285671084 | predicted: 12324 | accuracy: 93.08157348632812 | test loss: 0.003202281719030336 | predicted: 564 | test accuracy: 65.5813980102539\n",
      " epoch: 68 | loss: 0.00036287696700081724 | predicted: 12311 | accuracy: 92.98338317871094 | test loss: 0.003052630674007327 | predicted: 563 | test accuracy: 65.46511840820312\n",
      " epoch: 69 | loss: 0.00036098787791779397 | predicted: 12306 | accuracy: 92.94561767578125 | test loss: 0.002937442895977996 | predicted: 574 | test accuracy: 66.74418640136719\n",
      " epoch: 70 | loss: 0.00036241511203731296 | predicted: 12301 | accuracy: 92.90785217285156 | test loss: 0.003062132763308148 | predicted: 555 | test accuracy: 64.53488159179688\n",
      " epoch: 71 | loss: 0.0003591442756422337 | predicted: 12316 | accuracy: 93.02114868164062 | test loss: 0.003087048336516979 | predicted: 554 | test accuracy: 64.4186019897461\n",
      " epoch: 72 | loss: 0.0003408164776343954 | predicted: 12383 | accuracy: 93.52719116210938 | test loss: 0.0030627026114352913 | predicted: 564 | test accuracy: 65.5813980102539\n",
      " epoch: 73 | loss: 0.00034800800311961564 | predicted: 12350 | accuracy: 93.27794647216797 | test loss: 0.0029657600924026133 | predicted: 570 | test accuracy: 66.27906799316406\n",
      " epoch: 74 | loss: 0.00032878109335539204 | predicted: 12390 | accuracy: 93.58006286621094 | test loss: 0.0030679530875627383 | predicted: 565 | test accuracy: 65.69767761230469\n",
      " epoch: 75 | loss: 0.00031842558765699495 | predicted: 12444 | accuracy: 93.9879150390625 | test loss: 0.00324149630790533 | predicted: 553 | test accuracy: 64.30232238769531\n",
      " epoch: 76 | loss: 0.00033405075620668534 | predicted: 12363 | accuracy: 93.37612915039062 | test loss: 0.0030362647633219875 | predicted: 570 | test accuracy: 66.27906799316406\n",
      " epoch: 77 | loss: 0.0003092426547831279 | predicted: 12476 | accuracy: 94.22960662841797 | test loss: 0.003227784605913384 | predicted: 563 | test accuracy: 65.46511840820312\n",
      " epoch: 78 | loss: 0.0003170002263118133 | predicted: 12438 | accuracy: 93.94259643554688 | test loss: 0.003358401947243269 | predicted: 556 | test accuracy: 64.65116119384766\n",
      " epoch: 79 | loss: 0.0003193196933435169 | predicted: 12458 | accuracy: 94.09365844726562 | test loss: 0.003314622058424839 | predicted: 545 | test accuracy: 63.372093200683594\n",
      " epoch: 80 | loss: 0.00030979530328710276 | predicted: 12480 | accuracy: 94.25981903076172 | test loss: 0.0031170140865237213 | predicted: 570 | test accuracy: 66.27906799316406\n",
      " epoch: 81 | loss: 0.00029911845472283953 | predicted: 12482 | accuracy: 94.2749252319336 | test loss: 0.00309072497279145 | predicted: 564 | test accuracy: 65.5813980102539\n",
      " epoch: 82 | loss: 0.00030310578936896653 | predicted: 12482 | accuracy: 94.2749252319336 | test loss: 0.0033536191596541293 | predicted: 540 | test accuracy: 62.79069900512695\n",
      " epoch: 83 | loss: 0.00030000719419058714 | predicted: 12500 | accuracy: 94.41087341308594 | test loss: 0.0034323972324992336 | predicted: 552 | test accuracy: 64.18604278564453\n",
      " epoch: 84 | loss: 0.000291800715051749 | predicted: 12508 | accuracy: 94.47129821777344 | test loss: 0.003250387796135836 | predicted: 560 | test accuracy: 65.11627960205078\n",
      " epoch: 85 | loss: 0.0002994167300509542 | predicted: 12498 | accuracy: 94.39576721191406 | test loss: 0.0030305888763693875 | predicted: 586 | test accuracy: 68.13953399658203\n",
      " epoch: 86 | loss: 0.00028157399860393606 | predicted: 12545 | accuracy: 94.7507553100586 | test loss: 0.003026584414548652 | predicted: 581 | test accuracy: 67.55813598632812\n",
      " epoch: 87 | loss: 0.0002912398371451571 | predicted: 12512 | accuracy: 94.50151062011719 | test loss: 0.003453488543976185 | predicted: 557 | test accuracy: 64.76744079589844\n",
      " epoch: 88 | loss: 0.00028407354009115445 | predicted: 12526 | accuracy: 94.60725402832031 | test loss: 0.0035073186075964637 | predicted: 555 | test accuracy: 64.53488159179688\n",
      " epoch: 89 | loss: 0.0002753802836841687 | predicted: 12546 | accuracy: 94.75830841064453 | test loss: 0.003163126457569211 | predicted: 565 | test accuracy: 65.69767761230469\n",
      " epoch: 90 | loss: 0.0002776406142646813 | predicted: 12527 | accuracy: 94.61480712890625 | test loss: 0.0034775124039760855 | predicted: 570 | test accuracy: 66.27906799316406\n",
      " epoch: 91 | loss: 0.00028091784330293133 | predicted: 12555 | accuracy: 94.82628631591797 | test loss: 0.0032135436701220136 | predicted: 587 | test accuracy: 68.25581359863281\n",
      " epoch: 92 | loss: 0.0002678811009917014 | predicted: 12587 | accuracy: 95.06797790527344 | test loss: 0.0034188927606094714 | predicted: 563 | test accuracy: 65.46511840820312\n",
      " epoch: 93 | loss: 0.000274495001645967 | predicted: 12537 | accuracy: 94.6903305053711 | test loss: 0.003456463092981383 | predicted: 560 | test accuracy: 65.11627960205078\n",
      " epoch: 94 | loss: 0.0002581911144659959 | predicted: 12596 | accuracy: 95.13594818115234 | test loss: 0.0034358308758846547 | predicted: 557 | test accuracy: 64.76744079589844\n",
      " epoch: 95 | loss: 0.00026770671688898095 | predicted: 12596 | accuracy: 95.13594818115234 | test loss: 0.0034027200798655666 | predicted: 577 | test accuracy: 67.09302520751953\n",
      " epoch: 96 | loss: 0.00025063583858063573 | predicted: 12618 | accuracy: 95.30211639404297 | test loss: 0.0033783426118451495 | predicted: 571 | test accuracy: 66.39534759521484\n",
      " epoch: 97 | loss: 0.0002456389345071107 | predicted: 12610 | accuracy: 95.24169158935547 | test loss: 0.0036362898904223773 | predicted: 554 | test accuracy: 64.4186019897461\n",
      " epoch: 98 | loss: 0.0002651281587306826 | predicted: 12565 | accuracy: 94.90180969238281 | test loss: 0.003477440462555996 | predicted: 560 | test accuracy: 65.11627960205078\n",
      " epoch: 99 | loss: 0.0002570650908882164 | predicted: 12625 | accuracy: 95.35498809814453 | test loss: 0.003610087272732757 | predicted: 556 | test accuracy: 64.65116119384766\n"
     ]
    }
   ],
   "source": [
    "start_time = time.time()\n",
    "for e in range(epochs):\n",
    "    loss_epoch = torch.empty(0)\n",
    "    correct_epoch = 0\n",
    "\n",
    "    loss_epoch_test = np.empty(0)\n",
    "    correct_epoch_test = 0\n",
    "\n",
    "    for batch_num, batch in enumerate(train_dataset_loader):\n",
    "        X_train = batch[:,:-1]\n",
    "        y_train = batch[:,-1].reshape(-1,1)\n",
    "        y_pred = model.forward(X_train)\n",
    "\n",
    "        loss = criterion(y_pred, y_train)\n",
    "        if (e == 0 and batch_num == 0):\n",
    "            print(f'Loss on the first batch: {loss}')\n",
    "\n",
    "        # print(loss.item())\n",
    "        loss_epoch = np.append(loss_epoch, loss.detach().cpu().numpy())\n",
    "        # losses.append(loss.item())\n",
    "\n",
    "\n",
    "        optimizer.zero_grad()\n",
    "        loss.backward()\n",
    "        optimizer.step()\n",
    "\n",
    "\n",
    "        predicted = torch.round(y_pred)\n",
    "        # print(y_train)\n",
    "        predicted = (predicted == y_train).sum().cpu()\n",
    "        pred_cpu = predicted.cpu()\n",
    "        # print(f'pred_cpu: {pred_cpu}')\n",
    "        correct_epoch += predicted\n",
    "\n",
    "# przechodzenie przez dane testowe\n",
    "    with torch.no_grad():\n",
    "        for batch_num_test, batch_test in enumerate(test_dataset_loader_a):\n",
    "            X_test = batch_test[:,:-1]\n",
    "            y_test = batch_test[:,-1].reshape(-1,1)\n",
    "            y_pred_test = model.forward(X_test)\n",
    "\n",
    "            loss_test = criterion(y_pred_test, y_test)\n",
    "            if (e == 0 and batch_num_test == 0):\n",
    "                print(f'Loss on the first batch on test data: {loss_test}')\n",
    "                print(loss_test.shape)\n",
    "\n",
    "            # print(loss.item())\n",
    "            loss_epoch_test = np.append(loss_epoch_test, loss_test.item())\n",
    "            # print(loss_test)\n",
    "            # losses.append(loss.item())\n",
    "\n",
    "            predicted = torch.round(y_pred_test)\n",
    "            # print(predicted)\n",
    "            # print(y_test)\n",
    "            predicted = (predicted == y_test).sum()\n",
    "            pred_cpu = predicted.cpu()\n",
    "            # print(f'pred_cpu: {pred_cpu}')\n",
    "            correct_epoch_test += predicted\n",
    "\n",
    "        loss_epoch_test = loss_epoch_test.sum() / test_count_a\n",
    "        losses_test.append(loss_epoch_test)\n",
    "        accuracy_epoch_test = correct_epoch_test * 100/test_count_a\n",
    "        accuracy_epoch_test_cpu = accuracy_epoch_test.cpu()\n",
    "        accuracy_test.append(accuracy_epoch_test_cpu)\n",
    "\n",
    "    loss_epoch = loss_epoch.sum() / train_count\n",
    "    losses.append(loss_epoch)\n",
    "    accuracy_epoch = correct_epoch * 100/train_count\n",
    "    accuracy_epoch_cpu = accuracy_epoch.cpu()\n",
    "    accuracy.append(accuracy_epoch)\n",
    "\n",
    "\n",
    "    # print(f'Test accuracy: {correct_epoch.item()}/{train_count} = {correct.item() * 100 / (test_count):7.3f}%')\n",
    "    print(f' epoch: {e} | loss: {loss_epoch} | predicted: {correct_epoch} | accuracy: {accuracy_epoch} | test loss: {loss_epoch_test} | ' \\\n",
    "          + f'predicted: {correct_epoch_test} | test accuracy: {accuracy_epoch_test}')\n",
    "\n",
    "duration = time.time() - start_time"
   ]
  },
  {
   "cell_type": "markdown",
   "metadata": {
    "pycharm": {
     "name": "#%% md\n"
    }
   },
   "source": [
    "## Rysowanie funkcji straty i accuracy na przestrzeni epok"
   ]
  },
  {
   "cell_type": "code",
   "execution_count": 484,
   "metadata": {
    "collapsed": false,
    "jupyter": {
     "outputs_hidden": false
    },
    "pycharm": {
     "name": "#%%\n"
    }
   },
   "outputs": [
    {
     "data": {
      "image/png": "[encoded data removed]",
      "text/plain": [
       "<Figure size 1152x504 with 2 Axes>"
      ]
     },
     "metadata": {
      "needs_background": "light"
     },
     "output_type": "display_data"
    }
   ],
   "source": [
    "## Plot loss functions over epochs\n",
    "\n",
    "fig, (ax1, ax2) = plt.subplots(1, 2, figsize=(16,7))\n",
    "\n",
    "\n",
    "ax1.plot(range(epochs), losses, c='r')\n",
    "ax1.plot(range(epochs), losses_test)\n",
    "ax1.set_title('Losses and epochs')\n",
    "\n",
    "ax2.plot(range(epochs), accuracy, c='r')\n",
    "ax2.plot(range(epochs), accuracy_test)\n",
    "ax2.set_title(\"Accuracy and epochs\")\n",
    "\n",
    "plt.show()"
   ]
  },
  {
   "cell_type": "code",
   "execution_count": 485,
   "metadata": {
    "collapsed": false,
    "jupyter": {
     "outputs_hidden": false
    },
    "pycharm": {
     "name": "#%%\n"
    }
   },
   "outputs": [],
   "source": [
    "# dictionary storing the data\n",
    "summary = {\n",
    "    \"Training\": [min(losses), max(accuracy)],\n",
    "    \"Test\": [min(losses_test), max(accuracy_test)]\n",
    "}\n",
    "\n",
    "# dataframe from dict\n",
    "summary_df = pd.DataFrame.from_dict(summary, orient='index', columns=['Loss', 'Accuracy'])"
   ]
  },
  {
   "cell_type": "code",
   "execution_count": 486,
   "metadata": {
    "collapsed": false,
    "jupyter": {
     "outputs_hidden": false
    },
    "pycharm": {
     "name": "#%%\n"
    }
   },
   "outputs": [
    {
     "name": "stdout",
     "output_type": "stream",
     "text": [
      "Spacy embeddings\n",
      "Model(\n",
      "  (embedding): Embedding(21585, 96)\n",
      "  (dropout): Dropout(p=0.3, inplace=False)\n",
      "  (fc1): Linear(in_features=7008, out_features=100, bias=True)\n",
      "  (fc2): Linear(in_features=100, out_features=100, bias=True)\n",
      "  (fc3): Linear(in_features=100, out_features=100, bias=True)\n",
      "  (out): Linear(in_features=100, out_features=1, bias=True)\n",
      ")\n",
      "learning_rate:  0.001\n",
      "batch_size:  500\n",
      "time:  9.46116042137146\n"
     ]
    }
   ],
   "source": [
    "print('Spacy embeddings')\n",
    "print(model)\n",
    "print('learning_rate: ', learning_rate)\n",
    "print('batch_size: ', batch_size)\n",
    "print('time: ', duration)"
   ]
  },
  {
   "cell_type": "code",
   "execution_count": 487,
   "metadata": {
    "collapsed": false,
    "jupyter": {
     "outputs_hidden": false
    },
    "pycharm": {
     "name": "#%%\n"
    }
   },
   "outputs": [
    {
     "data": {
      "text/html": [
       "<div>\n",
       "<style scoped>\n",
       "    .dataframe tbody tr th:only-of-type {\n",
       "        vertical-align: middle;\n",
       "    }\n",
       "\n",
       "    .dataframe tbody tr th {\n",
       "        vertical-align: top;\n",
       "    }\n",
       "\n",
       "    .dataframe thead th {\n",
       "        text-align: right;\n",
       "    }\n",
       "</style>\n",
       "<table border=\"1\" class=\"dataframe\">\n",
       "  <thead>\n",
       "    <tr style=\"text-align: right;\">\n",
       "      <th></th>\n",
       "      <th>Loss</th>\n",
       "      <th>Accuracy</th>\n",
       "    </tr>\n",
       "  </thead>\n",
       "  <tbody>\n",
       "    <tr>\n",
       "      <th>Training</th>\n",
       "      <td>0.000246</td>\n",
       "      <td>tensor(95.3550)</td>\n",
       "    </tr>\n",
       "    <tr>\n",
       "      <th>Test</th>\n",
       "      <td>0.001400</td>\n",
       "      <td>tensor(72.2093)</td>\n",
       "    </tr>\n",
       "  </tbody>\n",
       "</table>\n",
       "</div>"
      ],
      "text/plain": [
       "              Loss         Accuracy\n",
       "Training  0.000246  tensor(95.3550)\n",
       "Test      0.001400  tensor(72.2093)"
      ]
     },
     "execution_count": 487,
     "metadata": {},
     "output_type": "execute_result"
    }
   ],
   "source": [
    "summary_df"
   ]
  },
  {
   "cell_type": "code",
   "execution_count": null,
   "metadata": {
    "collapsed": false,
    "jupyter": {
     "outputs_hidden": false
    },
    "pycharm": {
     "name": "#%%\n"
    }
   },
   "outputs": [],
   "source": []
  },
  {
   "cell_type": "code",
   "execution_count": null,
   "metadata": {},
   "outputs": [],
   "source": []
  },
  {
   "cell_type": "code",
   "execution_count": null,
   "metadata": {},
   "outputs": [],
   "source": []
  }
 ],
 "metadata": {
  "kernelspec": {
   "display_name": "torch-cuda",
   "language": "python",
   "name": "torch-cuda"
  },
  "language_info": {
   "codemirror_mode": {
    "name": "ipython",
    "version": 3
   },
   "file_extension": ".py",
   "mimetype": "text/x-python",
   "name": "python",
   "nbconvert_exporter": "python",
   "pygments_lexer": "ipython3",
   "version": "3.9.6"
  }
 },
 "nbformat": 4,
 "nbformat_minor": 4
}
