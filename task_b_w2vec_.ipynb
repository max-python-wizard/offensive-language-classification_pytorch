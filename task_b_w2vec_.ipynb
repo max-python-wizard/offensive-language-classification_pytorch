{
 "cells": [
  {
   "cell_type": "code",
   "execution_count": 1,
   "metadata": {
    "collapsed": false,
    "jupyter": {
     "outputs_hidden": false
    },
    "pycharm": {
     "name": "#%%\n"
    }
   },
   "outputs": [],
   "source": [
    "import pandas as pd\n",
    "import numpy as np\n",
    "import matplotlib.pyplot as plt"
   ]
  },
  {
   "cell_type": "code",
   "execution_count": 2,
   "metadata": {
    "collapsed": false,
    "jupyter": {
     "outputs_hidden": false
    },
    "pycharm": {
     "name": "#%%\n"
    }
   },
   "outputs": [],
   "source": [
    "import time"
   ]
  },
  {
   "cell_type": "code",
   "execution_count": 3,
   "metadata": {
    "collapsed": false,
    "jupyter": {
     "outputs_hidden": false
    },
    "pycharm": {
     "name": "#%%\n"
    }
   },
   "outputs": [],
   "source": [
    "import spacy"
   ]
  },
  {
   "cell_type": "code",
   "execution_count": 4,
   "metadata": {
    "collapsed": false,
    "jupyter": {
     "outputs_hidden": false
    },
    "pycharm": {
     "name": "#%%\n"
    }
   },
   "outputs": [
    {
     "data": {
      "text/plain": "False"
     },
     "execution_count": 4,
     "metadata": {},
     "output_type": "execute_result"
    }
   ],
   "source": [
    "spacy.prefer_gpu()"
   ]
  },
  {
   "cell_type": "code",
   "execution_count": 5,
   "metadata": {},
   "outputs": [],
   "source": [
    "import torch\n",
    "import torch.nn as nn\n",
    "import torch.nn.functional as F"
   ]
  },
  {
   "cell_type": "markdown",
   "metadata": {
    "pycharm": {
     "name": "#%% md\n"
    }
   },
   "source": [
    "### Sprawdzanie czy w systemie jest karta graficzna Nvidia - CUDA"
   ]
  },
  {
   "cell_type": "code",
   "execution_count": 6,
   "metadata": {
    "collapsed": false,
    "jupyter": {
     "outputs_hidden": false
    },
    "pycharm": {
     "name": "#%%\n"
    }
   },
   "outputs": [
    {
     "data": {
      "text/plain": "True"
     },
     "execution_count": 6,
     "metadata": {},
     "output_type": "execute_result"
    }
   ],
   "source": [
    "cuda_av = torch.cuda.is_available()\n",
    "cuda_av"
   ]
  },
  {
   "cell_type": "code",
   "execution_count": 7,
   "metadata": {
    "collapsed": false,
    "jupyter": {
     "outputs_hidden": false
    },
    "pycharm": {
     "name": "#%%\n"
    }
   },
   "outputs": [
    {
     "name": "stdout",
     "output_type": "stream",
     "text": [
      "ID urządzenia CUDA: 0\n",
      "Nazwa urządzenia CUDA: NVIDIA GeForce GTX 1070\n"
     ]
    }
   ],
   "source": [
    "if cuda_av:\n",
    "    cuda_id = torch.cuda.current_device()\n",
    "    print(f'ID urządzenia CUDA: {cuda_id}')\n",
    "    print(f\"Nazwa urządzenia CUDA: {torch.cuda.get_device_name(cuda_id)}\")"
   ]
  },
  {
   "cell_type": "code",
   "execution_count": 8,
   "metadata": {
    "collapsed": false,
    "jupyter": {
     "outputs_hidden": false
    },
    "pycharm": {
     "name": "#%%\n"
    }
   },
   "outputs": [
    {
     "data": {
      "text/plain": "'cuda'"
     },
     "execution_count": 8,
     "metadata": {},
     "output_type": "execute_result"
    }
   ],
   "source": [
    "# Tworzenie kodu uniwersalnego: dla CUDA i CPU\n",
    "device = 'cuda' if torch.cuda.is_available() else 'cpu'\n",
    "device"
   ]
  },
  {
   "cell_type": "markdown",
   "metadata": {
    "pycharm": {
     "name": "#%% md\n"
    }
   },
   "source": [
    "## Ładowanie danych treningowych"
   ]
  },
  {
   "cell_type": "code",
   "execution_count": 9,
   "metadata": {
    "collapsed": false,
    "jupyter": {
     "outputs_hidden": false
    },
    "pycharm": {
     "name": "#%%\n"
    }
   },
   "outputs": [],
   "source": [
    "tweets = pd.read_csv('data/olid-training-v1.0.tsv', sep='\\t')"
   ]
  },
  {
   "cell_type": "code",
   "execution_count": 10,
   "metadata": {
    "collapsed": false,
    "jupyter": {
     "outputs_hidden": false
    },
    "pycharm": {
     "name": "#%%\n"
    }
   },
   "outputs": [
    {
     "data": {
      "text/plain": "      id                                              tweet subtask_a  \\\n0  86426  @USER She should ask a few native Americans wh...       OFF   \n1  90194  @USER @USER Go home you’re drunk!!! @USER #MAG...       OFF   \n2  16820  Amazon is investigating Chinese employees who ...       NOT   \n3  62688  @USER Someone should'veTaken\" this piece of sh...       OFF   \n4  43605  @USER @USER Obama wanted liberals &amp; illega...       NOT   \n\n  subtask_b subtask_c  \n0       UNT       NaN  \n1       TIN       IND  \n2       NaN       NaN  \n3       UNT       NaN  \n4       NaN       NaN  ",
      "text/html": "<div>\n<style scoped>\n    .dataframe tbody tr th:only-of-type {\n        vertical-align: middle;\n    }\n\n    .dataframe tbody tr th {\n        vertical-align: top;\n    }\n\n    .dataframe thead th {\n        text-align: right;\n    }\n</style>\n<table border=\"1\" class=\"dataframe\">\n  <thead>\n    <tr style=\"text-align: right;\">\n      <th></th>\n      <th>id</th>\n      <th>tweet</th>\n      <th>subtask_a</th>\n      <th>subtask_b</th>\n      <th>subtask_c</th>\n    </tr>\n  </thead>\n  <tbody>\n    <tr>\n      <th>0</th>\n      <td>86426</td>\n      <td>@USER She should ask a few native Americans wh...</td>\n      <td>OFF</td>\n      <td>UNT</td>\n      <td>NaN</td>\n    </tr>\n    <tr>\n      <th>1</th>\n      <td>90194</td>\n      <td>@USER @USER Go home you’re drunk!!! @USER #MAG...</td>\n      <td>OFF</td>\n      <td>TIN</td>\n      <td>IND</td>\n    </tr>\n    <tr>\n      <th>2</th>\n      <td>16820</td>\n      <td>Amazon is investigating Chinese employees who ...</td>\n      <td>NOT</td>\n      <td>NaN</td>\n      <td>NaN</td>\n    </tr>\n    <tr>\n      <th>3</th>\n      <td>62688</td>\n      <td>@USER Someone should'veTaken\" this piece of sh...</td>\n      <td>OFF</td>\n      <td>UNT</td>\n      <td>NaN</td>\n    </tr>\n    <tr>\n      <th>4</th>\n      <td>43605</td>\n      <td>@USER @USER Obama wanted liberals &amp;amp; illega...</td>\n      <td>NOT</td>\n      <td>NaN</td>\n      <td>NaN</td>\n    </tr>\n  </tbody>\n</table>\n</div>"
     },
     "execution_count": 10,
     "metadata": {},
     "output_type": "execute_result"
    }
   ],
   "source": [
    "tweets.head()"
   ]
  },
  {
   "cell_type": "code",
   "execution_count": 11,
   "metadata": {
    "collapsed": false,
    "jupyter": {
     "outputs_hidden": false
    },
    "pycharm": {
     "name": "#%%\n"
    }
   },
   "outputs": [],
   "source": [
    "# tweets = tweets[:100]"
   ]
  },
  {
   "cell_type": "code",
   "execution_count": 12,
   "metadata": {
    "collapsed": false,
    "jupyter": {
     "outputs_hidden": false
    },
    "pycharm": {
     "name": "#%%\n"
    }
   },
   "outputs": [],
   "source": [
    "# tweets = tweets[:5]"
   ]
  },
  {
   "cell_type": "markdown",
   "metadata": {},
   "source": [
    "### usuwanie tweetow gdzie kulumna subtask_b jest nan"
   ]
  },
  {
   "cell_type": "code",
   "execution_count": null,
   "outputs": [],
   "source": [
    "len(tweets)"
   ],
   "metadata": {
    "collapsed": false,
    "pycharm": {
     "name": "#%%\n"
    }
   }
  },
  {
   "cell_type": "code",
   "execution_count": 13,
   "metadata": {},
   "outputs": [],
   "source": [
    "tweets = tweets.dropna(subset=['subtask_b'])"
   ]
  },
  {
   "cell_type": "code",
   "execution_count": 14,
   "metadata": {},
   "outputs": [
    {
     "data": {
      "text/plain": "4400"
     },
     "execution_count": 14,
     "metadata": {},
     "output_type": "execute_result"
    }
   ],
   "source": [
    "len(tweets)"
   ]
  },
  {
   "cell_type": "markdown",
   "metadata": {
    "pycharm": {
     "name": "#%% md\n"
    }
   },
   "source": [
    "### Tokenizacja, lematyzacja, usówanie pewnych słów\n",
    "liczenie najdłuższego przetworzonego tweeta"
   ]
  },
  {
   "cell_type": "code",
   "execution_count": 15,
   "metadata": {
    "collapsed": false,
    "jupyter": {
     "outputs_hidden": false
    },
    "pycharm": {
     "name": "#%%\n"
    }
   },
   "outputs": [],
   "source": [
    "nlp = spacy.load('en_core_web_sm')"
   ]
  },
  {
   "cell_type": "code",
   "execution_count": 16,
   "metadata": {
    "collapsed": false,
    "jupyter": {
     "outputs_hidden": false
    },
    "pycharm": {
     "name": "#%%\n"
    }
   },
   "outputs": [],
   "source": [
    "# dodawanie kolumny z tokenami\n",
    "tweets['tokens'] = tweets['tweet'].apply(nlp)"
   ]
  },
  {
   "cell_type": "code",
   "execution_count": 17,
   "metadata": {
    "collapsed": false,
    "jupyter": {
     "outputs_hidden": false
    },
    "pycharm": {
     "name": "#%%\n"
    }
   },
   "outputs": [
    {
     "data": {
      "text/plain": "      id                                              tweet subtask_a  \\\n0  86426  @USER She should ask a few native Americans wh...       OFF   \n1  90194  @USER @USER Go home you’re drunk!!! @USER #MAG...       OFF   \n3  62688  @USER Someone should'veTaken\" this piece of sh...       OFF   \n5  97670                  @USER Liberals are all Kookoo !!!       OFF   \n6  77444                   @USER @USER Oh noes! Tough shit.       OFF   \n\n  subtask_b subtask_c                                             tokens  \n0       UNT       NaN  (@USER, She, should, ask, a, few, native, Amer...  \n1       TIN       IND  (@USER, @USER, Go, home, you, ’re, drunk, !, !...  \n3       UNT       NaN  (@USER, Someone, should'veTaken, \", this, piec...  \n5       TIN       OTH       (@USER, Liberals, are, all, Kookoo, !, !, !)  \n6       UNT       NaN        (@USER, @USER, Oh, noes, !, Tough, shit, .)  ",
      "text/html": "<div>\n<style scoped>\n    .dataframe tbody tr th:only-of-type {\n        vertical-align: middle;\n    }\n\n    .dataframe tbody tr th {\n        vertical-align: top;\n    }\n\n    .dataframe thead th {\n        text-align: right;\n    }\n</style>\n<table border=\"1\" class=\"dataframe\">\n  <thead>\n    <tr style=\"text-align: right;\">\n      <th></th>\n      <th>id</th>\n      <th>tweet</th>\n      <th>subtask_a</th>\n      <th>subtask_b</th>\n      <th>subtask_c</th>\n      <th>tokens</th>\n    </tr>\n  </thead>\n  <tbody>\n    <tr>\n      <th>0</th>\n      <td>86426</td>\n      <td>@USER She should ask a few native Americans wh...</td>\n      <td>OFF</td>\n      <td>UNT</td>\n      <td>NaN</td>\n      <td>(@USER, She, should, ask, a, few, native, Amer...</td>\n    </tr>\n    <tr>\n      <th>1</th>\n      <td>90194</td>\n      <td>@USER @USER Go home you’re drunk!!! @USER #MAG...</td>\n      <td>OFF</td>\n      <td>TIN</td>\n      <td>IND</td>\n      <td>(@USER, @USER, Go, home, you, ’re, drunk, !, !...</td>\n    </tr>\n    <tr>\n      <th>3</th>\n      <td>62688</td>\n      <td>@USER Someone should'veTaken\" this piece of sh...</td>\n      <td>OFF</td>\n      <td>UNT</td>\n      <td>NaN</td>\n      <td>(@USER, Someone, should'veTaken, \", this, piec...</td>\n    </tr>\n    <tr>\n      <th>5</th>\n      <td>97670</td>\n      <td>@USER Liberals are all Kookoo !!!</td>\n      <td>OFF</td>\n      <td>TIN</td>\n      <td>OTH</td>\n      <td>(@USER, Liberals, are, all, Kookoo, !, !, !)</td>\n    </tr>\n    <tr>\n      <th>6</th>\n      <td>77444</td>\n      <td>@USER @USER Oh noes! Tough shit.</td>\n      <td>OFF</td>\n      <td>UNT</td>\n      <td>NaN</td>\n      <td>(@USER, @USER, Oh, noes, !, Tough, shit, .)</td>\n    </tr>\n  </tbody>\n</table>\n</div>"
     },
     "execution_count": 17,
     "metadata": {},
     "output_type": "execute_result"
    }
   ],
   "source": [
    "tweets.head()"
   ]
  },
  {
   "cell_type": "code",
   "execution_count": 18,
   "metadata": {
    "collapsed": false,
    "jupyter": {
     "outputs_hidden": false
    },
    "pycharm": {
     "name": "#%%\n"
    }
   },
   "outputs": [],
   "source": [
    "# dodawanie kolumny z lematami za pomoca funkcji lambda - przy tym usuwanie:\n",
    "# odwolan do wczesniejszych tweetow (zawiera @)\n",
    "# - slowa url (czyli adresy stron inernetowych które w danych wejściowych mają URL zamiast adreasu.\n",
    "# # - hasztagów; przyimków i innych częstych słów (stop words) oraz znaków interpunkcyjnych.\n",
    "# spacji ' ', '  ', '   '\n",
    "\n",
    "# emotikony zostawiam - uważam, że też niosą znaczenie\n",
    "\n",
    "tweets['lemmas'] = tweets['tokens'].apply\\\n",
    "    (lambda list_tokens : [token.lemma_.strip() for token in list_tokens if ('@' not in token.lemma_ \\\n",
    "                                                                     and '#' not in token.lemma_ and 'url' not in token.lemma_ \\\n",
    "                                                                     and not token.is_stop and not token.is_punct and token.lemma_ != ' ' \\\n",
    "                                                                     and token.lemma_ != '  ' and token.lemma_ != '   '\n",
    "                                                                     and token.lemma_ != '    ' and token.lemma_.strip() != '')])"
   ]
  },
  {
   "cell_type": "code",
   "execution_count": 18,
   "metadata": {
    "collapsed": false,
    "jupyter": {
     "outputs_hidden": false
    },
    "pycharm": {
     "name": "#%%\n"
    }
   },
   "outputs": [],
   "source": []
  },
  {
   "cell_type": "code",
   "execution_count": 19,
   "metadata": {
    "collapsed": false,
    "jupyter": {
     "outputs_hidden": false
    },
    "pycharm": {
     "name": "#%%\n"
    }
   },
   "outputs": [
    {
     "data": {
      "text/plain": "          id                                              tweet subtask_a  \\\n0      86426  @USER She should ask a few native Americans wh...       OFF   \n1      90194  @USER @USER Go home you’re drunk!!! @USER #MAG...       OFF   \n3      62688  @USER Someone should'veTaken\" this piece of sh...       OFF   \n5      97670                  @USER Liberals are all Kookoo !!!       OFF   \n6      77444                   @USER @USER Oh noes! Tough shit.       OFF   \n...      ...                                                ...       ...   \n13223  63482  @USER is advocating for conduct within bounds ...       OFF   \n13227  87416  @USER @USER @USER @USER Liars like the Antifa ...       OFF   \n13235  95338  @USER Sometimes I get strong vibes from people...       OFF   \n13237  82921  @USER And why report this garbage.  We don't g...       OFF   \n13238  27429                                        @USER Pussy       OFF   \n\n      subtask_b subtask_c                                             tokens  \\\n0           UNT       NaN  (@USER, She, should, ask, a, few, native, Amer...   \n1           TIN       IND  (@USER, @USER, Go, home, you, ’re, drunk, !, !...   \n3           UNT       NaN  (@USER, Someone, should'veTaken, \", this, piec...   \n5           TIN       OTH       (@USER, Liberals, are, all, Kookoo, !, !, !)   \n6           UNT       NaN        (@USER, @USER, Oh, noes, !, Tough, shit, .)   \n...         ...       ...                                                ...   \n13223       TIN       GRP  (@USER, is, advocating, for, conduct, within, ...   \n13227       TIN       GRP  (@USER, @USER, @USER, @USER, Liars, like, the,...   \n13235       TIN       IND  (@USER, Sometimes, I, get, strong, vibes, from...   \n13237       TIN       OTH  (@USER, And, why, report, this, garbage, .,  ,...   \n13238       UNT       NaN                                     (@USER, Pussy)   \n\n                                                  lemmas  \n0                               [ask, native, Americans]  \n1             [home, drunk, MAGA, Trump2020, 👊, 🇺, 🇸, 👊]  \n3              [should'vetaken, piece, shit, volcano, 😂]  \n5                                      [liberal, Kookoo]  \n6                                  [oh, no, tough, shit]  \n...                                                  ...  \n13223  [advocate, conduct, bound, Human, Rights, terr...  \n13227     [liar, like, Antifa, twin, vigorously, defend]  \n13235  [strong, vibe, people, man, vibe, ten, million...  \n13237                            [report, garbage, crap]  \n13238                                            [Pussy]  \n\n[4400 rows x 7 columns]",
      "text/html": "<div>\n<style scoped>\n    .dataframe tbody tr th:only-of-type {\n        vertical-align: middle;\n    }\n\n    .dataframe tbody tr th {\n        vertical-align: top;\n    }\n\n    .dataframe thead th {\n        text-align: right;\n    }\n</style>\n<table border=\"1\" class=\"dataframe\">\n  <thead>\n    <tr style=\"text-align: right;\">\n      <th></th>\n      <th>id</th>\n      <th>tweet</th>\n      <th>subtask_a</th>\n      <th>subtask_b</th>\n      <th>subtask_c</th>\n      <th>tokens</th>\n      <th>lemmas</th>\n    </tr>\n  </thead>\n  <tbody>\n    <tr>\n      <th>0</th>\n      <td>86426</td>\n      <td>@USER She should ask a few native Americans wh...</td>\n      <td>OFF</td>\n      <td>UNT</td>\n      <td>NaN</td>\n      <td>(@USER, She, should, ask, a, few, native, Amer...</td>\n      <td>[ask, native, Americans]</td>\n    </tr>\n    <tr>\n      <th>1</th>\n      <td>90194</td>\n      <td>@USER @USER Go home you’re drunk!!! @USER #MAG...</td>\n      <td>OFF</td>\n      <td>TIN</td>\n      <td>IND</td>\n      <td>(@USER, @USER, Go, home, you, ’re, drunk, !, !...</td>\n      <td>[home, drunk, MAGA, Trump2020, 👊, 🇺, 🇸, 👊]</td>\n    </tr>\n    <tr>\n      <th>3</th>\n      <td>62688</td>\n      <td>@USER Someone should'veTaken\" this piece of sh...</td>\n      <td>OFF</td>\n      <td>UNT</td>\n      <td>NaN</td>\n      <td>(@USER, Someone, should'veTaken, \", this, piec...</td>\n      <td>[should'vetaken, piece, shit, volcano, 😂]</td>\n    </tr>\n    <tr>\n      <th>5</th>\n      <td>97670</td>\n      <td>@USER Liberals are all Kookoo !!!</td>\n      <td>OFF</td>\n      <td>TIN</td>\n      <td>OTH</td>\n      <td>(@USER, Liberals, are, all, Kookoo, !, !, !)</td>\n      <td>[liberal, Kookoo]</td>\n    </tr>\n    <tr>\n      <th>6</th>\n      <td>77444</td>\n      <td>@USER @USER Oh noes! Tough shit.</td>\n      <td>OFF</td>\n      <td>UNT</td>\n      <td>NaN</td>\n      <td>(@USER, @USER, Oh, noes, !, Tough, shit, .)</td>\n      <td>[oh, no, tough, shit]</td>\n    </tr>\n    <tr>\n      <th>...</th>\n      <td>...</td>\n      <td>...</td>\n      <td>...</td>\n      <td>...</td>\n      <td>...</td>\n      <td>...</td>\n      <td>...</td>\n    </tr>\n    <tr>\n      <th>13223</th>\n      <td>63482</td>\n      <td>@USER is advocating for conduct within bounds ...</td>\n      <td>OFF</td>\n      <td>TIN</td>\n      <td>GRP</td>\n      <td>(@USER, is, advocating, for, conduct, within, ...</td>\n      <td>[advocate, conduct, bound, Human, Rights, terr...</td>\n    </tr>\n    <tr>\n      <th>13227</th>\n      <td>87416</td>\n      <td>@USER @USER @USER @USER Liars like the Antifa ...</td>\n      <td>OFF</td>\n      <td>TIN</td>\n      <td>GRP</td>\n      <td>(@USER, @USER, @USER, @USER, Liars, like, the,...</td>\n      <td>[liar, like, Antifa, twin, vigorously, defend]</td>\n    </tr>\n    <tr>\n      <th>13235</th>\n      <td>95338</td>\n      <td>@USER Sometimes I get strong vibes from people...</td>\n      <td>OFF</td>\n      <td>TIN</td>\n      <td>IND</td>\n      <td>(@USER, Sometimes, I, get, strong, vibes, from...</td>\n      <td>[strong, vibe, people, man, vibe, ten, million...</td>\n    </tr>\n    <tr>\n      <th>13237</th>\n      <td>82921</td>\n      <td>@USER And why report this garbage.  We don't g...</td>\n      <td>OFF</td>\n      <td>TIN</td>\n      <td>OTH</td>\n      <td>(@USER, And, why, report, this, garbage, .,  ,...</td>\n      <td>[report, garbage, crap]</td>\n    </tr>\n    <tr>\n      <th>13238</th>\n      <td>27429</td>\n      <td>@USER Pussy</td>\n      <td>OFF</td>\n      <td>UNT</td>\n      <td>NaN</td>\n      <td>(@USER, Pussy)</td>\n      <td>[Pussy]</td>\n    </tr>\n  </tbody>\n</table>\n<p>4400 rows × 7 columns</p>\n</div>"
     },
     "execution_count": 19,
     "metadata": {},
     "output_type": "execute_result"
    }
   ],
   "source": [
    "tweets"
   ]
  },
  {
   "cell_type": "code",
   "execution_count": 20,
   "metadata": {
    "collapsed": false,
    "jupyter": {
     "outputs_hidden": false
    },
    "pycharm": {
     "name": "#%%\n"
    }
   },
   "outputs": [],
   "source": [
    "# for index, row in tweets.iterrows():\n",
    "#     for word in row['lemmas']:\n",
    "#         if word == '':\n",
    "#             print(index)"
   ]
  },
  {
   "cell_type": "code",
   "execution_count": 21,
   "metadata": {
    "collapsed": false,
    "jupyter": {
     "outputs_hidden": false
    },
    "pycharm": {
     "name": "#%%\n"
    }
   },
   "outputs": [],
   "source": [
    "# tweets.iloc[499, 6]"
   ]
  },
  {
   "cell_type": "code",
   "execution_count": 22,
   "metadata": {
    "collapsed": false,
    "jupyter": {
     "outputs_hidden": false
    },
    "pycharm": {
     "name": "#%%\n"
    }
   },
   "outputs": [],
   "source": [
    "# if tweets.iloc[500, 6][0] == '':\n",
    "#     print(True)"
   ]
  },
  {
   "cell_type": "code",
   "execution_count": 23,
   "metadata": {
    "collapsed": false,
    "jupyter": {
     "outputs_hidden": false
    },
    "pycharm": {
     "name": "#%%\n"
    }
   },
   "outputs": [],
   "source": [
    "# tweets.iloc[500, 6]"
   ]
  },
  {
   "cell_type": "code",
   "execution_count": 24,
   "metadata": {
    "collapsed": false,
    "jupyter": {
     "outputs_hidden": false
    },
    "pycharm": {
     "name": "#%%\n"
    }
   },
   "outputs": [],
   "source": [
    "# tweets.loc[:3,'lemmas']"
   ]
  },
  {
   "cell_type": "code",
   "execution_count": 25,
   "metadata": {
    "collapsed": false,
    "jupyter": {
     "outputs_hidden": false
    },
    "pycharm": {
     "name": "#%%\n"
    }
   },
   "outputs": [
    {
     "data": {
      "text/plain": "       id                                              tweet subtask_a  \\\n7   52415  @USER was literally just talking about this lo...       OFF   \n9   13384  @USER Canada doesn’t need another CUCK! We alr...       OFF   \n12  28414  @USER you are a lying corrupt traitor!!! Nobod...       OFF   \n19  28195  @USER @USER @USER gun control! That is all the...       OFF   \n20  56117  @USER @USER @USER @USER LOL!!!   Throwing the ...       OFF   \n22  12681  @USER @USER Kind of like when conservatives wa...       OFF   \n23  82904  @USER @USER Da fuck is going on people?   Ther...       OFF   \n25  77665  @USER Tbh these days i just don't like people ...       OFF   \n29  25440  @USER @USER @USER She?  To whom are you referr...       OFF   \n32  12609  The only thing the Democrats have is lying and...       OFF   \n36  12108  @USER @USER @USER @USER @USER @USER @USER @USE...       OFF   \n37  14726  @USER @USER @USER That's expected if you placa...       OFF   \n54  84102  4 out of 10 British people are basically full-...       OFF   \n57  98992                                     @USER Fuck off       OFF   \n59  33853  @USER @USER The prison system is so fucked.  W...       OFF   \n\n   subtask_b subtask_c                                             tokens  \\\n7        TIN       GRP  (@USER, was, literally, just, talking, about, ...   \n9        TIN       IND  (@USER, Canada, does, n’t, need, another, CUCK...   \n12       TIN       IND  (@USER, you, are, a, lying, corrupt, traitor, ...   \n19       TIN       OTH  (@USER, @USER, @USER, gun, control, !, That, i...   \n20       TIN       IND  (@USER, @USER, @USER, @USER, LOL, !, !, !,   ,...   \n22       TIN       GRP  (@USER, @USER, Kind, of, like, when, conservat...   \n23       TIN       GRP  (@USER, @USER, Da, fuck, is, going, on, people...   \n25       TIN       IND  (@USER, Tbh, these, days, i, just, do, n't, li...   \n29       UNT       NaN  (@USER, @USER, @USER, She, ?,  , To, whom, are...   \n32       TIN       GRP  (The, only, thing, the, Democrats, have, is, l...   \n36       TIN       IND  (@USER, @USER, @USER, @USER, @USER, @USER, @US...   \n37       TIN       GRP  (@USER, @USER, @USER, That, 's, expected, if, ...   \n54       TIN       GRP  (4, out, of, 10, British, people, are, basical...   \n57       TIN       IND                                 (@USER, Fuck, off)   \n59       TIN       OTH  (@USER, @USER, The, prison, system, is, so, fu...   \n\n                                               lemmas  \n7   [literally, talk, lol, mass, shooting, like, s...  \n9   [Canada, need, CUCK, LooneyLeft, Liberals, f**...  \n12  [lie, corrupt, traitor, want, hear, anymore, l...  \n19                           [gun, control, kid, ask]  \n20  [LOL, throw, BULLSHIT, Flag, nonsense, putupor...  \n22  [kind, like, conservative, wanna, associate, l...  \n23  [Da, fuck, go, people, man, room, woman, room,...  \n25  [tbh, day, like, people, general, connect, peo...  \n29  [refer, Hillary, know, tiresome, Bernie, suppo...  \n32  [thing, Democrats, lie, stall, stop, Trump, Pr...  \n36  [smart, think, Gen, Flynn, sentencing, keep, r...  \n37  [expect, placate, violent, leftist, terrorist,...  \n54  [4, 10, british, people, basically, racist, 4,...  \n57                                             [fuck]  \n59  [prison, system, fucked, get, away, potentiall...  ",
      "text/html": "<div>\n<style scoped>\n    .dataframe tbody tr th:only-of-type {\n        vertical-align: middle;\n    }\n\n    .dataframe tbody tr th {\n        vertical-align: top;\n    }\n\n    .dataframe thead th {\n        text-align: right;\n    }\n</style>\n<table border=\"1\" class=\"dataframe\">\n  <thead>\n    <tr style=\"text-align: right;\">\n      <th></th>\n      <th>id</th>\n      <th>tweet</th>\n      <th>subtask_a</th>\n      <th>subtask_b</th>\n      <th>subtask_c</th>\n      <th>tokens</th>\n      <th>lemmas</th>\n    </tr>\n  </thead>\n  <tbody>\n    <tr>\n      <th>7</th>\n      <td>52415</td>\n      <td>@USER was literally just talking about this lo...</td>\n      <td>OFF</td>\n      <td>TIN</td>\n      <td>GRP</td>\n      <td>(@USER, was, literally, just, talking, about, ...</td>\n      <td>[literally, talk, lol, mass, shooting, like, s...</td>\n    </tr>\n    <tr>\n      <th>9</th>\n      <td>13384</td>\n      <td>@USER Canada doesn’t need another CUCK! We alr...</td>\n      <td>OFF</td>\n      <td>TIN</td>\n      <td>IND</td>\n      <td>(@USER, Canada, does, n’t, need, another, CUCK...</td>\n      <td>[Canada, need, CUCK, LooneyLeft, Liberals, f**...</td>\n    </tr>\n    <tr>\n      <th>12</th>\n      <td>28414</td>\n      <td>@USER you are a lying corrupt traitor!!! Nobod...</td>\n      <td>OFF</td>\n      <td>TIN</td>\n      <td>IND</td>\n      <td>(@USER, you, are, a, lying, corrupt, traitor, ...</td>\n      <td>[lie, corrupt, traitor, want, hear, anymore, l...</td>\n    </tr>\n    <tr>\n      <th>19</th>\n      <td>28195</td>\n      <td>@USER @USER @USER gun control! That is all the...</td>\n      <td>OFF</td>\n      <td>TIN</td>\n      <td>OTH</td>\n      <td>(@USER, @USER, @USER, gun, control, !, That, i...</td>\n      <td>[gun, control, kid, ask]</td>\n    </tr>\n    <tr>\n      <th>20</th>\n      <td>56117</td>\n      <td>@USER @USER @USER @USER LOL!!!   Throwing the ...</td>\n      <td>OFF</td>\n      <td>TIN</td>\n      <td>IND</td>\n      <td>(@USER, @USER, @USER, @USER, LOL, !, !, !,   ,...</td>\n      <td>[LOL, throw, BULLSHIT, Flag, nonsense, putupor...</td>\n    </tr>\n    <tr>\n      <th>22</th>\n      <td>12681</td>\n      <td>@USER @USER Kind of like when conservatives wa...</td>\n      <td>OFF</td>\n      <td>TIN</td>\n      <td>GRP</td>\n      <td>(@USER, @USER, Kind, of, like, when, conservat...</td>\n      <td>[kind, like, conservative, wanna, associate, l...</td>\n    </tr>\n    <tr>\n      <th>23</th>\n      <td>82904</td>\n      <td>@USER @USER Da fuck is going on people?   Ther...</td>\n      <td>OFF</td>\n      <td>TIN</td>\n      <td>GRP</td>\n      <td>(@USER, @USER, Da, fuck, is, going, on, people...</td>\n      <td>[Da, fuck, go, people, man, room, woman, room,...</td>\n    </tr>\n    <tr>\n      <th>25</th>\n      <td>77665</td>\n      <td>@USER Tbh these days i just don't like people ...</td>\n      <td>OFF</td>\n      <td>TIN</td>\n      <td>IND</td>\n      <td>(@USER, Tbh, these, days, i, just, do, n't, li...</td>\n      <td>[tbh, day, like, people, general, connect, peo...</td>\n    </tr>\n    <tr>\n      <th>29</th>\n      <td>25440</td>\n      <td>@USER @USER @USER She?  To whom are you referr...</td>\n      <td>OFF</td>\n      <td>UNT</td>\n      <td>NaN</td>\n      <td>(@USER, @USER, @USER, She, ?,  , To, whom, are...</td>\n      <td>[refer, Hillary, know, tiresome, Bernie, suppo...</td>\n    </tr>\n    <tr>\n      <th>32</th>\n      <td>12609</td>\n      <td>The only thing the Democrats have is lying and...</td>\n      <td>OFF</td>\n      <td>TIN</td>\n      <td>GRP</td>\n      <td>(The, only, thing, the, Democrats, have, is, l...</td>\n      <td>[thing, Democrats, lie, stall, stop, Trump, Pr...</td>\n    </tr>\n    <tr>\n      <th>36</th>\n      <td>12108</td>\n      <td>@USER @USER @USER @USER @USER @USER @USER @USE...</td>\n      <td>OFF</td>\n      <td>TIN</td>\n      <td>IND</td>\n      <td>(@USER, @USER, @USER, @USER, @USER, @USER, @US...</td>\n      <td>[smart, think, Gen, Flynn, sentencing, keep, r...</td>\n    </tr>\n    <tr>\n      <th>37</th>\n      <td>14726</td>\n      <td>@USER @USER @USER That's expected if you placa...</td>\n      <td>OFF</td>\n      <td>TIN</td>\n      <td>GRP</td>\n      <td>(@USER, @USER, @USER, That, 's, expected, if, ...</td>\n      <td>[expect, placate, violent, leftist, terrorist,...</td>\n    </tr>\n    <tr>\n      <th>54</th>\n      <td>84102</td>\n      <td>4 out of 10 British people are basically full-...</td>\n      <td>OFF</td>\n      <td>TIN</td>\n      <td>GRP</td>\n      <td>(4, out, of, 10, British, people, are, basical...</td>\n      <td>[4, 10, british, people, basically, racist, 4,...</td>\n    </tr>\n    <tr>\n      <th>57</th>\n      <td>98992</td>\n      <td>@USER Fuck off</td>\n      <td>OFF</td>\n      <td>TIN</td>\n      <td>IND</td>\n      <td>(@USER, Fuck, off)</td>\n      <td>[fuck]</td>\n    </tr>\n    <tr>\n      <th>59</th>\n      <td>33853</td>\n      <td>@USER @USER The prison system is so fucked.  W...</td>\n      <td>OFF</td>\n      <td>TIN</td>\n      <td>OTH</td>\n      <td>(@USER, @USER, The, prison, system, is, so, fu...</td>\n      <td>[prison, system, fucked, get, away, potentiall...</td>\n    </tr>\n  </tbody>\n</table>\n</div>"
     },
     "execution_count": 25,
     "metadata": {},
     "output_type": "execute_result"
    }
   ],
   "source": [
    "tweets.iloc[5:20]"
   ]
  },
  {
   "cell_type": "code",
   "execution_count": 26,
   "metadata": {
    "collapsed": false,
    "jupyter": {
     "outputs_hidden": false
    },
    "pycharm": {
     "name": "#%%\n"
    }
   },
   "outputs": [],
   "source": [
    "tweets['length_lemmas'] = tweets['lemmas'].apply(lambda row: len(row))"
   ]
  },
  {
   "cell_type": "code",
   "execution_count": 27,
   "metadata": {
    "collapsed": false,
    "jupyter": {
     "outputs_hidden": false
    },
    "pycharm": {
     "name": "#%%\n"
    }
   },
   "outputs": [
    {
     "data": {
      "text/plain": "0     3\n1     8\n3     5\n5     2\n6     4\n7    16\n9    10\nName: length_lemmas, dtype: int64"
     },
     "execution_count": 27,
     "metadata": {},
     "output_type": "execute_result"
    }
   ],
   "source": [
    "tweets.loc[:10, 'length_lemmas']"
   ]
  },
  {
   "cell_type": "code",
   "execution_count": 28,
   "metadata": {
    "collapsed": false,
    "jupyter": {
     "outputs_hidden": false
    },
    "pycharm": {
     "name": "#%%\n"
    }
   },
   "outputs": [],
   "source": [
    "max_length_tweet = max(tweets['length_lemmas'])"
   ]
  },
  {
   "cell_type": "markdown",
   "metadata": {
    "pycharm": {
     "name": "#%% md\n"
    }
   },
   "source": [
    "## Ładowanie danych testowych(b)"
   ]
  },
  {
   "cell_type": "code",
   "execution_count": 29,
   "metadata": {
    "collapsed": false,
    "jupyter": {
     "outputs_hidden": false
    },
    "pycharm": {
     "name": "#%%\n"
    }
   },
   "outputs": [],
   "source": [
    "test_level_b = pd.read_csv('data/testset-levelb.tsv', sep='\\t')"
   ]
  },
  {
   "cell_type": "code",
   "execution_count": 30,
   "metadata": {
    "collapsed": false,
    "jupyter": {
     "outputs_hidden": false
    },
    "pycharm": {
     "name": "#%%\n"
    }
   },
   "outputs": [],
   "source": [
    "labels_level_b = pd.read_csv('data/labels-levelb.csv', header=None)"
   ]
  },
  {
   "cell_type": "code",
   "execution_count": 31,
   "metadata": {
    "collapsed": false,
    "jupyter": {
     "outputs_hidden": false
    },
    "pycharm": {
     "name": "#%%\n"
    }
   },
   "outputs": [],
   "source": [
    "labels_level_b = labels_level_b.rename(columns={0:'id', 1:'subtask_b'})"
   ]
  },
  {
   "cell_type": "code",
   "execution_count": 32,
   "metadata": {
    "collapsed": false,
    "jupyter": {
     "outputs_hidden": false
    },
    "pycharm": {
     "name": "#%%\n"
    }
   },
   "outputs": [],
   "source": [
    "test_b = pd.merge(test_level_b, labels_level_b, on = \"id\", how = \"inner\")"
   ]
  },
  {
   "cell_type": "code",
   "execution_count": 33,
   "metadata": {
    "collapsed": false,
    "jupyter": {
     "outputs_hidden": false
    },
    "pycharm": {
     "name": "#%%\n"
    }
   },
   "outputs": [
    {
     "data": {
      "text/plain": "      id                                              tweet subtask_b\n0  15923  #WhoIsQ #WheresTheServer #DumpNike #DECLASFISA...       TIN\n1  60133  #NoPasaran: Unity demo to oppose the far-right...       TIN\n2  83681           . . . What the fuck did he do this time?       TIN\n3  65507  @USER Do you get the feeling he is kissing @US...       TIN\n4  12588                        @USER Nigga ware da hits at       UNT",
      "text/html": "<div>\n<style scoped>\n    .dataframe tbody tr th:only-of-type {\n        vertical-align: middle;\n    }\n\n    .dataframe tbody tr th {\n        vertical-align: top;\n    }\n\n    .dataframe thead th {\n        text-align: right;\n    }\n</style>\n<table border=\"1\" class=\"dataframe\">\n  <thead>\n    <tr style=\"text-align: right;\">\n      <th></th>\n      <th>id</th>\n      <th>tweet</th>\n      <th>subtask_b</th>\n    </tr>\n  </thead>\n  <tbody>\n    <tr>\n      <th>0</th>\n      <td>15923</td>\n      <td>#WhoIsQ #WheresTheServer #DumpNike #DECLASFISA...</td>\n      <td>TIN</td>\n    </tr>\n    <tr>\n      <th>1</th>\n      <td>60133</td>\n      <td>#NoPasaran: Unity demo to oppose the far-right...</td>\n      <td>TIN</td>\n    </tr>\n    <tr>\n      <th>2</th>\n      <td>83681</td>\n      <td>. . . What the fuck did he do this time?</td>\n      <td>TIN</td>\n    </tr>\n    <tr>\n      <th>3</th>\n      <td>65507</td>\n      <td>@USER Do you get the feeling he is kissing @US...</td>\n      <td>TIN</td>\n    </tr>\n    <tr>\n      <th>4</th>\n      <td>12588</td>\n      <td>@USER Nigga ware da hits at</td>\n      <td>UNT</td>\n    </tr>\n  </tbody>\n</table>\n</div>"
     },
     "execution_count": 33,
     "metadata": {},
     "output_type": "execute_result"
    }
   ],
   "source": [
    "test_b.head()"
   ]
  },
  {
   "cell_type": "code",
   "execution_count": 34,
   "metadata": {
    "collapsed": false,
    "jupyter": {
     "outputs_hidden": false
    },
    "pycharm": {
     "name": "#%%\n"
    }
   },
   "outputs": [
    {
     "data": {
      "text/plain": "240"
     },
     "execution_count": 34,
     "metadata": {},
     "output_type": "execute_result"
    }
   ],
   "source": [
    "len(test_b)"
   ]
  },
  {
   "cell_type": "code",
   "execution_count": 35,
   "metadata": {},
   "outputs": [],
   "source": [
    "test_b = test_b.dropna(subset=['subtask_b'])"
   ]
  },
  {
   "cell_type": "code",
   "execution_count": 36,
   "metadata": {},
   "outputs": [
    {
     "data": {
      "text/plain": "240"
     },
     "execution_count": 36,
     "metadata": {},
     "output_type": "execute_result"
    }
   ],
   "source": [
    "len(test_b)"
   ]
  },
  {
   "cell_type": "markdown",
   "metadata": {},
   "source": [
    "### Opracowanie danych testowych (część a)\n",
    "Takie same modyfikacje jak dla danych treningowych"
   ]
  },
  {
   "cell_type": "code",
   "execution_count": 37,
   "metadata": {
    "collapsed": false,
    "jupyter": {
     "outputs_hidden": false
    },
    "pycharm": {
     "name": "#%%\n"
    }
   },
   "outputs": [],
   "source": [
    "test_b['tokens'] = test_b['tweet'].apply(nlp)\n",
    "test_b['lemmas'] = test_b['tokens'].apply \\\n",
    "    (lambda list_tokens : [token.lemma_.strip() for token in list_tokens if ('@' not in token.lemma_\n",
    "                                                                             and '#' not in token.lemma_ and 'url' not in token.lemma_\n",
    "                                                                             and not token.is_stop and not token.is_punct and token.lemma_ != ' '\n",
    "                                                                             and token.lemma_ != '  ' and token.lemma_ != '   '\n",
    "                                                                             and token.lemma_ != '    ' and token.lemma_.strip() != '')])\n",
    "\n"
   ]
  },
  {
   "cell_type": "code",
   "execution_count": 37,
   "metadata": {
    "collapsed": false,
    "jupyter": {
     "outputs_hidden": false
    },
    "pycharm": {
     "name": "#%%\n"
    }
   },
   "outputs": [],
   "source": []
  },
  {
   "cell_type": "code",
   "execution_count": 38,
   "metadata": {
    "collapsed": false,
    "jupyter": {
     "outputs_hidden": false
    },
    "pycharm": {
     "name": "#%%\n"
    }
   },
   "outputs": [],
   "source": [
    "test_b['length_lemmas'] = test_b['lemmas'].apply(lambda row: len(row))"
   ]
  },
  {
   "cell_type": "code",
   "execution_count": 39,
   "metadata": {
    "collapsed": false,
    "jupyter": {
     "outputs_hidden": false
    },
    "pycharm": {
     "name": "#%%\n"
    }
   },
   "outputs": [
    {
     "data": {
      "text/plain": "40"
     },
     "execution_count": 39,
     "metadata": {},
     "output_type": "execute_result"
    }
   ],
   "source": [
    "max(test_b['length_lemmas'])"
   ]
  },
  {
   "cell_type": "code",
   "execution_count": 40,
   "metadata": {
    "collapsed": false,
    "jupyter": {
     "outputs_hidden": false
    },
    "pycharm": {
     "name": "#%%\n"
    }
   },
   "outputs": [
    {
     "data": {
      "text/plain": "      id                                              tweet subtask_b  \\\n0  15923  #WhoIsQ #WheresTheServer #DumpNike #DECLASFISA...       TIN   \n1  60133  #NoPasaran: Unity demo to oppose the far-right...       TIN   \n2  83681           . . . What the fuck did he do this time?       TIN   \n3  65507  @USER Do you get the feeling he is kissing @US...       TIN   \n4  12588                        @USER Nigga ware da hits at       UNT   \n\n                                              tokens  \\\n0  (#, WhoIsQ, #, WheresTheServer, #, DumpNike, #...   \n1  (#, NoPasaran, :, Unity, demo, to, oppose, the...   \n2  (., ., ., What, the, fuck, did, he, do, this, ...   \n3  (@USER, Do, you, get, the, feeling, he, is, ki...   \n4                 (@USER, Nigga, ware, da, hits, at)   \n\n                                              lemmas  length_lemmas  \n0  [WhoIsQ, wherestheserver, DumpNike, DECLASFISA...             24  \n1  [NoPasaran, unity, demo, oppose, far, right, L...              9  \n2                                       [fuck, time]              2  \n3                  [feeling, kiss, humiliate, later]              4  \n4                             [Nigga, ware, da, hit]              4  ",
      "text/html": "<div>\n<style scoped>\n    .dataframe tbody tr th:only-of-type {\n        vertical-align: middle;\n    }\n\n    .dataframe tbody tr th {\n        vertical-align: top;\n    }\n\n    .dataframe thead th {\n        text-align: right;\n    }\n</style>\n<table border=\"1\" class=\"dataframe\">\n  <thead>\n    <tr style=\"text-align: right;\">\n      <th></th>\n      <th>id</th>\n      <th>tweet</th>\n      <th>subtask_b</th>\n      <th>tokens</th>\n      <th>lemmas</th>\n      <th>length_lemmas</th>\n    </tr>\n  </thead>\n  <tbody>\n    <tr>\n      <th>0</th>\n      <td>15923</td>\n      <td>#WhoIsQ #WheresTheServer #DumpNike #DECLASFISA...</td>\n      <td>TIN</td>\n      <td>(#, WhoIsQ, #, WheresTheServer, #, DumpNike, #...</td>\n      <td>[WhoIsQ, wherestheserver, DumpNike, DECLASFISA...</td>\n      <td>24</td>\n    </tr>\n    <tr>\n      <th>1</th>\n      <td>60133</td>\n      <td>#NoPasaran: Unity demo to oppose the far-right...</td>\n      <td>TIN</td>\n      <td>(#, NoPasaran, :, Unity, demo, to, oppose, the...</td>\n      <td>[NoPasaran, unity, demo, oppose, far, right, L...</td>\n      <td>9</td>\n    </tr>\n    <tr>\n      <th>2</th>\n      <td>83681</td>\n      <td>. . . What the fuck did he do this time?</td>\n      <td>TIN</td>\n      <td>(., ., ., What, the, fuck, did, he, do, this, ...</td>\n      <td>[fuck, time]</td>\n      <td>2</td>\n    </tr>\n    <tr>\n      <th>3</th>\n      <td>65507</td>\n      <td>@USER Do you get the feeling he is kissing @US...</td>\n      <td>TIN</td>\n      <td>(@USER, Do, you, get, the, feeling, he, is, ki...</td>\n      <td>[feeling, kiss, humiliate, later]</td>\n      <td>4</td>\n    </tr>\n    <tr>\n      <th>4</th>\n      <td>12588</td>\n      <td>@USER Nigga ware da hits at</td>\n      <td>UNT</td>\n      <td>(@USER, Nigga, ware, da, hits, at)</td>\n      <td>[Nigga, ware, da, hit]</td>\n      <td>4</td>\n    </tr>\n  </tbody>\n</table>\n</div>"
     },
     "execution_count": 40,
     "metadata": {},
     "output_type": "execute_result"
    }
   ],
   "source": [
    "test_b.head()"
   ]
  },
  {
   "cell_type": "code",
   "execution_count": 41,
   "metadata": {
    "collapsed": false,
    "jupyter": {
     "outputs_hidden": false
    },
    "pycharm": {
     "name": "#%%\n"
    }
   },
   "outputs": [
    {
     "data": {
      "text/plain": "240"
     },
     "execution_count": 41,
     "metadata": {},
     "output_type": "execute_result"
    }
   ],
   "source": [
    "len(test_b)"
   ]
  },
  {
   "cell_type": "code",
   "execution_count": 42,
   "metadata": {
    "collapsed": false,
    "jupyter": {
     "outputs_hidden": false
    },
    "pycharm": {
     "name": "#%%\n"
    }
   },
   "outputs": [],
   "source": [
    "max_length_tweet_test = max(test_b['length_lemmas'])"
   ]
  },
  {
   "cell_type": "code",
   "execution_count": 43,
   "metadata": {
    "collapsed": false,
    "jupyter": {
     "outputs_hidden": false
    },
    "pycharm": {
     "name": "#%%\n"
    }
   },
   "outputs": [
    {
     "data": {
      "text/plain": "40"
     },
     "execution_count": 43,
     "metadata": {},
     "output_type": "execute_result"
    }
   ],
   "source": [
    "max_length_tweet_test"
   ]
  },
  {
   "cell_type": "code",
   "execution_count": 43,
   "metadata": {
    "collapsed": false,
    "jupyter": {
     "outputs_hidden": false
    },
    "pycharm": {
     "name": "#%%\n"
    }
   },
   "outputs": [],
   "source": []
  },
  {
   "cell_type": "markdown",
   "metadata": {
    "pycharm": {
     "name": "#%% md\n"
    }
   },
   "source": [
    "#### Maksymalna długość wektora z lematami z tweetów"
   ]
  },
  {
   "cell_type": "code",
   "execution_count": 44,
   "metadata": {
    "collapsed": false,
    "jupyter": {
     "outputs_hidden": false
    },
    "pycharm": {
     "name": "#%%\n"
    }
   },
   "outputs": [],
   "source": [
    "max_width = max(max_length_tweet, max_length_tweet_test)"
   ]
  },
  {
   "cell_type": "markdown",
   "metadata": {
    "pycharm": {
     "name": "#%% md\n"
    }
   },
   "source": [
    "## Funkcje do przekszałcania danych"
   ]
  },
  {
   "cell_type": "code",
   "execution_count": 45,
   "metadata": {
    "collapsed": false,
    "jupyter": {
     "outputs_hidden": false
    },
    "pycharm": {
     "name": "#%%\n"
    }
   },
   "outputs": [],
   "source": [
    "def convert_words_to_numbers(lemmas_series, dict_ = dict()):\n",
    "    # dict_ = dict()\n",
    "    for row in lemmas_series:\n",
    "        for lemma in row:\n",
    "            if lemma not in dict_:\n",
    "                dict_[lemma] = len(dict_) + 1\n",
    "\n",
    "    return dict_"
   ]
  },
  {
   "cell_type": "code",
   "execution_count": 46,
   "metadata": {
    "collapsed": false,
    "jupyter": {
     "outputs_hidden": false
    },
    "pycharm": {
     "name": "#%%\n"
    }
   },
   "outputs": [],
   "source": [
    "def lemmas_to_numbers(row, max_list_lemmas, dict_):\n",
    "    list_numbers = []\n",
    "    for i in range(max_list_lemmas - len(row)):\n",
    "        list_numbers.append(0)\n",
    "\n",
    "    for lemma in row:\n",
    "        list_numbers.append(dict_[lemma])\n",
    "\n",
    "    array_numbers = np.array(list_numbers, dtype=np.int32)\n",
    "    return array_numbers"
   ]
  },
  {
   "cell_type": "markdown",
   "metadata": {
    "pycharm": {
     "name": "#%% md\n"
    }
   },
   "source": [
    "## Powrót do opracowywania danych treningowych"
   ]
  },
  {
   "cell_type": "code",
   "execution_count": 46,
   "metadata": {
    "collapsed": false,
    "jupyter": {
     "outputs_hidden": false
    },
    "pycharm": {
     "name": "#%%\n"
    }
   },
   "outputs": [],
   "source": []
  },
  {
   "cell_type": "code",
   "execution_count": 47,
   "metadata": {
    "collapsed": false,
    "jupyter": {
     "outputs_hidden": false
    },
    "pycharm": {
     "name": "#%%\n"
    }
   },
   "outputs": [],
   "source": [
    "dict_lemmas = convert_words_to_numbers(tweets['lemmas'])"
   ]
  },
  {
   "cell_type": "code",
   "execution_count": 48,
   "metadata": {
    "collapsed": false,
    "jupyter": {
     "outputs_hidden": false
    },
    "pycharm": {
     "name": "#%%\n"
    }
   },
   "outputs": [
    {
     "data": {
      "text/plain": "['$',\n \"'em\",\n '+',\n '-Antifa',\n '-Awkward',\n '-Bill',\n '-GOP',\n '-Human',\n '-I',\n '-Illegal']"
     },
     "execution_count": 48,
     "metadata": {},
     "output_type": "execute_result"
    }
   ],
   "source": [
    "sorted(dict_lemmas)[:10]"
   ]
  },
  {
   "cell_type": "code",
   "execution_count": 49,
   "metadata": {
    "collapsed": false,
    "jupyter": {
     "outputs_hidden": false
    },
    "pycharm": {
     "name": "#%%\n"
    }
   },
   "outputs": [],
   "source": [
    "# zamiana lematu na liczbe ze slownika ktory odpowiada danemu slowu\n",
    "tweets['numbers'] = tweets['lemmas'].apply(lambda row : lemmas_to_numbers(row, max_width, dict_lemmas))"
   ]
  },
  {
   "cell_type": "code",
   "execution_count": 50,
   "metadata": {
    "collapsed": false,
    "jupyter": {
     "outputs_hidden": false
    },
    "pycharm": {
     "name": "#%%\n"
    }
   },
   "outputs": [
    {
     "data": {
      "text/plain": "0    [0, 0, 0, 0, 0, 0, 0, 0, 0, 0, 0, 0, 0, 0, 0, ...\n1    [0, 0, 0, 0, 0, 0, 0, 0, 0, 0, 0, 0, 0, 0, 0, ...\n3    [0, 0, 0, 0, 0, 0, 0, 0, 0, 0, 0, 0, 0, 0, 0, ...\n5    [0, 0, 0, 0, 0, 0, 0, 0, 0, 0, 0, 0, 0, 0, 0, ...\n6    [0, 0, 0, 0, 0, 0, 0, 0, 0, 0, 0, 0, 0, 0, 0, ...\nName: numbers, dtype: object"
     },
     "execution_count": 50,
     "metadata": {},
     "output_type": "execute_result"
    }
   ],
   "source": [
    "tweets['numbers'].head()"
   ]
  },
  {
   "cell_type": "code",
   "execution_count": 51,
   "metadata": {
    "collapsed": false,
    "jupyter": {
     "outputs_hidden": false
    },
    "pycharm": {
     "name": "#%%\n"
    }
   },
   "outputs": [],
   "source": [
    "# przypisywanie X_train kolumny numbers skonwertowanej na tablice numpy\n",
    "X_train = tweets['numbers'].values"
   ]
  },
  {
   "cell_type": "code",
   "execution_count": 52,
   "metadata": {
    "collapsed": false,
    "jupyter": {
     "outputs_hidden": false
    },
    "pycharm": {
     "name": "#%%\n"
    }
   },
   "outputs": [],
   "source": [
    "# łączenie wierszy tablic w jedną tablicę 2D\n",
    "X_train = np.stack(X_train)"
   ]
  },
  {
   "cell_type": "code",
   "execution_count": 53,
   "metadata": {
    "collapsed": false,
    "jupyter": {
     "outputs_hidden": false
    },
    "pycharm": {
     "name": "#%%\n"
    }
   },
   "outputs": [],
   "source": [
    "# konwertowanie tablicy 2d do tensora\n",
    "X_train = torch.FloatTensor(X_train)"
   ]
  },
  {
   "cell_type": "code",
   "execution_count": 54,
   "metadata": {
    "collapsed": false,
    "jupyter": {
     "outputs_hidden": false
    },
    "pycharm": {
     "name": "#%%\n"
    }
   },
   "outputs": [],
   "source": [
    "# ustawianie kolumn z etykietami na poszczególne zadania jako type które przechowują kategorie"
   ]
  },
  {
   "cell_type": "code",
   "execution_count": 55,
   "metadata": {
    "collapsed": false,
    "jupyter": {
     "outputs_hidden": false
    },
    "pycharm": {
     "name": "#%%\n"
    }
   },
   "outputs": [],
   "source": [
    "cat_cols = ['subtask_a', 'subtask_b', 'subtask_c']"
   ]
  },
  {
   "cell_type": "code",
   "execution_count": 56,
   "metadata": {
    "collapsed": false,
    "jupyter": {
     "outputs_hidden": false
    },
    "pycharm": {
     "name": "#%%\n"
    }
   },
   "outputs": [],
   "source": [
    "for col in cat_cols:\n",
    "    tweets[col] = tweets[col].astype('category')"
   ]
  },
  {
   "cell_type": "code",
   "execution_count": 57,
   "metadata": {
    "collapsed": false,
    "jupyter": {
     "outputs_hidden": false
    },
    "pycharm": {
     "name": "#%%\n"
    }
   },
   "outputs": [],
   "source": [
    "tweets['labels_b'] = tweets['subtask_b'].cat.codes"
   ]
  },
  {
   "cell_type": "code",
   "execution_count": 58,
   "metadata": {
    "collapsed": false,
    "jupyter": {
     "outputs_hidden": false
    },
    "pycharm": {
     "name": "#%%\n"
    }
   },
   "outputs": [
    {
     "data": {
      "text/plain": "0    1\n1    0\n3    1\n5    0\nName: labels_b, dtype: int8"
     },
     "execution_count": 58,
     "metadata": {},
     "output_type": "execute_result"
    }
   ],
   "source": [
    "# OFFENSIVE jest jako 1, a NOT OFFENSIVE jest jako 0\n",
    "tweets.loc[:5, 'labels_b']"
   ]
  },
  {
   "cell_type": "code",
   "execution_count": 59,
   "metadata": {
    "collapsed": false,
    "jupyter": {
     "outputs_hidden": false
    },
    "pycharm": {
     "name": "#%%\n"
    }
   },
   "outputs": [
    {
     "data": {
      "text/plain": "          id                                              tweet subtask_a  \\\n0      86426  @USER She should ask a few native Americans wh...       OFF   \n1      90194  @USER @USER Go home you’re drunk!!! @USER #MAG...       OFF   \n3      62688  @USER Someone should'veTaken\" this piece of sh...       OFF   \n5      97670                  @USER Liberals are all Kookoo !!!       OFF   \n6      77444                   @USER @USER Oh noes! Tough shit.       OFF   \n...      ...                                                ...       ...   \n13223  63482  @USER is advocating for conduct within bounds ...       OFF   \n13227  87416  @USER @USER @USER @USER Liars like the Antifa ...       OFF   \n13235  95338  @USER Sometimes I get strong vibes from people...       OFF   \n13237  82921  @USER And why report this garbage.  We don't g...       OFF   \n13238  27429                                        @USER Pussy       OFF   \n\n      subtask_b subtask_c                                             tokens  \\\n0           UNT       NaN  (@USER, She, should, ask, a, few, native, Amer...   \n1           TIN       IND  (@USER, @USER, Go, home, you, ’re, drunk, !, !...   \n3           UNT       NaN  (@USER, Someone, should'veTaken, \", this, piec...   \n5           TIN       OTH       (@USER, Liberals, are, all, Kookoo, !, !, !)   \n6           UNT       NaN        (@USER, @USER, Oh, noes, !, Tough, shit, .)   \n...         ...       ...                                                ...   \n13223       TIN       GRP  (@USER, is, advocating, for, conduct, within, ...   \n13227       TIN       GRP  (@USER, @USER, @USER, @USER, Liars, like, the,...   \n13235       TIN       IND  (@USER, Sometimes, I, get, strong, vibes, from...   \n13237       TIN       OTH  (@USER, And, why, report, this, garbage, .,  ,...   \n13238       UNT       NaN                                     (@USER, Pussy)   \n\n                                                  lemmas  length_lemmas  \\\n0                               [ask, native, Americans]              3   \n1             [home, drunk, MAGA, Trump2020, 👊, 🇺, 🇸, 👊]              8   \n3              [should'vetaken, piece, shit, volcano, 😂]              5   \n5                                      [liberal, Kookoo]              2   \n6                                  [oh, no, tough, shit]              4   \n...                                                  ...            ...   \n13223  [advocate, conduct, bound, Human, Rights, terr...             23   \n13227     [liar, like, Antifa, twin, vigorously, defend]              6   \n13235  [strong, vibe, people, man, vibe, ten, million...             10   \n13237                            [report, garbage, crap]              3   \n13238                                            [Pussy]              1   \n\n                                                 numbers  labels_b  \n0      [0, 0, 0, 0, 0, 0, 0, 0, 0, 0, 0, 0, 0, 0, 0, ...         1  \n1      [0, 0, 0, 0, 0, 0, 0, 0, 0, 0, 0, 0, 0, 0, 0, ...         0  \n3      [0, 0, 0, 0, 0, 0, 0, 0, 0, 0, 0, 0, 0, 0, 0, ...         1  \n5      [0, 0, 0, 0, 0, 0, 0, 0, 0, 0, 0, 0, 0, 0, 0, ...         0  \n6      [0, 0, 0, 0, 0, 0, 0, 0, 0, 0, 0, 0, 0, 0, 0, ...         1  \n...                                                  ...       ...  \n13223  [0, 0, 0, 0, 0, 0, 0, 0, 0, 0, 0, 0, 0, 0, 0, ...         0  \n13227  [0, 0, 0, 0, 0, 0, 0, 0, 0, 0, 0, 0, 0, 0, 0, ...         0  \n13235  [0, 0, 0, 0, 0, 0, 0, 0, 0, 0, 0, 0, 0, 0, 0, ...         0  \n13237  [0, 0, 0, 0, 0, 0, 0, 0, 0, 0, 0, 0, 0, 0, 0, ...         0  \n13238  [0, 0, 0, 0, 0, 0, 0, 0, 0, 0, 0, 0, 0, 0, 0, ...         1  \n\n[4400 rows x 10 columns]",
      "text/html": "<div>\n<style scoped>\n    .dataframe tbody tr th:only-of-type {\n        vertical-align: middle;\n    }\n\n    .dataframe tbody tr th {\n        vertical-align: top;\n    }\n\n    .dataframe thead th {\n        text-align: right;\n    }\n</style>\n<table border=\"1\" class=\"dataframe\">\n  <thead>\n    <tr style=\"text-align: right;\">\n      <th></th>\n      <th>id</th>\n      <th>tweet</th>\n      <th>subtask_a</th>\n      <th>subtask_b</th>\n      <th>subtask_c</th>\n      <th>tokens</th>\n      <th>lemmas</th>\n      <th>length_lemmas</th>\n      <th>numbers</th>\n      <th>labels_b</th>\n    </tr>\n  </thead>\n  <tbody>\n    <tr>\n      <th>0</th>\n      <td>86426</td>\n      <td>@USER She should ask a few native Americans wh...</td>\n      <td>OFF</td>\n      <td>UNT</td>\n      <td>NaN</td>\n      <td>(@USER, She, should, ask, a, few, native, Amer...</td>\n      <td>[ask, native, Americans]</td>\n      <td>3</td>\n      <td>[0, 0, 0, 0, 0, 0, 0, 0, 0, 0, 0, 0, 0, 0, 0, ...</td>\n      <td>1</td>\n    </tr>\n    <tr>\n      <th>1</th>\n      <td>90194</td>\n      <td>@USER @USER Go home you’re drunk!!! @USER #MAG...</td>\n      <td>OFF</td>\n      <td>TIN</td>\n      <td>IND</td>\n      <td>(@USER, @USER, Go, home, you, ’re, drunk, !, !...</td>\n      <td>[home, drunk, MAGA, Trump2020, 👊, 🇺, 🇸, 👊]</td>\n      <td>8</td>\n      <td>[0, 0, 0, 0, 0, 0, 0, 0, 0, 0, 0, 0, 0, 0, 0, ...</td>\n      <td>0</td>\n    </tr>\n    <tr>\n      <th>3</th>\n      <td>62688</td>\n      <td>@USER Someone should'veTaken\" this piece of sh...</td>\n      <td>OFF</td>\n      <td>UNT</td>\n      <td>NaN</td>\n      <td>(@USER, Someone, should'veTaken, \", this, piec...</td>\n      <td>[should'vetaken, piece, shit, volcano, 😂]</td>\n      <td>5</td>\n      <td>[0, 0, 0, 0, 0, 0, 0, 0, 0, 0, 0, 0, 0, 0, 0, ...</td>\n      <td>1</td>\n    </tr>\n    <tr>\n      <th>5</th>\n      <td>97670</td>\n      <td>@USER Liberals are all Kookoo !!!</td>\n      <td>OFF</td>\n      <td>TIN</td>\n      <td>OTH</td>\n      <td>(@USER, Liberals, are, all, Kookoo, !, !, !)</td>\n      <td>[liberal, Kookoo]</td>\n      <td>2</td>\n      <td>[0, 0, 0, 0, 0, 0, 0, 0, 0, 0, 0, 0, 0, 0, 0, ...</td>\n      <td>0</td>\n    </tr>\n    <tr>\n      <th>6</th>\n      <td>77444</td>\n      <td>@USER @USER Oh noes! Tough shit.</td>\n      <td>OFF</td>\n      <td>UNT</td>\n      <td>NaN</td>\n      <td>(@USER, @USER, Oh, noes, !, Tough, shit, .)</td>\n      <td>[oh, no, tough, shit]</td>\n      <td>4</td>\n      <td>[0, 0, 0, 0, 0, 0, 0, 0, 0, 0, 0, 0, 0, 0, 0, ...</td>\n      <td>1</td>\n    </tr>\n    <tr>\n      <th>...</th>\n      <td>...</td>\n      <td>...</td>\n      <td>...</td>\n      <td>...</td>\n      <td>...</td>\n      <td>...</td>\n      <td>...</td>\n      <td>...</td>\n      <td>...</td>\n      <td>...</td>\n    </tr>\n    <tr>\n      <th>13223</th>\n      <td>63482</td>\n      <td>@USER is advocating for conduct within bounds ...</td>\n      <td>OFF</td>\n      <td>TIN</td>\n      <td>GRP</td>\n      <td>(@USER, is, advocating, for, conduct, within, ...</td>\n      <td>[advocate, conduct, bound, Human, Rights, terr...</td>\n      <td>23</td>\n      <td>[0, 0, 0, 0, 0, 0, 0, 0, 0, 0, 0, 0, 0, 0, 0, ...</td>\n      <td>0</td>\n    </tr>\n    <tr>\n      <th>13227</th>\n      <td>87416</td>\n      <td>@USER @USER @USER @USER Liars like the Antifa ...</td>\n      <td>OFF</td>\n      <td>TIN</td>\n      <td>GRP</td>\n      <td>(@USER, @USER, @USER, @USER, Liars, like, the,...</td>\n      <td>[liar, like, Antifa, twin, vigorously, defend]</td>\n      <td>6</td>\n      <td>[0, 0, 0, 0, 0, 0, 0, 0, 0, 0, 0, 0, 0, 0, 0, ...</td>\n      <td>0</td>\n    </tr>\n    <tr>\n      <th>13235</th>\n      <td>95338</td>\n      <td>@USER Sometimes I get strong vibes from people...</td>\n      <td>OFF</td>\n      <td>TIN</td>\n      <td>IND</td>\n      <td>(@USER, Sometimes, I, get, strong, vibes, from...</td>\n      <td>[strong, vibe, people, man, vibe, ten, million...</td>\n      <td>10</td>\n      <td>[0, 0, 0, 0, 0, 0, 0, 0, 0, 0, 0, 0, 0, 0, 0, ...</td>\n      <td>0</td>\n    </tr>\n    <tr>\n      <th>13237</th>\n      <td>82921</td>\n      <td>@USER And why report this garbage.  We don't g...</td>\n      <td>OFF</td>\n      <td>TIN</td>\n      <td>OTH</td>\n      <td>(@USER, And, why, report, this, garbage, .,  ,...</td>\n      <td>[report, garbage, crap]</td>\n      <td>3</td>\n      <td>[0, 0, 0, 0, 0, 0, 0, 0, 0, 0, 0, 0, 0, 0, 0, ...</td>\n      <td>0</td>\n    </tr>\n    <tr>\n      <th>13238</th>\n      <td>27429</td>\n      <td>@USER Pussy</td>\n      <td>OFF</td>\n      <td>UNT</td>\n      <td>NaN</td>\n      <td>(@USER, Pussy)</td>\n      <td>[Pussy]</td>\n      <td>1</td>\n      <td>[0, 0, 0, 0, 0, 0, 0, 0, 0, 0, 0, 0, 0, 0, 0, ...</td>\n      <td>1</td>\n    </tr>\n  </tbody>\n</table>\n<p>4400 rows × 10 columns</p>\n</div>"
     },
     "execution_count": 59,
     "metadata": {},
     "output_type": "execute_result"
    }
   ],
   "source": [
    "tweets"
   ]
  },
  {
   "cell_type": "code",
   "execution_count": 60,
   "metadata": {
    "collapsed": false,
    "jupyter": {
     "outputs_hidden": false
    },
    "pycharm": {
     "name": "#%%\n"
    }
   },
   "outputs": [
    {
     "data": {
      "text/plain": "id                                                           86426\ntweet            @USER She should ask a few native Americans wh...\nsubtask_a                                                      OFF\nsubtask_b                                                      UNT\nsubtask_c                                                      NaN\ntokens           (@USER, She, should, ask, a, few, native, Amer...\nlemmas                                    [ask, native, Americans]\nlength_lemmas                                                    3\nnumbers          [0, 0, 0, 0, 0, 0, 0, 0, 0, 0, 0, 0, 0, 0, 0, ...\nlabels_b                                                         1\nName: 0, dtype: object"
     },
     "execution_count": 60,
     "metadata": {},
     "output_type": "execute_result"
    }
   ],
   "source": [
    "tweets.iloc[0]"
   ]
  },
  {
   "cell_type": "code",
   "execution_count": 61,
   "metadata": {
    "collapsed": false,
    "jupyter": {
     "outputs_hidden": false
    },
    "pycharm": {
     "name": "#%%\n"
    }
   },
   "outputs": [],
   "source": [
    "y_train = tweets['labels_b'].values"
   ]
  },
  {
   "cell_type": "code",
   "execution_count": 62,
   "metadata": {
    "collapsed": false,
    "jupyter": {
     "outputs_hidden": false
    },
    "pycharm": {
     "name": "#%%\n"
    }
   },
   "outputs": [],
   "source": [
    "y_train = torch.tensor(y_train).reshape(-1,1)"
   ]
  },
  {
   "cell_type": "code",
   "execution_count": 63,
   "metadata": {
    "collapsed": false,
    "jupyter": {
     "outputs_hidden": false
    },
    "pycharm": {
     "name": "#%%\n"
    }
   },
   "outputs": [
    {
     "data": {
      "text/plain": "tensor([[1],\n        [0],\n        [1],\n        [0],\n        [1]], dtype=torch.int8)"
     },
     "execution_count": 63,
     "metadata": {},
     "output_type": "execute_result"
    }
   ],
   "source": [
    "y_train[:5]"
   ]
  },
  {
   "cell_type": "code",
   "execution_count": 64,
   "metadata": {
    "collapsed": false,
    "jupyter": {
     "outputs_hidden": false
    },
    "pycharm": {
     "name": "#%%\n"
    }
   },
   "outputs": [],
   "source": [
    "data = torch.cat((X_train, y_train), axis=1)"
   ]
  },
  {
   "cell_type": "code",
   "execution_count": 65,
   "metadata": {
    "collapsed": false,
    "jupyter": {
     "outputs_hidden": false
    },
    "pycharm": {
     "name": "#%%\n"
    }
   },
   "outputs": [],
   "source": [
    "data = data.to(device)"
   ]
  },
  {
   "cell_type": "code",
   "execution_count": 65,
   "metadata": {
    "collapsed": false,
    "jupyter": {
     "outputs_hidden": false
    },
    "pycharm": {
     "name": "#%%\n"
    }
   },
   "outputs": [],
   "source": [
    "\n"
   ]
  },
  {
   "cell_type": "markdown",
   "metadata": {
    "pycharm": {
     "name": "#%% md\n"
    }
   },
   "source": [
    "## Opracowywanie danych testowych"
   ]
  },
  {
   "cell_type": "code",
   "execution_count": 66,
   "metadata": {
    "collapsed": false,
    "jupyter": {
     "outputs_hidden": false
    },
    "pycharm": {
     "name": "#%%\n"
    }
   },
   "outputs": [],
   "source": [
    "dict_lemmas = convert_words_to_numbers(test_b['lemmas'], dict_lemmas)"
   ]
  },
  {
   "cell_type": "code",
   "execution_count": 67,
   "metadata": {
    "collapsed": false,
    "jupyter": {
     "outputs_hidden": false
    },
    "pycharm": {
     "name": "#%%\n"
    }
   },
   "outputs": [
    {
     "data": {
      "text/plain": "['$',\n \"'cause\",\n \"'em\",\n '+',\n '-Antifa',\n '-Awkward',\n '-Bill',\n '-GOP',\n '-Human',\n '-I']"
     },
     "execution_count": 67,
     "metadata": {},
     "output_type": "execute_result"
    }
   ],
   "source": [
    "sorted(dict_lemmas)[:10]"
   ]
  },
  {
   "cell_type": "code",
   "execution_count": 68,
   "metadata": {
    "collapsed": false,
    "jupyter": {
     "outputs_hidden": false
    },
    "pycharm": {
     "name": "#%%\n"
    }
   },
   "outputs": [],
   "source": [
    "# zamiana lematu na liczbe ze slownika ktory odpowiada danemu slowu\n",
    "test_b['numbers'] = test_b['lemmas'].apply(lambda row : lemmas_to_numbers(row, max_width, dict_lemmas))"
   ]
  },
  {
   "cell_type": "code",
   "execution_count": 69,
   "metadata": {
    "collapsed": false,
    "jupyter": {
     "outputs_hidden": false
    },
    "pycharm": {
     "name": "#%%\n"
    }
   },
   "outputs": [
    {
     "data": {
      "text/plain": "0    [WhoIsQ, wherestheserver, DumpNike, DECLASFISA...\n1    [NoPasaran, unity, demo, oppose, far, right, L...\n2                                         [fuck, time]\n3                    [feeling, kiss, humiliate, later]\n4                               [Nigga, ware, da, hit]\nName: lemmas, dtype: object"
     },
     "execution_count": 69,
     "metadata": {},
     "output_type": "execute_result"
    }
   ],
   "source": [
    "test_b['lemmas'].head()"
   ]
  },
  {
   "cell_type": "code",
   "execution_count": 70,
   "metadata": {
    "collapsed": false,
    "jupyter": {
     "outputs_hidden": false
    },
    "pycharm": {
     "name": "#%%\n"
    }
   },
   "outputs": [
    {
     "data": {
      "text/plain": "0    [0, 0, 0, 0, 0, 0, 0, 0, 0, 0, 0, 0, 0, 0, 0, ...\n1    [0, 0, 0, 0, 0, 0, 0, 0, 0, 0, 0, 0, 0, 0, 0, ...\n2    [0, 0, 0, 0, 0, 0, 0, 0, 0, 0, 0, 0, 0, 0, 0, ...\n3    [0, 0, 0, 0, 0, 0, 0, 0, 0, 0, 0, 0, 0, 0, 0, ...\n4    [0, 0, 0, 0, 0, 0, 0, 0, 0, 0, 0, 0, 0, 0, 0, ...\n5    [0, 0, 0, 0, 0, 0, 0, 0, 0, 0, 0, 0, 0, 0, 0, ...\nName: numbers, dtype: object"
     },
     "execution_count": 70,
     "metadata": {},
     "output_type": "execute_result"
    }
   ],
   "source": [
    "test_b.loc[:5, 'numbers']"
   ]
  },
  {
   "cell_type": "code",
   "execution_count": 70,
   "metadata": {
    "collapsed": false,
    "jupyter": {
     "outputs_hidden": false
    },
    "pycharm": {
     "name": "#%%\n"
    }
   },
   "outputs": [],
   "source": []
  },
  {
   "cell_type": "markdown",
   "metadata": {
    "pycharm": {
     "name": "#%% md\n"
    }
   },
   "source": [
    "### Robienie tego samego procesu co wcześniej dla danych testowych\n"
   ]
  },
  {
   "cell_type": "code",
   "execution_count": 71,
   "metadata": {
    "collapsed": false,
    "jupyter": {
     "outputs_hidden": false
    },
    "pycharm": {
     "name": "#%%\n"
    }
   },
   "outputs": [],
   "source": [
    "X_test = test_b['numbers'].values"
   ]
  },
  {
   "cell_type": "code",
   "execution_count": 72,
   "metadata": {
    "collapsed": false,
    "jupyter": {
     "outputs_hidden": false
    },
    "pycharm": {
     "name": "#%%\n"
    }
   },
   "outputs": [],
   "source": [
    "X_test = np.stack(X_test)"
   ]
  },
  {
   "cell_type": "code",
   "execution_count": 73,
   "metadata": {
    "collapsed": false,
    "jupyter": {
     "outputs_hidden": false
    },
    "pycharm": {
     "name": "#%%\n"
    }
   },
   "outputs": [],
   "source": [
    "X_test = torch.FloatTensor(X_test)"
   ]
  },
  {
   "cell_type": "code",
   "execution_count": 74,
   "metadata": {
    "collapsed": false,
    "jupyter": {
     "outputs_hidden": false
    },
    "pycharm": {
     "name": "#%%\n"
    }
   },
   "outputs": [],
   "source": [
    "# cat_cols = ['subtask_a', 'subtask_b', 'subtask_c']\n",
    "# for col in cat_cols:\n",
    "#     X_test[col] = X_test[col].astype('category')"
   ]
  },
  {
   "cell_type": "code",
   "execution_count": 75,
   "metadata": {
    "collapsed": false,
    "jupyter": {
     "outputs_hidden": false
    },
    "pycharm": {
     "name": "#%%\n"
    }
   },
   "outputs": [],
   "source": [
    "test_b['subtask_b'] = test_b['subtask_b'].astype('category')"
   ]
  },
  {
   "cell_type": "code",
   "execution_count": 76,
   "metadata": {
    "collapsed": false,
    "jupyter": {
     "outputs_hidden": false
    },
    "pycharm": {
     "name": "#%%\n"
    }
   },
   "outputs": [],
   "source": [
    "test_b['labels_b'] = test_b['subtask_b'].cat.codes"
   ]
  },
  {
   "cell_type": "code",
   "execution_count": 77,
   "metadata": {
    "collapsed": false,
    "jupyter": {
     "outputs_hidden": false
    },
    "pycharm": {
     "name": "#%%\n"
    }
   },
   "outputs": [
    {
     "data": {
      "text/plain": "0      0\n1      0\n2      0\n3      0\n4      1\n      ..\n96     0\n97     0\n98     0\n99     0\n100    0\nName: labels_b, Length: 101, dtype: int8"
     },
     "execution_count": 77,
     "metadata": {},
     "output_type": "execute_result"
    }
   ],
   "source": [
    "# OFFENSIVE jest jako 1, a NOT OFFENSIVE jest jako 0\n",
    "test_b.loc[:100, 'labels_b']"
   ]
  },
  {
   "cell_type": "markdown",
   "metadata": {},
   "source": []
  },
  {
   "cell_type": "code",
   "execution_count": 78,
   "metadata": {
    "collapsed": false,
    "jupyter": {
     "outputs_hidden": false
    },
    "pycharm": {
     "name": "#%%\n"
    }
   },
   "outputs": [],
   "source": [
    "y_test = test_b['labels_b'].values"
   ]
  },
  {
   "cell_type": "code",
   "execution_count": 79,
   "metadata": {
    "collapsed": false,
    "jupyter": {
     "outputs_hidden": false
    },
    "pycharm": {
     "name": "#%%\n"
    }
   },
   "outputs": [],
   "source": [
    "y_test = torch.tensor(y_test).reshape(-1,1)"
   ]
  },
  {
   "cell_type": "code",
   "execution_count": 80,
   "metadata": {
    "collapsed": false,
    "jupyter": {
     "outputs_hidden": false
    },
    "pycharm": {
     "name": "#%%\n"
    }
   },
   "outputs": [
    {
     "data": {
      "text/plain": "tensor([[0],\n        [0],\n        [0],\n        [0],\n        [1]], dtype=torch.int8)"
     },
     "execution_count": 80,
     "metadata": {},
     "output_type": "execute_result"
    }
   ],
   "source": [
    "y_test[:5]"
   ]
  },
  {
   "cell_type": "code",
   "execution_count": 81,
   "metadata": {
    "collapsed": false,
    "jupyter": {
     "outputs_hidden": false
    },
    "pycharm": {
     "name": "#%%\n"
    }
   },
   "outputs": [],
   "source": [
    "data_test_b = torch.cat((X_test, y_test), axis=1)"
   ]
  },
  {
   "cell_type": "code",
   "execution_count": 82,
   "metadata": {
    "collapsed": false,
    "jupyter": {
     "outputs_hidden": false
    },
    "pycharm": {
     "name": "#%%\n"
    }
   },
   "outputs": [],
   "source": [
    "data_test_b = data_test_b.to(device)"
   ]
  },
  {
   "cell_type": "code",
   "execution_count": 82,
   "metadata": {},
   "outputs": [],
   "source": []
  },
  {
   "cell_type": "markdown",
   "metadata": {
    "pycharm": {
     "name": "#%% md\n"
    }
   },
   "source": [
    "## Generowanie embedingów na podstawie embedingów ze spacy"
   ]
  },
  {
   "cell_type": "code",
   "execution_count": 83,
   "metadata": {
    "collapsed": false,
    "jupyter": {
     "outputs_hidden": false
    },
    "pycharm": {
     "name": "#%%\n"
    }
   },
   "outputs": [],
   "source": [
    "embeddings = []"
   ]
  },
  {
   "cell_type": "code",
   "execution_count": 84,
   "metadata": {
    "collapsed": false,
    "jupyter": {
     "outputs_hidden": false
    },
    "pycharm": {
     "name": "#%%\n"
    }
   },
   "outputs": [],
   "source": [
    "embeddings.append(np.zeros(96))"
   ]
  },
  {
   "cell_type": "code",
   "execution_count": 85,
   "metadata": {
    "collapsed": false,
    "jupyter": {
     "outputs_hidden": false
    },
    "pycharm": {
     "name": "#%%\n"
    }
   },
   "outputs": [],
   "source": [
    "for key, value in dict_lemmas.items():\n",
    "    embeddings.append(nlp(key)[0].vector)\n",
    "    # print(key)"
   ]
  },
  {
   "cell_type": "code",
   "execution_count": 86,
   "metadata": {
    "collapsed": false,
    "jupyter": {
     "outputs_hidden": false
    },
    "pycharm": {
     "name": "#%%\n"
    }
   },
   "outputs": [],
   "source": [
    "# embeddings"
   ]
  },
  {
   "cell_type": "code",
   "execution_count": 87,
   "metadata": {
    "collapsed": false,
    "jupyter": {
     "outputs_hidden": false
    },
    "pycharm": {
     "name": "#%%\n"
    }
   },
   "outputs": [
    {
     "data": {
      "text/plain": "10528"
     },
     "execution_count": 87,
     "metadata": {},
     "output_type": "execute_result"
    }
   ],
   "source": [
    "len(dict_lemmas)"
   ]
  },
  {
   "cell_type": "code",
   "execution_count": 88,
   "metadata": {
    "collapsed": false,
    "jupyter": {
     "outputs_hidden": false
    },
    "pycharm": {
     "name": "#%%\n"
    }
   },
   "outputs": [],
   "source": [
    "dict_lemmas_inverted = {v: k for k, v in dict_lemmas.items()}"
   ]
  },
  {
   "cell_type": "code",
   "execution_count": 89,
   "metadata": {
    "collapsed": false,
    "jupyter": {
     "outputs_hidden": false
    },
    "pycharm": {
     "name": "#%%\n"
    }
   },
   "outputs": [],
   "source": [
    "# dict_lemmas_inverted"
   ]
  },
  {
   "cell_type": "code",
   "execution_count": 90,
   "metadata": {
    "collapsed": false,
    "jupyter": {
     "outputs_hidden": false
    },
    "pycharm": {
     "name": "#%%\n"
    }
   },
   "outputs": [
    {
     "name": "stdout",
     "output_type": "stream",
     "text": [
      "finished\n"
     ]
    }
   ],
   "source": [
    "# sprawdzanie embeddingów - czy się dobrze zapisały\n",
    "for key, value in dict_lemmas.items():\n",
    "    comparison = embeddings[value] == nlp(key)[0].vector\n",
    "    if comparison.all() == False:\n",
    "        print('false')\n",
    "\n",
    "print('finished')\n"
   ]
  },
  {
   "cell_type": "code",
   "execution_count": 91,
   "metadata": {
    "collapsed": false,
    "jupyter": {
     "outputs_hidden": false
    },
    "pycharm": {
     "name": "#%%\n"
    }
   },
   "outputs": [
    {
     "data": {
      "text/plain": "array([-0.676073  ,  0.09062457, -0.19625556,  0.9512366 ,  0.7504209 ,\n        1.1548312 ,  1.0129769 , -0.8388504 , -1.1186899 ,  0.71350086,\n       -0.4241021 , -0.30965236,  0.12993638, -0.2392391 , -1.0840138 ,\n        0.61949897,  0.04032705, -0.10979578, -1.0923057 , -0.11414534,\n       -0.20071098,  0.01481187, -0.4070547 , -0.3393178 , -0.19887975,\n       -0.00512362, -0.44030216, -0.26272678, -0.51703787,  0.02113847,\n       -0.84284085, -0.33209977,  0.92871165, -0.4222517 ,  0.4632333 ,\n       -0.5070641 ,  1.0883812 ,  0.53153765, -0.6991434 , -0.24793866,\n        0.2177751 ,  0.76133025, -0.2888482 ,  1.6803848 ,  1.1069292 ,\n       -0.44316196,  0.4076068 , -0.2660989 , -0.54845977, -0.55120814,\n        0.23734902,  0.02351934,  0.45318043,  0.856611  ,  0.29240057,\n       -1.0060917 ,  1.32265   , -1.1334491 ,  0.20376281, -0.6440315 ,\n        0.41097862,  0.3831125 ,  1.1056539 , -0.34738913,  0.60588783,\n       -0.09251603, -0.41251144, -0.6224398 ,  0.683713  ,  0.34403592,\n       -0.16671339, -0.6788694 , -0.04922862, -0.5299547 , -0.25115994,\n        0.7615716 ,  0.00928873,  0.22849807, -0.3107491 , -0.42255074,\n        0.11905795, -0.03290644,  0.1583575 ,  1.0251714 , -0.8566352 ,\n        0.17710371,  0.2147669 , -1.0185226 ,  0.522235  ,  0.09653302,\n       -0.3551365 ,  0.5546729 , -0.36672962, -0.2642688 , -0.8536765 ,\n       -0.2873654 ], dtype=float32)"
     },
     "execution_count": 91,
     "metadata": {},
     "output_type": "execute_result"
    }
   ],
   "source": [
    "embeddings[1]"
   ]
  },
  {
   "cell_type": "code",
   "execution_count": 92,
   "metadata": {
    "collapsed": false,
    "jupyter": {
     "outputs_hidden": false
    },
    "pycharm": {
     "name": "#%%\n"
    }
   },
   "outputs": [],
   "source": [
    "emb_torch = torch.tensor(embeddings, dtype=torch.float32, device=device)"
   ]
  },
  {
   "cell_type": "code",
   "execution_count": 92,
   "metadata": {},
   "outputs": [],
   "source": []
  },
  {
   "cell_type": "code",
   "execution_count": 93,
   "metadata": {
    "collapsed": false,
    "jupyter": {
     "outputs_hidden": false
    },
    "pycharm": {
     "name": "#%%\n"
    }
   },
   "outputs": [
    {
     "data": {
      "text/plain": "torch.Size([10529, 96])"
     },
     "execution_count": 93,
     "metadata": {},
     "output_type": "execute_result"
    }
   ],
   "source": [
    "emb_torch.shape"
   ]
  },
  {
   "cell_type": "markdown",
   "metadata": {},
   "source": [
    "## Definiowanie modelu"
   ]
  },
  {
   "cell_type": "code",
   "execution_count": 94,
   "metadata": {
    "collapsed": false,
    "jupyter": {
     "outputs_hidden": false
    },
    "pycharm": {
     "name": "#%%\n"
    }
   },
   "outputs": [],
   "source": [
    "class Model(nn.Module):\n",
    "    def __init__(self, emb_vectors, in_features=18, h1=80, h2=50, h3=None, embedding_dim=None, out_features=1):\n",
    "        super().__init__()\n",
    "\n",
    "        # warstwa embeddingów wczytująca embeddingi przekazane przy tworzeniu modelu\n",
    "        self.embedding = nn.Embedding.from_pretrained(emb_vectors)\n",
    "\n",
    "        # self.embedding = nn.Embedding(vocab_size, embedding_dim)\n",
    "\n",
    "        # dropout layer - losowe pomijanie uczenia się pewnych neuronów\n",
    "        self.dropout = nn.Dropout(0.3)\n",
    "\n",
    "        self.fc1 = nn.Linear(embedding_dim * in_features, h1)\n",
    "        self.fc2 = nn.Linear(h1, h2)\n",
    "        if h3 is None:\n",
    "            self.out = nn.Linear(h2, out_features)\n",
    "        # self.sig = nn.Sigmoid()\n",
    "        else:\n",
    "            self.fc3 = nn.Linear(h2, h3)\n",
    "            self.out = nn.Linear(h3, out_features)\n",
    "\n",
    "\n",
    "    def forward(self, x):\n",
    "        # print(x.shape)\n",
    "        x = x.long()\n",
    "        # print(x.shape)\n",
    "        embeds = self.embedding(x)\n",
    "        \n",
    "        # print(embeds.shape)\n",
    "        embeds = embeds.view(embeds.shape[0], -1)\n",
    "        # print(embeds.shape)\n",
    "        x = torch.sigmoid(self.fc1(embeds))\n",
    "        \n",
    "        x = self.dropout(x)\n",
    "        \n",
    "        # x = self.dropout(x)\n",
    "\n",
    "        x = torch.sigmoid(self.fc2(x))\n",
    "        x = self.dropout(x)\n",
    "\n",
    "        if h3 is not None:\n",
    "            x = torch.sigmoid(self.fc3(x))\n",
    "            x = self.dropout(x)\n",
    "        x = torch.sigmoid(self.out(x))\n",
    "\n",
    "        return x"
   ]
  },
  {
   "cell_type": "markdown",
   "metadata": {},
   "source": [
    "## Ustawnia modelu i sieci"
   ]
  },
  {
   "cell_type": "code",
   "execution_count": 95,
   "metadata": {
    "collapsed": false,
    "jupyter": {
     "outputs_hidden": false
    },
    "pycharm": {
     "name": "#%%\n"
    }
   },
   "outputs": [
    {
     "name": "stdout",
     "output_type": "stream",
     "text": [
      "max width: 73\n"
     ]
    }
   ],
   "source": [
    "print('max width: 73')"
   ]
  },
  {
   "cell_type": "code",
   "execution_count": 96,
   "metadata": {
    "collapsed": false,
    "jupyter": {
     "outputs_hidden": false
    },
    "pycharm": {
     "name": "#%%\n"
    }
   },
   "outputs": [],
   "source": [
    "epochs = 100\n",
    "learning_rate = 0.001\n",
    "batch_size = 50\n",
    "vocab_size = len(dict_lemmas) + 1\n",
    "embedding_dim = emb_torch.shape[1]\n",
    "h1 = 1000\n",
    "h2 = 1000\n",
    "h3 = None\n"
   ]
  },
  {
   "cell_type": "code",
   "execution_count": 97,
   "metadata": {
    "collapsed": false,
    "jupyter": {
     "outputs_hidden": false
    },
    "pycharm": {
     "name": "#%%\n"
    }
   },
   "outputs": [],
   "source": [
    "train_dataset_loader = torch.utils.data.DataLoader(data, batch_size=batch_size, shuffle=True)\n",
    "test_dataset_loader_b = torch.utils.data.DataLoader(data_test_b, batch_size=batch_size, shuffle=True)"
   ]
  },
  {
   "cell_type": "markdown",
   "metadata": {
    "pycharm": {
     "name": "#%% md\n"
    }
   },
   "source": [
    "## Tworzenie instancji modelu\n",
    "Ustawianie funkcji straty i optymalizatora"
   ]
  },
  {
   "cell_type": "code",
   "execution_count": 98,
   "metadata": {
    "collapsed": false,
    "jupyter": {
     "outputs_hidden": false
    },
    "pycharm": {
     "name": "#%%\n"
    }
   },
   "outputs": [],
   "source": [
    "# tworzenie numpy array z listy liczb (odpowiadających lematom)"
   ]
  },
  {
   "cell_type": "code",
   "execution_count": 99,
   "metadata": {
    "collapsed": false,
    "jupyter": {
     "outputs_hidden": false
    },
    "pycharm": {
     "name": "#%%\n"
    }
   },
   "outputs": [
    {
     "data": {
      "text/plain": "40"
     },
     "execution_count": 99,
     "metadata": {},
     "output_type": "execute_result"
    }
   ],
   "source": [
    "max_width"
   ]
  },
  {
   "cell_type": "code",
   "execution_count": 100,
   "metadata": {
    "collapsed": false,
    "jupyter": {
     "outputs_hidden": false
    },
    "pycharm": {
     "name": "#%%\n"
    }
   },
   "outputs": [],
   "source": [
    "torch.manual_seed(32)\n",
    "model = Model(emb_torch, max_width, h1, h2, h3, embedding_dim)"
   ]
  },
  {
   "cell_type": "code",
   "execution_count": 101,
   "metadata": {
    "collapsed": false,
    "jupyter": {
     "outputs_hidden": false
    },
    "pycharm": {
     "name": "#%%\n"
    }
   },
   "outputs": [],
   "source": [
    "model = model.to(device)"
   ]
  },
  {
   "cell_type": "code",
   "execution_count": 102,
   "metadata": {
    "collapsed": false,
    "jupyter": {
     "outputs_hidden": false
    },
    "pycharm": {
     "name": "#%%\n"
    }
   },
   "outputs": [],
   "source": [
    "criterion = nn.BCELoss()\n",
    "optimizer = torch.optim.Adam(model.parameters(), lr=learning_rate)"
   ]
  },
  {
   "cell_type": "code",
   "execution_count": 103,
   "metadata": {
    "collapsed": false,
    "jupyter": {
     "outputs_hidden": false
    },
    "pycharm": {
     "name": "#%%\n"
    }
   },
   "outputs": [
    {
     "data": {
      "text/plain": "Model(\n  (embedding): Embedding(10529, 96)\n  (dropout): Dropout(p=0.3, inplace=False)\n  (fc1): Linear(in_features=3840, out_features=1000, bias=True)\n  (fc2): Linear(in_features=1000, out_features=1000, bias=True)\n  (out): Linear(in_features=1000, out_features=1, bias=True)\n)"
     },
     "execution_count": 103,
     "metadata": {},
     "output_type": "execute_result"
    }
   ],
   "source": [
    "model"
   ]
  },
  {
   "cell_type": "markdown",
   "metadata": {
    "pycharm": {
     "name": "#%% md\n"
    }
   },
   "source": [
    "### Ustawianie nauki sieci i samo uczenie się"
   ]
  },
  {
   "cell_type": "code",
   "execution_count": 104,
   "metadata": {
    "collapsed": false,
    "jupyter": {
     "outputs_hidden": false
    },
    "pycharm": {
     "name": "#%%\n"
    }
   },
   "outputs": [],
   "source": [
    "losses = []\n",
    "losses_test = []\n",
    "accuracy = []\n",
    "accuracy_test = []\n",
    "train_count = len(tweets)\n",
    "test_count_a = len(test_b)"
   ]
  },
  {
   "cell_type": "code",
   "execution_count": 105,
   "metadata": {
    "collapsed": false,
    "jupyter": {
     "outputs_hidden": false
    },
    "pycharm": {
     "name": "#%%\n"
    }
   },
   "outputs": [
    {
     "name": "stdout",
     "output_type": "stream",
     "text": [
      "Loss on the first batch: 0.7449532151222229\n",
      "Loss on the first batch on test data: 0.22177039086818695\n",
      "torch.Size([])\n",
      " epoch: 0 | loss: 0.007784103046764027 | predicted: 3848 |accuracy: 87.45454406738281 | test loss: 0.007044694386422634 | predicted: 213 | test accuracy: 88.75000762939453\n",
      " epoch: 1 | loss: 0.007036338719454679 | predicted: 3877 |accuracy: 88.11363983154297 | test loss: 0.006812501139938832 | predicted: 213 | test accuracy: 88.75000762939453\n",
      " epoch: 2 | loss: 0.006593235189264471 | predicted: 3876 |accuracy: 88.09091186523438 | test loss: 0.006893346024056276 | predicted: 212 | test accuracy: 88.33333587646484\n",
      " epoch: 3 | loss: 0.00602504470131614 | predicted: 3898 |accuracy: 88.59091186523438 | test loss: 0.007010352611541748 | predicted: 210 | test accuracy: 87.50000762939453\n",
      " epoch: 4 | loss: 0.005322946201671254 | predicted: 3946 |accuracy: 89.68181610107422 | test loss: 0.007098160994549592 | predicted: 211 | test accuracy: 87.91667175292969\n",
      " epoch: 5 | loss: 0.004847716418179599 | predicted: 3989 |accuracy: 90.65908813476562 | test loss: 0.008009037872155508 | predicted: 209 | test accuracy: 87.08333587646484\n",
      " epoch: 6 | loss: 0.004262825792486017 | predicted: 4037 |accuracy: 91.75 | test loss: 0.008251562342047691 | predicted: 211 | test accuracy: 87.91667175292969\n",
      " epoch: 7 | loss: 0.003646053834394975 | predicted: 4084 |accuracy: 92.81818389892578 | test loss: 0.009097578004002571 | predicted: 206 | test accuracy: 85.83333587646484\n",
      " epoch: 8 | loss: 0.0032655000686645508 | predicted: 4121 |accuracy: 93.65908813476562 | test loss: 0.010085248636702697 | predicted: 205 | test accuracy: 85.41667175292969\n",
      " epoch: 9 | loss: 0.002881056612188166 | predicted: 4162 |accuracy: 94.59091186523438 | test loss: 0.011019621913631757 | predicted: 207 | test accuracy: 86.25000762939453\n",
      " epoch: 10 | loss: 0.0027041027762673116 | predicted: 4165 |accuracy: 94.65908813476562 | test loss: 0.01178514373799165 | predicted: 207 | test accuracy: 86.25000762939453\n",
      " epoch: 11 | loss: 0.0023310162804343485 | predicted: 4195 |accuracy: 95.34091186523438 | test loss: 0.012305000176032385 | predicted: 201 | test accuracy: 83.75000762939453\n",
      " epoch: 12 | loss: 0.0020638869025490503 | predicted: 4219 |accuracy: 95.88636016845703 | test loss: 0.013164274642864864 | predicted: 209 | test accuracy: 87.08333587646484\n",
      " epoch: 13 | loss: 0.0017592826756564054 | predicted: 4257 |accuracy: 96.75 | test loss: 0.01427338110903899 | predicted: 208 | test accuracy: 86.66667175292969\n",
      " epoch: 14 | loss: 0.0017335120114413175 | predicted: 4243 |accuracy: 96.43181610107422 | test loss: 0.014588046073913574 | predicted: 207 | test accuracy: 86.25000762939453\n",
      " epoch: 15 | loss: 0.0015327000617980956 | predicted: 4277 |accuracy: 97.20454406738281 | test loss: 0.014980781761308511 | predicted: 203 | test accuracy: 84.58333587646484\n",
      " epoch: 16 | loss: 0.0012877319075844504 | predicted: 4296 |accuracy: 97.63636016845703 | test loss: 0.018772637595733006 | predicted: 201 | test accuracy: 83.75000762939453\n",
      " epoch: 17 | loss: 0.0012266387722708963 | predicted: 4303 |accuracy: 97.79545593261719 | test loss: 0.01858453874786695 | predicted: 207 | test accuracy: 86.25000762939453\n",
      " epoch: 18 | loss: 0.0012530706145546654 | predicted: 4288 |accuracy: 97.45454406738281 | test loss: 0.02094871091345946 | predicted: 203 | test accuracy: 84.58333587646484\n",
      " epoch: 19 | loss: 0.0012878251075744628 | predicted: 4291 |accuracy: 97.5227279663086 | test loss: 0.019038679947455724 | predicted: 203 | test accuracy: 84.58333587646484\n",
      " epoch: 20 | loss: 0.0012785478071732955 | predicted: 4282 |accuracy: 97.31818389892578 | test loss: 0.021319201836983364 | predicted: 205 | test accuracy: 85.41667175292969\n",
      " epoch: 21 | loss: 0.0010531795024871825 | predicted: 4315 |accuracy: 98.06818389892578 | test loss: 0.0219678670167923 | predicted: 199 | test accuracy: 82.91667175292969\n",
      " epoch: 22 | loss: 0.0009149763800881125 | predicted: 4321 |accuracy: 98.20454406738281 | test loss: 0.02418267900745074 | predicted: 197 | test accuracy: 82.08333587646484\n",
      " epoch: 23 | loss: 0.0009040658040480181 | predicted: 4320 |accuracy: 98.18181610107422 | test loss: 0.022357659166057905 | predicted: 204 | test accuracy: 85.00000762939453\n",
      " epoch: 24 | loss: 0.0008663728020407937 | predicted: 4322 |accuracy: 98.2272720336914 | test loss: 0.02160480742653211 | predicted: 202 | test accuracy: 84.16667175292969\n",
      " epoch: 25 | loss: 0.000735883279280229 | predicted: 4337 |accuracy: 98.56818389892578 | test loss: 0.02443213736017545 | predicted: 206 | test accuracy: 85.83333587646484\n",
      " epoch: 26 | loss: 0.0006901217590678821 | predicted: 4340 |accuracy: 98.63636016845703 | test loss: 0.02584938034415245 | predicted: 208 | test accuracy: 86.66667175292969\n",
      " epoch: 27 | loss: 0.0006658414277163419 | predicted: 4336 |accuracy: 98.54545593261719 | test loss: 0.026042080918947854 | predicted: 205 | test accuracy: 85.41667175292969\n",
      " epoch: 28 | loss: 0.0005793713439594616 | predicted: 4349 |accuracy: 98.84091186523438 | test loss: 0.025842842956384022 | predicted: 203 | test accuracy: 84.58333587646484\n",
      " epoch: 29 | loss: 0.0006261401826685126 | predicted: 4344 |accuracy: 98.7272720336914 | test loss: 0.02659514807164669 | predicted: 206 | test accuracy: 85.83333587646484\n",
      " epoch: 30 | loss: 0.0005069487745111639 | predicted: 4362 |accuracy: 99.13636016845703 | test loss: 0.02799554045001666 | predicted: 206 | test accuracy: 85.83333587646484\n",
      " epoch: 31 | loss: 0.0005292441086335616 | predicted: 4353 |accuracy: 98.93181610107422 | test loss: 0.029049164056777953 | predicted: 207 | test accuracy: 86.25000762939453\n",
      " epoch: 32 | loss: 0.0005998997796665538 | predicted: 4348 |accuracy: 98.81818389892578 | test loss: 0.028084507584571837 | predicted: 205 | test accuracy: 85.41667175292969\n",
      " epoch: 33 | loss: 0.00046836950562217016 | predicted: 4355 |accuracy: 98.9772720336914 | test loss: 0.03394233485062917 | predicted: 202 | test accuracy: 84.16667175292969\n",
      " epoch: 34 | loss: 0.00043480883945118295 | predicted: 4364 |accuracy: 99.18181610107422 | test loss: 0.027559593071540198 | predicted: 203 | test accuracy: 84.58333587646484\n",
      " epoch: 35 | loss: 0.00044088160449808295 | predicted: 4366 |accuracy: 99.2272720336914 | test loss: 0.03246348649263382 | predicted: 205 | test accuracy: 85.41667175292969\n",
      " epoch: 36 | loss: 0.0006632396307858553 | predicted: 4343 |accuracy: 98.70454406738281 | test loss: 0.0297339528799057 | predicted: 204 | test accuracy: 85.00000762939453\n",
      " epoch: 37 | loss: 0.0008675710179589011 | predicted: 4326 |accuracy: 98.31818389892578 | test loss: 0.02806221197048823 | predicted: 207 | test accuracy: 86.25000762939453\n",
      " epoch: 38 | loss: 0.0006037545204162597 | predicted: 4353 |accuracy: 98.93181610107422 | test loss: 0.027264101803302764 | predicted: 201 | test accuracy: 83.75000762939453\n",
      " epoch: 39 | loss: 0.000636179501360113 | predicted: 4343 |accuracy: 98.70454406738281 | test loss: 0.02886890893181165 | predicted: 196 | test accuracy: 81.66667175292969\n",
      " epoch: 40 | loss: 0.0005652212012897839 | predicted: 4357 |accuracy: 99.0227279663086 | test loss: 0.028763717412948607 | predicted: 201 | test accuracy: 83.75000762939453\n",
      " epoch: 41 | loss: 0.0003751916777003895 | predicted: 4366 |accuracy: 99.2272720336914 | test loss: 0.028896476328372955 | predicted: 204 | test accuracy: 85.00000762939453\n",
      " epoch: 42 | loss: 0.00031786122105338356 | predicted: 4376 |accuracy: 99.45454406738281 | test loss: 0.030673617621262868 | predicted: 202 | test accuracy: 84.16667175292969\n",
      " epoch: 43 | loss: 0.00035761364481665873 | predicted: 4368 |accuracy: 99.2727279663086 | test loss: 0.03005813037355741 | predicted: 210 | test accuracy: 87.50000762939453\n",
      " epoch: 44 | loss: 0.00029071016745133834 | predicted: 4378 |accuracy: 99.5 | test loss: 0.03379903212189674 | predicted: 202 | test accuracy: 84.16667175292969\n",
      " epoch: 45 | loss: 0.0003107373010028492 | predicted: 4375 |accuracy: 99.43181610107422 | test loss: 0.0312480424841245 | predicted: 205 | test accuracy: 85.41667175292969\n",
      " epoch: 46 | loss: 0.00028116405010223387 | predicted: 4371 |accuracy: 99.34091186523438 | test loss: 0.03992193142573039 | predicted: 198 | test accuracy: 82.50000762939453\n",
      " epoch: 47 | loss: 0.0002495563572103327 | predicted: 4375 |accuracy: 99.43181610107422 | test loss: 0.031546421349048615 | predicted: 203 | test accuracy: 84.58333587646484\n",
      " epoch: 48 | loss: 0.0002801313725384799 | predicted: 4374 |accuracy: 99.40908813476562 | test loss: 0.03274997348586718 | predicted: 203 | test accuracy: 84.58333587646484\n",
      " epoch: 49 | loss: 0.00023282836784016003 | predicted: 4381 |accuracy: 99.56818389892578 | test loss: 0.03280558325350284 | predicted: 204 | test accuracy: 85.00000762939453\n",
      " epoch: 50 | loss: 0.0003266350518573414 | predicted: 4370 |accuracy: 99.31818389892578 | test loss: 0.034544435888528825 | predicted: 204 | test accuracy: 85.00000762939453\n",
      " epoch: 51 | loss: 0.00029216926206241956 | predicted: 4376 |accuracy: 99.45454406738281 | test loss: 0.03465273827314377 | predicted: 206 | test accuracy: 85.83333587646484\n",
      " epoch: 52 | loss: 0.00030843501741235907 | predicted: 4371 |accuracy: 99.34091186523438 | test loss: 0.033757914106051126 | predicted: 205 | test accuracy: 85.41667175292969\n",
      " epoch: 53 | loss: 0.00025342263958670874 | predicted: 4376 |accuracy: 99.45454406738281 | test loss: 0.030970635761817297 | predicted: 209 | test accuracy: 87.08333587646484\n",
      " epoch: 54 | loss: 0.00027525842189788817 | predicted: 4375 |accuracy: 99.43181610107422 | test loss: 0.03572222689787547 | predicted: 202 | test accuracy: 84.16667175292969\n",
      " epoch: 55 | loss: 0.0002453879876570268 | predicted: 4375 |accuracy: 99.43181610107422 | test loss: 0.03283640742301941 | predicted: 203 | test accuracy: 84.58333587646484\n",
      " epoch: 56 | loss: 0.0002288437702439048 | predicted: 4379 |accuracy: 99.5227279663086 | test loss: 0.03357265343268712 | predicted: 207 | test accuracy: 86.25000762939453\n",
      " epoch: 57 | loss: 0.0002928658507087014 | predicted: 4370 |accuracy: 99.31818389892578 | test loss: 0.03770357736696799 | predicted: 209 | test accuracy: 87.08333587646484\n",
      " epoch: 58 | loss: 0.0002706383846022866 | predicted: 4378 |accuracy: 99.5 | test loss: 0.03372812494635582 | predicted: 208 | test accuracy: 86.66667175292969\n",
      " epoch: 59 | loss: 0.00038395445455204356 | predicted: 4369 |accuracy: 99.29545593261719 | test loss: 0.039302341143290204 | predicted: 201 | test accuracy: 83.75000762939453\n",
      " epoch: 60 | loss: 0.0006034666841680354 | predicted: 4349 |accuracy: 98.84091186523438 | test loss: 0.031695173929135005 | predicted: 201 | test accuracy: 83.75000762939453\n",
      " epoch: 61 | loss: 0.00038283667781136254 | predicted: 4362 |accuracy: 99.13636016845703 | test loss: 0.036019087831179304 | predicted: 199 | test accuracy: 82.91667175292969\n",
      " epoch: 62 | loss: 0.00030639404600316827 | predicted: 4371 |accuracy: 99.34091186523438 | test loss: 0.03481330821911494 | predicted: 203 | test accuracy: 84.58333587646484\n",
      " epoch: 63 | loss: 0.0003386650844053789 | predicted: 4376 |accuracy: 99.45454406738281 | test loss: 0.03338122963905334 | predicted: 206 | test accuracy: 85.83333587646484\n",
      " epoch: 64 | loss: 0.00024177345362576573 | predicted: 4380 |accuracy: 99.54545593261719 | test loss: 0.03472955673933029 | predicted: 208 | test accuracy: 86.66667175292969\n",
      " epoch: 65 | loss: 0.0002373019673607566 | predicted: 4378 |accuracy: 99.5 | test loss: 0.03348640576004982 | predicted: 205 | test accuracy: 85.41667175292969\n",
      " epoch: 66 | loss: 0.000275791504166343 | predicted: 4370 |accuracy: 99.31818389892578 | test loss: 0.03721526016791662 | predicted: 204 | test accuracy: 85.00000762939453\n",
      " epoch: 67 | loss: 0.00022057550874623384 | predicted: 4373 |accuracy: 99.38636016845703 | test loss: 0.035676548878351845 | predicted: 202 | test accuracy: 84.16667175292969\n",
      " epoch: 68 | loss: 0.00022712565281174398 | predicted: 4378 |accuracy: 99.5 | test loss: 0.038726447025934856 | predicted: 208 | test accuracy: 86.66667175292969\n",
      " epoch: 69 | loss: 0.0001937159624966708 | predicted: 4381 |accuracy: 99.56818389892578 | test loss: 0.04257931808630625 | predicted: 203 | test accuracy: 84.58333587646484\n",
      " epoch: 70 | loss: 0.0002628448334607211 | predicted: 4373 |accuracy: 99.38636016845703 | test loss: 0.03529727806647619 | predicted: 205 | test accuracy: 85.41667175292969\n",
      " epoch: 71 | loss: 0.00020087924870577724 | predicted: 4379 |accuracy: 99.5227279663086 | test loss: 0.03644916713237763 | predicted: 205 | test accuracy: 85.41667175292969\n",
      " epoch: 72 | loss: 0.0003119597922671925 | predicted: 4372 |accuracy: 99.36363983154297 | test loss: 0.0373222753405571 | predicted: 208 | test accuracy: 86.66667175292969\n",
      " epoch: 73 | loss: 0.0001728495955467224 | predicted: 4381 |accuracy: 99.56818389892578 | test loss: 0.0388469934463501 | predicted: 202 | test accuracy: 84.16667175292969\n",
      " epoch: 74 | loss: 0.00018115005709908226 | predicted: 4382 |accuracy: 99.59091186523438 | test loss: 0.03838222399353981 | predicted: 201 | test accuracy: 83.75000762939453\n",
      " epoch: 75 | loss: 0.00023794431578029286 | predicted: 4375 |accuracy: 99.43181610107422 | test loss: 0.04120117624600728 | predicted: 205 | test accuracy: 85.41667175292969\n",
      " epoch: 76 | loss: 0.00017047101801091974 | predicted: 4382 |accuracy: 99.59091186523438 | test loss: 0.04950551390647888 | predicted: 204 | test accuracy: 85.00000762939453\n",
      " epoch: 77 | loss: 0.00024605154991149905 | predicted: 4374 |accuracy: 99.40908813476562 | test loss: 0.04607769101858139 | predicted: 203 | test accuracy: 84.58333587646484\n",
      " epoch: 78 | loss: 0.0003850627487356013 | predicted: 4372 |accuracy: 99.36363983154297 | test loss: 0.037432312965393066 | predicted: 204 | test accuracy: 85.00000762939453\n",
      " epoch: 79 | loss: 0.0003156049685044722 | predicted: 4370 |accuracy: 99.31818389892578 | test loss: 0.03759189248085022 | predicted: 207 | test accuracy: 86.25000762939453\n",
      " epoch: 80 | loss: 0.0001958736777305603 | predicted: 4383 |accuracy: 99.61363983154297 | test loss: 0.03987411471704642 | predicted: 208 | test accuracy: 86.66667175292969\n",
      " epoch: 81 | loss: 0.0001949885216626254 | predicted: 4382 |accuracy: 99.59091186523438 | test loss: 0.03906124035517375 | predicted: 206 | test accuracy: 85.83333587646484\n",
      " epoch: 82 | loss: 0.00020289330319924788 | predicted: 4381 |accuracy: 99.56818389892578 | test loss: 0.037457919617493944 | predicted: 207 | test accuracy: 86.25000762939453\n",
      " epoch: 83 | loss: 0.00017934679985046387 | predicted: 4384 |accuracy: 99.63636016845703 | test loss: 0.04658662974834442 | predicted: 205 | test accuracy: 85.41667175292969\n",
      " epoch: 84 | loss: 0.00016295072707262905 | predicted: 4382 |accuracy: 99.59091186523438 | test loss: 0.046411437044541044 | predicted: 203 | test accuracy: 84.58333587646484\n",
      " epoch: 85 | loss: 0.00025382535024122757 | predicted: 4378 |accuracy: 99.5 | test loss: 0.04768464763959249 | predicted: 206 | test accuracy: 85.83333587646484\n",
      " epoch: 86 | loss: 0.00019226537509398027 | predicted: 4377 |accuracy: 99.4772720336914 | test loss: 0.042141412198543546 | predicted: 207 | test accuracy: 86.25000762939453\n",
      " epoch: 87 | loss: 0.00022363099184903232 | predicted: 4379 |accuracy: 99.5227279663086 | test loss: 0.03651992877324422 | predicted: 206 | test accuracy: 85.83333587646484\n",
      " epoch: 88 | loss: 0.00019510103897614912 | predicted: 4382 |accuracy: 99.59091186523438 | test loss: 0.04251584360996882 | predicted: 208 | test accuracy: 86.66667175292969\n",
      " epoch: 89 | loss: 0.00021219513633034446 | predicted: 4377 |accuracy: 99.4772720336914 | test loss: 0.04558275739351909 | predicted: 195 | test accuracy: 81.25000762939453\n",
      " epoch: 90 | loss: 0.0003020035136829723 | predicted: 4366 |accuracy: 99.2272720336914 | test loss: 0.042146061857541404 | predicted: 206 | test accuracy: 85.83333587646484\n",
      " epoch: 91 | loss: 0.00020233533599159934 | predicted: 4380 |accuracy: 99.54545593261719 | test loss: 0.03680062418182691 | predicted: 204 | test accuracy: 85.00000762939453\n",
      " epoch: 92 | loss: 0.0001818830587647178 | predicted: 4377 |accuracy: 99.4772720336914 | test loss: 0.047129120429356894 | predicted: 208 | test accuracy: 86.66667175292969\n",
      " epoch: 93 | loss: 0.00024269312620162965 | predicted: 4371 |accuracy: 99.34091186523438 | test loss: 0.046501273413499196 | predicted: 199 | test accuracy: 82.91667175292969\n",
      " epoch: 94 | loss: 0.00033545358614488083 | predicted: 4367 |accuracy: 99.25 | test loss: 0.039621343712011974 | predicted: 206 | test accuracy: 85.83333587646484\n",
      " epoch: 95 | loss: 0.00023744282397356902 | predicted: 4378 |accuracy: 99.5 | test loss: 0.04474955673019091 | predicted: 205 | test accuracy: 85.41667175292969\n",
      " epoch: 96 | loss: 0.00021416737274690108 | predicted: 4374 |accuracy: 99.40908813476562 | test loss: 0.041126580784718196 | predicted: 208 | test accuracy: 86.66667175292969\n",
      " epoch: 97 | loss: 0.00024512085047635165 | predicted: 4376 |accuracy: 99.45454406738281 | test loss: 0.03941500907142957 | predicted: 204 | test accuracy: 85.00000762939453\n",
      " epoch: 98 | loss: 0.0001745631071654233 | predicted: 4379 |accuracy: 99.5227279663086 | test loss: 0.041438014308611555 | predicted: 208 | test accuracy: 86.66667175292969\n",
      " epoch: 99 | loss: 0.0001761782711202448 | predicted: 4376 |accuracy: 99.45454406738281 | test loss: 0.04049853682518005 | predicted: 207 | test accuracy: 86.25000762939453\n"
     ]
    }
   ],
   "source": [
    "start_time = time.time()\n",
    "for e in range(epochs):\n",
    "    loss_epoch = torch.empty(0)\n",
    "    correct_epoch = 0\n",
    "\n",
    "    loss_epoch_test = np.empty(0)\n",
    "    correct_epoch_test = 0\n",
    "\n",
    "    for batch_num, batch in enumerate(train_dataset_loader):\n",
    "        X_train = batch[:,:-1]\n",
    "        y_train = batch[:,-1].reshape(-1,1)\n",
    "        y_pred = model.forward(X_train)\n",
    "\n",
    "        loss = criterion(y_pred, y_train)\n",
    "        if (e == 0 and batch_num == 0):\n",
    "            print(f'Loss on the first batch: {loss}')\n",
    "\n",
    "        # print(loss.item())\n",
    "        loss_epoch = np.append(loss_epoch, loss.detach().cpu().numpy())\n",
    "        # losses.append(loss.item())\n",
    "\n",
    "\n",
    "        optimizer.zero_grad()\n",
    "        loss.backward()\n",
    "        optimizer.step()\n",
    "\n",
    "\n",
    "        predicted = torch.round(y_pred)\n",
    "        # print(y_train)\n",
    "        predicted = (predicted == y_train).sum().cpu()\n",
    "        pred_cpu = predicted.cpu()\n",
    "        # print(f'pred_cpu: {pred_cpu}')\n",
    "        correct_epoch += predicted\n",
    "\n",
    "# przechodzenie przez dane testowe\n",
    "    with torch.no_grad():\n",
    "        for batch_num_test, batch_test in enumerate(test_dataset_loader_b):\n",
    "            X_test = batch_test[:,:-1]\n",
    "            y_test = batch_test[:,-1].reshape(-1,1)\n",
    "            y_pred_test = model.forward(X_test)\n",
    "\n",
    "            loss_test = criterion(y_pred_test, y_test)\n",
    "            if (e == 0 and batch_num_test == 0):\n",
    "                print(f'Loss on the first batch on test data: {loss_test}')\n",
    "                print(loss_test.shape)\n",
    "\n",
    "            # print(loss.item())\n",
    "            loss_epoch_test = np.append(loss_epoch_test, loss_test.item())\n",
    "            # print(loss_test)\n",
    "            # losses.append(loss.item())\n",
    "\n",
    "            predicted = torch.round(y_pred_test)\n",
    "            # print(predicted)\n",
    "            # print(y_test)\n",
    "            predicted = (predicted == y_test).sum()\n",
    "            pred_cpu = predicted.cpu()\n",
    "            # print(f'pred_cpu: {pred_cpu}')\n",
    "            correct_epoch_test += predicted\n",
    "\n",
    "        loss_epoch_test = loss_epoch_test.sum() / test_count_a\n",
    "        losses_test.append(loss_epoch_test)\n",
    "        accuracy_epoch_test = correct_epoch_test * 100/test_count_a\n",
    "        accuracy_epoch_test_cpu = accuracy_epoch_test.cpu()\n",
    "        accuracy_test.append(accuracy_epoch_test_cpu)\n",
    "\n",
    "    loss_epoch = loss_epoch.sum() / train_count\n",
    "    losses.append(loss_epoch)\n",
    "    accuracy_epoch = correct_epoch * 100/train_count\n",
    "    accuracy_epoch_cpu = accuracy_epoch.cpu()\n",
    "    accuracy.append(accuracy_epoch)\n",
    "\n",
    "\n",
    "    # print(f'Test accuracy: {correct_epoch.item()}/{train_count} = {correct.item() * 100 / (test_count):7.3f}%')\n",
    "    print(f' epoch: {e} | loss: {loss_epoch} | predicted: {correct_epoch} |' \\\n",
    "            + f'accuracy: {accuracy_epoch} | test loss: {loss_epoch_test} | ' \\\n",
    "            + f'predicted: {correct_epoch_test} | test accuracy: {accuracy_epoch_test}')\n",
    "\n",
    "duration = time.time() - start_time"
   ]
  },
  {
   "cell_type": "markdown",
   "metadata": {
    "pycharm": {
     "name": "#%% md\n"
    }
   },
   "source": [
    "## Rysowanie funkcji straty i accuracy na przestrzeni epok"
   ]
  },
  {
   "cell_type": "code",
   "execution_count": 106,
   "metadata": {
    "collapsed": false,
    "jupyter": {
     "outputs_hidden": false
    },
    "pycharm": {
     "name": "#%%\n"
    }
   },
   "outputs": [
    {
     "data": {
      "text/plain": "<Figure size 1152x504 with 2 Axes>",
      "image/png": "[encoded data removed]"
     },
     "metadata": {
      "needs_background": "light"
     },
     "output_type": "display_data"
    }
   ],
   "source": [
    "## Plot loss functions over epochs\n",
    "\n",
    "fig, (ax1, ax2) = plt.subplots(1, 2, figsize=(16,7))\n",
    "\n",
    "\n",
    "ax1.plot(range(epochs), losses, c='r')\n",
    "ax1.plot(range(epochs), losses_test)\n",
    "ax1.set_title('Losses and epochs')\n",
    "\n",
    "ax2.plot(range(epochs), accuracy, c='r')\n",
    "ax2.plot(range(epochs), accuracy_test)\n",
    "ax2.set_title(\"Accuracy and epochs\")\n",
    "\n",
    "plt.show()"
   ]
  },
  {
   "cell_type": "code",
   "execution_count": 107,
   "metadata": {
    "collapsed": false,
    "jupyter": {
     "outputs_hidden": false
    },
    "pycharm": {
     "name": "#%%\n"
    }
   },
   "outputs": [],
   "source": [
    "# dictionary storing the data\n",
    "summary = {\n",
    "    \"Training\": [min(losses), max(accuracy)],\n",
    "    \"Test\": [min(losses_test), max(accuracy_test)]\n",
    "}\n",
    "\n",
    "# dataframe from dict\n",
    "summary_df = pd.DataFrame.from_dict(summary, orient='index', columns=['Loss', 'Accuracy'])"
   ]
  },
  {
   "cell_type": "code",
   "execution_count": 108,
   "metadata": {
    "collapsed": false,
    "jupyter": {
     "outputs_hidden": false
    },
    "pycharm": {
     "name": "#%%\n"
    }
   },
   "outputs": [
    {
     "name": "stdout",
     "output_type": "stream",
     "text": [
      "Spacy embeddings\n",
      "Model(\n",
      "  (embedding): Embedding(10529, 96)\n",
      "  (dropout): Dropout(p=0.3, inplace=False)\n",
      "  (fc1): Linear(in_features=3840, out_features=1000, bias=True)\n",
      "  (fc2): Linear(in_features=1000, out_features=1000, bias=True)\n",
      "  (out): Linear(in_features=1000, out_features=1, bias=True)\n",
      ")\n",
      "learning_rate:  0.001\n",
      "batch_size:  50\n",
      "time:  35.01638627052307\n"
     ]
    }
   ],
   "source": [
    "print('Spacy embeddings')\n",
    "print(model)\n",
    "print('learning_rate: ', learning_rate)\n",
    "print('batch_size: ', batch_size)\n",
    "print('time: ', duration)"
   ]
  },
  {
   "cell_type": "code",
   "execution_count": 109,
   "metadata": {
    "collapsed": false,
    "jupyter": {
     "outputs_hidden": false
    },
    "pycharm": {
     "name": "#%%\n"
    }
   },
   "outputs": [
    {
     "data": {
      "text/plain": "              Loss         Accuracy\nTraining  0.000163  tensor(99.6364)\nTest      0.006813  tensor(88.7500)",
      "text/html": "<div>\n<style scoped>\n    .dataframe tbody tr th:only-of-type {\n        vertical-align: middle;\n    }\n\n    .dataframe tbody tr th {\n        vertical-align: top;\n    }\n\n    .dataframe thead th {\n        text-align: right;\n    }\n</style>\n<table border=\"1\" class=\"dataframe\">\n  <thead>\n    <tr style=\"text-align: right;\">\n      <th></th>\n      <th>Loss</th>\n      <th>Accuracy</th>\n    </tr>\n  </thead>\n  <tbody>\n    <tr>\n      <th>Training</th>\n      <td>0.000163</td>\n      <td>tensor(99.6364)</td>\n    </tr>\n    <tr>\n      <th>Test</th>\n      <td>0.006813</td>\n      <td>tensor(88.7500)</td>\n    </tr>\n  </tbody>\n</table>\n</div>"
     },
     "execution_count": 109,
     "metadata": {},
     "output_type": "execute_result"
    }
   ],
   "source": [
    "summary_df"
   ]
  },
  {
   "cell_type": "code",
   "execution_count": 109,
   "metadata": {
    "collapsed": false,
    "jupyter": {
     "outputs_hidden": false
    },
    "pycharm": {
     "name": "#%%\n"
    }
   },
   "outputs": [],
   "source": []
  },
  {
   "cell_type": "code",
   "execution_count": 109,
   "metadata": {},
   "outputs": [],
   "source": []
  },
  {
   "cell_type": "code",
   "execution_count": 109,
   "metadata": {},
   "outputs": [],
   "source": []
  }
 ],
 "metadata": {
  "kernelspec": {
   "display_name": "torch-cuda",
   "language": "python",
   "name": "torch-cuda"
  },
  "language_info": {
   "codemirror_mode": {
    "name": "ipython",
    "version": 3
   },
   "file_extension": ".py",
   "mimetype": "text/x-python",
   "name": "python",
   "nbconvert_exporter": "python",
   "pygments_lexer": "ipython3",
   "version": "3.9.6"
  }
 },
 "nbformat": 4,
 "nbformat_minor": 4
}